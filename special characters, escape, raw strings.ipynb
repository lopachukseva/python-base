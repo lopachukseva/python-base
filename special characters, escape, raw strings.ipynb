{
 "cells": [
  {
   "cell_type": "markdown",
   "id": "61a6cdd4",
   "metadata": {},
   "source": [
    "## Спецсимволы"
   ]
  },
  {
   "cell_type": "markdown",
   "id": "55a4f022",
   "metadata": {},
   "source": [
    "\"\\n\" - перевод строки"
   ]
  },
  {
   "cell_type": "code",
   "execution_count": 8,
   "id": "7a3e6b27",
   "metadata": {},
   "outputs": [],
   "source": [
    "s1 = \"Hello\\nworld\""
   ]
  },
  {
   "cell_type": "code",
   "execution_count": 11,
   "id": "92640970",
   "metadata": {},
   "outputs": [
    {
     "data": {
      "text/plain": [
       "'Hello\\nworld'"
      ]
     },
     "execution_count": 11,
     "metadata": {},
     "output_type": "execute_result"
    }
   ],
   "source": [
    "s1"
   ]
  },
  {
   "cell_type": "markdown",
   "id": "1dc4dea0",
   "metadata": {},
   "source": [
    "Когда функция print видит в строке символ \\n, она выполняет перевод строки:"
   ]
  },
  {
   "cell_type": "code",
   "execution_count": 9,
   "id": "29b1b2f6",
   "metadata": {},
   "outputs": [
    {
     "name": "stdout",
     "output_type": "stream",
     "text": [
      "Hello\n",
      "world\n"
     ]
    }
   ],
   "source": [
    "print(s1)"
   ]
  },
  {
   "cell_type": "markdown",
   "id": "f900a5da",
   "metadata": {},
   "source": [
    "И функцией len такой спецсимвол воспринимается как один символ:"
   ]
  },
  {
   "cell_type": "code",
   "execution_count": 10,
   "id": "03363aec",
   "metadata": {
    "scrolled": true
   },
   "outputs": [
    {
     "data": {
      "text/plain": [
       "11"
      ]
     },
     "execution_count": 10,
     "metadata": {},
     "output_type": "execute_result"
    }
   ],
   "source": [
    "len(s1)"
   ]
  },
  {
   "cell_type": "markdown",
   "id": "1c55b312",
   "metadata": {},
   "source": [
    "Спецсимволов существует множество, но на практике чаще всего используются:<br>\n",
    "    - перевод строки;<br>\n",
    "    - символ обратного слэша;<br>\n",
    "    - символ апострофа;<br>\n",
    "    - символ двойной кавычки;<br>\n",
    "    - горизонтальная табуляция (размером в 4 пробела)\n"
   ]
  },
  {
   "cell_type": "code",
   "execution_count": 21,
   "id": "c3173340",
   "metadata": {},
   "outputs": [
    {
     "name": "stdout",
     "output_type": "stream",
     "text": [
      "\n",
      "\n",
      "\\\n",
      "'\n",
      "\"\n",
      "\t\n"
     ]
    }
   ],
   "source": [
    "print(\"\\n\")\n",
    "print(\"\\\\\")\n",
    "print(\"\\'\")\n",
    "print(\"\\\"\")\n",
    "print(\"\\t\")"
   ]
  },
  {
   "cell_type": "markdown",
   "id": "c32eaa2d",
   "metadata": {},
   "source": [
    "Перед каждым специальным символом идет обратный слэш - это маркер начала спецсимвола. "
   ]
  },
  {
   "cell_type": "code",
   "execution_count": 25,
   "id": "3d60f818",
   "metadata": {
    "scrolled": true
   },
   "outputs": [
    {
     "name": "stdout",
     "output_type": "stream",
     "text": [
      "\tWe need\n",
      "Python\n"
     ]
    }
   ],
   "source": [
    "print(\"\\tWe need\\nPython\")"
   ]
  },
  {
   "cell_type": "markdown",
   "id": "fc77b857",
   "metadata": {},
   "source": [
    "В случае, если после обратного слэша не последовал ни один из спецсимволов, печатается просто обратный слэш:"
   ]
  },
  {
   "cell_type": "code",
   "execution_count": 26,
   "id": "b42f43d9",
   "metadata": {
    "scrolled": true
   },
   "outputs": [
    {
     "name": "stdout",
     "output_type": "stream",
     "text": [
      "\\We need\n",
      "Python\n"
     ]
    }
   ],
   "source": [
    "print(\"\\We need\\nPython\")"
   ]
  },
  {
   "cell_type": "markdown",
   "id": "902079b0",
   "metadata": {},
   "source": [
    "В некоторых случаях это может вызывать ошибку. Желая заключить слово \"need\" в два обратных слэша, можно получить следующее:"
   ]
  },
  {
   "cell_type": "code",
   "execution_count": 28,
   "id": "a8ef908e",
   "metadata": {},
   "outputs": [
    {
     "name": "stdout",
     "output_type": "stream",
     "text": [
      "We \n",
      "eed\\ Python\n"
     ]
    }
   ],
   "source": [
    "print(\"We \\need\\ Python\")"
   ]
  },
  {
   "cell_type": "markdown",
   "id": "607f2203",
   "metadata": {},
   "source": [
    "Чтобы избежать этого, нужно использовать два обратных слэша. И в таком случае это будет гарантированно символ обратного слэша, какие бы символы не шли после:"
   ]
  },
  {
   "cell_type": "code",
   "execution_count": 30,
   "id": "82d30a6f",
   "metadata": {},
   "outputs": [
    {
     "name": "stdout",
     "output_type": "stream",
     "text": [
      "We \\need\\ Python\n"
     ]
    }
   ],
   "source": [
    "print(\"We \\\\need\\\\ Python\")"
   ]
  },
  {
   "cell_type": "markdown",
   "id": "6a14ca90",
   "metadata": {},
   "source": [
    "Такой процесс называется экранированием, когда символы с двойным назначением записываются с добавлением перед ними обратного слэша."
   ]
  },
  {
   "cell_type": "markdown",
   "id": "056d9f11",
   "metadata": {},
   "source": [
    "Например, в строке, которая содержит путь, без экранирования:"
   ]
  },
  {
   "cell_type": "code",
   "execution_count": 32,
   "id": "6b642b6c",
   "metadata": {},
   "outputs": [],
   "source": [
    "path = \"D:\\projects\\texts\""
   ]
  },
  {
   "cell_type": "code",
   "execution_count": 33,
   "id": "7f5ffe94",
   "metadata": {},
   "outputs": [
    {
     "name": "stdout",
     "output_type": "stream",
     "text": [
      "D:\\projects\texts\n"
     ]
    }
   ],
   "source": [
    "print(path)"
   ]
  },
  {
   "cell_type": "markdown",
   "id": "f7e03c9b",
   "metadata": {},
   "source": [
    "С экранированием:"
   ]
  },
  {
   "cell_type": "code",
   "execution_count": 36,
   "id": "c84c0618",
   "metadata": {},
   "outputs": [],
   "source": [
    "path = \"D:\\\\projects\\\\texts\""
   ]
  },
  {
   "cell_type": "code",
   "execution_count": 37,
   "id": "0f3e9f71",
   "metadata": {},
   "outputs": [
    {
     "name": "stdout",
     "output_type": "stream",
     "text": [
      "D:\\projects\\texts\n"
     ]
    }
   ],
   "source": [
    "print(path)"
   ]
  },
  {
   "cell_type": "markdown",
   "id": "e89aefe9",
   "metadata": {},
   "source": [
    "Экранировать стоит и кавычки, так как запись без них приведет к ошибке:"
   ]
  },
  {
   "cell_type": "code",
   "execution_count": 40,
   "id": "f0a8bb65",
   "metadata": {},
   "outputs": [
    {
     "name": "stdout",
     "output_type": "stream",
     "text": [
      "Кафе \"Космос\"\n"
     ]
    }
   ],
   "source": [
    "print(\"Кафе \\\"Космос\\\"\")"
   ]
  },
  {
   "cell_type": "markdown",
   "id": "0b762a30",
   "metadata": {},
   "source": [
    "## raw строки"
   ]
  },
  {
   "cell_type": "markdown",
   "id": "e3d3f64d",
   "metadata": {},
   "source": [
    "raw строки - строки, в которых игнорируются спецпоследовательности, т.е. символы воспринимаются так, как записаны. Для преобразования строки в raw строку перед ней ставится символ r:"
   ]
  },
  {
   "cell_type": "code",
   "execution_count": 43,
   "id": "806be4f6",
   "metadata": {},
   "outputs": [],
   "source": [
    "path = r\"D:\\projects\\texts\""
   ]
  },
  {
   "cell_type": "code",
   "execution_count": 44,
   "id": "9360210b",
   "metadata": {},
   "outputs": [
    {
     "name": "stdout",
     "output_type": "stream",
     "text": [
      "D:\\projects\\texts\n"
     ]
    }
   ],
   "source": [
    "print(path)"
   ]
  }
 ],
 "metadata": {
  "kernelspec": {
   "display_name": "Python 3 (ipykernel)",
   "language": "python",
   "name": "python3"
  },
  "language_info": {
   "codemirror_mode": {
    "name": "ipython",
    "version": 3
   },
   "file_extension": ".py",
   "mimetype": "text/x-python",
   "name": "python",
   "nbconvert_exporter": "python",
   "pygments_lexer": "ipython3",
   "version": "3.9.13"
  }
 },
 "nbformat": 4,
 "nbformat_minor": 5
}

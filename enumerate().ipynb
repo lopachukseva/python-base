{
 "cells": [
  {
   "cell_type": "markdown",
   "id": "4ed71500",
   "metadata": {},
   "source": [
    "Вычисление факториала числа при помощи цикла for:"
   ]
  },
  {
   "cell_type": "code",
   "execution_count": 8,
   "id": "4544a5b8",
   "metadata": {},
   "outputs": [
    {
     "name": "stdout",
     "output_type": "stream",
     "text": [
      "Введите положительное число, от которого требуется вычислить факториал: 5\n",
      "5! = 120\n"
     ]
    }
   ],
   "source": [
    "n = int(input(\"Введите положительное число, от которого требуется вычислить факториал: \"))\n",
    "res = 1\n",
    "\n",
    "if n > 0:\n",
    "    for i in range(1, n+1):\n",
    "        res *= i\n",
    "    print(f\"{n}! = {res}\")\n",
    "else:\n",
    "    print(\"Ошибка! Введенное число не соответствует критериям.\")\n",
    "\n"
   ]
  },
  {
   "cell_type": "code",
   "execution_count": 10,
   "id": "755f4ac6",
   "metadata": {},
   "outputs": [
    {
     "name": "stdout",
     "output_type": "stream",
     "text": [
      "*\n",
      "**\n",
      "***\n",
      "****\n",
      "*****\n",
      "******\n",
      "*******\n",
      "********\n",
      "*********\n"
     ]
    }
   ],
   "source": [
    "for i in range(1, 10):\n",
    "    print(\"*\" * i)"
   ]
  },
  {
   "cell_type": "code",
   "execution_count": 16,
   "id": "3ae3a810",
   "metadata": {},
   "outputs": [
    {
     "name": "stdout",
     "output_type": "stream",
     "text": [
      "*\n",
      "**\n",
      "***\n",
      "****\n",
      "*****\n",
      "****\n",
      "***\n",
      "**\n",
      "*\n",
      "\n"
     ]
    }
   ],
   "source": [
    "n =10\n",
    "\n",
    "for i in range(1, n +1):\n",
    "    if i < (n / 2):\n",
    "        print(\"*\" * i)\n",
    "    else:\n",
    "        print(\"*\" * (n-i))"
   ]
  },
  {
   "cell_type": "code",
   "execution_count": 26,
   "id": "5878e259",
   "metadata": {},
   "outputs": [
    {
     "data": {
      "text/plain": [
       "'sentence with few words'"
      ]
     },
     "execution_count": 26,
     "metadata": {},
     "output_type": "execute_result"
    }
   ],
   "source": [
    "words = [\"sentence\", \"with\", \"few\", \"words\"]\n",
    "out = \"\"\n",
    "\n",
    "for i in words:\n",
    "    out = f\"{out} {i}\"\n",
    "\n",
    "out = out.lstrip()\n",
    "out"
   ]
  },
  {
   "cell_type": "code",
   "execution_count": 24,
   "id": "3e1d68d3",
   "metadata": {},
   "outputs": [
    {
     "data": {
      "text/plain": [
       "'sentence with few words'"
      ]
     },
     "execution_count": 24,
     "metadata": {},
     "output_type": "execute_result"
    }
   ],
   "source": [
    "words = [\"sentence\", \"with\", \"few\", \"words\"]\n",
    "out = \"\"\n",
    "\n",
    "fl_first = True\n",
    "\n",
    "for i in words:\n",
    "    out = f\"{out}{'' if fl_first else ' '}{i}\"\n",
    "    fl_first = False\n",
    "\n",
    "out"
   ]
  },
  {
   "cell_type": "code",
   "execution_count": 27,
   "id": "bd9f917b",
   "metadata": {},
   "outputs": [
    {
     "name": "stdout",
     "output_type": "stream",
     "text": [
      "sentence with few words\n"
     ]
    }
   ],
   "source": [
    "print(\" \".join(words))"
   ]
  },
  {
   "cell_type": "markdown",
   "id": "1906ac16",
   "metadata": {},
   "source": [
    "Допустим, необходимо в списке все двузначные числа заменить нулем. Это можно реализовать следующим образом:"
   ]
  },
  {
   "cell_type": "code",
   "execution_count": 30,
   "id": "c7eaaa83",
   "metadata": {},
   "outputs": [
    {
     "data": {
      "text/plain": [
       "[100, 0, 3, 0, 9, 0, 8, 3, 0]"
      ]
     },
     "execution_count": 30,
     "metadata": {},
     "output_type": "execute_result"
    }
   ],
   "source": [
    "digs = [100, 20, 3, 76, 9, -31, 8, 3, 44]\n",
    "\n",
    "for i in range(len(digs)):\n",
    "    if 10 <= abs(digs[i]) <= 99:\n",
    "        digs[i] = 0\n",
    "\n",
    "digs"
   ]
  },
  {
   "cell_type": "markdown",
   "id": "fbe71245",
   "metadata": {},
   "source": [
    "В этой программе одновременно нужен и индекс, и значение."
   ]
  },
  {
   "cell_type": "markdown",
   "id": "c90cdf8e",
   "metadata": {},
   "source": [
    "## enumerate"
   ]
  },
  {
   "cell_type": "markdown",
   "id": "43d3a727",
   "metadata": {},
   "source": [
    "Для того, чтобы из какого либо итерируемого объекта сразу брать и индекс, и значение, в Python существует функция enumerate:\n",
    "- индекс, значение = enumerate(объект)"
   ]
  },
  {
   "cell_type": "markdown",
   "id": "c458ffe7",
   "metadata": {},
   "source": [
    "Которая возвращает пару индекс-значение. Используя эту функцию, предыдущую программу можно переписать следующим образом:"
   ]
  },
  {
   "cell_type": "code",
   "execution_count": 29,
   "id": "40d0ecf2",
   "metadata": {},
   "outputs": [
    {
     "data": {
      "text/plain": [
       "[100, 0, 3, 0, 9, 0, 8, 3, 0]"
      ]
     },
     "execution_count": 29,
     "metadata": {},
     "output_type": "execute_result"
    }
   ],
   "source": [
    "digs = [100, 20, 3, 76, 9, -31, 8, 3, 44]\n",
    "\n",
    "for i, d in enumerate(digs):\n",
    "    if 10 <= abs(d) <= 99:\n",
    "        digs[i] = 0\n",
    "\n",
    "digs"
   ]
  },
  {
   "cell_type": "markdown",
   "id": "1f869c36",
   "metadata": {},
   "source": [
    "Важно, что переменная d по-прежнему только ссылается на значение в списке, и через нее поменять список не получится:"
   ]
  },
  {
   "cell_type": "code",
   "execution_count": 33,
   "id": "1e4ed824",
   "metadata": {},
   "outputs": [
    {
     "data": {
      "text/plain": [
       "[100, 20, 3, 76, 9, -31, 8, 3, 44]"
      ]
     },
     "execution_count": 33,
     "metadata": {},
     "output_type": "execute_result"
    }
   ],
   "source": [
    "digs = [100, 20, 3, 76, 9, -31, 8, 3, 44]\n",
    "\n",
    "for i, d in enumerate(digs):\n",
    "    if 10 <= abs(d) <= 99:\n",
    "        d = 0\n",
    "\n",
    "digs"
   ]
  }
 ],
 "metadata": {
  "kernelspec": {
   "display_name": "Python 3 (ipykernel)",
   "language": "python",
   "name": "python3"
  },
  "language_info": {
   "codemirror_mode": {
    "name": "ipython",
    "version": 3
   },
   "file_extension": ".py",
   "mimetype": "text/x-python",
   "name": "python",
   "nbconvert_exporter": "python",
   "pygments_lexer": "ipython3",
   "version": "3.9.13"
  }
 },
 "nbformat": 4,
 "nbformat_minor": 5
}

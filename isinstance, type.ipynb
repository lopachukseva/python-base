{
 "cells": [
  {
   "cell_type": "markdown",
   "id": "a8153ecf",
   "metadata": {},
   "source": [
    "## Функция isinstance"
   ]
  },
  {
   "cell_type": "markdown",
   "id": "0471b496",
   "metadata": {},
   "source": [
    "С помощью функции isinstance можно выполнять проверку на принадлежность объекта определенным типам данных. "
   ]
  },
  {
   "cell_type": "markdown",
   "id": "4add7825",
   "metadata": {},
   "source": [
    "isinstance(объект, тип данных)\n",
    "- True, если объект соответствует указанному типу\n",
    "- False, если не соответствует"
   ]
  },
  {
   "cell_type": "markdown",
   "id": "1d696aec",
   "metadata": {},
   "source": [
    "Допустим, есть переменная a, которая ссылается на целочисленный объект:"
   ]
  },
  {
   "cell_type": "code",
   "execution_count": 1,
   "id": "318d986f",
   "metadata": {},
   "outputs": [],
   "source": [
    "a = 5"
   ]
  },
  {
   "cell_type": "markdown",
   "id": "23499149",
   "metadata": {},
   "source": [
    "При вызове функции isinstance, где первым аргументом указывается переменная a, а вторым - тип данных int, она возвращает True:"
   ]
  },
  {
   "cell_type": "code",
   "execution_count": 2,
   "id": "69a9a2a5",
   "metadata": {
    "scrolled": true
   },
   "outputs": [
    {
     "data": {
      "text/plain": [
       "True"
      ]
     },
     "execution_count": 2,
     "metadata": {},
     "output_type": "execute_result"
    }
   ],
   "source": [
    "isinstance(a, int)"
   ]
  },
  {
   "cell_type": "markdown",
   "id": "b9ac5c7d",
   "metadata": {},
   "source": [
    "А если вместо int записать float, функция вернет False, так как a - целочисленное, а float - вещественное:"
   ]
  },
  {
   "cell_type": "code",
   "execution_count": 3,
   "id": "b021cc76",
   "metadata": {},
   "outputs": [
    {
     "data": {
      "text/plain": [
       "False"
      ]
     },
     "execution_count": 3,
     "metadata": {},
     "output_type": "execute_result"
    }
   ],
   "source": [
    "isinstance(a, float)"
   ]
  },
  {
   "cell_type": "markdown",
   "id": "45ef44f2",
   "metadata": {},
   "source": [
    "Но у этой функции есть нюанс, связанный с булевым значением. Предположим, что есть переменная b, которая принимает булевое значение True:"
   ]
  },
  {
   "cell_type": "code",
   "execution_count": 4,
   "id": "c3c12031",
   "metadata": {},
   "outputs": [],
   "source": [
    "b = True"
   ]
  },
  {
   "cell_type": "markdown",
   "id": "09f58853",
   "metadata": {},
   "source": [
    "И далее вызовем функцию isinstance, и укажем вторым аргументом тип bool. Получаем ожидаемый результат - True, так как переменная b действительно ссылается на булевое значение:"
   ]
  },
  {
   "cell_type": "code",
   "execution_count": 5,
   "id": "3e21d500",
   "metadata": {},
   "outputs": [
    {
     "data": {
      "text/plain": [
       "True"
      ]
     },
     "execution_count": 5,
     "metadata": {},
     "output_type": "execute_result"
    }
   ],
   "source": [
    "isinstance(b, bool)"
   ]
  },
  {
   "cell_type": "markdown",
   "id": "d12e2d74",
   "metadata": {},
   "source": [
    "Но если вместо булевого записать целочисленный, функция также вернет True:"
   ]
  },
  {
   "cell_type": "code",
   "execution_count": 6,
   "id": "c871df3c",
   "metadata": {},
   "outputs": [
    {
     "data": {
      "text/plain": [
       "True"
      ]
     },
     "execution_count": 6,
     "metadata": {},
     "output_type": "execute_result"
    }
   ],
   "source": [
    "isinstance(b, int)"
   ]
  },
  {
   "cell_type": "markdown",
   "id": "b47b1179",
   "metadata": {},
   "source": [
    "Это связано с тем, что тип bool наследуется от типа int. То есть функция isinstance проводит проверку на тип с учетом наследования."
   ]
  },
  {
   "cell_type": "markdown",
   "id": "f0a231af",
   "metadata": {},
   "source": [
    "Для того, чтобы сделать строгую проверку, следует воспользоваться функцией type, которая возвращает тип:"
   ]
  },
  {
   "cell_type": "code",
   "execution_count": 7,
   "id": "1d82a5cb",
   "metadata": {},
   "outputs": [
    {
     "data": {
      "text/plain": [
       "bool"
      ]
     },
     "execution_count": 7,
     "metadata": {},
     "output_type": "execute_result"
    }
   ],
   "source": [
    "type(b)"
   ]
  },
  {
   "cell_type": "markdown",
   "id": "16f4a5ec",
   "metadata": {},
   "source": [
    "И в таком случае при сравнении с типом int получим false:"
   ]
  },
  {
   "cell_type": "code",
   "execution_count": 8,
   "id": "05efa6c1",
   "metadata": {},
   "outputs": [
    {
     "data": {
      "text/plain": [
       "True"
      ]
     },
     "execution_count": 8,
     "metadata": {},
     "output_type": "execute_result"
    }
   ],
   "source": [
    "type(b) == bool"
   ]
  },
  {
   "cell_type": "code",
   "execution_count": 9,
   "id": "cf956d39",
   "metadata": {},
   "outputs": [
    {
     "data": {
      "text/plain": [
       "False"
      ]
     },
     "execution_count": 9,
     "metadata": {},
     "output_type": "execute_result"
    }
   ],
   "source": [
    "type(b) == int"
   ]
  },
  {
   "cell_type": "markdown",
   "id": "2218b2a6",
   "metadata": {},
   "source": [
    "Также вместо оператора == можно воспользоваться оператором is:"
   ]
  },
  {
   "cell_type": "code",
   "execution_count": 10,
   "id": "76b6ef56",
   "metadata": {},
   "outputs": [
    {
     "data": {
      "text/plain": [
       "False"
      ]
     },
     "execution_count": 10,
     "metadata": {},
     "output_type": "execute_result"
    }
   ],
   "source": [
    "type(b) is int"
   ]
  },
  {
   "cell_type": "markdown",
   "id": "29bfb32e",
   "metadata": {},
   "source": [
    "Результат будет аналогичным."
   ]
  },
  {
   "cell_type": "markdown",
   "id": "fb1daa0b",
   "metadata": {},
   "source": [
    "Таким образом с помощью функции type можно сделать строгую проверку, не обращая внимание на наследование."
   ]
  },
  {
   "cell_type": "markdown",
   "id": "73969e08",
   "metadata": {},
   "source": [
    "Можно проверить на соответствие и нескольким типам данных с помощью кортежа и оператора in:"
   ]
  },
  {
   "cell_type": "code",
   "execution_count": 11,
   "id": "b6eee6fe",
   "metadata": {},
   "outputs": [
    {
     "data": {
      "text/plain": [
       "True"
      ]
     },
     "execution_count": 11,
     "metadata": {},
     "output_type": "execute_result"
    }
   ],
   "source": [
    "type(b) in (int, bool, float)"
   ]
  },
  {
   "cell_type": "code",
   "execution_count": 12,
   "id": "f09b6cb8",
   "metadata": {},
   "outputs": [],
   "source": [
    "a = 4"
   ]
  },
  {
   "cell_type": "markdown",
   "id": "0e371c2c",
   "metadata": {},
   "source": [
    "Либо передав кортеж с типами в функцию isinstance:"
   ]
  },
  {
   "cell_type": "code",
   "execution_count": 13,
   "id": "7f70726b",
   "metadata": {},
   "outputs": [
    {
     "data": {
      "text/plain": [
       "True"
      ]
     },
     "execution_count": 13,
     "metadata": {},
     "output_type": "execute_result"
    }
   ],
   "source": [
    "isinstance(a, (int, float))"
   ]
  },
  {
   "cell_type": "markdown",
   "id": "ab559080",
   "metadata": {},
   "source": [
    "И функция вернет True, если переменная соответствует одному из типов. Такая запись эквивалентна записи:"
   ]
  },
  {
   "cell_type": "code",
   "execution_count": 14,
   "id": "2f2b156e",
   "metadata": {},
   "outputs": [
    {
     "data": {
      "text/plain": [
       "True"
      ]
     },
     "execution_count": 14,
     "metadata": {},
     "output_type": "execute_result"
    }
   ],
   "source": [
    "isinstance(a, int) or isinstance(a, float)"
   ]
  }
 ],
 "metadata": {
  "kernelspec": {
   "display_name": "Python 3 (ipykernel)",
   "language": "python",
   "name": "python3"
  },
  "language_info": {
   "codemirror_mode": {
    "name": "ipython",
    "version": 3
   },
   "file_extension": ".py",
   "mimetype": "text/x-python",
   "name": "python",
   "nbconvert_exporter": "python",
   "pygments_lexer": "ipython3",
   "version": "3.9.13"
  }
 },
 "nbformat": 4,
 "nbformat_minor": 5
}

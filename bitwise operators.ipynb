{
 "cells": [
  {
   "cell_type": "markdown",
   "id": "df628e46",
   "metadata": {},
   "source": [
    "## Битовая операция НЕ"
   ]
  },
  {
   "cell_type": "markdown",
   "id": "ee10f0ce",
   "metadata": {},
   "source": [
    "Оператор тильда ~ выполняет инвертирования всех битов числа. Первый бит - знаковый, если он равен нулю - число положительное, если равен единице - отрицательное. Именно поэтому при инвертации всех битов число меняет свой знак:"
   ]
  },
  {
   "cell_type": "code",
   "execution_count": 1,
   "id": "6e891362",
   "metadata": {},
   "outputs": [
    {
     "data": {
      "text/plain": [
       "'0b1010'"
      ]
     },
     "execution_count": 1,
     "metadata": {},
     "output_type": "execute_result"
    }
   ],
   "source": [
    "a = 10\n",
    "bin(a)"
   ]
  },
  {
   "cell_type": "code",
   "execution_count": 2,
   "id": "54175d56",
   "metadata": {},
   "outputs": [
    {
     "data": {
      "text/plain": [
       "-11"
      ]
     },
     "execution_count": 2,
     "metadata": {},
     "output_type": "execute_result"
    }
   ],
   "source": [
    "~a"
   ]
  },
  {
   "cell_type": "code",
   "execution_count": 3,
   "id": "1270d24b",
   "metadata": {},
   "outputs": [
    {
     "data": {
      "text/plain": [
       "-1"
      ]
     },
     "execution_count": 3,
     "metadata": {},
     "output_type": "execute_result"
    }
   ],
   "source": [
    "d = 0\n",
    "~d"
   ]
  },
  {
   "cell_type": "markdown",
   "id": "6df53ca3",
   "metadata": {},
   "source": [
    "## Битовая операция И"
   ]
  },
  {
   "cell_type": "markdown",
   "id": "c3c11329",
   "metadata": {},
   "source": [
    "Битовая операция И применяется уже к двум операндам. Если у переменных соответствующие биты равны единице, то на выходе тоже единица. В противном случае - ноль "
   ]
  },
  {
   "cell_type": "code",
   "execution_count": 4,
   "id": "855a52a5",
   "metadata": {},
   "outputs": [
    {
     "data": {
      "text/plain": [
       "4"
      ]
     },
     "execution_count": 4,
     "metadata": {},
     "output_type": "execute_result"
    }
   ],
   "source": [
    "a = 4\n",
    "b = 5\n",
    "\n",
    "a & b"
   ]
  },
  {
   "cell_type": "code",
   "execution_count": 5,
   "id": "32499b49",
   "metadata": {},
   "outputs": [
    {
     "data": {
      "text/plain": [
       "4"
      ]
     },
     "execution_count": 5,
     "metadata": {},
     "output_type": "execute_result"
    }
   ],
   "source": [
    "a = 6\n",
    "b = 12\n",
    "a & b"
   ]
  },
  {
   "cell_type": "markdown",
   "id": "49411e1f",
   "metadata": {},
   "source": [
    "## Битовая операция ИЛИ"
   ]
  },
  {
   "cell_type": "markdown",
   "id": "b22d2e82",
   "metadata": {},
   "source": [
    "Битовая операция И применяется к двум операндам. Если у переменных соответствующие биты равны нулю, то на выходе тоже ноль. В противном случае - единица"
   ]
  },
  {
   "cell_type": "code",
   "execution_count": 6,
   "id": "2c81d76b",
   "metadata": {},
   "outputs": [
    {
     "data": {
      "text/plain": [
       "5"
      ]
     },
     "execution_count": 6,
     "metadata": {},
     "output_type": "execute_result"
    }
   ],
   "source": [
    "a = 4\n",
    "b = 5\n",
    "\n",
    "a | b"
   ]
  },
  {
   "cell_type": "code",
   "execution_count": 7,
   "id": "5f127539",
   "metadata": {},
   "outputs": [
    {
     "data": {
      "text/plain": [
       "14"
      ]
     },
     "execution_count": 7,
     "metadata": {},
     "output_type": "execute_result"
    }
   ],
   "source": [
    "a = 6\n",
    "b = 12\n",
    "\n",
    "a | b"
   ]
  },
  {
   "cell_type": "markdown",
   "id": "40ff241f",
   "metadata": {},
   "source": [
    "## Битовая операция XOR (исключающее ИЛИ)"
   ]
  },
  {
   "cell_type": "markdown",
   "id": "40a08154",
   "metadata": {},
   "source": [
    "Битовая операция XOR применяется к двум операндам. Если у переменных соответствующие биты разные (0/1 или 1/0), то на выходе единица. Если одинаковые (0/0 или 1/1) - то ноль"
   ]
  },
  {
   "cell_type": "code",
   "execution_count": 8,
   "id": "572e56ae",
   "metadata": {},
   "outputs": [
    {
     "data": {
      "text/plain": [
       "1"
      ]
     },
     "execution_count": 8,
     "metadata": {},
     "output_type": "execute_result"
    }
   ],
   "source": [
    "a = 4\n",
    "b = 5\n",
    "\n",
    "a ^ b"
   ]
  },
  {
   "cell_type": "code",
   "execution_count": 9,
   "id": "f50eb7bf",
   "metadata": {},
   "outputs": [
    {
     "data": {
      "text/plain": [
       "10"
      ]
     },
     "execution_count": 9,
     "metadata": {},
     "output_type": "execute_result"
    }
   ],
   "source": [
    "a = 6\n",
    "b = 12\n",
    "\n",
    "a ^ b"
   ]
  },
  {
   "cell_type": "markdown",
   "id": "17fe8fbc",
   "metadata": {},
   "source": [
    "Битовые операции можно записывать как в полной форме:"
   ]
  },
  {
   "cell_type": "code",
   "execution_count": 10,
   "id": "0dce1918",
   "metadata": {},
   "outputs": [
    {
     "data": {
      "text/plain": [
       "4"
      ]
     },
     "execution_count": 10,
     "metadata": {},
     "output_type": "execute_result"
    }
   ],
   "source": [
    "a = 6\n",
    "b = 12\n",
    "\n",
    "a = a & b\n",
    "a"
   ]
  },
  {
   "cell_type": "markdown",
   "id": "d9ebde3a",
   "metadata": {},
   "source": [
    "Так и в краткой:"
   ]
  },
  {
   "cell_type": "code",
   "execution_count": 11,
   "id": "9d6b2f00",
   "metadata": {},
   "outputs": [
    {
     "data": {
      "text/plain": [
       "4"
      ]
     },
     "execution_count": 11,
     "metadata": {},
     "output_type": "execute_result"
    }
   ],
   "source": [
    "a = 6\n",
    "b = 12\n",
    "\n",
    "a &= b\n",
    "a"
   ]
  },
  {
   "cell_type": "markdown",
   "id": "39391399",
   "metadata": {},
   "source": [
    "## Приоритет битовых операций"
   ]
  },
  {
   "cell_type": "markdown",
   "id": "b05f3376",
   "metadata": {},
   "source": [
    "НЕ - 3<br>\n",
    "И - 2<br>\n",
    "ИЛИ - 1<br>\n",
    "XOR - 1<br>"
   ]
  },
  {
   "cell_type": "markdown",
   "id": "90b48cb5",
   "metadata": {},
   "source": [
    "## Операторы смещения бит"
   ]
  },
  {
   "cell_type": "markdown",
   "id": "1c915249",
   "metadata": {},
   "source": [
    "'>>' - смещение бит вправо<br>\n",
    "'<<' - смещение бит влево<br>"
   ]
  },
  {
   "cell_type": "code",
   "execution_count": 12,
   "id": "69f771b3",
   "metadata": {},
   "outputs": [],
   "source": [
    "x = 140"
   ]
  },
  {
   "cell_type": "code",
   "execution_count": 13,
   "id": "82ba388b",
   "metadata": {},
   "outputs": [
    {
     "data": {
      "text/plain": [
       "'0b10001100'"
      ]
     },
     "execution_count": 13,
     "metadata": {},
     "output_type": "execute_result"
    }
   ],
   "source": [
    "bin(x)"
   ]
  },
  {
   "cell_type": "markdown",
   "id": "4f57e8f7",
   "metadata": {},
   "source": [
    "Смещение битов числа x вправо на 1 бит:"
   ]
  },
  {
   "cell_type": "code",
   "execution_count": 14,
   "id": "219734db",
   "metadata": {},
   "outputs": [],
   "source": [
    "x = x >> 1"
   ]
  },
  {
   "cell_type": "code",
   "execution_count": 15,
   "id": "5cea7750",
   "metadata": {},
   "outputs": [
    {
     "data": {
      "text/plain": [
       "'0b1000110'"
      ]
     },
     "execution_count": 15,
     "metadata": {},
     "output_type": "execute_result"
    }
   ],
   "source": [
    "bin(x)"
   ]
  },
  {
   "cell_type": "code",
   "execution_count": 16,
   "id": "8956bd49",
   "metadata": {},
   "outputs": [
    {
     "data": {
      "text/plain": [
       "70"
      ]
     },
     "execution_count": 16,
     "metadata": {},
     "output_type": "execute_result"
    }
   ],
   "source": [
    "x"
   ]
  },
  {
   "cell_type": "markdown",
   "id": "af239767",
   "metadata": {},
   "source": [
    "Операция смещения бит вправо на 1 бит делит исходное число на 2."
   ]
  },
  {
   "cell_type": "code",
   "execution_count": 17,
   "id": "b5333844",
   "metadata": {},
   "outputs": [
    {
     "data": {
      "text/plain": [
       "'0b10001100'"
      ]
     },
     "execution_count": 17,
     "metadata": {},
     "output_type": "execute_result"
    }
   ],
   "source": [
    "x = 140\n",
    "bin(x)"
   ]
  },
  {
   "cell_type": "code",
   "execution_count": 18,
   "id": "72b82b5e",
   "metadata": {},
   "outputs": [],
   "source": [
    "x = x >> 2"
   ]
  },
  {
   "cell_type": "code",
   "execution_count": 19,
   "id": "29dff81d",
   "metadata": {},
   "outputs": [
    {
     "data": {
      "text/plain": [
       "35"
      ]
     },
     "execution_count": 19,
     "metadata": {},
     "output_type": "execute_result"
    }
   ],
   "source": [
    "x"
   ]
  },
  {
   "cell_type": "markdown",
   "id": "b11fd354",
   "metadata": {},
   "source": [
    "А если сместить число на 2 бита - то число будет поделено на 4 (2 в степени 2). Если при этом в конце двоичной записи удаляется не ноль, а значащая 1, то выполняется целочисленное деление (дробная часть отбрасывается):"
   ]
  },
  {
   "cell_type": "code",
   "execution_count": 20,
   "id": "d34fdfde",
   "metadata": {},
   "outputs": [
    {
     "data": {
      "text/plain": [
       "'0b101'"
      ]
     },
     "execution_count": 20,
     "metadata": {},
     "output_type": "execute_result"
    }
   ],
   "source": [
    "x = 5\n",
    "bin(x)"
   ]
  },
  {
   "cell_type": "code",
   "execution_count": 21,
   "id": "3fb93e93",
   "metadata": {},
   "outputs": [
    {
     "data": {
      "text/plain": [
       "2"
      ]
     },
     "execution_count": 21,
     "metadata": {},
     "output_type": "execute_result"
    }
   ],
   "source": [
    "x = x >> 1\n",
    "x"
   ]
  },
  {
   "cell_type": "markdown",
   "id": "4997678f",
   "metadata": {},
   "source": [
    "Если сдвигать на бит влево - будет операция умножения:"
   ]
  },
  {
   "cell_type": "code",
   "execution_count": 22,
   "id": "720431de",
   "metadata": {},
   "outputs": [
    {
     "data": {
      "text/plain": [
       "'0b1011'"
      ]
     },
     "execution_count": 22,
     "metadata": {},
     "output_type": "execute_result"
    }
   ],
   "source": [
    "x = 11\n",
    "bin(x)"
   ]
  },
  {
   "cell_type": "code",
   "execution_count": 23,
   "id": "6281c87c",
   "metadata": {},
   "outputs": [
    {
     "data": {
      "text/plain": [
       "22"
      ]
     },
     "execution_count": 23,
     "metadata": {},
     "output_type": "execute_result"
    }
   ],
   "source": [
    "x = x << 1\n",
    "x"
   ]
  },
  {
   "cell_type": "markdown",
   "id": "3b4aa23d",
   "metadata": {},
   "source": [
    "Если сдвинуть на три знака - будет умножение на 8 (2 в степени 3):"
   ]
  },
  {
   "cell_type": "code",
   "execution_count": 24,
   "id": "8e00fb42",
   "metadata": {},
   "outputs": [
    {
     "data": {
      "text/plain": [
       "88"
      ]
     },
     "execution_count": 24,
     "metadata": {},
     "output_type": "execute_result"
    }
   ],
   "source": [
    "x = 11\n",
    "x = x << 3\n",
    "x"
   ]
  }
 ],
 "metadata": {
  "kernelspec": {
   "display_name": "Python 3 (ipykernel)",
   "language": "python",
   "name": "python3"
  },
  "language_info": {
   "codemirror_mode": {
    "name": "ipython",
    "version": 3
   },
   "file_extension": ".py",
   "mimetype": "text/x-python",
   "name": "python",
   "nbconvert_exporter": "python",
   "pygments_lexer": "ipython3",
   "version": "3.9.13"
  }
 },
 "nbformat": 4,
 "nbformat_minor": 5
}

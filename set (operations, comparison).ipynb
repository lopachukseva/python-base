{
 "cells": [
  {
   "cell_type": "code",
   "execution_count": 10,
   "id": "19266eb4",
   "metadata": {},
   "outputs": [],
   "source": [
    "setA = {1, 2, 3, 4}\n",
    "setB = {3, 4, 5, 6, 7}"
   ]
  },
  {
   "cell_type": "markdown",
   "id": "862276ea",
   "metadata": {},
   "source": [
    "## Пересечение множеств"
   ]
  },
  {
   "cell_type": "markdown",
   "id": "dc81e998",
   "metadata": {},
   "source": [
    "Пересечение двух множеств - &. Будут выделены те элементы, что есть и в первом, и во втором множестве:"
   ]
  },
  {
   "cell_type": "code",
   "execution_count": 3,
   "id": "a29cfb7b",
   "metadata": {
    "scrolled": true
   },
   "outputs": [
    {
     "data": {
      "text/plain": [
       "{3, 4}"
      ]
     },
     "execution_count": 3,
     "metadata": {},
     "output_type": "execute_result"
    }
   ],
   "source": [
    "setA & setB"
   ]
  },
  {
   "cell_type": "markdown",
   "id": "c49cb76d",
   "metadata": {},
   "source": [
    "Причем возвращается новое множество, а исходные остаются без изменений."
   ]
  },
  {
   "cell_type": "markdown",
   "id": "3fa2af40",
   "metadata": {},
   "source": [
    "Можно сохранить результат в другую переменную:"
   ]
  },
  {
   "cell_type": "code",
   "execution_count": 4,
   "id": "63064add",
   "metadata": {},
   "outputs": [
    {
     "data": {
      "text/plain": [
       "{3, 4}"
      ]
     },
     "execution_count": 4,
     "metadata": {},
     "output_type": "execute_result"
    }
   ],
   "source": [
    "res = setA & setB\n",
    "res"
   ]
  },
  {
   "cell_type": "markdown",
   "id": "ec57f0ff",
   "metadata": {},
   "source": [
    "Или же в setA/setB:"
   ]
  },
  {
   "cell_type": "code",
   "execution_count": 6,
   "id": "1b8bff80",
   "metadata": {},
   "outputs": [
    {
     "data": {
      "text/plain": [
       "{3, 4}"
      ]
     },
     "execution_count": 6,
     "metadata": {},
     "output_type": "execute_result"
    }
   ],
   "source": [
    "setA = setA & setB\n",
    "setA"
   ]
  },
  {
   "cell_type": "markdown",
   "id": "44a85214",
   "metadata": {},
   "source": [
    "Сокращенно:"
   ]
  },
  {
   "cell_type": "code",
   "execution_count": 9,
   "id": "a936e9fc",
   "metadata": {},
   "outputs": [
    {
     "data": {
      "text/plain": [
       "{3, 4}"
      ]
     },
     "execution_count": 9,
     "metadata": {},
     "output_type": "execute_result"
    }
   ],
   "source": [
    "setA &= setB\n",
    "setA"
   ]
  },
  {
   "cell_type": "code",
   "execution_count": 11,
   "id": "9024873e",
   "metadata": {},
   "outputs": [],
   "source": [
    "setA = {1, 2, 3, 4}\n",
    "setB = {3, 4, 5, 6, 7}"
   ]
  },
  {
   "cell_type": "markdown",
   "id": "b3a558f3",
   "metadata": {},
   "source": [
    "Второй вариант записи - метод intersection:"
   ]
  },
  {
   "cell_type": "code",
   "execution_count": 14,
   "id": "84c94dcf",
   "metadata": {},
   "outputs": [
    {
     "data": {
      "text/plain": [
       "{3, 4}"
      ]
     },
     "execution_count": 14,
     "metadata": {},
     "output_type": "execute_result"
    }
   ],
   "source": [
    "setA.intersection(setB)"
   ]
  },
  {
   "cell_type": "markdown",
   "id": "a1ef0dd1",
   "metadata": {},
   "source": [
    "И такая запись будет аналогична записи:"
   ]
  },
  {
   "cell_type": "code",
   "execution_count": 16,
   "id": "ffbcfb69",
   "metadata": {},
   "outputs": [
    {
     "data": {
      "text/plain": [
       "{3, 4}"
      ]
     },
     "execution_count": 16,
     "metadata": {},
     "output_type": "execute_result"
    }
   ],
   "source": [
    "setA & setB"
   ]
  },
  {
   "cell_type": "markdown",
   "id": "2eedb331",
   "metadata": {},
   "source": [
    "Метод intersection_update позволяет сразу записать изменения в переменную, от которой он вызывается:"
   ]
  },
  {
   "cell_type": "code",
   "execution_count": 18,
   "id": "1f7e3c41",
   "metadata": {},
   "outputs": [
    {
     "data": {
      "text/plain": [
       "{3, 4}"
      ]
     },
     "execution_count": 18,
     "metadata": {},
     "output_type": "execute_result"
    }
   ],
   "source": [
    "setA.intersection_update(setB)\n",
    "setA"
   ]
  },
  {
   "cell_type": "markdown",
   "id": "eae89b93",
   "metadata": {},
   "source": [
    "Это аналог записи:"
   ]
  },
  {
   "cell_type": "code",
   "execution_count": 22,
   "id": "f1dd68a7",
   "metadata": {},
   "outputs": [
    {
     "data": {
      "text/plain": [
       "{3, 4}"
      ]
     },
     "execution_count": 22,
     "metadata": {},
     "output_type": "execute_result"
    }
   ],
   "source": [
    "setA &= setB\n",
    "setA"
   ]
  },
  {
   "cell_type": "markdown",
   "id": "96186a2f",
   "metadata": {},
   "source": [
    "## Объединение множеств"
   ]
  },
  {
   "cell_type": "code",
   "execution_count": 23,
   "id": "23e6c140",
   "metadata": {},
   "outputs": [],
   "source": [
    "setA = {1, 2, 3, 4}\n",
    "setB = {3, 4, 5, 6, 7}"
   ]
  },
  {
   "cell_type": "markdown",
   "id": "8ae86f48",
   "metadata": {},
   "source": [
    "Объединение множеств включает в себя как элементы из первого множества, так и элементы из второго множества:"
   ]
  },
  {
   "cell_type": "code",
   "execution_count": 27,
   "id": "36801906",
   "metadata": {},
   "outputs": [
    {
     "data": {
      "text/plain": [
       "{1, 2, 3, 4, 5, 6, 7}"
      ]
     },
     "execution_count": 27,
     "metadata": {},
     "output_type": "execute_result"
    }
   ],
   "source": [
    "setA | setB"
   ]
  },
  {
   "cell_type": "markdown",
   "id": "64690083",
   "metadata": {},
   "source": [
    "Также возвращается новое множество, а исходные остаются неизменными."
   ]
  },
  {
   "cell_type": "markdown",
   "id": "c1fca0a1",
   "metadata": {},
   "source": [
    "Второй вариант записи - метод union. Это аналог предыдущей записи:"
   ]
  },
  {
   "cell_type": "code",
   "execution_count": 29,
   "id": "89a8c2af",
   "metadata": {},
   "outputs": [
    {
     "data": {
      "text/plain": [
       "{1, 2, 3, 4, 5, 6, 7}"
      ]
     },
     "execution_count": 29,
     "metadata": {},
     "output_type": "execute_result"
    }
   ],
   "source": [
    "setA.union(setB)"
   ]
  },
  {
   "cell_type": "code",
   "execution_count": 37,
   "id": "c6e8cdaf",
   "metadata": {},
   "outputs": [],
   "source": [
    "# res = setA | setB\n",
    "# setA |= setB"
   ]
  },
  {
   "cell_type": "markdown",
   "id": "192afa72",
   "metadata": {},
   "source": [
    "## Вычитание множеств"
   ]
  },
  {
   "cell_type": "code",
   "execution_count": 31,
   "id": "e7d6859f",
   "metadata": {},
   "outputs": [],
   "source": [
    "setA = {1, 2, 3, 4}\n",
    "setB = {3, 4, 5, 6, 7}"
   ]
  },
  {
   "cell_type": "markdown",
   "id": "20d04df1",
   "metadata": {},
   "source": [
    "Все элементы из первого множества кроме тех, что есть во втором множестве:"
   ]
  },
  {
   "cell_type": "code",
   "execution_count": 34,
   "id": "28eb0834",
   "metadata": {},
   "outputs": [
    {
     "data": {
      "text/plain": [
       "{1, 2}"
      ]
     },
     "execution_count": 34,
     "metadata": {},
     "output_type": "execute_result"
    }
   ],
   "source": [
    "setA - setB"
   ]
  },
  {
   "cell_type": "markdown",
   "id": "73f30c19",
   "metadata": {},
   "source": [
    "Причем порядок вычитание здесь важен: если поменять элементы местами, результат будет другим:"
   ]
  },
  {
   "cell_type": "code",
   "execution_count": 36,
   "id": "fadbcb41",
   "metadata": {},
   "outputs": [
    {
     "data": {
      "text/plain": [
       "{5, 6, 7}"
      ]
     },
     "execution_count": 36,
     "metadata": {},
     "output_type": "execute_result"
    }
   ],
   "source": [
    "setB - setA"
   ]
  },
  {
   "cell_type": "code",
   "execution_count": 38,
   "id": "d7b55d0d",
   "metadata": {},
   "outputs": [],
   "source": [
    "# res = setA - setB\n",
    "# setA -= setB"
   ]
  },
  {
   "cell_type": "markdown",
   "id": "43800488",
   "metadata": {},
   "source": [
    "## Симметричная разность"
   ]
  },
  {
   "cell_type": "code",
   "execution_count": 40,
   "id": "c66f457c",
   "metadata": {},
   "outputs": [],
   "source": [
    "setA = {1, 2, 3, 4}\n",
    "setB = {3, 4, 5, 6, 7}"
   ]
  },
  {
   "cell_type": "markdown",
   "id": "e4fe696f",
   "metadata": {},
   "source": [
    "Симметричная разность - это элементы, которые уникальны как для первого, так и для второго множества. Т.е. это все элементы кроме тех, что входят в пересечение:"
   ]
  },
  {
   "cell_type": "code",
   "execution_count": 41,
   "id": "c204965f",
   "metadata": {},
   "outputs": [
    {
     "data": {
      "text/plain": [
       "{1, 2, 5, 6, 7}"
      ]
     },
     "execution_count": 41,
     "metadata": {},
     "output_type": "execute_result"
    }
   ],
   "source": [
    "setA ^ setB"
   ]
  },
  {
   "cell_type": "markdown",
   "id": "46595749",
   "metadata": {},
   "source": [
    "## Сравнение множеств"
   ]
  },
  {
   "cell_type": "markdown",
   "id": "2ac0ce3f",
   "metadata": {},
   "source": [
    "Множества считаются равными, если они состоят из одного набора элементов и имеют одинаковую длину:"
   ]
  },
  {
   "cell_type": "code",
   "execution_count": 51,
   "id": "5fd107ea",
   "metadata": {},
   "outputs": [],
   "source": [
    "setA = {6, 2, 3, 5, 8}\n",
    "setB = {2, 8, 6, 3, 5}"
   ]
  },
  {
   "cell_type": "code",
   "execution_count": 47,
   "id": "60f4d948",
   "metadata": {},
   "outputs": [
    {
     "data": {
      "text/plain": [
       "True"
      ]
     },
     "execution_count": 47,
     "metadata": {},
     "output_type": "execute_result"
    }
   ],
   "source": [
    "setA == setB"
   ]
  },
  {
   "cell_type": "markdown",
   "id": "997c1862",
   "metadata": {},
   "source": [
    "Причем порядок их неважен, т.к. множество - неупорядоченная коллекция"
   ]
  },
  {
   "cell_type": "code",
   "execution_count": 48,
   "id": "4c7767b9",
   "metadata": {},
   "outputs": [
    {
     "data": {
      "text/plain": [
       "False"
      ]
     },
     "execution_count": 48,
     "metadata": {},
     "output_type": "execute_result"
    }
   ],
   "source": [
    "setA != setB"
   ]
  },
  {
   "cell_type": "code",
   "execution_count": 49,
   "id": "56117f46",
   "metadata": {},
   "outputs": [],
   "source": [
    "setA = {6, 2, 3, 5, 8}\n",
    "setB = {2, 3, 5}"
   ]
  },
  {
   "cell_type": "code",
   "execution_count": 50,
   "id": "ec5cf60a",
   "metadata": {
    "scrolled": true
   },
   "outputs": [
    {
     "data": {
      "text/plain": [
       "True"
      ]
     },
     "execution_count": 50,
     "metadata": {},
     "output_type": "execute_result"
    }
   ],
   "source": [
    "setB < setA"
   ]
  },
  {
   "cell_type": "markdown",
   "id": "a10be0ce",
   "metadata": {},
   "source": [
    "Множество setB является подмножеством setA, и поэтому возвращено True. Т.е. сравнение множеств происходит на уровне подмножеств."
   ]
  }
 ],
 "metadata": {
  "kernelspec": {
   "display_name": "Python 3 (ipykernel)",
   "language": "python",
   "name": "python3"
  },
  "language_info": {
   "codemirror_mode": {
    "name": "ipython",
    "version": 3
   },
   "file_extension": ".py",
   "mimetype": "text/x-python",
   "name": "python",
   "nbconvert_exporter": "python",
   "pygments_lexer": "ipython3",
   "version": "3.9.13"
  }
 },
 "nbformat": 4,
 "nbformat_minor": 5
}

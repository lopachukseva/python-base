{
 "cells": [
  {
   "cell_type": "markdown",
   "id": "19fc9523",
   "metadata": {},
   "source": [
    "## Вложенные циклы"
   ]
  },
  {
   "cell_type": "markdown",
   "id": "d07b762b",
   "metadata": {},
   "source": [
    "### Отображение списка в виде матрицы"
   ]
  },
  {
   "cell_type": "markdown",
   "id": "a2f3b354",
   "metadata": {},
   "source": [
    "Вложенный цикл для отображения вложенного списка в виде матрицы:"
   ]
  },
  {
   "cell_type": "code",
   "execution_count": 1,
   "id": "694b37cc",
   "metadata": {},
   "outputs": [],
   "source": [
    "m = [[1, 2, 3], [4, 5, 6], [7, 8, 9]]"
   ]
  },
  {
   "cell_type": "markdown",
   "id": "63e7c306",
   "metadata": {},
   "source": [
    "Строго отображение (без возможности изменения, обращение по ссылке):"
   ]
  },
  {
   "cell_type": "code",
   "execution_count": 2,
   "id": "67d39a6c",
   "metadata": {},
   "outputs": [
    {
     "name": "stdout",
     "output_type": "stream",
     "text": [
      "1 2 3 \n",
      "\n",
      "4 5 6 \n",
      "\n",
      "7 8 9 \n",
      "\n"
     ]
    }
   ],
   "source": [
    "for i in m:\n",
    "    for j in i:\n",
    "        print(j, end=\" \")\n",
    "    print(\"\\n\")"
   ]
  },
  {
   "cell_type": "markdown",
   "id": "4c50030f",
   "metadata": {},
   "source": [
    "С возможностью не только отображения, но и взаимодействия (обращение по индексу):"
   ]
  },
  {
   "cell_type": "code",
   "execution_count": 3,
   "id": "254ad7d5",
   "metadata": {
    "scrolled": true
   },
   "outputs": [
    {
     "name": "stdout",
     "output_type": "stream",
     "text": [
      "1 2 3 \n",
      "\n",
      "4 5 6 \n",
      "\n",
      "7 8 9 \n",
      "\n"
     ]
    }
   ],
   "source": [
    "for i in range(len(m)):\n",
    "    for j in range(len(m[i])):\n",
    "        print(m[i][j], end=\" \")\n",
    "    print(\"\\n\")"
   ]
  },
  {
   "cell_type": "markdown",
   "id": "aa986a81",
   "metadata": {},
   "source": [
    "С помощью функции enumerate - возможно обращение как по индексу, так и по ссылке (enumerate возвращает кортеж из двух значений - индекс элемента и его значение):"
   ]
  },
  {
   "cell_type": "code",
   "execution_count": 4,
   "id": "86052856",
   "metadata": {},
   "outputs": [
    {
     "name": "stdout",
     "output_type": "stream",
     "text": [
      "1 2 3 \n",
      "\n",
      "4 5 6 \n",
      "\n",
      "7 8 9 \n",
      "\n"
     ]
    }
   ],
   "source": [
    "for s_i, s in enumerate(m):\n",
    "    for r_i, r in enumerate(m):\n",
    "        print(m[s_i][r_i], end=\" \")\n",
    "    print(\"\\n\")"
   ]
  },
  {
   "cell_type": "markdown",
   "id": "382da5c1",
   "metadata": {},
   "source": [
    "### Комбинация вложенных циклов"
   ]
  },
  {
   "cell_type": "markdown",
   "id": "81a96070",
   "metadata": {},
   "source": [
    "Друг в друга могут быть вложены как циклы одного типа (например, цикл for в цикле for), так и разного (например, цикл for в цикле while)"
   ]
  },
  {
   "cell_type": "code",
   "execution_count": 5,
   "id": "318f6ae6",
   "metadata": {
    "scrolled": true
   },
   "outputs": [
    {
     "name": "stdout",
     "output_type": "stream",
     "text": [
      "i = 1, j = 1\n",
      "i = 1, j = 2\n",
      "i = 1, j = 3\n",
      "i = 1, j = 4\n",
      "i = 2, j = 1\n",
      "i = 2, j = 2\n",
      "i = 2, j = 3\n",
      "i = 2, j = 4\n",
      "i = 3, j = 1\n",
      "i = 3, j = 2\n",
      "i = 3, j = 3\n",
      "i = 3, j = 4\n"
     ]
    }
   ],
   "source": [
    "for i in range(1, 4):\n",
    "    for j in range(1, 5):\n",
    "        print(f\"i = {i}, j = {j}\")"
   ]
  },
  {
   "cell_type": "markdown",
   "id": "2e338d72",
   "metadata": {},
   "source": [
    "На каждой итерации внешнего цикла срабатывает внутренний. И следующая итерация внешнего цикла не начнется до тех пор, пока не отработает внутренний. После отрабатывания внутреннего цикла запускается новая итерация внешнего, и все это повторяется до тех пор, пока внешний цикл не закончит свою работу. Т.е. на каждую итерацию внешнего цикла срабатывает внутренний цикл от начала и до конца."
   ]
  },
  {
   "cell_type": "code",
   "execution_count": 6,
   "id": "09273dfd",
   "metadata": {},
   "outputs": [],
   "source": [
    "m = [[1, 2, 3], [4, 5, 6], [7, 8, 9]]"
   ]
  },
  {
   "cell_type": "markdown",
   "id": "43003bfe",
   "metadata": {},
   "source": [
    "Данный цикл перебирает элементы в списке m. Элементами в нем являются списки:"
   ]
  },
  {
   "cell_type": "code",
   "execution_count": 7,
   "id": "acc71fb2",
   "metadata": {
    "scrolled": true
   },
   "outputs": [
    {
     "name": "stdout",
     "output_type": "stream",
     "text": [
      "[1, 2, 3] <class 'list'>\n",
      "[4, 5, 6] <class 'list'>\n",
      "[7, 8, 9] <class 'list'>\n"
     ]
    }
   ],
   "source": [
    "for row in m:\n",
    "    print(row, type(row))"
   ]
  },
  {
   "cell_type": "markdown",
   "id": "74006f2a",
   "metadata": {},
   "source": [
    "Если это так, то ничего не мешает внутри этого цикла создать еще один, который будет перебирать эти списки:"
   ]
  },
  {
   "cell_type": "code",
   "execution_count": 8,
   "id": "28a6cf8d",
   "metadata": {},
   "outputs": [
    {
     "name": "stdout",
     "output_type": "stream",
     "text": [
      "1 <class 'int'> 2 <class 'int'> 3 <class 'int'> \n",
      "4 <class 'int'> 5 <class 'int'> 6 <class 'int'> \n",
      "7 <class 'int'> 8 <class 'int'> 9 <class 'int'> \n"
     ]
    }
   ],
   "source": [
    "for row in m:\n",
    "    for element in row:\n",
    "        print(element, type(element), end=' ')\n",
    "    print()"
   ]
  },
  {
   "cell_type": "markdown",
   "id": "4dbf210c",
   "metadata": {},
   "source": [
    "С помощью конструкции двух for удалось перебрать все значение списка, который содержит вложенные списки."
   ]
  },
  {
   "cell_type": "markdown",
   "id": "1223b523",
   "metadata": {},
   "source": [
    "Это можно использовать, например, для поэлементного сложения двух одинаковых списков:"
   ]
  },
  {
   "cell_type": "code",
   "execution_count": 9,
   "id": "2790b1fc",
   "metadata": {},
   "outputs": [],
   "source": [
    "a = [[1, 2, 3], [4, 5, 6], [7, 8, 9]]\n",
    "b = [[2, 5, 3], [2, 4, 9], [4, 1, 2]]"
   ]
  },
  {
   "cell_type": "code",
   "execution_count": 10,
   "id": "439f444b",
   "metadata": {},
   "outputs": [],
   "source": [
    "c = []\n",
    "\n",
    "for i, x in enumerate(a):\n",
    "    r = []\n",
    "    for j, y in enumerate(x):\n",
    "        r.append(a[i][j] + b[i][j])\n",
    "    c.append(r)"
   ]
  },
  {
   "cell_type": "code",
   "execution_count": 11,
   "id": "01749c5e",
   "metadata": {},
   "outputs": [
    {
     "name": "stdout",
     "output_type": "stream",
     "text": [
      "[[3, 7, 6], [6, 9, 15], [11, 9, 11]]\n"
     ]
    }
   ],
   "source": [
    "print(c)"
   ]
  },
  {
   "cell_type": "code",
   "execution_count": 12,
   "id": "36187ff4",
   "metadata": {
    "scrolled": true
   },
   "outputs": [
    {
     "name": "stdout",
     "output_type": "stream",
     "text": [
      "3 7 6 \n",
      "\n",
      "6 9 15 \n",
      "\n",
      "11 9 11 \n",
      "\n"
     ]
    }
   ],
   "source": [
    "for row in c:\n",
    "    for el in row:\n",
    "        print(el, end=' ')\n",
    "    print('\\n')"
   ]
  },
  {
   "cell_type": "markdown",
   "id": "58f4370e",
   "metadata": {},
   "source": [
    "Или, допустим, существует список со строками, с каждой из которой нужно сделать одни и те же операции. Например, убрать лишний пробелы:"
   ]
  },
  {
   "cell_type": "code",
   "execution_count": 35,
   "id": "c9203791",
   "metadata": {},
   "outputs": [],
   "source": [
    "t = [\n",
    "    \"И   стоит  берёза \",\n",
    "    \" В  сонной  тишине\",\n",
    "    \"И  горят     снежинки   \",\n",
    "    \"  В  золотом огне\",\n",
    "]"
   ]
  },
  {
   "cell_type": "code",
   "execution_count": 36,
   "id": "509f0411",
   "metadata": {},
   "outputs": [
    {
     "data": {
      "text/plain": [
       "['И   стоит  берёза ',\n",
       " ' В  сонной  тишине',\n",
       " 'И  горят     снежинки   ',\n",
       " '  В  золотом огне']"
      ]
     },
     "execution_count": 36,
     "metadata": {},
     "output_type": "execute_result"
    }
   ],
   "source": [
    "t"
   ]
  },
  {
   "cell_type": "code",
   "execution_count": 37,
   "id": "cfd310d6",
   "metadata": {},
   "outputs": [],
   "source": [
    "for row in range(len(t)):\n",
    "    t[row] = t[row].strip()\n",
    "    while \"  \" in t[row]:\n",
    "        t[row] = t[row].replace(\"  \", \" \")"
   ]
  },
  {
   "cell_type": "code",
   "execution_count": 38,
   "id": "f57f5328",
   "metadata": {},
   "outputs": [
    {
     "data": {
      "text/plain": [
       "['И стоит берёза', 'В сонной тишине', 'И горят снежинки', 'В золотом огне']"
      ]
     },
     "execution_count": 38,
     "metadata": {},
     "output_type": "execute_result"
    }
   ],
   "source": [
    "t"
   ]
  },
  {
   "cell_type": "markdown",
   "id": "d5e6a961",
   "metadata": {},
   "source": [
    "Предположим, нужно сформировать двумерный список определенной размерности:"
   ]
  },
  {
   "cell_type": "code",
   "execution_count": 56,
   "id": "9a72735a",
   "metadata": {},
   "outputs": [],
   "source": [
    "n = 3\n",
    "m = 6"
   ]
  },
  {
   "cell_type": "code",
   "execution_count": 57,
   "id": "2e7c93ba",
   "metadata": {},
   "outputs": [
    {
     "name": "stdout",
     "output_type": "stream",
     "text": [
      "[[0, 0, 0, 0, 0, 0], [0, 0, 0, 0, 0, 0], [0, 0, 0, 0, 0, 0]]\n"
     ]
    }
   ],
   "source": [
    "zeros = []\n",
    "\n",
    "for i in range(n):\n",
    "    zeros.append([0] * m)\n",
    "    \n",
    "print(zeros)"
   ]
  },
  {
   "cell_type": "markdown",
   "id": "949af123",
   "metadata": {},
   "source": [
    "А затем заполнить ее нулями:"
   ]
  },
  {
   "cell_type": "code",
   "execution_count": 58,
   "id": "1739d33d",
   "metadata": {},
   "outputs": [
    {
     "name": "stdout",
     "output_type": "stream",
     "text": [
      "[[1, 1, 1, 1, 1, 1], [1, 1, 1, 1, 1, 1], [1, 1, 1, 1, 1, 1]]\n"
     ]
    }
   ],
   "source": [
    "for i in range(len(zeros)):\n",
    "    for j in range(len(zeros[i])):\n",
    "        zeros[i][j] = 1\n",
    "        \n",
    "print(zeros)"
   ]
  },
  {
   "cell_type": "code",
   "execution_count": 59,
   "id": "11f86030",
   "metadata": {},
   "outputs": [
    {
     "name": "stdout",
     "output_type": "stream",
     "text": [
      "1 1 1 1 1 1 \n",
      "\n",
      "1 1 1 1 1 1 \n",
      "\n",
      "1 1 1 1 1 1 \n",
      "\n"
     ]
    }
   ],
   "source": [
    "for row in zeros:\n",
    "    for el in row:\n",
    "        print(el, end=\" \")\n",
    "    print(\"\\n\")"
   ]
  },
  {
   "cell_type": "markdown",
   "id": "72d559c0",
   "metadata": {},
   "source": [
    "Алгоритм транспонирования матрицы. Используя вспомогательный список:"
   ]
  },
  {
   "cell_type": "code",
   "execution_count": 69,
   "id": "0bd967d4",
   "metadata": {},
   "outputs": [],
   "source": [
    "ma = [[1, 2, 3], [4, 5, 6], [7, 8, 9]]\n",
    "tr = [[0, 0, 0], [0, 0, 0], [0, 0, 0]]"
   ]
  },
  {
   "cell_type": "code",
   "execution_count": 70,
   "id": "74225ac0",
   "metadata": {},
   "outputs": [],
   "source": [
    "for i, ei in enumerate(ma):\n",
    "    for j, ej in enumerate(ei):\n",
    "        tr[i][j] = ma[j][i]"
   ]
  },
  {
   "cell_type": "code",
   "execution_count": 71,
   "id": "4d344387",
   "metadata": {},
   "outputs": [
    {
     "data": {
      "text/plain": [
       "[[1, 4, 7], [2, 5, 8], [3, 6, 9]]"
      ]
     },
     "execution_count": 71,
     "metadata": {},
     "output_type": "execute_result"
    }
   ],
   "source": [
    "tr"
   ]
  },
  {
   "cell_type": "markdown",
   "id": "0a08cd0c",
   "metadata": {},
   "source": [
    "Без использования вспомогательного списка:"
   ]
  },
  {
   "cell_type": "code",
   "execution_count": 79,
   "id": "68e4ce80",
   "metadata": {},
   "outputs": [],
   "source": [
    "ma = [[1, 2, 3], [4, 5, 6], [7, 8, 9]]"
   ]
  },
  {
   "cell_type": "code",
   "execution_count": 80,
   "id": "b0946d20",
   "metadata": {},
   "outputs": [
    {
     "name": "stdout",
     "output_type": "stream",
     "text": [
      "1\t2\t3\t\n",
      "\n",
      "4\t5\t6\t\n",
      "\n",
      "7\t8\t9\t\n",
      "\n"
     ]
    }
   ],
   "source": [
    "for row in ma:\n",
    "    for el in row:\n",
    "        print(el, end=\"\\t\")\n",
    "    print(\"\\n\")"
   ]
  },
  {
   "cell_type": "code",
   "execution_count": 81,
   "id": "f60970f7",
   "metadata": {},
   "outputs": [],
   "source": [
    "for i in range(len(ma)):\n",
    "    for j in range(i+1, len(ma[i])):\n",
    "        ma[i][j], ma[j][i] =  ma[j][i], ma[i][j]"
   ]
  },
  {
   "cell_type": "code",
   "execution_count": 82,
   "id": "d0ff8ed8",
   "metadata": {},
   "outputs": [
    {
     "data": {
      "text/plain": [
       "[[1, 4, 7], [2, 5, 8], [3, 6, 9]]"
      ]
     },
     "execution_count": 82,
     "metadata": {},
     "output_type": "execute_result"
    }
   ],
   "source": [
    "ma"
   ]
  },
  {
   "cell_type": "code",
   "execution_count": 83,
   "id": "8d3ea6b7",
   "metadata": {},
   "outputs": [
    {
     "name": "stdout",
     "output_type": "stream",
     "text": [
      "1\t4\t7\t\n",
      "\n",
      "2\t5\t8\t\n",
      "\n",
      "3\t6\t9\t\n",
      "\n"
     ]
    }
   ],
   "source": [
    "for row in ma:\n",
    "    for el in row:\n",
    "        print(el, end=\"\\t\")\n",
    "    print(\"\\n\")"
   ]
  },
  {
   "cell_type": "markdown",
   "id": "7ffdee8a",
   "metadata": {},
   "source": [
    "Количество вложений циклов может быть любое, но на практике большое число вложений стоит избегать, так как это сильно сказывается на скорости работы программы."
   ]
  }
 ],
 "metadata": {
  "kernelspec": {
   "display_name": "Python 3 (ipykernel)",
   "language": "python",
   "name": "python3"
  },
  "language_info": {
   "codemirror_mode": {
    "name": "ipython",
    "version": 3
   },
   "file_extension": ".py",
   "mimetype": "text/x-python",
   "name": "python",
   "nbconvert_exporter": "python",
   "pygments_lexer": "ipython3",
   "version": "3.9.13"
  }
 },
 "nbformat": 4,
 "nbformat_minor": 5
}

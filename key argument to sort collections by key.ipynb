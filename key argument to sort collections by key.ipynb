{
 "cells": [
  {
   "cell_type": "markdown",
   "id": "9ab33361",
   "metadata": {},
   "source": [
    "## Аргумент key для управления сортировкой"
   ]
  },
  {
   "cell_type": "markdown",
   "id": "6ad56294",
   "metadata": {},
   "source": [
    "list.sort() - метод для сортировки элементов списка<br>\n",
    "sorted() - функция для сортировки итерируемых объектов"
   ]
  },
  {
   "cell_type": "markdown",
   "id": "baf197fb",
   "metadata": {},
   "source": [
    "С помощью специального параметра key, который существует у метода sort и функции sorted, можно управлять алгоритмом сортировки. По умолчанию сортировка происходит по значению их элементов:"
   ]
  },
  {
   "cell_type": "code",
   "execution_count": 1,
   "id": "61f46325",
   "metadata": {},
   "outputs": [
    {
     "data": {
      "text/plain": [
       "[2, 3, 4, 8]"
      ]
     },
     "execution_count": 1,
     "metadata": {},
     "output_type": "execute_result"
    }
   ],
   "source": [
    "e = [8, 3, 2, 4]\n",
    "e.sort()\n",
    "e"
   ]
  },
  {
   "cell_type": "markdown",
   "id": "12839f7a",
   "metadata": {},
   "source": [
    "Но можно вместо сортировки по значению элементов указать другие, которые будут использованы для сортировки. Например, можно определить функцию, которая будет определять четность значений. И для четного числа будет возвращать ноль, а для нечетного - единицу:"
   ]
  },
  {
   "cell_type": "code",
   "execution_count": 2,
   "id": "393b4678",
   "metadata": {},
   "outputs": [],
   "source": [
    "def isOdd(n):\n",
    "    return n % 2"
   ]
  },
  {
   "cell_type": "code",
   "execution_count": 3,
   "id": "8dfad92c",
   "metadata": {},
   "outputs": [],
   "source": [
    "a = [9, 2, -3, 3, 2, 1, 3, 5, -5, 3, 4, 8]"
   ]
  },
  {
   "cell_type": "markdown",
   "id": "7848a6da",
   "metadata": {},
   "source": [
    "Передадим ссылку на эту функцию в качестве параметра key:"
   ]
  },
  {
   "cell_type": "code",
   "execution_count": 4,
   "id": "48b0b48d",
   "metadata": {},
   "outputs": [],
   "source": [
    "a.sort(key=isOdd)"
   ]
  },
  {
   "cell_type": "markdown",
   "id": "e950bce9",
   "metadata": {},
   "source": [
    "И теперь сортировка будет происходить по ключам, а не по значениям. Сначала будут выстроены числа, у которых ключ - ноль (т.е. четные числа), а затем те, у которых ключ - единица (нечетные):"
   ]
  },
  {
   "cell_type": "code",
   "execution_count": 5,
   "id": "498fb829",
   "metadata": {},
   "outputs": [
    {
     "data": {
      "text/plain": [
       "[2, 2, 4, 8, 9, -3, 3, 1, 3, 5, -5, 3]"
      ]
     },
     "execution_count": 5,
     "metadata": {},
     "output_type": "execute_result"
    }
   ],
   "source": [
    "a"
   ]
  },
  {
   "cell_type": "markdown",
   "id": "c9df9770",
   "metadata": {},
   "source": [
    "Гораздо удобнее записать эту функцию в виде lambda функции: "
   ]
  },
  {
   "cell_type": "code",
   "execution_count": 6,
   "id": "0246fc1c",
   "metadata": {},
   "outputs": [
    {
     "data": {
      "text/plain": [
       "[2, 2, 4, 8, 9, -3, 3, 1, 3, 5, -5, 3]"
      ]
     },
     "execution_count": 6,
     "metadata": {},
     "output_type": "execute_result"
    }
   ],
   "source": [
    "b = [9, 2, -3, 3, 2, 1, 3, 5, -5, 3, 4, 8]\n",
    "b.sort(key=lambda n: n % 2)\n",
    "b"
   ]
  },
  {
   "cell_type": "markdown",
   "id": "1e04d699",
   "metadata": {},
   "source": [
    "С помощью такого алгоритма можно сформировать список, в котором идут сначала четные, а затем нечетные числа. А внутри этих групп они будут отсортированы по возрастанию. Для каждого четного числа будет формироваться ключ, который равен этому числу, а для нечетного - число + 100:"
   ]
  },
  {
   "cell_type": "code",
   "execution_count": 7,
   "id": "52c85201",
   "metadata": {},
   "outputs": [],
   "source": [
    "def keySort(n):\n",
    "    if n % 2 == 0:\n",
    "        return n\n",
    "    else:\n",
    "        return n + 100"
   ]
  },
  {
   "cell_type": "code",
   "execution_count": 8,
   "id": "8c7ae52e",
   "metadata": {},
   "outputs": [
    {
     "data": {
      "text/plain": [
       "[2, 2, 4, 8, -5, -3, 1, 3, 3, 3, 5, 9]"
      ]
     },
     "execution_count": 8,
     "metadata": {},
     "output_type": "execute_result"
    }
   ],
   "source": [
    "c = [9, 2, -3, 3, 2, 1, 3, 5, -5, 3, 4, 8]\n",
    "c.sort(key=keySort)\n",
    "c"
   ]
  },
  {
   "cell_type": "markdown",
   "id": "6a53fcb9",
   "metadata": {},
   "source": [
    "Допустим, есть список городов:"
   ]
  },
  {
   "cell_type": "code",
   "execution_count": 9,
   "id": "f9b7f8fe",
   "metadata": {},
   "outputs": [],
   "source": [
    "cities = ['Москва', 'Тверь', 'Смоленск', 'Псков', 'Рязань']"
   ]
  },
  {
   "cell_type": "markdown",
   "id": "fd49c459",
   "metadata": {},
   "source": [
    "Который необходимо отсортировать по длине названия города. Реализовать это можно следующим образом:"
   ]
  },
  {
   "cell_type": "code",
   "execution_count": 10,
   "id": "be09ca16",
   "metadata": {},
   "outputs": [
    {
     "data": {
      "text/plain": [
       "['Тверь', 'Псков', 'Москва', 'Рязань', 'Смоленск']"
      ]
     },
     "execution_count": 10,
     "metadata": {},
     "output_type": "execute_result"
    }
   ],
   "source": [
    "cities.sort(key=lambda s: len(s))\n",
    "cities"
   ]
  },
  {
   "cell_type": "markdown",
   "id": "0c691f4b",
   "metadata": {},
   "source": [
    "Если записать проще, то:"
   ]
  },
  {
   "cell_type": "code",
   "execution_count": 11,
   "id": "6a8ef5a5",
   "metadata": {},
   "outputs": [
    {
     "data": {
      "text/plain": [
       "['Тверь', 'Псков', 'Москва', 'Рязань', 'Смоленск']"
      ]
     },
     "execution_count": 11,
     "metadata": {},
     "output_type": "execute_result"
    }
   ],
   "source": [
    "cities.sort(key=len)\n",
    "cities"
   ]
  },
  {
   "cell_type": "markdown",
   "id": "e9537c90",
   "metadata": {},
   "source": [
    "Так как len является функцией, и можно передать ссылку на эту функцию напрямую."
   ]
  },
  {
   "cell_type": "markdown",
   "id": "b495272d",
   "metadata": {},
   "source": [
    "Или отсортировать по последней букве:"
   ]
  },
  {
   "cell_type": "code",
   "execution_count": 12,
   "id": "b3517f95",
   "metadata": {},
   "outputs": [
    {
     "data": {
      "text/plain": [
       "['Москва', 'Псков', 'Смоленск', 'Тверь', 'Рязань']"
      ]
     },
     "execution_count": 12,
     "metadata": {},
     "output_type": "execute_result"
    }
   ],
   "source": [
    "cities.sort(key=lambda s: s[-1])\n",
    "cities"
   ]
  },
  {
   "cell_type": "markdown",
   "id": "e48ed596",
   "metadata": {},
   "source": [
    "Или необходимо кортеж, содержащий кортежи с информацией о книгах, отсортировать по цене (последнему элементу кортежа):"
   ]
  },
  {
   "cell_type": "code",
   "execution_count": 13,
   "id": "332a0ce1",
   "metadata": {},
   "outputs": [],
   "source": [
    "books = (\n",
    "    ('Евгений Онегин', 'Пушкин А.С.', 200), \n",
    "    ('Муму', 'Тургенев И.С.', 250), \n",
    "    ('Мастер и Маргарита', 'Булгаков М.А.', 500), \n",
    "    ('Мертвые души', 'Гоголь Н.В.', 190), \n",
    ")"
   ]
  },
  {
   "cell_type": "code",
   "execution_count": 14,
   "id": "e46ddf7e",
   "metadata": {},
   "outputs": [
    {
     "data": {
      "text/plain": [
       "[('Мертвые души', 'Гоголь Н.В.', 190),\n",
       " ('Евгений Онегин', 'Пушкин А.С.', 200),\n",
       " ('Муму', 'Тургенев И.С.', 250),\n",
       " ('Мастер и Маргарита', 'Булгаков М.А.', 500)]"
      ]
     },
     "execution_count": 14,
     "metadata": {},
     "output_type": "execute_result"
    }
   ],
   "source": [
    "sorted(books, key=lambda b: b[2])"
   ]
  },
  {
   "cell_type": "markdown",
   "id": "fbcb2d4d",
   "metadata": {},
   "source": [
    "Или по убыванию:"
   ]
  },
  {
   "cell_type": "code",
   "execution_count": 15,
   "id": "6e71319b",
   "metadata": {},
   "outputs": [
    {
     "data": {
      "text/plain": [
       "[('Мастер и Маргарита', 'Булгаков М.А.', 500),\n",
       " ('Муму', 'Тургенев И.С.', 250),\n",
       " ('Евгений Онегин', 'Пушкин А.С.', 200),\n",
       " ('Мертвые души', 'Гоголь Н.В.', 190)]"
      ]
     },
     "execution_count": 15,
     "metadata": {},
     "output_type": "execute_result"
    }
   ],
   "source": [
    "sorted(books, key=lambda b: b[2], reverse=True)"
   ]
  }
 ],
 "metadata": {
  "kernelspec": {
   "display_name": "Python 3 (ipykernel)",
   "language": "python",
   "name": "python3"
  },
  "language_info": {
   "codemirror_mode": {
    "name": "ipython",
    "version": 3
   },
   "file_extension": ".py",
   "mimetype": "text/x-python",
   "name": "python",
   "nbconvert_exporter": "python",
   "pygments_lexer": "ipython3",
   "version": "3.9.13"
  }
 },
 "nbformat": 4,
 "nbformat_minor": 5
}

{
 "cells": [
  {
   "cell_type": "markdown",
   "id": "b1c07385",
   "metadata": {},
   "source": [
    "## break"
   ]
  },
  {
   "cell_type": "markdown",
   "id": "19237810",
   "metadata": {},
   "source": [
    "break - досрочное завершение цикла"
   ]
  },
  {
   "cell_type": "markdown",
   "id": "00b96e05",
   "metadata": {},
   "source": [
    "Данный цикл является вечным:"
   ]
  },
  {
   "cell_type": "code",
   "execution_count": 1,
   "id": "f6e21da8",
   "metadata": {},
   "outputs": [],
   "source": [
    "# print('start')\n",
    "# i = 0\n",
    "\n",
    "# while True:\n",
    "#     i += 1\n",
    "    \n",
    "# print('stop')"
   ]
  },
  {
   "cell_type": "markdown",
   "id": "332f2a7e",
   "metadata": {},
   "source": [
    "Но если добавить в него оператор break, цикл будет прекращен сразу, как только он встретится:"
   ]
  },
  {
   "cell_type": "code",
   "execution_count": 2,
   "id": "c98667fc",
   "metadata": {},
   "outputs": [
    {
     "name": "stdout",
     "output_type": "stream",
     "text": [
      "start\n",
      "stop\n"
     ]
    }
   ],
   "source": [
    "print('start')\n",
    "i = 0\n",
    "\n",
    "while True:\n",
    "    i += 1\n",
    "    break\n",
    "    \n",
    "print('stop')"
   ]
  },
  {
   "cell_type": "markdown",
   "id": "7074bf0b",
   "metadata": {},
   "source": [
    "## continue"
   ]
  },
  {
   "cell_type": "markdown",
   "id": "9999ec26",
   "metadata": {},
   "source": [
    "continue - пропуск одной итерации цикла"
   ]
  },
  {
   "cell_type": "markdown",
   "id": "e4c1d710",
   "metadata": {},
   "source": [
    "Данная программа получает на вход от пользователя целые числа и суммирует из них те, что нечетные. Как только вводится ноль - цикл останавливается:"
   ]
  },
  {
   "cell_type": "code",
   "execution_count": 3,
   "id": "e07f3776",
   "metadata": {
    "scrolled": true
   },
   "outputs": [
    {
     "name": "stdout",
     "output_type": "stream",
     "text": [
      "Введите целое число: 3\n",
      "Введите целое число: 3\n",
      "Введите целое число: 4\n",
      "Введите целое число: 0\n",
      "Сумма нечетных чисел: 6\n"
     ]
    }
   ],
   "source": [
    "s = 0\n",
    "d = 1\n",
    "\n",
    "while d != 0:\n",
    "    d = int(input(\"Введите целое число: \"))\n",
    "    \n",
    "    if d % 2 == 0:\n",
    "        continue\n",
    "    \n",
    "    s +=d\n",
    "    \n",
    "print(f'Сумма нечетных чисел: {s}')"
   ]
  },
  {
   "cell_type": "markdown",
   "id": "80ca4bc0",
   "metadata": {},
   "source": [
    "В теле цикла содержится условие if, внутри которого оператор continue. Если условие выполняется, выполняется и оператор continue, который завершает текущую итерацию (то есть все содержимое тела цикла ниже него не выполняется). Но в отличие от оператора break цикл не останавливается, а продолжается, т.е. запускается следующая итерация."
   ]
  },
  {
   "cell_type": "markdown",
   "id": "9d279fcc",
   "metadata": {},
   "source": [
    "Здесь видно, что когда i равна 2, выполняется условие, в теле которого - continue. Именно поэтому в этой итерации весь код в блоке ниже не выполняется, т.е. запись \"Итерация 2\" в консоль не выводится и выполняется переход к следующей итерации:"
   ]
  },
  {
   "cell_type": "code",
   "execution_count": 6,
   "id": "edda11af",
   "metadata": {},
   "outputs": [
    {
     "name": "stdout",
     "output_type": "stream",
     "text": [
      "Итерация 0\n",
      "Итерация 1\n",
      "Итерация 3\n",
      "Итерация 4\n",
      "Итерация 5\n",
      "Итерация 6\n",
      "Итерация 7\n",
      "Итерация 8\n",
      "Итерация 9\n"
     ]
    }
   ],
   "source": [
    "i = 0\n",
    "while i < 10:\n",
    "    if i == 2:\n",
    "        i += 1\n",
    "        continue\n",
    "    print(f\"Итерация {i}\")\n",
    "    i += 1"
   ]
  },
  {
   "cell_type": "markdown",
   "id": "e11812d2",
   "metadata": {},
   "source": [
    "## else"
   ]
  },
  {
   "cell_type": "markdown",
   "id": "e43050ea",
   "metadata": {},
   "source": [
    "Оператор else цикла while выполняется всегда после штатного завершения цикла:"
   ]
  },
  {
   "cell_type": "code",
   "execution_count": 8,
   "id": "6785ca5d",
   "metadata": {},
   "outputs": [
    {
     "name": "stdout",
     "output_type": "stream",
     "text": [
      "a = 4\n",
      "a = 3\n",
      "a = 2\n",
      "a = 1\n",
      "Код в блоке else\n"
     ]
    }
   ],
   "source": [
    "a = 4\n",
    "\n",
    "while a > 0:\n",
    "    print(f'a = {a}')\n",
    "    a -= 1\n",
    "else:\n",
    "    print(\"Код в блоке else\")"
   ]
  },
  {
   "cell_type": "markdown",
   "id": "996b7bc0",
   "metadata": {},
   "source": [
    "Оператор else является необязательным. Штатное завершение означает, что условие цикла поменяло свое значение на False и цикл прекратил свою работу. Т.е. прерывание по break является нештатным."
   ]
  }
 ],
 "metadata": {
  "kernelspec": {
   "display_name": "Python 3 (ipykernel)",
   "language": "python",
   "name": "python3"
  },
  "language_info": {
   "codemirror_mode": {
    "name": "ipython",
    "version": 3
   },
   "file_extension": ".py",
   "mimetype": "text/x-python",
   "name": "python",
   "nbconvert_exporter": "python",
   "pygments_lexer": "ipython3",
   "version": "3.9.13"
  }
 },
 "nbformat": 4,
 "nbformat_minor": 5
}

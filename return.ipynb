{
 "cells": [
  {
   "cell_type": "markdown",
   "id": "803aff98",
   "metadata": {},
   "source": [
    "По умолчанию функция возвращает значение None:"
   ]
  },
  {
   "cell_type": "code",
   "execution_count": 14,
   "id": "8a7ce62a",
   "metadata": {},
   "outputs": [],
   "source": [
    "def calcFactorial(num):\n",
    "    if num < 0: return None\n",
    "    res = 1\n",
    "    for i in range(1, num+1):\n",
    "        res *= i"
   ]
  },
  {
   "cell_type": "code",
   "execution_count": 15,
   "id": "a70d6bea",
   "metadata": {},
   "outputs": [
    {
     "name": "stdout",
     "output_type": "stream",
     "text": [
      "None\n"
     ]
    }
   ],
   "source": [
    "a = calcFactorial(5)\n",
    "print(a)"
   ]
  },
  {
   "cell_type": "markdown",
   "id": "abf8fbc6",
   "metadata": {},
   "source": [
    "Для того, чтобы указать функции, какое значение следует возвращать, существует оператор return:"
   ]
  },
  {
   "cell_type": "code",
   "execution_count": 17,
   "id": "6bca89ed",
   "metadata": {},
   "outputs": [],
   "source": [
    "def calcFactorial(num):\n",
    "    if num < 0: return None\n",
    "    res = 1\n",
    "    for i in range(1, num+1):\n",
    "        res *= i\n",
    "    return res"
   ]
  },
  {
   "cell_type": "code",
   "execution_count": 18,
   "id": "087e7a16",
   "metadata": {},
   "outputs": [
    {
     "name": "stdout",
     "output_type": "stream",
     "text": [
      "6\n"
     ]
    }
   ],
   "source": [
    "a = calcFactorial(3)\n",
    "print(a)"
   ]
  },
  {
   "cell_type": "markdown",
   "id": "2a70d1cc",
   "metadata": {},
   "source": [
    "Как только внутри функции встречается оператор return, она заканчивает свою работу:"
   ]
  },
  {
   "cell_type": "code",
   "execution_count": 27,
   "id": "3b45271e",
   "metadata": {},
   "outputs": [],
   "source": [
    "def getSomething():\n",
    "    print(\"First sentence\")\n",
    "    return 10\n",
    "    print(\"Second sentence\")"
   ]
  },
  {
   "cell_type": "code",
   "execution_count": 28,
   "id": "54cf8406",
   "metadata": {},
   "outputs": [
    {
     "name": "stdout",
     "output_type": "stream",
     "text": [
      "First sentence\n",
      "10\n"
     ]
    }
   ],
   "source": [
    "print(getSomething())"
   ]
  },
  {
   "cell_type": "markdown",
   "id": "e8d1092e",
   "metadata": {},
   "source": [
    "И в таком случае все, что будет ниже первого оператора return, не будет выполнено, так как после него функция завершит свою работу."
   ]
  },
  {
   "cell_type": "markdown",
   "id": "95c70021",
   "metadata": {},
   "source": [
    "Если нужно вернуть два значение - это можно сделать с помощью кортежа:"
   ]
  },
  {
   "cell_type": "code",
   "execution_count": 29,
   "id": "735767b1",
   "metadata": {},
   "outputs": [],
   "source": [
    "def getSomething():\n",
    "    return 2, 3"
   ]
  },
  {
   "cell_type": "code",
   "execution_count": 30,
   "id": "d07c091b",
   "metadata": {},
   "outputs": [
    {
     "name": "stdout",
     "output_type": "stream",
     "text": [
      "2 3\n"
     ]
    }
   ],
   "source": [
    "x, y = getSomething()\n",
    "print(x, y)"
   ]
  },
  {
   "cell_type": "markdown",
   "id": "c78743b6",
   "metadata": {},
   "source": [
    "Пример функции с использованием тернарного условного оператора:"
   ]
  },
  {
   "cell_type": "code",
   "execution_count": 44,
   "id": "0044c30b",
   "metadata": {},
   "outputs": [],
   "source": [
    "def getMaxOf2(a, b):\n",
    "    return a if a > b else b"
   ]
  },
  {
   "cell_type": "code",
   "execution_count": 45,
   "id": "9ca1680b",
   "metadata": {
    "scrolled": false
   },
   "outputs": [
    {
     "name": "stdout",
     "output_type": "stream",
     "text": [
      "5\n"
     ]
    }
   ],
   "source": [
    "print(getMaxOf2(2, 5))"
   ]
  },
  {
   "cell_type": "code",
   "execution_count": 46,
   "id": "3204004b",
   "metadata": {},
   "outputs": [
    {
     "name": "stdout",
     "output_type": "stream",
     "text": [
      "8\n"
     ]
    }
   ],
   "source": [
    "n1, n2 = 6, 8\n",
    "print(getMaxOf2(n1, n2))"
   ]
  },
  {
   "cell_type": "markdown",
   "id": "7ce584f8",
   "metadata": {},
   "source": [
    "В качестве аргумента функции можно передать функцию, которая вернет значение, на основе которого продолжатся дальшейшие вычисления:"
   ]
  },
  {
   "cell_type": "code",
   "execution_count": 51,
   "id": "97b562ed",
   "metadata": {},
   "outputs": [
    {
     "name": "stdout",
     "output_type": "stream",
     "text": [
      "9\n"
     ]
    }
   ],
   "source": [
    "n1, n2, n3 = 9, 2, 4\n",
    "print(getMaxOf2(getMaxOf2(n1, n2), n3))"
   ]
  },
  {
   "cell_type": "markdown",
   "id": "f0a71580",
   "metadata": {},
   "source": [
    "Более того, эту функцию можно использовать в теле другой функции:"
   ]
  },
  {
   "cell_type": "code",
   "execution_count": 52,
   "id": "6efa79ec",
   "metadata": {},
   "outputs": [],
   "source": [
    "def getMaxOf3(a, b, c):\n",
    "    return getMaxOf2(getMaxOf2(a, b), c)"
   ]
  },
  {
   "cell_type": "code",
   "execution_count": 50,
   "id": "c80437eb",
   "metadata": {},
   "outputs": [
    {
     "name": "stdout",
     "output_type": "stream",
     "text": [
      "10\n"
     ]
    }
   ],
   "source": [
    "print(getMaxOf3(4, 10, 7))"
   ]
  },
  {
   "cell_type": "markdown",
   "id": "a3dec710",
   "metadata": {},
   "source": [
    "Функции также можно объявлять внутри условных операторов:"
   ]
  },
  {
   "cell_type": "code",
   "execution_count": 57,
   "id": "bea4f68e",
   "metadata": {},
   "outputs": [],
   "source": [
    "perimeter = True\n",
    "\n",
    "if perimeter:\n",
    "    def get_rect(a, b):\n",
    "        return((a + b) * 2)\n",
    "else:\n",
    "    def get_rect(a, b):\n",
    "        return(a * b)"
   ]
  },
  {
   "cell_type": "code",
   "execution_count": 58,
   "id": "c2ce26bf",
   "metadata": {},
   "outputs": [
    {
     "data": {
      "text/plain": [
       "12"
      ]
     },
     "execution_count": 58,
     "metadata": {},
     "output_type": "execute_result"
    }
   ],
   "source": [
    "get_rect(3, 3)"
   ]
  },
  {
   "cell_type": "markdown",
   "id": "83cd6a88",
   "metadata": {},
   "source": [
    "Таким образом, в зависимости от значения переменной perimeter будет объявлена та или иная функция."
   ]
  },
  {
   "cell_type": "markdown",
   "id": "743fe237",
   "metadata": {},
   "source": [
    "Некоторые функции могут возвращать булевые значения. Например, данная функция возвращает True, если число четное, и False, если нечетное:"
   ]
  },
  {
   "cell_type": "code",
   "execution_count": 59,
   "id": "addfe0af",
   "metadata": {},
   "outputs": [],
   "source": [
    "def even(num):\n",
    "    return num % 2 == 0"
   ]
  },
  {
   "cell_type": "markdown",
   "id": "21301f02",
   "metadata": {},
   "source": [
    " И ее можно использовать следующим образом:"
   ]
  },
  {
   "cell_type": "code",
   "execution_count": 60,
   "id": "265a6a4b",
   "metadata": {},
   "outputs": [
    {
     "name": "stdout",
     "output_type": "stream",
     "text": [
      "0\n",
      "2\n",
      "4\n",
      "6\n",
      "8\n",
      "10\n",
      "12\n",
      "14\n",
      "16\n",
      "18\n"
     ]
    }
   ],
   "source": [
    "for i in range(20):\n",
    "    if even(i):\n",
    "        print(i)"
   ]
  },
  {
   "cell_type": "markdown",
   "id": "d1a66766",
   "metadata": {},
   "source": [
    "Таким образом будут выводится только четные числа, так как когда функция возвращает True, отрабатывает функция print внутри тела условного оператора."
   ]
  }
 ],
 "metadata": {
  "kernelspec": {
   "display_name": "Python 3 (ipykernel)",
   "language": "python",
   "name": "python3"
  },
  "language_info": {
   "codemirror_mode": {
    "name": "ipython",
    "version": 3
   },
   "file_extension": ".py",
   "mimetype": "text/x-python",
   "name": "python",
   "nbconvert_exporter": "python",
   "pygments_lexer": "ipython3",
   "version": "3.9.13"
  }
 },
 "nbformat": 4,
 "nbformat_minor": 5
}

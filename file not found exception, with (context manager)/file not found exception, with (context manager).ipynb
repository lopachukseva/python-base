{
 "cells": [
  {
   "cell_type": "markdown",
   "id": "6abb7f1f",
   "metadata": {},
   "source": [
    "Если неверно указать доступ к файлу - возникает ошибка FileNotFoundError, после чего программа досрочно прерывается. Но возможна и ситуация, при которой ранее доступный файл стал недоступен. Поэтому при работе с файлами нужно уметь обрабатывать подобную ошибку (исключение), чтобы программа продолжила работать, даже если файл не будет найден. Для обработки исключений существует специальная группа операторов try/except/finally:"
   ]
  },
  {
   "cell_type": "markdown",
   "id": "aa8ecd1e",
   "metadata": {},
   "source": [
    "try:<br>\n",
    "блок операторов критического кода<br>\n",
    "except:<br>\n",
    "блок операторов обработки исключения<br>\n",
    "finally:<br>\n",
    "блок операторов, которые исполняются всегда, вне зависимости от того, возникло исключение или нет<br>"
   ]
  },
  {
   "cell_type": "markdown",
   "id": "ea0eaa12",
   "metadata": {},
   "source": [
    "Если в блоке try не возникло исключений, блок except не будет запущен:"
   ]
  },
  {
   "cell_type": "code",
   "execution_count": 1,
   "id": "65a2f715",
   "metadata": {},
   "outputs": [
    {
     "name": "stdout",
     "output_type": "stream",
     "text": [
      "first string\n",
      "second string\n",
      "last string\n"
     ]
    }
   ],
   "source": [
    "try:\n",
    "    file = open('file.txt', encoding='utf-8')\n",
    "    s = file.read()\n",
    "    print(s)\n",
    "except FileNotFoundError:\n",
    "    print('Ошибка. Невозможно открыть файл')"
   ]
  },
  {
   "cell_type": "markdown",
   "id": "11146e89",
   "metadata": {},
   "source": [
    "Но если в блоке try возникло исключение, которое описано после ключевого слова except, выполнится блок except. И при этом переход к этому блоку переходит сразу после строки, в которой возникло исключение (т.е. происходит пропуск всех остальных строк в блоке try):"
   ]
  },
  {
   "cell_type": "code",
   "execution_count": 2,
   "id": "791e8436",
   "metadata": {},
   "outputs": [
    {
     "name": "stdout",
     "output_type": "stream",
     "text": [
      "Ошибка. Невозможно открыть файл\n"
     ]
    }
   ],
   "source": [
    "try:\n",
    "    file = open('file1.txt', encoding='utf-8')\n",
    "    s = file.read()\n",
    "    print(s)\n",
    "except FileNotFoundError:\n",
    "    print('Ошибка. Невозможно открыть файл')"
   ]
  },
  {
   "cell_type": "markdown",
   "id": "d2f72f2d",
   "metadata": {},
   "source": [
    "Блоки обработки исключений можно вкладывать друг в друга. К примеру, чтобы обработать исключение, при котором ошибка возникает при чтении файла или выводе его в консоль:"
   ]
  },
  {
   "cell_type": "code",
   "execution_count": 3,
   "id": "10a95f34",
   "metadata": {},
   "outputs": [
    {
     "name": "stdout",
     "output_type": "stream",
     "text": [
      "first string\n",
      "second string\n",
      "last string\n"
     ]
    }
   ],
   "source": [
    "try:\n",
    "    file = open('file.txt', encoding='utf-8')\n",
    "    try:\n",
    "        s = file.read()\n",
    "        print(s)\n",
    "    finally:\n",
    "        file.close()\n",
    "except FileNotFoundError:\n",
    "    print('Ошибка. Невозможно открыть файл')"
   ]
  },
  {
   "cell_type": "markdown",
   "id": "ed3970fb",
   "metadata": {},
   "source": [
    "Также можно записывать несколько блоков except. В данном случае если возникнет исключение, которое отлично от FileNotFoundError, будет выполнен блок кода except без указания конкретной ошибки. Также если ошибка возникнет во вложенном блоке обработки исключений, но блока except там не окажется, ошибка будет обработана на более высоком уровне (так как фактически при возникновении исключения внутри вложенного блока try не будет выполнен внешний блок try, вследствие чего запустится исключение внешнего блока):"
   ]
  },
  {
   "cell_type": "code",
   "execution_count": 4,
   "id": "379c87e7",
   "metadata": {},
   "outputs": [
    {
     "name": "stdout",
     "output_type": "stream",
     "text": [
      "Неизвестная ошибка\n"
     ]
    }
   ],
   "source": [
    "try:\n",
    "    file = open('file.txt', encoding='utf-8')\n",
    "    try:\n",
    "        s = file.read()\n",
    "        int(s) # ошибка - строку нельзя преобразовать в число\n",
    "        print(s)\n",
    "    finally:\n",
    "        file.close()\n",
    "except FileNotFoundError:\n",
    "    print('Ошибка. Невозможно открыть файл')\n",
    "except:\n",
    "    print('Неизвестная ошибка')"
   ]
  },
  {
   "cell_type": "markdown",
   "id": "4c93c008",
   "metadata": {},
   "source": [
    "Блок finally выполняется в любом случае. В данном случае это полезно тем, что файл вне зависимости от возникшей ошибки необходимо закрыть."
   ]
  },
  {
   "cell_type": "markdown",
   "id": "dd72007e",
   "metadata": {},
   "source": [
    "При работе с файлами такую конструкцию можно заменить файловым менеджером контекста with. На практике принято делать именно так."
   ]
  },
  {
   "cell_type": "markdown",
   "id": "094826bb",
   "metadata": {},
   "source": [
    "## Файловый менеджер контекста with"
   ]
  },
  {
   "cell_type": "code",
   "execution_count": 5,
   "id": "43edb651",
   "metadata": {},
   "outputs": [
    {
     "name": "stdout",
     "output_type": "stream",
     "text": [
      "first string\n",
      "second string\n",
      "last string\n"
     ]
    }
   ],
   "source": [
    "with open('file.txt', encoding='utf-8') as file:\n",
    "    s = file.read()\n",
    "    print(s)"
   ]
  },
  {
   "cell_type": "markdown",
   "id": "8584dfb1",
   "metadata": {},
   "source": [
    "Переменная file будет ссылаться на файловый объект в случае, если файл будет успешно открыт. Также вне зависимости от того, что случится во внутреннем блоке кода, менеджер контекста закроет файл автоматически."
   ]
  },
  {
   "cell_type": "markdown",
   "id": "a0c60d7d",
   "metadata": {},
   "source": [
    "Но прочие ошибки (например, как выше - при преобразовании) все равно нужно будет обрабатывать с помощью блока try/except:"
   ]
  },
  {
   "cell_type": "code",
   "execution_count": 6,
   "id": "f5b03c27",
   "metadata": {},
   "outputs": [
    {
     "name": "stdout",
     "output_type": "stream",
     "text": [
      "Ошибка\n"
     ]
    }
   ],
   "source": [
    "try:\n",
    "    with open('file.txt', encoding='utf-8') as file:\n",
    "        s = file.read()\n",
    "        int(s) # ошибка\n",
    "        print(s)\n",
    "except:\n",
    "    print('Ошибка')"
   ]
  },
  {
   "cell_type": "markdown",
   "id": "60f068da",
   "metadata": {},
   "source": [
    "Чтобы убедится, что менеджер контекста закрывает файл при возникновении ошибки внутри, выведем в блоке finally флаг закрытия файла file.closed. Если он возвратит True, значит файл закрыт:"
   ]
  },
  {
   "cell_type": "code",
   "execution_count": 7,
   "id": "8cb36e2c",
   "metadata": {},
   "outputs": [
    {
     "name": "stdout",
     "output_type": "stream",
     "text": [
      "Ошибка\n",
      "True\n"
     ]
    }
   ],
   "source": [
    "try:\n",
    "    with open('file.txt', encoding='utf-8') as file:\n",
    "        s = file.read()\n",
    "        int(s) # ошибка\n",
    "        print(s)\n",
    "except:\n",
    "    print('Ошибка')\n",
    "finally:\n",
    "    print(file.closed)"
   ]
  }
 ],
 "metadata": {
  "kernelspec": {
   "display_name": "Python 3 (ipykernel)",
   "language": "python",
   "name": "python3"
  },
  "language_info": {
   "codemirror_mode": {
    "name": "ipython",
    "version": 3
   },
   "file_extension": ".py",
   "mimetype": "text/x-python",
   "name": "python",
   "nbconvert_exporter": "python",
   "pygments_lexer": "ipython3",
   "version": "3.9.13"
  }
 },
 "nbformat": 4,
 "nbformat_minor": 5
}

{
 "cells": [
  {
   "cell_type": "markdown",
   "id": "4f8b0826",
   "metadata": {},
   "source": [
    "## Вложенные генераторы списков"
   ]
  },
  {
   "cell_type": "markdown",
   "id": "38e10df1",
   "metadata": {},
   "source": [
    "В генераторах списков:"
   ]
  },
  {
   "cell_type": "markdown",
   "id": "de74384d",
   "metadata": {},
   "source": [
    "[<способ формирования значения><br>\n",
    "for <переменная> in <итерируемый объект><br>\n",
    "if <условие><br>\n",
    "]"
   ]
  },
  {
   "cell_type": "markdown",
   "id": "1b32664f",
   "metadata": {},
   "source": [
    "можно прописывать и более сложные конструкции, используя несколько циклов for:"
   ]
  },
  {
   "cell_type": "markdown",
   "id": "68de0294",
   "metadata": {},
   "source": [
    "[<способ формирования значения><br>\n",
    "for <переменная_1> in <итерируемый объект> if <условие><br>\n",
    "for <переменная_2> in <итерируемый объект> if <условие><br>\n",
    "... <br>\n",
    "for <переменная_n> in <итерируемый объект> if <условие><br>\n",
    "]"
   ]
  },
  {
   "cell_type": "markdown",
   "id": "37c87f65",
   "metadata": {},
   "source": [
    "Все циклы for, которые идут после первого цикла for, являются вложенными. После каждого оператора for можно прописывать необязательные условия. "
   ]
  },
  {
   "cell_type": "code",
   "execution_count": 6,
   "id": "558d79e0",
   "metadata": {},
   "outputs": [
    {
     "name": "stdout",
     "output_type": "stream",
     "text": [
      "[(0, 0), (0, 1), (0, 2), (0, 3), (0, 4), (1, 0), (1, 1), (1, 2), (1, 3), (1, 4), (2, 0), (2, 1), (2, 2), (2, 3), (2, 4)]\n"
     ]
    }
   ],
   "source": [
    "a = [(i, j) \n",
    "     for i in range(3) \n",
    "     for j in range(5)]\n",
    "\n",
    "print(a)"
   ]
  },
  {
   "cell_type": "code",
   "execution_count": 9,
   "id": "210cce0a",
   "metadata": {},
   "outputs": [
    {
     "name": "stdout",
     "output_type": "stream",
     "text": [
      "[(0, 1), (0, 2), (0, 4), (0, 5), (0, 7), (0, 8), (2, 1), (2, 2), (2, 4), (2, 5), (2, 7), (2, 8), (4, 1), (4, 2), (4, 4), (4, 5), (4, 7), (4, 8), (6, 1), (6, 2), (6, 4), (6, 5), (6, 7), (6, 8)]\n"
     ]
    }
   ],
   "source": [
    "a = [(i, j) \n",
    "     for i in range(8) if i % 2 == 0\n",
    "     for j in range(9) if j % 3 != 0]\n",
    "\n",
    "print(a)"
   ]
  },
  {
   "cell_type": "code",
   "execution_count": 11,
   "id": "eaa020a7",
   "metadata": {},
   "outputs": [
    {
     "name": "stdout",
     "output_type": "stream",
     "text": [
      "['1 * 1 = 1', '1 * 2 = 2', '2 * 1 = 2', '2 * 2 = 4']\n"
     ]
    }
   ],
   "source": [
    "a = [f\"{i} * {j} = {i*j}\"\n",
    "     for i in range(1, 3)\n",
    "     for j in range(1, 3)]\n",
    "\n",
    "print(a)"
   ]
  },
  {
   "cell_type": "markdown",
   "id": "4bf8fea5",
   "metadata": {},
   "source": [
    "В генераторах списков:"
   ]
  },
  {
   "cell_type": "markdown",
   "id": "14cbe7ec",
   "metadata": {},
   "source": [
    "[<способ формирования значения><br>\n",
    "for <переменная> in <итерируемый объект><br>\n",
    "if <условие><br>\n",
    "]"
   ]
  },
  {
   "cell_type": "markdown",
   "id": "5f488082",
   "metadata": {},
   "source": [
    "в качестве оператора может быть использована любая конструкция языка Python. Если так, то ничего не мешает на место оператора поставить другой генератор списка, и таким образом получить вложенный генератор списка:"
   ]
  },
  {
   "cell_type": "markdown",
   "id": "5a7b4753",
   "metadata": {},
   "source": [
    "[ [генератор списка]<br>\n",
    "for <переменная> in <итерируемый объект><br>\n",
    "if <условие><br>\n",
    "]"
   ]
  },
  {
   "cell_type": "code",
   "execution_count": 14,
   "id": "b71405e6",
   "metadata": {},
   "outputs": [
    {
     "name": "stdout",
     "output_type": "stream",
     "text": [
      "[[0, 1, 2], [0, 1, 2], [0, 1, 2], [0, 1, 2]]\n"
     ]
    }
   ],
   "source": [
    "N, M = 3, 4\n",
    "b = [[a for a in range(N)] for b in range(M)]\n",
    "print(b)"
   ]
  },
  {
   "cell_type": "markdown",
   "id": "c848cf8e",
   "metadata": {},
   "source": [
    "Сначала отрабатывает внешний генератор списка, т.е. переменная b принимает значение 0. Далее при b=0 запускается вложенный генератор списка и отрабатывая, возвращает [0, 1, 2]. И так по кругу, пока внешний генератор не закончит свою работу. "
   ]
  },
  {
   "cell_type": "markdown",
   "id": "b3e395b4",
   "metadata": {},
   "source": [
    "Допустим, существует список с вложенными списками, значения которых необходимо возвести в квадрат:"
   ]
  },
  {
   "cell_type": "code",
   "execution_count": 22,
   "id": "4cf0e45b",
   "metadata": {},
   "outputs": [
    {
     "name": "stdout",
     "output_type": "stream",
     "text": [
      "[[1, 4, 9], [16, 25, 36], [49, 64, 81]]\n"
     ]
    }
   ],
   "source": [
    "A = [[1, 2, 3], [4, 5, 6], [7, 8, 9]]\n",
    "\n",
    "A = [[el ** 2 for el in row] for row in A]\n",
    "\n",
    "print(A)"
   ]
  },
  {
   "cell_type": "markdown",
   "id": "7582936a",
   "metadata": {},
   "source": [
    "Здесь внешний генератор перебирает вложенные списки, а внутренний - элементы во вложенном списке."
   ]
  },
  {
   "cell_type": "markdown",
   "id": "91123867",
   "metadata": {},
   "source": [
    "Отличие от генератора с двумя циклами for состоит в том, что в случае со вложенным генератором возвращается двумерный список, а в случае с двумерным списком - одномерный:"
   ]
  },
  {
   "cell_type": "code",
   "execution_count": 23,
   "id": "6e0b99c6",
   "metadata": {},
   "outputs": [
    {
     "name": "stdout",
     "output_type": "stream",
     "text": [
      "[1, 4, 9, 16, 25, 36, 49, 64, 81]\n"
     ]
    }
   ],
   "source": [
    "B = [[1, 2, 3], [4, 5, 6], [7, 8, 9]]\n",
    "\n",
    "B = [el ** 2\n",
    "    for row in B\n",
    "    for el in row]\n",
    "\n",
    "print(B)"
   ]
  },
  {
   "cell_type": "markdown",
   "id": "fff2779c",
   "metadata": {},
   "source": [
    "Транспонирование матрицы с помощью вложенного генератора списка:"
   ]
  },
  {
   "cell_type": "code",
   "execution_count": 27,
   "id": "20cd4b3f",
   "metadata": {},
   "outputs": [
    {
     "name": "stdout",
     "output_type": "stream",
     "text": [
      "[[1, 4, 7], [2, 5, 8], [3, 6, 9]]\n"
     ]
    }
   ],
   "source": [
    "C = [[1, 2, 3], [4, 5, 6], [7, 8, 9]]\n",
    "\n",
    "C = [[row[i] for row in C] for i in range(len(C))]\n",
    "\n",
    "print(C)"
   ]
  },
  {
   "cell_type": "markdown",
   "id": "77762cae",
   "metadata": {},
   "source": [
    "Второй вариант - когда генератор списка становится на место итерируемого объекта (такое возможно, т.к. генератор списка им является):"
   ]
  },
  {
   "cell_type": "markdown",
   "id": "35a051f4",
   "metadata": {},
   "source": [
    "[<способ формирования значения><br>\n",
    "for <переменная> in [генератор списка]<br>\n",
    "if <условие><br>\n",
    "]"
   ]
  },
  {
   "cell_type": "markdown",
   "id": "14f41fa4",
   "metadata": {},
   "source": [
    "Сначала отрабатывает вложенный генератор списка и генерирует список, и далее - запускается внешний и его цикл for идет по значениям элементов списка, который был ранее сформирован внутренним генератором:"
   ]
  },
  {
   "cell_type": "code",
   "execution_count": 29,
   "id": "ba0bc473",
   "metadata": {
    "scrolled": true
   },
   "outputs": [
    {
     "name": "stdout",
     "output_type": "stream",
     "text": [
      "[1, 4, 9, 16, 25]\n"
     ]
    }
   ],
   "source": [
    "D = [x ** 2 for x in [x + 1 for x in range(5)]]\n",
    "print(D)"
   ]
  }
 ],
 "metadata": {
  "kernelspec": {
   "display_name": "Python 3 (ipykernel)",
   "language": "python",
   "name": "python3"
  },
  "language_info": {
   "codemirror_mode": {
    "name": "ipython",
    "version": 3
   },
   "file_extension": ".py",
   "mimetype": "text/x-python",
   "name": "python",
   "nbconvert_exporter": "python",
   "pygments_lexer": "ipython3",
   "version": "3.9.13"
  }
 },
 "nbformat": 4,
 "nbformat_minor": 5
}

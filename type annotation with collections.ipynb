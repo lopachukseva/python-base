{
 "cells": [
  {
   "cell_type": "markdown",
   "id": "8b509ce4",
   "metadata": {},
   "source": [
    "## Аннотация коллекций"
   ]
  },
  {
   "cell_type": "markdown",
   "id": "4fa6b470",
   "metadata": {},
   "source": [
    "list, tuple, dict, set - типы основных коллекций"
   ]
  },
  {
   "cell_type": "markdown",
   "id": "c7ad7122",
   "metadata": {},
   "source": [
    "В подобной записи сказано, что переменная lst должна ссылаться на список:"
   ]
  },
  {
   "cell_type": "code",
   "execution_count": 1,
   "id": "c16ec16d",
   "metadata": {},
   "outputs": [],
   "source": [
    "lst: list = [1, 2, 3]"
   ]
  },
  {
   "cell_type": "markdown",
   "id": "e58a77ff",
   "metadata": {},
   "source": [
    "Но в ней не сказано, какого типа должны быть элементы этого списка: их элементами могут быть значения любого типа данных."
   ]
  },
  {
   "cell_type": "markdown",
   "id": "48b5c629",
   "metadata": {},
   "source": [
    "Для наложения ограничения на типы элементов коллекции необходимо использовать следующий синтаксис:"
   ]
  },
  {
   "cell_type": "code",
   "execution_count": 2,
   "id": "ac73938e",
   "metadata": {},
   "outputs": [],
   "source": [
    "lst: list[int] = [1, 2, 3]"
   ]
  },
  {
   "cell_type": "markdown",
   "id": "ac706f3c",
   "metadata": {},
   "source": [
    "Такая конструкция работает начиная с версии Python 3.9 и выше. Для версии ниже необходимо импортировать соответствующий тип из модуля typing:"
   ]
  },
  {
   "cell_type": "code",
   "execution_count": 3,
   "id": "9f425ec3",
   "metadata": {},
   "outputs": [],
   "source": [
    "from typing import List, Tuple, Dict, Set"
   ]
  },
  {
   "cell_type": "markdown",
   "id": "ed8c31f7",
   "metadata": {},
   "source": [
    "И вместо базового типа list использовать импортированный - List:"
   ]
  },
  {
   "cell_type": "code",
   "execution_count": 4,
   "id": "17e35ce2",
   "metadata": {},
   "outputs": [],
   "source": [
    "lst: List[int] = [1, 2, 3]"
   ]
  },
  {
   "cell_type": "markdown",
   "id": "8cc359a4",
   "metadata": {},
   "source": [
    "Аналогично и с другими коллекциями, если версия ниже 3.9"
   ]
  },
  {
   "cell_type": "markdown",
   "id": "6d942a0d",
   "metadata": {},
   "source": [
    "У кортежей прописывается тип для каждого элемента:"
   ]
  },
  {
   "cell_type": "code",
   "execution_count": 5,
   "id": "2214d9d9",
   "metadata": {},
   "outputs": [],
   "source": [
    "address: tuple[int, str] = (1, 'word')"
   ]
  },
  {
   "cell_type": "markdown",
   "id": "84d74b95",
   "metadata": {},
   "source": [
    "Для того, чтобы у всех элементов кортежа использовался один тип:"
   ]
  },
  {
   "cell_type": "code",
   "execution_count": 6,
   "id": "29d0eb08",
   "metadata": {},
   "outputs": [],
   "source": [
    "address: tuple[float, ...] = (1.1, 2.4)"
   ]
  },
  {
   "cell_type": "markdown",
   "id": "26818b5f",
   "metadata": {},
   "source": [
    "Для словарей прописываются типы для ключей и значений:"
   ]
  },
  {
   "cell_type": "code",
   "execution_count": 7,
   "id": "c800ba4d",
   "metadata": {},
   "outputs": [],
   "source": [
    "words: dict[str, int] = {'key1': 1, 'key2': 2}"
   ]
  },
  {
   "cell_type": "markdown",
   "id": "305592e8",
   "metadata": {},
   "source": [
    "Для множеств прописывается единый тип для всех значений:"
   ]
  },
  {
   "cell_type": "code",
   "execution_count": 8,
   "id": "3a1d7134",
   "metadata": {},
   "outputs": [],
   "source": [
    "persons: set[str] = {'p1', 'p2', 'p3'}"
   ]
  },
  {
   "cell_type": "markdown",
   "id": "f8d65d2f",
   "metadata": {},
   "source": [
    "Данные способы типизации можно использовать не только для отдельных переменных, но и при объявлении функции:"
   ]
  },
  {
   "cell_type": "code",
   "execution_count": 9,
   "id": "a11fca65",
   "metadata": {},
   "outputs": [],
   "source": [
    "def get_pos(lst: list[int]) -> list[int]:\n",
    "    return list(filter(lambda x: x > 0, lst))"
   ]
  },
  {
   "cell_type": "code",
   "execution_count": 10,
   "id": "7908067d",
   "metadata": {},
   "outputs": [
    {
     "data": {
      "text/plain": [
       "[1, 2, 3]"
      ]
     },
     "execution_count": 10,
     "metadata": {},
     "output_type": "execute_result"
    }
   ],
   "source": [
    "get_pos([-9, 0, 1, 0, 2, 3])"
   ]
  },
  {
   "cell_type": "markdown",
   "id": "e7e7795f",
   "metadata": {},
   "source": [
    "Еще один тип, Callable, используется для аннотации вызываемых объектов. Часто это обычные функции, которые передаются как параметры"
   ]
  },
  {
   "cell_type": "code",
   "execution_count": 11,
   "id": "9e90f602",
   "metadata": {},
   "outputs": [],
   "source": [
    "from typing import Callable"
   ]
  },
  {
   "cell_type": "code",
   "execution_count": 12,
   "id": "823de3c3",
   "metadata": {},
   "outputs": [],
   "source": [
    "def get_values(func: Callable[[int], bool], lst: list[int]=None):\n",
    "    if lst is None:\n",
    "        return []\n",
    "    else: return list(filter(func, lst))"
   ]
  },
  {
   "cell_type": "markdown",
   "id": "3a8838e2",
   "metadata": {},
   "source": [
    "int здесь - тип входящих параметров этой функции, bool - тип возвращаемых"
   ]
  },
  {
   "cell_type": "code",
   "execution_count": 13,
   "id": "3082a616",
   "metadata": {},
   "outputs": [
    {
     "data": {
      "text/plain": [
       "[3, 9, -1, 3, 4.5]"
      ]
     },
     "execution_count": 13,
     "metadata": {},
     "output_type": "execute_result"
    }
   ],
   "source": [
    "get_values(lambda x: type(x) in (int, float), [3, 9, -1, 'word', 3, 4.5])"
   ]
  }
 ],
 "metadata": {
  "kernelspec": {
   "display_name": "Python 3 (ipykernel)",
   "language": "python",
   "name": "python3"
  },
  "language_info": {
   "codemirror_mode": {
    "name": "ipython",
    "version": 3
   },
   "file_extension": ".py",
   "mimetype": "text/x-python",
   "name": "python",
   "nbconvert_exporter": "python",
   "pygments_lexer": "ipython3",
   "version": "3.9.13"
  }
 },
 "nbformat": 4,
 "nbformat_minor": 5
}

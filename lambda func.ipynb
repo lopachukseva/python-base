{
 "cells": [
  {
   "cell_type": "markdown",
   "id": "3ee3eaaa",
   "metadata": {},
   "source": [
    "## Анонимные (lambda) функции"
   ]
  },
  {
   "cell_type": "markdown",
   "id": "6691b873",
   "metadata": {},
   "source": [
    "Синтаксис:<br>\n",
    "\n",
    "lambda param_1, param_2, ... param_n: command"
   ]
  },
  {
   "cell_type": "code",
   "execution_count": 1,
   "id": "5312559d",
   "metadata": {},
   "outputs": [
    {
     "data": {
      "text/plain": [
       "<function __main__.<lambda>(a, b)>"
      ]
     },
     "execution_count": 1,
     "metadata": {},
     "output_type": "execute_result"
    }
   ],
   "source": [
    "lambda a, b: a + b"
   ]
  },
  {
   "cell_type": "code",
   "execution_count": 2,
   "id": "63e854fe",
   "metadata": {},
   "outputs": [],
   "source": [
    "s = lambda a, b: a + b"
   ]
  },
  {
   "cell_type": "code",
   "execution_count": 3,
   "id": "385439e6",
   "metadata": {},
   "outputs": [
    {
     "data": {
      "text/plain": [
       "3"
      ]
     },
     "execution_count": 3,
     "metadata": {},
     "output_type": "execute_result"
    }
   ],
   "source": [
    "s(1, 2)"
   ]
  },
  {
   "cell_type": "markdown",
   "id": "d81b4e13",
   "metadata": {},
   "source": [
    "lambda фукнция автоматически возвращает результат своего действия, т.е. оператор return не требуется"
   ]
  },
  {
   "cell_type": "markdown",
   "id": "36252e72",
   "metadata": {},
   "source": [
    "Главное отличие lambda функции от обычной - она может быть записана как элемент любой конструкции языка Python. Например, списка:"
   ]
  },
  {
   "cell_type": "code",
   "execution_count": 4,
   "id": "43961923",
   "metadata": {},
   "outputs": [],
   "source": [
    "a = [1, 2, 3, lambda: print(\"Hello, lambda\"), 4, 5, 6]"
   ]
  },
  {
   "cell_type": "code",
   "execution_count": 5,
   "id": "17d5a715",
   "metadata": {},
   "outputs": [
    {
     "data": {
      "text/plain": [
       "[1, 2, 3, <function __main__.<lambda>()>, 4, 5, 6]"
      ]
     },
     "execution_count": 5,
     "metadata": {},
     "output_type": "execute_result"
    }
   ],
   "source": [
    "a"
   ]
  },
  {
   "cell_type": "markdown",
   "id": "a12d76b2",
   "metadata": {},
   "source": [
    "В списке была объявлена lambda функция, и список хранит под соответствующим индексом ссылку на нее:"
   ]
  },
  {
   "cell_type": "code",
   "execution_count": 6,
   "id": "aeac497c",
   "metadata": {
    "scrolled": true
   },
   "outputs": [
    {
     "data": {
      "text/plain": [
       "<function __main__.<lambda>()>"
      ]
     },
     "execution_count": 6,
     "metadata": {},
     "output_type": "execute_result"
    }
   ],
   "source": [
    "a[3]"
   ]
  },
  {
   "cell_type": "markdown",
   "id": "7322a7a2",
   "metadata": {},
   "source": [
    "И чтобы ее выполнить:"
   ]
  },
  {
   "cell_type": "code",
   "execution_count": 7,
   "id": "df037238",
   "metadata": {},
   "outputs": [
    {
     "name": "stdout",
     "output_type": "stream",
     "text": [
      "Hello, lambda\n"
     ]
    }
   ],
   "source": [
    "a[3]()"
   ]
  },
  {
   "cell_type": "code",
   "execution_count": 8,
   "id": "75204e20",
   "metadata": {},
   "outputs": [],
   "source": [
    "a = [0, -4, 5, 7, 9, 2, -3]"
   ]
  },
  {
   "cell_type": "markdown",
   "id": "73edad2f",
   "metadata": {},
   "source": [
    "Предоложим, что существует функция, которая принимает некий список, а также фильтр, по которому этот список будет возвращен:"
   ]
  },
  {
   "cell_type": "code",
   "execution_count": 9,
   "id": "3962f983",
   "metadata": {},
   "outputs": [],
   "source": [
    "def getFilter(lst, filter=None):\n",
    "    if filter is None:\n",
    "        return lst\n",
    "    \n",
    "    new_lst = []\n",
    "    \n",
    "    for el in lst:\n",
    "        if filter(el):\n",
    "            new_lst.append(el)\n",
    "            \n",
    "    return new_lst"
   ]
  },
  {
   "cell_type": "markdown",
   "id": "7a8a1b07",
   "metadata": {},
   "source": [
    "Если не передать ей фильтр, то вернется тот же самый список:"
   ]
  },
  {
   "cell_type": "code",
   "execution_count": 10,
   "id": "de34adb2",
   "metadata": {},
   "outputs": [
    {
     "data": {
      "text/plain": [
       "[0, -4, 5, 7, 9, 2, -3]"
      ]
     },
     "execution_count": 10,
     "metadata": {},
     "output_type": "execute_result"
    }
   ],
   "source": [
    "h = getFilter(a)\n",
    "h"
   ]
  },
  {
   "cell_type": "markdown",
   "id": "b2013af0",
   "metadata": {},
   "source": [
    "А если передать ей список в виде lambda функции, то будет выведен список с учетом условия:"
   ]
  },
  {
   "cell_type": "code",
   "execution_count": 13,
   "id": "fe1451a2",
   "metadata": {},
   "outputs": [
    {
     "data": {
      "text/plain": [
       "[5, 7, 9, 2]"
      ]
     },
     "execution_count": 13,
     "metadata": {},
     "output_type": "execute_result"
    }
   ],
   "source": [
    "k = getFilter(a, lambda x: x > 0)\n",
    "k"
   ]
  },
  {
   "cell_type": "markdown",
   "id": "3e36e7c8",
   "metadata": {},
   "source": [
    "Такая функция универсальна. И поменяв фильтр, можно получить другие значения:"
   ]
  },
  {
   "cell_type": "code",
   "execution_count": 14,
   "id": "306cc55e",
   "metadata": {},
   "outputs": [
    {
     "data": {
      "text/plain": [
       "[0, -4, 2]"
      ]
     },
     "execution_count": 14,
     "metadata": {},
     "output_type": "execute_result"
    }
   ],
   "source": [
    "p = getFilter(a, lambda x: x % 2 == 0)\n",
    "p"
   ]
  },
  {
   "cell_type": "markdown",
   "id": "2318e10f",
   "metadata": {},
   "source": [
    "Но у lambda функций есть существенное ограничение: может быть выполненена только одна команда (одна конструкций), и записана она может быть только в одну строку. Также в lambda функциях нельзя использовать оператор присваивания. Внутри можно лишь создавать новый объект на основе входных параметров или глобальных переменных программ."
   ]
  }
 ],
 "metadata": {
  "kernelspec": {
   "display_name": "Python 3 (ipykernel)",
   "language": "python",
   "name": "python3"
  },
  "language_info": {
   "codemirror_mode": {
    "name": "ipython",
    "version": 3
   },
   "file_extension": ".py",
   "mimetype": "text/x-python",
   "name": "python",
   "nbconvert_exporter": "python",
   "pygments_lexer": "ipython3",
   "version": "3.9.13"
  }
 },
 "nbformat": 4,
 "nbformat_minor": 5
}

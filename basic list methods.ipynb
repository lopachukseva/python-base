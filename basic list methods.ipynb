{
 "cells": [
  {
   "cell_type": "code",
   "execution_count": 1,
   "id": "fc290913",
   "metadata": {},
   "outputs": [],
   "source": [
    "a = [1, 83, 4, 7, 2, 9, 23]"
   ]
  },
  {
   "cell_type": "markdown",
   "id": "e70008c6",
   "metadata": {},
   "source": [
    "### append"
   ]
  },
  {
   "cell_type": "markdown",
   "id": "580cbedb",
   "metadata": {},
   "source": [
    "Метод append добавляет элемент в конец списка:"
   ]
  },
  {
   "cell_type": "code",
   "execution_count": 2,
   "id": "c81d9621",
   "metadata": {},
   "outputs": [],
   "source": [
    "a.append(100)"
   ]
  },
  {
   "cell_type": "code",
   "execution_count": 3,
   "id": "7b98c55e",
   "metadata": {},
   "outputs": [],
   "source": [
    "a.append(True)\n",
    "a.append(\"string\")\n",
    "a.append([1, 2, 3])"
   ]
  },
  {
   "cell_type": "markdown",
   "id": "ee409c71",
   "metadata": {},
   "source": [
    "Метод изменяет текущий список, а не возвращает новый:"
   ]
  },
  {
   "cell_type": "code",
   "execution_count": 4,
   "id": "9090ca5d",
   "metadata": {},
   "outputs": [
    {
     "data": {
      "text/plain": [
       "[1, 83, 4, 7, 2, 9, 23, 100, True, 'string', [1, 2, 3]]"
      ]
     },
     "execution_count": 4,
     "metadata": {},
     "output_type": "execute_result"
    }
   ],
   "source": [
    "a"
   ]
  },
  {
   "cell_type": "markdown",
   "id": "ae42c94f",
   "metadata": {},
   "source": [
    "И не может принимать несколько аргументов: только один."
   ]
  },
  {
   "cell_type": "markdown",
   "id": "15933a61",
   "metadata": {},
   "source": [
    "### insert"
   ]
  },
  {
   "cell_type": "markdown",
   "id": "b51ff997",
   "metadata": {},
   "source": [
    "Метод insert позволяет вставлять в список в определенную позицию определенное значение:"
   ]
  },
  {
   "cell_type": "code",
   "execution_count": 5,
   "id": "bf399026",
   "metadata": {},
   "outputs": [
    {
     "data": {
      "text/plain": [
       "[1, 83, 4, -1000, 7, 2, 9, 23, 100, True, 'string', [1, 2, 3]]"
      ]
     },
     "execution_count": 5,
     "metadata": {},
     "output_type": "execute_result"
    }
   ],
   "source": [
    "a.insert(3, -1000)\n",
    "a"
   ]
  },
  {
   "cell_type": "markdown",
   "id": "638c3aff",
   "metadata": {},
   "source": [
    "### remove"
   ]
  },
  {
   "cell_type": "markdown",
   "id": "8293ddde",
   "metadata": {},
   "source": [
    "Метод remove позволяет удалить элемент по его значению. Если элементов с таким значением несколько - будет удален только первый, который встретится. Но следует помнить, что булевые значения приводятся к числовым: в таком случае единица будет означать True, а 0 - False. Именно поэтому в данном примере удалится именно элемент с нулевым индексом со значением 1:"
   ]
  },
  {
   "cell_type": "code",
   "execution_count": 6,
   "id": "a473d866",
   "metadata": {},
   "outputs": [
    {
     "data": {
      "text/plain": [
       "[83, 4, -1000, 7, 2, 9, 23, 100, True, 'string', [1, 2, 3]]"
      ]
     },
     "execution_count": 6,
     "metadata": {},
     "output_type": "execute_result"
    }
   ],
   "source": [
    "a.remove(True)\n",
    "a"
   ]
  },
  {
   "cell_type": "markdown",
   "id": "a7cbf3f0",
   "metadata": {},
   "source": [
    "И только вторым шагом - элемент со значением True:"
   ]
  },
  {
   "cell_type": "code",
   "execution_count": 7,
   "id": "c6f8d27b",
   "metadata": {
    "scrolled": true
   },
   "outputs": [
    {
     "data": {
      "text/plain": [
       "[83, 4, -1000, 7, 2, 9, 23, 100, 'string', [1, 2, 3]]"
      ]
     },
     "execution_count": 7,
     "metadata": {},
     "output_type": "execute_result"
    }
   ],
   "source": [
    "a.remove(True)\n",
    "a"
   ]
  },
  {
   "cell_type": "markdown",
   "id": "683b0473",
   "metadata": {},
   "source": [
    "Если предпринять попытку по удалению несуществующего элемента, будет вызвана ошибка."
   ]
  },
  {
   "cell_type": "markdown",
   "id": "6f558fb8",
   "metadata": {},
   "source": [
    "### pop"
   ]
  },
  {
   "cell_type": "markdown",
   "id": "634e3032",
   "metadata": {},
   "source": [
    "Метод pop, если ему не передать аргумент, удаляет последний элемент списка, и при этом его возвращает:"
   ]
  },
  {
   "cell_type": "code",
   "execution_count": 8,
   "id": "4ffeb8ad",
   "metadata": {
    "scrolled": true
   },
   "outputs": [
    {
     "data": {
      "text/plain": [
       "[1, 2, 3]"
      ]
     },
     "execution_count": 8,
     "metadata": {},
     "output_type": "execute_result"
    }
   ],
   "source": [
    "a.pop()"
   ]
  },
  {
   "cell_type": "markdown",
   "id": "399bedd0",
   "metadata": {},
   "source": [
    "Его можно сохранить в переменную, а затем использовать для каких либо действий."
   ]
  },
  {
   "cell_type": "code",
   "execution_count": 9,
   "id": "a948377d",
   "metadata": {},
   "outputs": [],
   "source": [
    "del_item = a.pop()"
   ]
  },
  {
   "cell_type": "code",
   "execution_count": 10,
   "id": "c021be4b",
   "metadata": {},
   "outputs": [
    {
     "data": {
      "text/plain": [
       "'string'"
      ]
     },
     "execution_count": 10,
     "metadata": {},
     "output_type": "execute_result"
    }
   ],
   "source": [
    "del_item"
   ]
  },
  {
   "cell_type": "code",
   "execution_count": 11,
   "id": "bb6ba355",
   "metadata": {
    "scrolled": true
   },
   "outputs": [
    {
     "data": {
      "text/plain": [
       "[83, 4, -1000, 7, 2, 9, 23, 100]"
      ]
     },
     "execution_count": 11,
     "metadata": {},
     "output_type": "execute_result"
    }
   ],
   "source": [
    "a"
   ]
  },
  {
   "cell_type": "markdown",
   "id": "0cdfb801",
   "metadata": {},
   "source": [
    "Также, если передать в качестве аргумента индекс - будет удален элемент с соответствующим индексом:"
   ]
  },
  {
   "cell_type": "code",
   "execution_count": 12,
   "id": "004154a7",
   "metadata": {},
   "outputs": [
    {
     "data": {
      "text/plain": [
       "83"
      ]
     },
     "execution_count": 12,
     "metadata": {},
     "output_type": "execute_result"
    }
   ],
   "source": [
    "a.pop(0)"
   ]
  },
  {
   "cell_type": "code",
   "execution_count": 13,
   "id": "42510c88",
   "metadata": {},
   "outputs": [
    {
     "data": {
      "text/plain": [
       "[4, -1000, 7, 2, 9, 23, 100]"
      ]
     },
     "execution_count": 13,
     "metadata": {},
     "output_type": "execute_result"
    }
   ],
   "source": [
    "a"
   ]
  },
  {
   "cell_type": "markdown",
   "id": "a181f424",
   "metadata": {},
   "source": [
    "### clear"
   ]
  },
  {
   "cell_type": "markdown",
   "id": "81298e97",
   "metadata": {},
   "source": [
    "Метод clear очищает список (удаляет все элементы, которые он содержит):"
   ]
  },
  {
   "cell_type": "code",
   "execution_count": 14,
   "id": "2a654333",
   "metadata": {},
   "outputs": [
    {
     "data": {
      "text/plain": [
       "[71, 3, 67, 34, 2]"
      ]
     },
     "execution_count": 14,
     "metadata": {},
     "output_type": "execute_result"
    }
   ],
   "source": [
    "b = [71, 3, 67, 34, 2]\n",
    "b"
   ]
  },
  {
   "cell_type": "code",
   "execution_count": 15,
   "id": "e3de807a",
   "metadata": {},
   "outputs": [
    {
     "data": {
      "text/plain": [
       "[]"
      ]
     },
     "execution_count": 15,
     "metadata": {},
     "output_type": "execute_result"
    }
   ],
   "source": [
    "b.clear()\n",
    "b"
   ]
  },
  {
   "cell_type": "markdown",
   "id": "d3e53a50",
   "metadata": {},
   "source": [
    "### copy"
   ]
  },
  {
   "cell_type": "markdown",
   "id": "39b7183d",
   "metadata": {},
   "source": [
    "Метод copy позволяет вернуть копию данного списка:"
   ]
  },
  {
   "cell_type": "code",
   "execution_count": 16,
   "id": "50921cfb",
   "metadata": {},
   "outputs": [
    {
     "data": {
      "text/plain": [
       "[4, -1000, 7, 2, 9, 23, 100]"
      ]
     },
     "execution_count": 16,
     "metadata": {},
     "output_type": "execute_result"
    }
   ],
   "source": [
    "a"
   ]
  },
  {
   "cell_type": "code",
   "execution_count": 17,
   "id": "bde78c7d",
   "metadata": {},
   "outputs": [
    {
     "data": {
      "text/plain": [
       "[4, -1000, 7, 2, 9, 23, 100]"
      ]
     },
     "execution_count": 17,
     "metadata": {},
     "output_type": "execute_result"
    }
   ],
   "source": [
    "c = a.copy()\n",
    "c"
   ]
  },
  {
   "cell_type": "markdown",
   "id": "bcd433de",
   "metadata": {},
   "source": [
    "И это будет именно копия, а не ссылка на существующий список:"
   ]
  },
  {
   "cell_type": "code",
   "execution_count": 18,
   "id": "b707a9e1",
   "metadata": {},
   "outputs": [
    {
     "data": {
      "text/plain": [
       "False"
      ]
     },
     "execution_count": 18,
     "metadata": {},
     "output_type": "execute_result"
    }
   ],
   "source": [
    "id(a) == id(c)"
   ]
  },
  {
   "cell_type": "markdown",
   "id": "4b19c56c",
   "metadata": {},
   "source": [
    "Это еще один способ копирования списков (помимо полного среза и функции list)"
   ]
  },
  {
   "cell_type": "markdown",
   "id": "d437b7c0",
   "metadata": {},
   "source": [
    "### count"
   ]
  },
  {
   "cell_type": "markdown",
   "id": "98bc9038",
   "metadata": {},
   "source": [
    "Метод count возвращает число элементов со значением, которое в него передается:"
   ]
  },
  {
   "cell_type": "code",
   "execution_count": 19,
   "id": "67ca6a2f",
   "metadata": {},
   "outputs": [
    {
     "data": {
      "text/plain": [
       "[4, -1000, 7, 2, 9, 23, 100]"
      ]
     },
     "execution_count": 19,
     "metadata": {},
     "output_type": "execute_result"
    }
   ],
   "source": [
    "a"
   ]
  },
  {
   "cell_type": "code",
   "execution_count": 20,
   "id": "bf5259ee",
   "metadata": {
    "scrolled": true
   },
   "outputs": [
    {
     "data": {
      "text/plain": [
       "1"
      ]
     },
     "execution_count": 20,
     "metadata": {},
     "output_type": "execute_result"
    }
   ],
   "source": [
    "a.count(2)"
   ]
  },
  {
   "cell_type": "code",
   "execution_count": null,
   "id": "50a06f59",
   "metadata": {},
   "outputs": [],
   "source": []
  },
  {
   "cell_type": "code",
   "execution_count": 21,
   "id": "911e80ad",
   "metadata": {},
   "outputs": [],
   "source": [
    "d = [2, 2, 4, -1, 2, 'word', 'word']"
   ]
  },
  {
   "cell_type": "code",
   "execution_count": 22,
   "id": "ed219c5b",
   "metadata": {},
   "outputs": [
    {
     "data": {
      "text/plain": [
       "3"
      ]
     },
     "execution_count": 22,
     "metadata": {},
     "output_type": "execute_result"
    }
   ],
   "source": [
    "d.count(2)"
   ]
  },
  {
   "cell_type": "code",
   "execution_count": 23,
   "id": "fe9b47f4",
   "metadata": {},
   "outputs": [
    {
     "data": {
      "text/plain": [
       "2"
      ]
     },
     "execution_count": 23,
     "metadata": {},
     "output_type": "execute_result"
    }
   ],
   "source": [
    "d.count('word')"
   ]
  },
  {
   "cell_type": "markdown",
   "id": "44cbe99d",
   "metadata": {},
   "source": [
    "### index"
   ]
  },
  {
   "cell_type": "markdown",
   "id": "d1584f9d",
   "metadata": {},
   "source": [
    "Метод index возвращает индекс элемента с определенным значением. Если таких элементов несколько, будет возвращен индекс первого такого элемента:"
   ]
  },
  {
   "cell_type": "code",
   "execution_count": 24,
   "id": "34275217",
   "metadata": {
    "scrolled": true
   },
   "outputs": [
    {
     "data": {
      "text/plain": [
       "5"
      ]
     },
     "execution_count": 24,
     "metadata": {},
     "output_type": "execute_result"
    }
   ],
   "source": [
    "d.index('word')"
   ]
  },
  {
   "cell_type": "markdown",
   "id": "1b4d3e79",
   "metadata": {},
   "source": [
    "Вторым аргументом можно передать стартовое значение для поиска этого элемента (по умолчанию - 0):"
   ]
  },
  {
   "cell_type": "code",
   "execution_count": 25,
   "id": "9df3b916",
   "metadata": {
    "scrolled": true
   },
   "outputs": [
    {
     "data": {
      "text/plain": [
       "6"
      ]
     },
     "execution_count": 25,
     "metadata": {},
     "output_type": "execute_result"
    }
   ],
   "source": [
    "d.index('word', 6)"
   ]
  },
  {
   "cell_type": "markdown",
   "id": "03df456a",
   "metadata": {},
   "source": [
    "Если передать элемент, которого не существует, на выходе будет ошибка"
   ]
  },
  {
   "cell_type": "code",
   "execution_count": 26,
   "id": "f3c53e84",
   "metadata": {},
   "outputs": [],
   "source": [
    "# d.index('yellow', 1)"
   ]
  },
  {
   "cell_type": "code",
   "execution_count": 27,
   "id": "009695a6",
   "metadata": {},
   "outputs": [
    {
     "data": {
      "text/plain": [
       "False"
      ]
     },
     "execution_count": 27,
     "metadata": {},
     "output_type": "execute_result"
    }
   ],
   "source": [
    "\"yellow\" in d"
   ]
  },
  {
   "cell_type": "markdown",
   "id": "ef25ed5a",
   "metadata": {},
   "source": [
    "### reverse"
   ]
  },
  {
   "cell_type": "markdown",
   "id": "78383efe",
   "metadata": {},
   "source": [
    "Метод reverse меняет порядок следования элементов на обратный:"
   ]
  },
  {
   "cell_type": "code",
   "execution_count": 28,
   "id": "ab7a6277",
   "metadata": {},
   "outputs": [
    {
     "data": {
      "text/plain": [
       "[4, -1000, 7, 2, 9, 23, 100]"
      ]
     },
     "execution_count": 28,
     "metadata": {},
     "output_type": "execute_result"
    }
   ],
   "source": [
    "a"
   ]
  },
  {
   "cell_type": "code",
   "execution_count": 29,
   "id": "ce359b53",
   "metadata": {},
   "outputs": [],
   "source": [
    "a.reverse()"
   ]
  },
  {
   "cell_type": "code",
   "execution_count": 30,
   "id": "0b8c5318",
   "metadata": {},
   "outputs": [
    {
     "data": {
      "text/plain": [
       "[100, 23, 9, 2, 7, -1000, 4]"
      ]
     },
     "execution_count": 30,
     "metadata": {},
     "output_type": "execute_result"
    }
   ],
   "source": [
    "a"
   ]
  },
  {
   "cell_type": "code",
   "execution_count": 31,
   "id": "2f6f7aac",
   "metadata": {},
   "outputs": [],
   "source": [
    "a.reverse()"
   ]
  },
  {
   "cell_type": "code",
   "execution_count": 32,
   "id": "1f9aef85",
   "metadata": {},
   "outputs": [
    {
     "data": {
      "text/plain": [
       "[4, -1000, 7, 2, 9, 23, 100]"
      ]
     },
     "execution_count": 32,
     "metadata": {},
     "output_type": "execute_result"
    }
   ],
   "source": [
    "a"
   ]
  },
  {
   "cell_type": "markdown",
   "id": "9c3b0f44",
   "metadata": {},
   "source": [
    "### sort"
   ]
  },
  {
   "cell_type": "markdown",
   "id": "078a2725",
   "metadata": {},
   "source": [
    "Метод sort позволяет выполнять сортировку значений текущего списка по возрастанию:"
   ]
  },
  {
   "cell_type": "code",
   "execution_count": 33,
   "id": "16ae135a",
   "metadata": {},
   "outputs": [],
   "source": [
    "a.sort()"
   ]
  },
  {
   "cell_type": "code",
   "execution_count": 34,
   "id": "7f9d115d",
   "metadata": {},
   "outputs": [
    {
     "data": {
      "text/plain": [
       "[-1000, 2, 4, 7, 9, 23, 100]"
      ]
     },
     "execution_count": 34,
     "metadata": {},
     "output_type": "execute_result"
    }
   ],
   "source": [
    "a"
   ]
  },
  {
   "cell_type": "markdown",
   "id": "28d3f43e",
   "metadata": {},
   "source": [
    "Если передать аргумент reverse со значением True, то сортировка будет проводиться не по возрастанию, а по убыванию:"
   ]
  },
  {
   "cell_type": "code",
   "execution_count": 35,
   "id": "d87cd8e8",
   "metadata": {},
   "outputs": [],
   "source": [
    "a.sort(reverse=True)"
   ]
  },
  {
   "cell_type": "code",
   "execution_count": 36,
   "id": "30b6568a",
   "metadata": {},
   "outputs": [
    {
     "data": {
      "text/plain": [
       "[100, 23, 9, 7, 4, 2, -1000]"
      ]
     },
     "execution_count": 36,
     "metadata": {},
     "output_type": "execute_result"
    }
   ],
   "source": [
    "a"
   ]
  },
  {
   "cell_type": "markdown",
   "id": "8ddb4f62",
   "metadata": {},
   "source": [
    "В отличии от функции sorted, метод sort сразу применяется к текущему списку, а не возвращает новый."
   ]
  }
 ],
 "metadata": {
  "kernelspec": {
   "display_name": "Python 3 (ipykernel)",
   "language": "python",
   "name": "python3"
  },
  "language_info": {
   "codemirror_mode": {
    "name": "ipython",
    "version": 3
   },
   "file_extension": ".py",
   "mimetype": "text/x-python",
   "name": "python",
   "nbconvert_exporter": "python",
   "pygments_lexer": "ipython3",
   "version": "3.9.13"
  }
 },
 "nbformat": 4,
 "nbformat_minor": 5
}

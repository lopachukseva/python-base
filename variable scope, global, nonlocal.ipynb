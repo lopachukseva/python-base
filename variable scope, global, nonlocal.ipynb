{
 "cells": [
  {
   "cell_type": "markdown",
   "id": "8887a77b",
   "metadata": {},
   "source": [
    "## Область видимости переменных"
   ]
  },
  {
   "cell_type": "markdown",
   "id": "b1c65dfc",
   "metadata": {},
   "source": [
    "При создании программы образуется пространство имен. Есть два вида переменных - локальные и глобальные. Глобальные переменные доступны в любом месте программы после их объявления. В том числе в функциях."
   ]
  },
  {
   "cell_type": "markdown",
   "id": "c186e563",
   "metadata": {},
   "source": [
    "Функция создает свое пространство имен. Переменные, которые находятся внутри нее, называются локальными. Локальные переменные существуют только внутри функции, и за пределами этой функции к ним нельзя обратиться. Но в то же время внутри функции можно обратиться к глобальным переменным."
   ]
  },
  {
   "cell_type": "markdown",
   "id": "3bde7205",
   "metadata": {},
   "source": [
    "Когда внутри функции создается локальная переменная с тем же именем, что и глобальная:"
   ]
  },
  {
   "cell_type": "code",
   "execution_count": 1,
   "id": "05a54de7",
   "metadata": {},
   "outputs": [],
   "source": [
    "N = 140\n",
    "\n",
    "def testFunc():\n",
    "    N = 30"
   ]
  },
  {
   "cell_type": "markdown",
   "id": "9b979b2c",
   "metadata": {},
   "source": [
    "То на самом деле не изменяется глобальная переменная, а создается новая переменная в пространстве имен функции с новым значением, а глобальная остается без изменений:"
   ]
  },
  {
   "cell_type": "code",
   "execution_count": 2,
   "id": "097ed024",
   "metadata": {
    "scrolled": false
   },
   "outputs": [
    {
     "name": "stdout",
     "output_type": "stream",
     "text": [
      "140\n",
      "140\n"
     ]
    }
   ],
   "source": [
    "print(N)\n",
    "testFunc()\n",
    "print(N)"
   ]
  },
  {
   "cell_type": "markdown",
   "id": "30a88c74",
   "metadata": {},
   "source": [
    "А внутри самой фунции обращение к какой либо переменной ведется следующим образом: если переменная с таким именем существует в пространстве имен функции (в локальном пространстве), то используется она:"
   ]
  },
  {
   "cell_type": "code",
   "execution_count": 3,
   "id": "27c277fb",
   "metadata": {},
   "outputs": [
    {
     "data": {
      "text/plain": [
       "30"
      ]
     },
     "execution_count": 3,
     "metadata": {},
     "output_type": "execute_result"
    }
   ],
   "source": [
    "N = 140\n",
    "\n",
    "def testFunc():\n",
    "    N = 30\n",
    "    return N\n",
    "\n",
    "testFunc()"
   ]
  },
  {
   "cell_type": "markdown",
   "id": "3f15efbd",
   "metadata": {},
   "source": [
    "Если такой переменной в локальном пространстве не существует, то поиск переходит в глобальное пространство:"
   ]
  },
  {
   "cell_type": "code",
   "execution_count": 4,
   "id": "414318d0",
   "metadata": {},
   "outputs": [
    {
     "data": {
      "text/plain": [
       "140"
      ]
     },
     "execution_count": 4,
     "metadata": {},
     "output_type": "execute_result"
    }
   ],
   "source": [
    "N = 140\n",
    "\n",
    "def testFunc():\n",
    "    return N\n",
    "\n",
    "testFunc()"
   ]
  },
  {
   "cell_type": "markdown",
   "id": "dd52f117",
   "metadata": {},
   "source": [
    "Т.е. поиск переменной ведется сначала в локальной области видимости, а затем - в глобальной. Если в локальной переменная была найдена, то поиск останавливается."
   ]
  },
  {
   "cell_type": "markdown",
   "id": "b87ab1c1",
   "metadata": {},
   "source": [
    "## Ключевые слова global и nonlocal"
   ]
  },
  {
   "cell_type": "markdown",
   "id": "cb1f59e8",
   "metadata": {},
   "source": [
    "Для того, чтобы в локальной области использовать переменную из глобальной, необходимо воспользоваться ключевым словом global:"
   ]
  },
  {
   "cell_type": "code",
   "execution_count": 5,
   "id": "a936a7c1",
   "metadata": {},
   "outputs": [],
   "source": [
    "N = 140\n",
    "\n",
    "def testFunc():\n",
    "    global N\n",
    "    N = 30"
   ]
  },
  {
   "cell_type": "code",
   "execution_count": 6,
   "id": "b04dd50d",
   "metadata": {},
   "outputs": [
    {
     "name": "stdout",
     "output_type": "stream",
     "text": [
      "140\n",
      "30\n"
     ]
    }
   ],
   "source": [
    "print(N)\n",
    "testFunc()\n",
    "print(N)"
   ]
  },
  {
   "cell_type": "markdown",
   "id": "108b56bf",
   "metadata": {},
   "source": [
    "Это подскажет функции, что нужно использовать именно глобальную переменную, а не создавать новую в локальной области видимости. Но прописать это ключевое слово нужно до того, как начнется работа с этой переменной."
   ]
  },
  {
   "cell_type": "markdown",
   "id": "60005f39",
   "metadata": {},
   "source": [
    "Также с помощью этого ключевого слова в функции можно объявить глобальную переменную. И таким образом при ее создании она будет доступна не только внутри функции, но и извне:"
   ]
  },
  {
   "cell_type": "code",
   "execution_count": 7,
   "id": "6c6c6c4e",
   "metadata": {},
   "outputs": [],
   "source": [
    "def myFunc():\n",
    "    global M\n",
    "    M = 100"
   ]
  },
  {
   "cell_type": "code",
   "execution_count": 8,
   "id": "11a91e16",
   "metadata": {},
   "outputs": [],
   "source": [
    "myFunc()"
   ]
  },
  {
   "cell_type": "code",
   "execution_count": 9,
   "id": "6d46355e",
   "metadata": {},
   "outputs": [
    {
     "name": "stdout",
     "output_type": "stream",
     "text": [
      "100\n"
     ]
    }
   ],
   "source": [
    "print(M)"
   ]
  },
  {
   "cell_type": "markdown",
   "id": "3b01cfe1",
   "metadata": {},
   "source": [
    "Наглядный пример, как каждая функция берет переменную из своей области видимости:"
   ]
  },
  {
   "cell_type": "code",
   "execution_count": 10,
   "id": "dc04df3f",
   "metadata": {},
   "outputs": [
    {
     "name": "stdout",
     "output_type": "stream",
     "text": [
      "inner: 2\n",
      "outer: 1\n",
      "global: 0\n"
     ]
    }
   ],
   "source": [
    "x = 0\n",
    "\n",
    "def outer():\n",
    "    x = 1\n",
    "    \n",
    "    def inner():\n",
    "        x = 2\n",
    "        print(f\"inner: {x}\")\n",
    "    \n",
    "    inner()\n",
    "    print(f\"outer: {x}\")\n",
    "\n",
    "outer()\n",
    "print(f\"global: {x}\")"
   ]
  },
  {
   "cell_type": "markdown",
   "id": "90e08faa",
   "metadata": {},
   "source": [
    "Но допустим, что необходимо, чтобы функция outer работала не с локальной областью видимости (областью видимости своей функции), а с областью видимости функции, в которую она вложена. Если использовать ключевое слово global, она будет использовать глобальную переменную, а не переменную из фукнции, в которую вложена:"
   ]
  },
  {
   "cell_type": "code",
   "execution_count": 11,
   "id": "413e786f",
   "metadata": {},
   "outputs": [
    {
     "name": "stdout",
     "output_type": "stream",
     "text": [
      "inner: 0\n",
      "outer: 1\n",
      "global: 0\n"
     ]
    }
   ],
   "source": [
    "x = 0\n",
    "\n",
    "def outer():\n",
    "    x = 1\n",
    "    \n",
    "    def inner():\n",
    "        global x\n",
    "        print(f\"inner: {x}\")\n",
    "    \n",
    "    inner()\n",
    "    print(f\"outer: {x}\")\n",
    "\n",
    "outer()\n",
    "print(f\"global: {x}\")"
   ]
  },
  {
   "cell_type": "markdown",
   "id": "604d2033",
   "metadata": {},
   "source": [
    "А используя ключевое слово nonlocal, будет использована переменная, которая находится на один уровень выше - то есть в функции outer:"
   ]
  },
  {
   "cell_type": "code",
   "execution_count": 12,
   "id": "bf5d01ba",
   "metadata": {},
   "outputs": [
    {
     "name": "stdout",
     "output_type": "stream",
     "text": [
      "inner: 1\n",
      "outer: 1\n",
      "global: 0\n"
     ]
    }
   ],
   "source": [
    "x = 0\n",
    "\n",
    "def outer():\n",
    "    x = 1\n",
    "    \n",
    "    def inner():\n",
    "        nonlocal x\n",
    "        print(f\"inner: {x}\")\n",
    "    \n",
    "    inner()\n",
    "    print(f\"outer: {x}\")\n",
    "\n",
    "outer()\n",
    "print(f\"global: {x}\")"
   ]
  },
  {
   "cell_type": "markdown",
   "id": "0560b719",
   "metadata": {},
   "source": [
    "Если же в функции outer нет такой переменной, то поиск поднимется на один уровень выше. Таким образом образуется некая иерархия: функция inner находится в функции outer, а функция outer - в глобальном пространстве. И ключевое слово nonlocal говорит, что необходимо искать не внутри, а снаружи. Поиск будет происходить от центра к краю, и как только переменная будет найдена - поиск закончится. Но писать ключевое слово nonlocal можно только в том пространстве имен, которое ссылается на другое локальное пространство имен. Т.е. в функции outer nonlocal использовать нельзя, так как она ссылается уже на глобальное пространство имен."
   ]
  }
 ],
 "metadata": {
  "kernelspec": {
   "display_name": "Python 3 (ipykernel)",
   "language": "python",
   "name": "python3"
  },
  "language_info": {
   "codemirror_mode": {
    "name": "ipython",
    "version": 3
   },
   "file_extension": ".py",
   "mimetype": "text/x-python",
   "name": "python",
   "nbconvert_exporter": "python",
   "pygments_lexer": "ipython3",
   "version": "3.9.13"
  }
 },
 "nbformat": 4,
 "nbformat_minor": 5
}

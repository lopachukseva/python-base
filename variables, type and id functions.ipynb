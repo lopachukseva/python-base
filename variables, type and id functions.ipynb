{
 "cells": [
  {
   "cell_type": "markdown",
   "id": "13256e64",
   "metadata": {},
   "source": [
    "### Правила наименования переменных: \n",
    "1) Имена следует брать существительными <br>\n",
    "2) Имена должны быть осмысленными и отражать суть данных <br>\n",
    "3) Допустимые символы в именах: первый символ - любая буква латинского алфавита (a-z, A-Z) и символ подчеркивания. В качестве второго и последующего символов еще и цифры 0-9 <br>\n",
    "4) Нельзя использовать keywords"
   ]
  },
  {
   "cell_type": "markdown",
   "id": "20320004",
   "metadata": {},
   "source": [
    "Переменная содержит в себе ссылку на объект:"
   ]
  },
  {
   "cell_type": "code",
   "execution_count": 1,
   "id": "4d6f19c6",
   "metadata": {},
   "outputs": [],
   "source": [
    "a = 6"
   ]
  },
  {
   "cell_type": "markdown",
   "id": "cfbec5eb",
   "metadata": {},
   "source": [
    "Переменная a ссылается на объект типа int со значением 6:"
   ]
  },
  {
   "cell_type": "code",
   "execution_count": 2,
   "id": "371b207b",
   "metadata": {
    "scrolled": true
   },
   "outputs": [
    {
     "data": {
      "text/plain": [
       "6"
      ]
     },
     "execution_count": 2,
     "metadata": {},
     "output_type": "execute_result"
    }
   ],
   "source": [
    "a"
   ]
  },
  {
   "cell_type": "code",
   "execution_count": 3,
   "id": "efea7857",
   "metadata": {
    "scrolled": true
   },
   "outputs": [
    {
     "data": {
      "text/plain": [
       "int"
      ]
     },
     "execution_count": 3,
     "metadata": {},
     "output_type": "execute_result"
    }
   ],
   "source": [
    "type(a)"
   ]
  },
  {
   "cell_type": "markdown",
   "id": "41399895",
   "metadata": {},
   "source": [
    "При присваивании переменной a ссылки на новый объект, старый удаляется (но только в том случае, если в программе на него больше нигде нет ссылок):"
   ]
  },
  {
   "cell_type": "code",
   "execution_count": 4,
   "id": "7875f94c",
   "metadata": {},
   "outputs": [],
   "source": [
    "a=6.8"
   ]
  },
  {
   "cell_type": "markdown",
   "id": "a24d7447",
   "metadata": {},
   "source": [
    "Теперь переменная a ссылается на объект типа float со значением 6.8:"
   ]
  },
  {
   "cell_type": "code",
   "execution_count": 5,
   "id": "e3383525",
   "metadata": {},
   "outputs": [
    {
     "data": {
      "text/plain": [
       "6.8"
      ]
     },
     "execution_count": 5,
     "metadata": {},
     "output_type": "execute_result"
    }
   ],
   "source": [
    "a"
   ]
  },
  {
   "cell_type": "code",
   "execution_count": 6,
   "id": "e133fe3b",
   "metadata": {},
   "outputs": [
    {
     "data": {
      "text/plain": [
       "float"
      ]
     },
     "execution_count": 6,
     "metadata": {},
     "output_type": "execute_result"
    }
   ],
   "source": [
    "type(a)"
   ]
  },
  {
   "cell_type": "markdown",
   "id": "81abadcf",
   "metadata": {},
   "source": [
    "Тип переменной определяется в момент присваивания ей того или иного значения. Это называется динамической типизацией."
   ]
  },
  {
   "cell_type": "markdown",
   "id": "05864335",
   "metadata": {},
   "source": [
    "Если переменной b присвоить переменную a, то они будут ссылаться на один и тот же объект:"
   ]
  },
  {
   "cell_type": "code",
   "execution_count": 7,
   "id": "4f7d0ab0",
   "metadata": {},
   "outputs": [],
   "source": [
    "b = a"
   ]
  },
  {
   "cell_type": "markdown",
   "id": "557d6e4e",
   "metadata": {},
   "source": [
    "Можно убедиться в этом, воспользовавшись функцией id(). Функция id() возвращает идентификатор объекта, на который ссылается указанная переменная:"
   ]
  },
  {
   "cell_type": "code",
   "execution_count": 8,
   "id": "c61fb402",
   "metadata": {},
   "outputs": [
    {
     "data": {
      "text/plain": [
       "1876290855184"
      ]
     },
     "execution_count": 8,
     "metadata": {},
     "output_type": "execute_result"
    }
   ],
   "source": [
    "id(a)"
   ]
  },
  {
   "cell_type": "code",
   "execution_count": 9,
   "id": "ad4bfe89",
   "metadata": {},
   "outputs": [
    {
     "data": {
      "text/plain": [
       "1876290855184"
      ]
     },
     "execution_count": 9,
     "metadata": {},
     "output_type": "execute_result"
    }
   ],
   "source": [
    "id(b)"
   ]
  },
  {
   "cell_type": "markdown",
   "id": "a2f3a04c",
   "metadata": {},
   "source": [
    "Множественное присваивание:"
   ]
  },
  {
   "cell_type": "code",
   "execution_count": 10,
   "id": "e4130946",
   "metadata": {},
   "outputs": [],
   "source": [
    "a, b = 1, 2"
   ]
  },
  {
   "cell_type": "markdown",
   "id": "0e688751",
   "metadata": {},
   "source": [
    "Переменная a будет ссылаться на объект типа int со значением 1:"
   ]
  },
  {
   "cell_type": "code",
   "execution_count": 11,
   "id": "c3060e1a",
   "metadata": {},
   "outputs": [
    {
     "data": {
      "text/plain": [
       "(1, int, 1876204218672)"
      ]
     },
     "execution_count": 11,
     "metadata": {},
     "output_type": "execute_result"
    }
   ],
   "source": [
    "a, type(a), id(a)"
   ]
  },
  {
   "cell_type": "markdown",
   "id": "554ce17d",
   "metadata": {},
   "source": [
    "Переменная b будет ссылаться на объект типа int со значением 2:"
   ]
  },
  {
   "cell_type": "code",
   "execution_count": 12,
   "id": "d208b831",
   "metadata": {},
   "outputs": [
    {
     "data": {
      "text/plain": [
       "(2, int, 1876204218704)"
      ]
     },
     "execution_count": 12,
     "metadata": {},
     "output_type": "execute_result"
    }
   ],
   "source": [
    "b, type(b), id(b)"
   ]
  },
  {
   "cell_type": "markdown",
   "id": "d5303b6e",
   "metadata": {},
   "source": [
    "Множественное присваивание полезно, чтобы поменять местами значения переменных a и b, не используя дополнительных переменных:"
   ]
  },
  {
   "cell_type": "code",
   "execution_count": 13,
   "id": "02534ec9",
   "metadata": {},
   "outputs": [],
   "source": [
    "a, b = b, a "
   ]
  },
  {
   "cell_type": "code",
   "execution_count": 14,
   "id": "011d315b",
   "metadata": {},
   "outputs": [
    {
     "data": {
      "text/plain": [
       "(2, 1)"
      ]
     },
     "execution_count": 14,
     "metadata": {},
     "output_type": "execute_result"
    }
   ],
   "source": [
    "a, b"
   ]
  }
 ],
 "metadata": {
  "kernelspec": {
   "display_name": "Python 3 (ipykernel)",
   "language": "python",
   "name": "python3"
  },
  "language_info": {
   "codemirror_mode": {
    "name": "ipython",
    "version": 3
   },
   "file_extension": ".py",
   "mimetype": "text/x-python",
   "name": "python",
   "nbconvert_exporter": "python",
   "pygments_lexer": "ipython3",
   "version": "3.9.12"
  }
 },
 "nbformat": 4,
 "nbformat_minor": 5
}

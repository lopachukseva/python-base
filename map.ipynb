{
 "cells": [
  {
   "cell_type": "markdown",
   "id": "27f2ad57",
   "metadata": {},
   "source": [
    "## Функция map"
   ]
  },
  {
   "cell_type": "markdown",
   "id": "0ecec588",
   "metadata": {},
   "source": [
    "Первым аргументом указывается ссылка на функцию, которая последовательно будет применяться к каждому значению итерируемого объекта, который указывается вторым аргументом."
   ]
  },
  {
   "cell_type": "code",
   "execution_count": 1,
   "id": "db92fdea",
   "metadata": {},
   "outputs": [],
   "source": [
    "b = map(int, ['1', '2', '3', '4'])"
   ]
  },
  {
   "cell_type": "markdown",
   "id": "f009b11c",
   "metadata": {},
   "source": [
    "Функция map возвращает итератор:"
   ]
  },
  {
   "cell_type": "code",
   "execution_count": 2,
   "id": "8486e3bb",
   "metadata": {},
   "outputs": [
    {
     "data": {
      "text/plain": [
       "<map at 0x1add9e33580>"
      ]
     },
     "execution_count": 2,
     "metadata": {},
     "output_type": "execute_result"
    }
   ],
   "source": [
    "b"
   ]
  },
  {
   "cell_type": "markdown",
   "id": "f3fa1ce8",
   "metadata": {},
   "source": [
    "Который можно перебирать с помощью функции next. В деталях это работает так, что при вызове функции next функция map автоматически вызовет функцию int для первого элемента списка - '1':"
   ]
  },
  {
   "cell_type": "code",
   "execution_count": 3,
   "id": "82af4483",
   "metadata": {},
   "outputs": [
    {
     "data": {
      "text/plain": [
       "1"
      ]
     },
     "execution_count": 3,
     "metadata": {},
     "output_type": "execute_result"
    }
   ],
   "source": [
    "next(b)"
   ]
  },
  {
   "cell_type": "code",
   "execution_count": 4,
   "id": "8e5dd60e",
   "metadata": {},
   "outputs": [
    {
     "data": {
      "text/plain": [
       "2"
      ]
     },
     "execution_count": 4,
     "metadata": {},
     "output_type": "execute_result"
    }
   ],
   "source": [
    "next(b)"
   ]
  },
  {
   "cell_type": "code",
   "execution_count": 5,
   "id": "b4d81b68",
   "metadata": {},
   "outputs": [],
   "source": [
    "b = map(int, ['7', '-2', '12', '44'])"
   ]
  },
  {
   "cell_type": "code",
   "execution_count": 6,
   "id": "412d655f",
   "metadata": {},
   "outputs": [
    {
     "name": "stdout",
     "output_type": "stream",
     "text": [
      "7\n",
      "-2\n",
      "12\n",
      "44\n"
     ]
    }
   ],
   "source": [
    "for x in b:\n",
    "    print(x)"
   ]
  },
  {
   "cell_type": "markdown",
   "id": "67ce69fd",
   "metadata": {},
   "source": [
    "То есть функция map последовательно к каждому элементу итерируемого объекта применяет функцию, которая была ей передана."
   ]
  },
  {
   "cell_type": "markdown",
   "id": "98355732",
   "metadata": {},
   "source": [
    "Таким образом, можно из списка со строками:"
   ]
  },
  {
   "cell_type": "code",
   "execution_count": 7,
   "id": "a72c0011",
   "metadata": {},
   "outputs": [],
   "source": [
    "r = ['7', '-2', '12', '44']"
   ]
  },
  {
   "cell_type": "markdown",
   "id": "dd0f39ac",
   "metadata": {},
   "source": [
    "Получить список из чисел:"
   ]
  },
  {
   "cell_type": "code",
   "execution_count": 8,
   "id": "f0e2befe",
   "metadata": {},
   "outputs": [
    {
     "data": {
      "text/plain": [
       "[7, -2, 12, 44]"
      ]
     },
     "execution_count": 8,
     "metadata": {},
     "output_type": "execute_result"
    }
   ],
   "source": [
    "r = list(map(int, r))\n",
    "r"
   ]
  },
  {
   "cell_type": "markdown",
   "id": "edbed644",
   "metadata": {},
   "source": [
    "Функцию map можно представить в виде эквивалентной функции-генератора:"
   ]
  },
  {
   "cell_type": "code",
   "execution_count": 9,
   "id": "3a0c53c1",
   "metadata": {},
   "outputs": [],
   "source": [
    "def generator_function(func, it_obj):\n",
    "    for x in it_obj:\n",
    "        yield func(x)"
   ]
  },
  {
   "cell_type": "markdown",
   "id": "4c99f4a9",
   "metadata": {},
   "source": [
    "И результат работы будет аналогичным:"
   ]
  },
  {
   "cell_type": "code",
   "execution_count": 10,
   "id": "0fa35474",
   "metadata": {},
   "outputs": [
    {
     "data": {
      "text/plain": [
       "[7, -2, 12, 44]"
      ]
     },
     "execution_count": 10,
     "metadata": {},
     "output_type": "execute_result"
    }
   ],
   "source": [
    "d = list(generator_function(int, r))\n",
    "d"
   ]
  },
  {
   "cell_type": "markdown",
   "id": "d19ca86c",
   "metadata": {},
   "source": [
    "Либо в виде эквивалентного генератора:"
   ]
  },
  {
   "cell_type": "code",
   "execution_count": 11,
   "id": "ffa84ff3",
   "metadata": {},
   "outputs": [],
   "source": [
    "f = (int(x) for x in r)"
   ]
  },
  {
   "cell_type": "code",
   "execution_count": 12,
   "id": "a36073ab",
   "metadata": {},
   "outputs": [
    {
     "data": {
      "text/plain": [
       "[7, -2, 12, 44]"
      ]
     },
     "execution_count": 12,
     "metadata": {},
     "output_type": "execute_result"
    }
   ],
   "source": [
    "f = list((int(x) for x in r))\n",
    "f"
   ]
  },
  {
   "cell_type": "markdown",
   "id": "ba023960",
   "metadata": {},
   "source": [
    "То есть фактически функция map возвращает генератор (а генератор является итератором), в котором некоторая функция последовательно применяется к элементам итерируемого объекта."
   ]
  },
  {
   "cell_type": "markdown",
   "id": "26f57cc0",
   "metadata": {},
   "source": [
    "И как со всеми итераторами, пройти по ним можно только один раз. Возможно и применение различных функций, которые принимают на вход итераторы:"
   ]
  },
  {
   "cell_type": "code",
   "execution_count": 13,
   "id": "e5573d12",
   "metadata": {},
   "outputs": [
    {
     "data": {
      "text/plain": [
       "9"
      ]
     },
     "execution_count": 13,
     "metadata": {},
     "output_type": "execute_result"
    }
   ],
   "source": [
    "g = map(int, ['5', '2', '9', '3'])\n",
    "max(g)"
   ]
  },
  {
   "cell_type": "code",
   "execution_count": 14,
   "id": "a7b59dd3",
   "metadata": {},
   "outputs": [
    {
     "data": {
      "text/plain": [
       "19"
      ]
     },
     "execution_count": 14,
     "metadata": {},
     "output_type": "execute_result"
    }
   ],
   "source": [
    "g = map(int, ['5', '2', '9', '3'])\n",
    "sum(g)"
   ]
  },
  {
   "cell_type": "code",
   "execution_count": 15,
   "id": "85dd3448",
   "metadata": {},
   "outputs": [
    {
     "data": {
      "text/plain": [
       "2"
      ]
     },
     "execution_count": 15,
     "metadata": {},
     "output_type": "execute_result"
    }
   ],
   "source": [
    "g = map(int, ['5', '2', '9', '3'])\n",
    "min(g)"
   ]
  },
  {
   "cell_type": "markdown",
   "id": "909c5500",
   "metadata": {},
   "source": [
    "Качестве функции можно указывать любую, которая принимает один аргумент и возвращает некоторое значение. Например, есть список городов:"
   ]
  },
  {
   "cell_type": "code",
   "execution_count": 16,
   "id": "ad02593f",
   "metadata": {},
   "outputs": [],
   "source": [
    "cities = ['Москва', 'Волгоград','Казань','Санкт-Петербург']"
   ]
  },
  {
   "cell_type": "markdown",
   "id": "03f49d3f",
   "metadata": {},
   "source": [
    "Таким образом можно сформировать новый список, где каждый элемент - соответствующая длина названия города из этого списка:"
   ]
  },
  {
   "cell_type": "code",
   "execution_count": 17,
   "id": "2623f8bb",
   "metadata": {},
   "outputs": [
    {
     "data": {
      "text/plain": [
       "[6, 9, 6, 15]"
      ]
     },
     "execution_count": 17,
     "metadata": {},
     "output_type": "execute_result"
    }
   ],
   "source": [
    "cities_n = list(map(len, cities))\n",
    "cities_n"
   ]
  },
  {
   "cell_type": "markdown",
   "id": "47bc55fa",
   "metadata": {},
   "source": [
    "Или записать все названия наоборот:"
   ]
  },
  {
   "cell_type": "code",
   "execution_count": 18,
   "id": "1420b86c",
   "metadata": {},
   "outputs": [
    {
     "data": {
      "text/plain": [
       "['авксоМ', 'даргоглоВ', 'ьназаК', 'грубретеП-ткнаС']"
      ]
     },
     "execution_count": 18,
     "metadata": {},
     "output_type": "execute_result"
    }
   ],
   "source": [
    "cities_n = list(map(lambda x: x[::-1], cities))\n",
    "cities_n"
   ]
  },
  {
   "cell_type": "markdown",
   "id": "dfce44a5",
   "metadata": {},
   "source": [
    "Или есть список, который содержит числа, а нужно получить список булевых значений, где на места положительных чисел - True, а на месте отрицательных False:"
   ]
  },
  {
   "cell_type": "code",
   "execution_count": 19,
   "id": "62f0432d",
   "metadata": {},
   "outputs": [],
   "source": [
    "nums = [0, 3, 2, -6, 3, 4, -2, 4, 3, 4, 0, -2]"
   ]
  },
  {
   "cell_type": "code",
   "execution_count": 20,
   "id": "9687bf15",
   "metadata": {},
   "outputs": [],
   "source": [
    "def isPositive(num):\n",
    "    if num > 0: return True\n",
    "    elif num < 0: return False\n",
    "    else: return num"
   ]
  },
  {
   "cell_type": "code",
   "execution_count": 21,
   "id": "d902df00",
   "metadata": {},
   "outputs": [
    {
     "data": {
      "text/plain": [
       "[0, True, True, False, True, True, False, True, True, True, 0, False]"
      ]
     },
     "execution_count": 21,
     "metadata": {},
     "output_type": "execute_result"
    }
   ],
   "source": [
    "nums_n = list(map(isPositive, nums))\n",
    "nums_n"
   ]
  },
  {
   "cell_type": "markdown",
   "id": "7e58bdb8",
   "metadata": {},
   "source": [
    "Либо же используя функцию map можно считать несколько чисел, введенных в консоль в одну строку:"
   ]
  },
  {
   "cell_type": "code",
   "execution_count": 22,
   "id": "c64717a7",
   "metadata": {},
   "outputs": [
    {
     "name": "stdout",
     "output_type": "stream",
     "text": [
      "Введите два числа: 3 4\n",
      "3 4\n"
     ]
    }
   ],
   "source": [
    "a, b = map(int, input('Введите два числа: ').split())\n",
    "print(a, b)"
   ]
  },
  {
   "cell_type": "code",
   "execution_count": 23,
   "id": "5b176b0d",
   "metadata": {},
   "outputs": [
    {
     "name": "stdout",
     "output_type": "stream",
     "text": [
      "Введите числа через пробел: 5 6 7 8   9\n",
      "[5, 6, 7, 8, 9]\n"
     ]
    }
   ],
   "source": [
    "a = list(map(int, input('Введите числа через пробел: ').split()))\n",
    "print(a)"
   ]
  }
 ],
 "metadata": {
  "kernelspec": {
   "display_name": "Python 3 (ipykernel)",
   "language": "python",
   "name": "python3"
  },
  "language_info": {
   "codemirror_mode": {
    "name": "ipython",
    "version": 3
   },
   "file_extension": ".py",
   "mimetype": "text/x-python",
   "name": "python",
   "nbconvert_exporter": "python",
   "pygments_lexer": "ipython3",
   "version": "3.9.13"
  }
 },
 "nbformat": 4,
 "nbformat_minor": 5
}

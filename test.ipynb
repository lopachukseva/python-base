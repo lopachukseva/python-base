{
 "cells": [
  {
   "cell_type": "code",
   "execution_count": 39,
   "id": "8c08b76b",
   "metadata": {},
   "outputs": [],
   "source": [
    "import math"
   ]
  },
  {
   "cell_type": "code",
   "execution_count": 40,
   "id": "cbaf4287",
   "metadata": {},
   "outputs": [],
   "source": [
    "from functools import wraps"
   ]
  },
  {
   "cell_type": "code",
   "execution_count": 41,
   "id": "dc8671ef",
   "metadata": {},
   "outputs": [],
   "source": [
    "def func_decorator(func):\n",
    "    def wrapper(x):\n",
    "        dx = 0.0001\n",
    "        res = (func(x + dx) - func(x)) / dx\n",
    "        return res\n",
    "    return wrapper"
   ]
  },
  {
   "cell_type": "code",
   "execution_count": 42,
   "id": "30dfdeea",
   "metadata": {},
   "outputs": [],
   "source": [
    "@func_decorator\n",
    "def sin_dx(x):\n",
    "    return math.sin(x)"
   ]
  },
  {
   "cell_type": "code",
   "execution_count": 43,
   "id": "1cc374cc",
   "metadata": {},
   "outputs": [
    {
     "data": {
      "text/plain": [
       "0.4999566978958203"
      ]
     },
     "execution_count": 43,
     "metadata": {},
     "output_type": "execute_result"
    }
   ],
   "source": [
    "sin_dx(math.pi/3)"
   ]
  },
  {
   "cell_type": "code",
   "execution_count": 45,
   "id": "86073776",
   "metadata": {},
   "outputs": [],
   "source": [
    "def dx_decorator(dx):\n",
    "    def func_decorator(func):\n",
    "        def wrapper(x):\n",
    "            res = (func(x + dx) - func(x)) / dx\n",
    "            return res\n",
    "        return wrapper\n",
    "    return func_decorator"
   ]
  },
  {
   "cell_type": "code",
   "execution_count": 48,
   "id": "db80c5e2",
   "metadata": {},
   "outputs": [],
   "source": [
    "@dx_decorator(0.0001)\n",
    "def sin_dx(x):\n",
    "    return math.sin(x)"
   ]
  },
  {
   "cell_type": "code",
   "execution_count": 49,
   "id": "3b5ecf9c",
   "metadata": {},
   "outputs": [
    {
     "data": {
      "text/plain": [
       "0.4999566978958203"
      ]
     },
     "execution_count": 49,
     "metadata": {},
     "output_type": "execute_result"
    }
   ],
   "source": [
    "sin_dx(math.pi/3)"
   ]
  },
  {
   "cell_type": "code",
   "execution_count": 53,
   "id": "72f24dd6",
   "metadata": {
    "scrolled": true
   },
   "outputs": [
    {
     "name": "stdout",
     "output_type": "stream",
     "text": [
      "wrapper\n"
     ]
    }
   ],
   "source": [
    "print(sin_dx.__name__)"
   ]
  },
  {
   "cell_type": "code",
   "execution_count": 54,
   "id": "47cac91f",
   "metadata": {},
   "outputs": [
    {
     "name": "stdout",
     "output_type": "stream",
     "text": [
      "None\n"
     ]
    }
   ],
   "source": [
    "print(sin_dx.__doc__)"
   ]
  },
  {
   "cell_type": "code",
   "execution_count": 62,
   "id": "f736229f",
   "metadata": {},
   "outputs": [],
   "source": [
    "def dx_decorator(dx):\n",
    "    def func_decorator(func):\n",
    "        @wraps(func)\n",
    "        def wrapper(x):\n",
    "            res = (func(x + dx) - func(x)) / dx\n",
    "            return res\n",
    "        return wrapper\n",
    "    return func_decorator"
   ]
  },
  {
   "cell_type": "code",
   "execution_count": 66,
   "id": "bdbf74a7",
   "metadata": {},
   "outputs": [],
   "source": [
    "@dx_decorator(0.0001)\n",
    "def sin_dx(x):\n",
    "    \"\"\"fuction description\"\"\"\n",
    "    return math.sin(x)"
   ]
  },
  {
   "cell_type": "code",
   "execution_count": 67,
   "id": "5b8fb67d",
   "metadata": {},
   "outputs": [
    {
     "name": "stdout",
     "output_type": "stream",
     "text": [
      "sin_dx\n"
     ]
    }
   ],
   "source": [
    "print(sin_dx.__name__)"
   ]
  },
  {
   "cell_type": "code",
   "execution_count": 68,
   "id": "05158d51",
   "metadata": {},
   "outputs": [
    {
     "name": "stdout",
     "output_type": "stream",
     "text": [
      "fuction description\n"
     ]
    }
   ],
   "source": [
    "print(sin_dx.__doc__)"
   ]
  },
  {
   "cell_type": "code",
   "execution_count": null,
   "id": "59a34926",
   "metadata": {},
   "outputs": [],
   "source": []
  },
  {
   "cell_type": "code",
   "execution_count": 10,
   "id": "a1e0f27b",
   "metadata": {},
   "outputs": [],
   "source": [
    "lst = [1, 2, 4, 5, 3, -9, 33, 2, 3]"
   ]
  },
  {
   "cell_type": "code",
   "execution_count": 11,
   "id": "b64dccab",
   "metadata": {},
   "outputs": [],
   "source": [
    "def filter(lst, flt):\n",
    "    res = []\n",
    "    for i in lst:\n",
    "        if flt(i):\n",
    "            res.append(i)\n",
    "    return res"
   ]
  },
  {
   "cell_type": "code",
   "execution_count": 13,
   "id": "5aabbc73",
   "metadata": {},
   "outputs": [
    {
     "data": {
      "text/plain": [
       "[1, 5, 3, -9, 33, 3]"
      ]
     },
     "execution_count": 13,
     "metadata": {},
     "output_type": "execute_result"
    }
   ],
   "source": [
    "filter(lst, lambda x: x % 2 != 0)"
   ]
  },
  {
   "cell_type": "code",
   "execution_count": null,
   "id": "8c8b6bb4",
   "metadata": {},
   "outputs": [],
   "source": []
  },
  {
   "cell_type": "code",
   "execution_count": 1,
   "id": "413bd209",
   "metadata": {},
   "outputs": [],
   "source": [
    "c = 10"
   ]
  },
  {
   "cell_type": "code",
   "execution_count": 4,
   "id": "e8342eb5",
   "metadata": {},
   "outputs": [],
   "source": [
    "a = True if c < 0 else False"
   ]
  },
  {
   "cell_type": "code",
   "execution_count": 5,
   "id": "6291d111",
   "metadata": {},
   "outputs": [
    {
     "data": {
      "text/plain": [
       "False"
      ]
     },
     "execution_count": 5,
     "metadata": {},
     "output_type": "execute_result"
    }
   ],
   "source": [
    "a"
   ]
  },
  {
   "cell_type": "code",
   "execution_count": null,
   "id": "92cf56b1",
   "metadata": {},
   "outputs": [],
   "source": []
  },
  {
   "cell_type": "code",
   "execution_count": null,
   "id": "4756cd47",
   "metadata": {},
   "outputs": [],
   "source": []
  },
  {
   "cell_type": "code",
   "execution_count": 11,
   "id": "d26ee4aa",
   "metadata": {},
   "outputs": [],
   "source": [
    "def testfunc(*args, **kwargs):\n",
    "    print(args, kwargs)"
   ]
  },
  {
   "cell_type": "code",
   "execution_count": 12,
   "id": "8d05c410",
   "metadata": {},
   "outputs": [
    {
     "name": "stdout",
     "output_type": "stream",
     "text": [
      "(1, 7, 'jhg', 7, True) {'s': 45, 'u': 15}\n"
     ]
    }
   ],
   "source": [
    "testfunc(1, 7, \"jhg\", 7, True, s=45, u=15)"
   ]
  },
  {
   "cell_type": "code",
   "execution_count": null,
   "id": "c6b3f69f",
   "metadata": {},
   "outputs": [],
   "source": []
  },
  {
   "cell_type": "code",
   "execution_count": 13,
   "id": "ac32b54c",
   "metadata": {},
   "outputs": [],
   "source": [
    "test_list = [True, \"str value\", 56, (1, 2, 3)]"
   ]
  },
  {
   "cell_type": "code",
   "execution_count": 15,
   "id": "077fac5e",
   "metadata": {},
   "outputs": [
    {
     "name": "stdout",
     "output_type": "stream",
     "text": [
      "Element - True, index - 0\n",
      "Element - str value, index - 1\n",
      "Element - 56, index - 2\n",
      "Element - (1, 2, 3), index - 3\n"
     ]
    }
   ],
   "source": [
    "for i, el in enumerate(test_list):\n",
    "    print(f\"Element - {el}, index - {i}\")"
   ]
  },
  {
   "cell_type": "code",
   "execution_count": null,
   "id": "f13e1055",
   "metadata": {},
   "outputs": [],
   "source": []
  }
 ],
 "metadata": {
  "kernelspec": {
   "display_name": "Python 3 (ipykernel)",
   "language": "python",
   "name": "python3"
  },
  "language_info": {
   "codemirror_mode": {
    "name": "ipython",
    "version": 3
   },
   "file_extension": ".py",
   "mimetype": "text/x-python",
   "name": "python",
   "nbconvert_exporter": "python",
   "pygments_lexer": "ipython3",
   "version": "3.9.13"
  }
 },
 "nbformat": 4,
 "nbformat_minor": 5
}

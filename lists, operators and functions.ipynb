{
 "cells": [
  {
   "cell_type": "markdown",
   "id": "6ae20033",
   "metadata": {},
   "source": [
    "## Список (list)"
   ]
  },
  {
   "cell_type": "markdown",
   "id": "f7478353",
   "metadata": {},
   "source": [
    "Список - упорядоченная коллекция данных. Для задания списка используется следующий синтаксис - ставятся квадратные скобки, а внутри через запятую записываются элементы:"
   ]
  },
  {
   "cell_type": "code",
   "execution_count": 1,
   "id": "a126d130",
   "metadata": {},
   "outputs": [],
   "source": [
    "a = []"
   ]
  },
  {
   "cell_type": "code",
   "execution_count": 2,
   "id": "ebc24713",
   "metadata": {},
   "outputs": [],
   "source": [
    "l = [1, 2, 3] "
   ]
  },
  {
   "cell_type": "code",
   "execution_count": 3,
   "id": "4f380a51",
   "metadata": {},
   "outputs": [],
   "source": [
    "c = [\"Казань\", \"Тверь\", \"Москва\", \"Краснодар\"]"
   ]
  },
  {
   "cell_type": "markdown",
   "id": "d5a98a67",
   "metadata": {},
   "source": [
    "У каждого элемента списка есть свой порядковый номер - индекс. Индексы в списка начинаются с 0. По индексу можно обращаться к любому элементу списка:"
   ]
  },
  {
   "cell_type": "code",
   "execution_count": 4,
   "id": "0bb40bcf",
   "metadata": {},
   "outputs": [
    {
     "data": {
      "text/plain": [
       "'Казань'"
      ]
     },
     "execution_count": 4,
     "metadata": {},
     "output_type": "execute_result"
    }
   ],
   "source": [
    "c[0]"
   ]
  },
  {
   "cell_type": "markdown",
   "id": "73353922",
   "metadata": {},
   "source": [
    "Для обращения к последнему элементу списка можно использовать отрицательный индекс (аналогично, как это происходит со строками):"
   ]
  },
  {
   "cell_type": "code",
   "execution_count": 5,
   "id": "869505bb",
   "metadata": {
    "scrolled": true
   },
   "outputs": [
    {
     "data": {
      "text/plain": [
       "'Краснодар'"
      ]
     },
     "execution_count": 5,
     "metadata": {},
     "output_type": "execute_result"
    }
   ],
   "source": [
    "c[-1]"
   ]
  },
  {
   "cell_type": "markdown",
   "id": "65d1a414",
   "metadata": {},
   "source": [
    "Но в отличие от строк, списки относятся к изменяемым типам данных. Например, элемент с индексом 1, содержащий"
   ]
  },
  {
   "cell_type": "code",
   "execution_count": 6,
   "id": "ec31d7ae",
   "metadata": {},
   "outputs": [
    {
     "data": {
      "text/plain": [
       "'Тверь'"
      ]
     },
     "execution_count": 6,
     "metadata": {},
     "output_type": "execute_result"
    }
   ],
   "source": [
    "c[1]"
   ]
  },
  {
   "cell_type": "markdown",
   "id": "d9e71527",
   "metadata": {},
   "source": [
    "Можно изменить, присвоив другое значение:"
   ]
  },
  {
   "cell_type": "code",
   "execution_count": 7,
   "id": "6e4cc167",
   "metadata": {},
   "outputs": [],
   "source": [
    "c[1] = \"Екатеринбург\""
   ]
  },
  {
   "cell_type": "code",
   "execution_count": 8,
   "id": "2699da05",
   "metadata": {},
   "outputs": [
    {
     "data": {
      "text/plain": [
       "'Екатеринбург'"
      ]
     },
     "execution_count": 8,
     "metadata": {},
     "output_type": "execute_result"
    }
   ],
   "source": [
    "c[1]"
   ]
  },
  {
   "cell_type": "markdown",
   "id": "99cdc59a",
   "metadata": {},
   "source": [
    "Список - динамическая структура данных, которая может меняться в процессе работы программы. Более того, не обязательно, чтобы список состоял из одного типа данных: например в списке, в котором содержатся цифры, могут спокойно находиться и строки:"
   ]
  },
  {
   "cell_type": "code",
   "execution_count": 9,
   "id": "8a815022",
   "metadata": {},
   "outputs": [
    {
     "data": {
      "text/plain": [
       "[1, 2, 3]"
      ]
     },
     "execution_count": 9,
     "metadata": {},
     "output_type": "execute_result"
    }
   ],
   "source": [
    "l"
   ]
  },
  {
   "cell_type": "code",
   "execution_count": 10,
   "id": "35332d26",
   "metadata": {},
   "outputs": [],
   "source": [
    "l[0] = 'word'"
   ]
  },
  {
   "cell_type": "code",
   "execution_count": 11,
   "id": "42a18bbb",
   "metadata": {},
   "outputs": [
    {
     "data": {
      "text/plain": [
       "['word', 2, 3]"
      ]
     },
     "execution_count": 11,
     "metadata": {},
     "output_type": "execute_result"
    }
   ],
   "source": [
    "l"
   ]
  },
  {
   "cell_type": "markdown",
   "id": "02a6d093",
   "metadata": {},
   "source": [
    "А также другие типы данных:"
   ]
  },
  {
   "cell_type": "code",
   "execution_count": 12,
   "id": "e9b81410",
   "metadata": {},
   "outputs": [],
   "source": [
    "p = [\"word\", 4, 1.5, True, False, \"apple\"]"
   ]
  },
  {
   "cell_type": "markdown",
   "id": "f4b23bd4",
   "metadata": {},
   "source": [
    "И даже списки:"
   ]
  },
  {
   "cell_type": "code",
   "execution_count": 13,
   "id": "9077897b",
   "metadata": {},
   "outputs": [],
   "source": [
    "p = [\"word\", 4, 1.5, True, False, [1, 2, 4]]"
   ]
  },
  {
   "cell_type": "code",
   "execution_count": 14,
   "id": "d8e6014b",
   "metadata": {},
   "outputs": [
    {
     "data": {
      "text/plain": [
       "[1, 2, 4]"
      ]
     },
     "execution_count": 14,
     "metadata": {},
     "output_type": "execute_result"
    }
   ],
   "source": [
    "p[-1]"
   ]
  },
  {
   "cell_type": "markdown",
   "id": "810958bc",
   "metadata": {},
   "source": [
    "Главное - элементами списка могут быть любые объекты языка Python"
   ]
  },
  {
   "cell_type": "markdown",
   "id": "350ff188",
   "metadata": {},
   "source": [
    "### Функция list"
   ]
  },
  {
   "cell_type": "markdown",
   "id": "85934d08",
   "metadata": {},
   "source": [
    "Функция list возвращает соответствующий список. Если не передать ей аргументы, то она вернет пустой список:"
   ]
  },
  {
   "cell_type": "code",
   "execution_count": 15,
   "id": "423ba2d3",
   "metadata": {},
   "outputs": [],
   "source": [
    "a = list()"
   ]
  },
  {
   "cell_type": "code",
   "execution_count": 16,
   "id": "efb0336a",
   "metadata": {},
   "outputs": [
    {
     "data": {
      "text/plain": [
       "[]"
      ]
     },
     "execution_count": 16,
     "metadata": {},
     "output_type": "execute_result"
    }
   ],
   "source": [
    "a"
   ]
  },
  {
   "cell_type": "markdown",
   "id": "f92522f1",
   "metadata": {},
   "source": [
    "Если передать какой либо список - она вернет новый список, совершенно независимый от списка, который был передан:"
   ]
  },
  {
   "cell_type": "code",
   "execution_count": 17,
   "id": "66fda08f",
   "metadata": {},
   "outputs": [
    {
     "data": {
      "text/plain": [
       "[True, False]"
      ]
     },
     "execution_count": 17,
     "metadata": {},
     "output_type": "execute_result"
    }
   ],
   "source": [
    "b = list([True, False])\n",
    "b"
   ]
  },
  {
   "cell_type": "markdown",
   "id": "46cef168",
   "metadata": {},
   "source": [
    "Т.е. таким образом можно создавать копии списков."
   ]
  },
  {
   "cell_type": "markdown",
   "id": "5b9479d2",
   "metadata": {},
   "source": [
    "Если передать строку - то на выходе будет список, состоящий из отдельных элементов этой строки:"
   ]
  },
  {
   "cell_type": "code",
   "execution_count": 18,
   "id": "6f299486",
   "metadata": {},
   "outputs": [
    {
     "data": {
      "text/plain": [
       "['p', 'y', 't', 'h', 'o', 'n']"
      ]
     },
     "execution_count": 18,
     "metadata": {},
     "output_type": "execute_result"
    }
   ],
   "source": [
    "c = list(\"python\")\n",
    "c"
   ]
  },
  {
   "cell_type": "markdown",
   "id": "101f4de2",
   "metadata": {},
   "source": [
    "Функция list на основе любого итерируемого объекта формирует список. "
   ]
  },
  {
   "cell_type": "markdown",
   "id": "601bfa2e",
   "metadata": {},
   "source": [
    "### len()"
   ]
  },
  {
   "cell_type": "markdown",
   "id": "b389b8ac",
   "metadata": {},
   "source": [
    "Функция len возвращает количество элементов, которые содержит список:"
   ]
  },
  {
   "cell_type": "code",
   "execution_count": 19,
   "id": "76c47443",
   "metadata": {},
   "outputs": [],
   "source": [
    "d = [1, 4, 6, -7, 4]"
   ]
  },
  {
   "cell_type": "code",
   "execution_count": 20,
   "id": "7e147065",
   "metadata": {},
   "outputs": [
    {
     "data": {
      "text/plain": [
       "5"
      ]
     },
     "execution_count": 20,
     "metadata": {},
     "output_type": "execute_result"
    }
   ],
   "source": [
    "len(d)"
   ]
  },
  {
   "cell_type": "code",
   "execution_count": 21,
   "id": "cc7e75de",
   "metadata": {},
   "outputs": [
    {
     "data": {
      "text/plain": [
       "0"
      ]
     },
     "execution_count": 21,
     "metadata": {},
     "output_type": "execute_result"
    }
   ],
   "source": [
    "len([])"
   ]
  },
  {
   "cell_type": "markdown",
   "id": "e0a347a7",
   "metadata": {},
   "source": [
    "### max()"
   ]
  },
  {
   "cell_type": "markdown",
   "id": "86dd698f",
   "metadata": {},
   "source": [
    "Функция max возвращает максимальный элемент списка:"
   ]
  },
  {
   "cell_type": "code",
   "execution_count": 22,
   "id": "ec83e0ff",
   "metadata": {},
   "outputs": [
    {
     "data": {
      "text/plain": [
       "6"
      ]
     },
     "execution_count": 22,
     "metadata": {},
     "output_type": "execute_result"
    }
   ],
   "source": [
    "max(d)"
   ]
  },
  {
   "cell_type": "markdown",
   "id": "c135a2d7",
   "metadata": {},
   "source": [
    "### min()"
   ]
  },
  {
   "cell_type": "markdown",
   "id": "d6699aa0",
   "metadata": {},
   "source": [
    "Функция min возвращает минимальный элемент списка:"
   ]
  },
  {
   "cell_type": "code",
   "execution_count": 23,
   "id": "37c27925",
   "metadata": {},
   "outputs": [
    {
     "data": {
      "text/plain": [
       "-7"
      ]
     },
     "execution_count": 23,
     "metadata": {},
     "output_type": "execute_result"
    }
   ],
   "source": [
    "min(d)"
   ]
  },
  {
   "cell_type": "markdown",
   "id": "66a5d2a0",
   "metadata": {},
   "source": [
    "### sum()"
   ]
  },
  {
   "cell_type": "markdown",
   "id": "78c6b862",
   "metadata": {},
   "source": [
    "Функция sum возвращает сумму всех элементов списка:"
   ]
  },
  {
   "cell_type": "code",
   "execution_count": 24,
   "id": "13c11d19",
   "metadata": {},
   "outputs": [
    {
     "data": {
      "text/plain": [
       "8"
      ]
     },
     "execution_count": 24,
     "metadata": {},
     "output_type": "execute_result"
    }
   ],
   "source": [
    "sum(d)"
   ]
  },
  {
   "cell_type": "markdown",
   "id": "7f827f6c",
   "metadata": {},
   "source": [
    "### sorted()"
   ]
  },
  {
   "cell_type": "markdown",
   "id": "85146f3d",
   "metadata": {},
   "source": [
    "Функция sorted возвращает новый отсортированный список, основанный на том, что в него передается:"
   ]
  },
  {
   "cell_type": "code",
   "execution_count": 25,
   "id": "3eb036e0",
   "metadata": {},
   "outputs": [
    {
     "data": {
      "text/plain": [
       "[-7, 1, 4, 4, 6]"
      ]
     },
     "execution_count": 25,
     "metadata": {},
     "output_type": "execute_result"
    }
   ],
   "source": [
    "sorted(d)"
   ]
  },
  {
   "cell_type": "markdown",
   "id": "f82cffc4",
   "metadata": {},
   "source": [
    "По умолчанию сортировка происходит по возрастанию. Для сортировки по убыванию необходимо передать в функцию аргумент reverse со значением True:"
   ]
  },
  {
   "cell_type": "code",
   "execution_count": 26,
   "id": "2cb5fc57",
   "metadata": {},
   "outputs": [
    {
     "data": {
      "text/plain": [
       "[6, 4, 4, 1, -7]"
      ]
     },
     "execution_count": 26,
     "metadata": {},
     "output_type": "execute_result"
    }
   ],
   "source": [
    "sorted(d, reverse=True)"
   ]
  },
  {
   "cell_type": "markdown",
   "id": "6da5dc2f",
   "metadata": {},
   "source": [
    "Функции max, min и sorted работают не только с числами, но и с любыми типами данных, которые поддерживают сравнение ><:"
   ]
  },
  {
   "cell_type": "code",
   "execution_count": 27,
   "id": "d9936780",
   "metadata": {},
   "outputs": [
    {
     "data": {
      "text/plain": [
       "['p', 'y', 't', 'h', 'o', 'n']"
      ]
     },
     "execution_count": 27,
     "metadata": {},
     "output_type": "execute_result"
    }
   ],
   "source": [
    "f = list('python')\n",
    "f"
   ]
  },
  {
   "cell_type": "code",
   "execution_count": 28,
   "id": "67cedc8c",
   "metadata": {},
   "outputs": [
    {
     "data": {
      "text/plain": [
       "'y'"
      ]
     },
     "execution_count": 28,
     "metadata": {},
     "output_type": "execute_result"
    }
   ],
   "source": [
    "max(f)"
   ]
  },
  {
   "cell_type": "code",
   "execution_count": 29,
   "id": "b7594a58",
   "metadata": {},
   "outputs": [
    {
     "data": {
      "text/plain": [
       "['h', 'n', 'o', 'p', 't', 'y']"
      ]
     },
     "execution_count": 29,
     "metadata": {},
     "output_type": "execute_result"
    }
   ],
   "source": [
    "sorted(f)"
   ]
  },
  {
   "cell_type": "markdown",
   "id": "c46496bf",
   "metadata": {},
   "source": [
    "### +"
   ]
  },
  {
   "cell_type": "markdown",
   "id": "ca00c418",
   "metadata": {},
   "source": [
    "Соединение двух списков в один:"
   ]
  },
  {
   "cell_type": "code",
   "execution_count": 30,
   "id": "50b6440f",
   "metadata": {},
   "outputs": [
    {
     "data": {
      "text/plain": [
       "[1, 3, 6, True, 4, 'yellow']"
      ]
     },
     "execution_count": 30,
     "metadata": {},
     "output_type": "execute_result"
    }
   ],
   "source": [
    "[1, 3, 6] + [True, 4, \"yellow\"]"
   ]
  },
  {
   "cell_type": "code",
   "execution_count": 31,
   "id": "f730cf26",
   "metadata": {},
   "outputs": [
    {
     "data": {
      "text/plain": [
       "[1, 3, 2, 1]"
      ]
     },
     "execution_count": 31,
     "metadata": {},
     "output_type": "execute_result"
    }
   ],
   "source": [
    "[1, 3, 2] + [1]"
   ]
  },
  {
   "cell_type": "markdown",
   "id": "4c51e348",
   "metadata": {},
   "source": [
    "### *"
   ]
  },
  {
   "cell_type": "markdown",
   "id": "e03140dc",
   "metadata": {},
   "source": [
    "Дублирование списка:"
   ]
  },
  {
   "cell_type": "code",
   "execution_count": 32,
   "id": "27826868",
   "metadata": {},
   "outputs": [
    {
     "data": {
      "text/plain": [
       "[3, 4, 3, 4, 3, 4]"
      ]
     },
     "execution_count": 32,
     "metadata": {},
     "output_type": "execute_result"
    }
   ],
   "source": [
    "[3, 4] * 3"
   ]
  },
  {
   "cell_type": "markdown",
   "id": "f8ca699d",
   "metadata": {},
   "source": [
    "### in"
   ]
  },
  {
   "cell_type": "markdown",
   "id": "65075fda",
   "metadata": {},
   "source": [
    "Проверка вхождения элемента в список:"
   ]
  },
  {
   "cell_type": "code",
   "execution_count": 33,
   "id": "1a6625eb",
   "metadata": {},
   "outputs": [],
   "source": [
    "g = ['yellow', 'black', 7, 8]"
   ]
  },
  {
   "cell_type": "code",
   "execution_count": 34,
   "id": "6c9d59c7",
   "metadata": {},
   "outputs": [
    {
     "data": {
      "text/plain": [
       "True"
      ]
     },
     "execution_count": 34,
     "metadata": {},
     "output_type": "execute_result"
    }
   ],
   "source": [
    "8 in g"
   ]
  },
  {
   "cell_type": "code",
   "execution_count": 35,
   "id": "b8230ee2",
   "metadata": {},
   "outputs": [
    {
     "data": {
      "text/plain": [
       "True"
      ]
     },
     "execution_count": 35,
     "metadata": {},
     "output_type": "execute_result"
    }
   ],
   "source": [
    "'yellow' in g"
   ]
  },
  {
   "cell_type": "code",
   "execution_count": 36,
   "id": "92b95c6c",
   "metadata": {},
   "outputs": [
    {
     "data": {
      "text/plain": [
       "False"
      ]
     },
     "execution_count": 36,
     "metadata": {},
     "output_type": "execute_result"
    }
   ],
   "source": [
    "'white' in g"
   ]
  },
  {
   "cell_type": "markdown",
   "id": "1e662501",
   "metadata": {},
   "source": [
    "### del"
   ]
  },
  {
   "cell_type": "markdown",
   "id": "96be56ed",
   "metadata": {},
   "source": [
    "Удаление элемента списка по индексу:"
   ]
  },
  {
   "cell_type": "code",
   "execution_count": 37,
   "id": "845fe93e",
   "metadata": {},
   "outputs": [
    {
     "data": {
      "text/plain": [
       "['yellow', 'black', 7, 8]"
      ]
     },
     "execution_count": 37,
     "metadata": {},
     "output_type": "execute_result"
    }
   ],
   "source": [
    "g"
   ]
  },
  {
   "cell_type": "code",
   "execution_count": 38,
   "id": "ca891804",
   "metadata": {},
   "outputs": [],
   "source": [
    "del g[0]"
   ]
  },
  {
   "cell_type": "code",
   "execution_count": 39,
   "id": "323fa001",
   "metadata": {},
   "outputs": [
    {
     "data": {
      "text/plain": [
       "['black', 7, 8]"
      ]
     },
     "execution_count": 39,
     "metadata": {},
     "output_type": "execute_result"
    }
   ],
   "source": [
    "g"
   ]
  }
 ],
 "metadata": {
  "kernelspec": {
   "display_name": "Python 3 (ipykernel)",
   "language": "python",
   "name": "python3"
  },
  "language_info": {
   "codemirror_mode": {
    "name": "ipython",
    "version": 3
   },
   "file_extension": ".py",
   "mimetype": "text/x-python",
   "name": "python",
   "nbconvert_exporter": "python",
   "pygments_lexer": "ipython3",
   "version": "3.9.13"
  }
 },
 "nbformat": 4,
 "nbformat_minor": 5
}

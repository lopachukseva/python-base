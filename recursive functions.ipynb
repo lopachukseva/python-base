{
 "cells": [
  {
   "cell_type": "markdown",
   "id": "8ecc2184",
   "metadata": {},
   "source": [
    "Рекурсивная функция - функция, которая в процессе работы вызывает сама себя:"
   ]
  },
  {
   "cell_type": "code",
   "execution_count": 87,
   "id": "ea9cd3d0",
   "metadata": {},
   "outputs": [],
   "source": [
    "def calcFactorial(number):\n",
    "    if not isinstance(number, int): return None\n",
    "    elif number < 0: return None\n",
    "    elif number == 0: return 1\n",
    "    else: return number*(calcFactorial(number-1))"
   ]
  },
  {
   "cell_type": "code",
   "execution_count": 88,
   "id": "b188be88",
   "metadata": {
    "scrolled": false
   },
   "outputs": [
    {
     "data": {
      "text/plain": [
       "24"
      ]
     },
     "execution_count": 88,
     "metadata": {},
     "output_type": "execute_result"
    }
   ],
   "source": [
    "calcFactorial(4)"
   ]
  },
  {
   "cell_type": "markdown",
   "id": "e0411c27",
   "metadata": {},
   "source": [
    "Данная функция возвращает факториал числа, которое попадает в нее в качестве аргумента. Если аргумент меньше нуля или не является числом - функция возвращает None. Если число равно нулю - то единицу. Иначе будет возвращено произведение числа и результата работы функции, вызванной от этого же числа на единицу меньше."
   ]
  },
  {
   "cell_type": "markdown",
   "id": "d325f3b2",
   "metadata": {},
   "source": [
    "Стек вызова функций - порядок вызова различных функций. В нем содержатся функции, которые были вызваны внутри функции. Глубина рекурсии - количество вызванных функций. Глубина не бесконечна, максимум - 997 итераций. Важно не достигать этой глубины и сделать так, чтобы в функции было условие остановки."
   ]
  },
  {
   "cell_type": "markdown",
   "id": "073c3f0a",
   "metadata": {},
   "source": [
    "Сначала выполнение идет вглубь, а после - обратно, и функции поочередно завершают свою работу:"
   ]
  },
  {
   "cell_type": "code",
   "execution_count": 90,
   "id": "919a2734",
   "metadata": {},
   "outputs": [],
   "source": [
    "def recursion(num):\n",
    "    print(num)\n",
    "    if num < 3:\n",
    "        recursion(num + 1)\n",
    "    print(num)"
   ]
  },
  {
   "cell_type": "code",
   "execution_count": 92,
   "id": "cf0ec075",
   "metadata": {},
   "outputs": [
    {
     "name": "stdout",
     "output_type": "stream",
     "text": [
      "1\n",
      "2\n",
      "3\n",
      "3\n",
      "2\n",
      "1\n"
     ]
    }
   ],
   "source": [
    "recursion(1)"
   ]
  },
  {
   "cell_type": "markdown",
   "id": "49828246",
   "metadata": {},
   "source": [
    "На первой итерации print выводит num в консоль, после чего срабатывает условие и запускается та же функция с аргументом num+1. Выполнение функции на этом этапе приостановилось, и вторая print не отрабатывает. Так происходит до тех пор, пока перестанет отрабатывать условие if. Выводится по очереди 1, 2, 3. После запуска последней функции начинает отрабатывать вторая print, но уже с конца: сначала 3, потом 2, потом 1."
   ]
  }
 ],
 "metadata": {
  "kernelspec": {
   "display_name": "Python 3 (ipykernel)",
   "language": "python",
   "name": "python3"
  },
  "language_info": {
   "codemirror_mode": {
    "name": "ipython",
    "version": 3
   },
   "file_extension": ".py",
   "mimetype": "text/x-python",
   "name": "python",
   "nbconvert_exporter": "python",
   "pygments_lexer": "ipython3",
   "version": "3.9.13"
  }
 },
 "nbformat": 4,
 "nbformat_minor": 5
}

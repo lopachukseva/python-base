{
 "cells": [
  {
   "cell_type": "markdown",
   "id": "b2d5d54f",
   "metadata": {},
   "source": [
    "## Типы данных"
   ]
  },
  {
   "cell_type": "markdown",
   "id": "9b0c20b6",
   "metadata": {},
   "source": [
    "Вещественный (целочисленный) тип (int):"
   ]
  },
  {
   "cell_type": "code",
   "execution_count": 1,
   "id": "00b3b4b1",
   "metadata": {
    "scrolled": false
   },
   "outputs": [
    {
     "data": {
      "text/plain": [
       "int"
      ]
     },
     "execution_count": 1,
     "metadata": {},
     "output_type": "execute_result"
    }
   ],
   "source": [
    "a = 10\n",
    "type(a)"
   ]
  },
  {
   "cell_type": "markdown",
   "id": "402389aa",
   "metadata": {},
   "source": [
    "Вещественный (дробный) тип:"
   ]
  },
  {
   "cell_type": "code",
   "execution_count": 2,
   "id": "26dd38ed",
   "metadata": {},
   "outputs": [
    {
     "data": {
      "text/plain": [
       "float"
      ]
     },
     "execution_count": 2,
     "metadata": {},
     "output_type": "execute_result"
    }
   ],
   "source": [
    "b = 2.5\n",
    "type(b)"
   ]
  },
  {
   "cell_type": "markdown",
   "id": "f9e7e3dd",
   "metadata": {},
   "source": [
    "Комплексный тип:"
   ]
  },
  {
   "cell_type": "code",
   "execution_count": 3,
   "id": "69fc59cb",
   "metadata": {},
   "outputs": [
    {
     "data": {
      "text/plain": [
       "complex"
      ]
     },
     "execution_count": 3,
     "metadata": {},
     "output_type": "execute_result"
    }
   ],
   "source": [
    "c = 3 + 7j\n",
    "type(c)"
   ]
  },
  {
   "cell_type": "markdown",
   "id": "8f843ace",
   "metadata": {},
   "source": [
    "## Арифметические операции"
   ]
  },
  {
   "cell_type": "markdown",
   "id": "d889cee2",
   "metadata": {},
   "source": [
    "Сложение:"
   ]
  },
  {
   "cell_type": "code",
   "execution_count": 4,
   "id": "d75efb6d",
   "metadata": {},
   "outputs": [
    {
     "data": {
      "text/plain": [
       "(12.5, float)"
      ]
     },
     "execution_count": 4,
     "metadata": {},
     "output_type": "execute_result"
    }
   ],
   "source": [
    "d1 = a + b\n",
    "d1, type(d1)"
   ]
  },
  {
   "cell_type": "markdown",
   "id": "16bc1f81",
   "metadata": {},
   "source": [
    "Вычитание:"
   ]
  },
  {
   "cell_type": "code",
   "execution_count": 5,
   "id": "35aec9fb",
   "metadata": {},
   "outputs": [
    {
     "data": {
      "text/plain": [
       "(7.5, float)"
      ]
     },
     "execution_count": 5,
     "metadata": {},
     "output_type": "execute_result"
    }
   ],
   "source": [
    "d2 = a - b\n",
    "d2, type(d2)"
   ]
  },
  {
   "cell_type": "markdown",
   "id": "01f26b61",
   "metadata": {},
   "source": [
    "Умножение:"
   ]
  },
  {
   "cell_type": "code",
   "execution_count": 6,
   "id": "7fd9dcbb",
   "metadata": {},
   "outputs": [
    {
     "data": {
      "text/plain": [
       "(25.0, float)"
      ]
     },
     "execution_count": 6,
     "metadata": {},
     "output_type": "execute_result"
    }
   ],
   "source": [
    "d3 = a * b\n",
    "d3, type(d3)"
   ]
  },
  {
   "cell_type": "markdown",
   "id": "32addaf4",
   "metadata": {},
   "source": [
    "Деление:"
   ]
  },
  {
   "cell_type": "code",
   "execution_count": 7,
   "id": "bba959ec",
   "metadata": {
    "scrolled": true
   },
   "outputs": [
    {
     "data": {
      "text/plain": [
       "(3.5, float)"
      ]
     },
     "execution_count": 7,
     "metadata": {},
     "output_type": "execute_result"
    }
   ],
   "source": [
    "d4 = 7 / 2\n",
    "d4, type(d4)"
   ]
  },
  {
   "cell_type": "markdown",
   "id": "4e2a85fa",
   "metadata": {},
   "source": [
    "Деление с округлением к наименьшему целому:"
   ]
  },
  {
   "cell_type": "code",
   "execution_count": 8,
   "id": "bffd863f",
   "metadata": {},
   "outputs": [
    {
     "data": {
      "text/plain": [
       "(3, int)"
      ]
     },
     "execution_count": 8,
     "metadata": {},
     "output_type": "execute_result"
    }
   ],
   "source": [
    "d5 = 7 // 2\n",
    "d5, type(d5)"
   ]
  },
  {
   "cell_type": "markdown",
   "id": "26da55f2",
   "metadata": {},
   "source": [
    "Результат деления всегда является float. В остальных операциях - если один из операндов float, результат также float."
   ]
  },
  {
   "cell_type": "markdown",
   "id": "b5f3bca1",
   "metadata": {},
   "source": [
    "Остаток от деления:"
   ]
  },
  {
   "cell_type": "code",
   "execution_count": 9,
   "id": "b3337cfd",
   "metadata": {},
   "outputs": [
    {
     "data": {
      "text/plain": [
       "(1, int)"
      ]
     },
     "execution_count": 9,
     "metadata": {},
     "output_type": "execute_result"
    }
   ],
   "source": [
    "d6 = a % 3\n",
    "d6, type(d6)"
   ]
  },
  {
   "cell_type": "markdown",
   "id": "e27dd686",
   "metadata": {},
   "source": [
    "Возведение в степень:"
   ]
  },
  {
   "cell_type": "markdown",
   "id": "8434d1dc",
   "metadata": {},
   "source": [
    "dd"
   ]
  },
  {
   "cell_type": "code",
   "execution_count": 10,
   "id": "ccbf8b48",
   "metadata": {},
   "outputs": [
    {
     "data": {
      "text/plain": [
       "(100, int)"
      ]
     },
     "execution_count": 10,
     "metadata": {},
     "output_type": "execute_result"
    }
   ],
   "source": [
    "d7 = a ** 2\n",
    "d7, type(d7)"
   ]
  },
  {
   "cell_type": "code",
   "execution_count": 11,
   "id": "a6c374b6",
   "metadata": {},
   "outputs": [
    {
     "data": {
      "text/plain": [
       "512"
      ]
     },
     "execution_count": 11,
     "metadata": {},
     "output_type": "execute_result"
    }
   ],
   "source": [
    "d8 = 2 ** 3 ** 2\n",
    "d8"
   ]
  },
  {
   "cell_type": "markdown",
   "id": "ac13b417",
   "metadata": {},
   "source": [
    "Операция возведения в степень производится справа-налево. Остальные - слева-направо."
   ]
  },
  {
   "cell_type": "markdown",
   "id": "34ab00b2",
   "metadata": {},
   "source": [
    "Приоритет операции возведения в степень больше, чем у остальных. Поэтому в примере, приведенном ниже, сначала будет выполнена операция возведения в степень числа 27, а затем деление:"
   ]
  },
  {
   "cell_type": "code",
   "execution_count": 12,
   "id": "b83036bc",
   "metadata": {},
   "outputs": [
    {
     "data": {
      "text/plain": [
       "9.0"
      ]
     },
     "execution_count": 12,
     "metadata": {},
     "output_type": "execute_result"
    }
   ],
   "source": [
    "27 ** 1/3"
   ]
  },
  {
   "cell_type": "markdown",
   "id": "96d78d22",
   "metadata": {},
   "source": [
    "Для смены приоритета используются круглые скобки:"
   ]
  },
  {
   "cell_type": "code",
   "execution_count": 13,
   "id": "91b5ff70",
   "metadata": {},
   "outputs": [
    {
     "data": {
      "text/plain": [
       "3.0"
      ]
     },
     "execution_count": 13,
     "metadata": {},
     "output_type": "execute_result"
    }
   ],
   "source": [
    "27 ** (1/3)"
   ]
  },
  {
   "cell_type": "markdown",
   "id": "a165dc53",
   "metadata": {},
   "source": [
    "Стандартные арифметические операции с равным приоритетом выполняются слева-направо. В данном примере сначала выполняется умножение, а затем - деление:"
   ]
  },
  {
   "cell_type": "code",
   "execution_count": 14,
   "id": "0c266392",
   "metadata": {},
   "outputs": [
    {
     "data": {
      "text/plain": [
       "5.0"
      ]
     },
     "execution_count": 14,
     "metadata": {},
     "output_type": "execute_result"
    }
   ],
   "source": [
    "2*10/4"
   ]
  },
  {
   "cell_type": "markdown",
   "id": "af43b682",
   "metadata": {},
   "source": [
    "## Сокращенные операторы"
   ]
  },
  {
   "cell_type": "code",
   "execution_count": 15,
   "id": "26e386a1",
   "metadata": {},
   "outputs": [],
   "source": [
    "i = 1"
   ]
  },
  {
   "cell_type": "code",
   "execution_count": 16,
   "id": "d7accbcb",
   "metadata": {},
   "outputs": [
    {
     "data": {
      "text/plain": [
       "2"
      ]
     },
     "execution_count": 16,
     "metadata": {},
     "output_type": "execute_result"
    }
   ],
   "source": [
    "i = i + 1\n",
    "i"
   ]
  },
  {
   "cell_type": "markdown",
   "id": "4c52f96f",
   "metadata": {},
   "source": [
    "Эквивалентная сокращенная запись:"
   ]
  },
  {
   "cell_type": "code",
   "execution_count": 17,
   "id": "51b91ba6",
   "metadata": {},
   "outputs": [
    {
     "data": {
      "text/plain": [
       "3"
      ]
     },
     "execution_count": 17,
     "metadata": {},
     "output_type": "execute_result"
    }
   ],
   "source": [
    "i += 1\n",
    "i"
   ]
  },
  {
   "cell_type": "markdown",
   "id": "8ba151f3",
   "metadata": {},
   "source": [
    "Такие операторы работают со всеми арифметическими операциями."
   ]
  }
 ],
 "metadata": {
  "kernelspec": {
   "display_name": "Python 3 (ipykernel)",
   "language": "python",
   "name": "python3"
  },
  "language_info": {
   "codemirror_mode": {
    "name": "ipython",
    "version": 3
   },
   "file_extension": ".py",
   "mimetype": "text/x-python",
   "name": "python",
   "nbconvert_exporter": "python",
   "pygments_lexer": "ipython3",
   "version": "3.9.13"
  }
 },
 "nbformat": 4,
 "nbformat_minor": 5
}

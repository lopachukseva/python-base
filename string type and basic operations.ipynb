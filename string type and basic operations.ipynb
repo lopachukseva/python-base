{
 "cells": [
  {
   "cell_type": "markdown",
   "id": "a4f4026c",
   "metadata": {},
   "source": [
    "## Строковый тип"
   ]
  },
  {
   "cell_type": "markdown",
   "id": "98fd3f09",
   "metadata": {},
   "source": [
    "Два способа задания - одинарные и двойные кавычки:"
   ]
  },
  {
   "cell_type": "code",
   "execution_count": 3,
   "id": "8aace21d",
   "metadata": {},
   "outputs": [],
   "source": [
    "s1 = \"Banana\"\n",
    "s2 = 'Banana'"
   ]
  },
  {
   "cell_type": "code",
   "execution_count": 5,
   "id": "3f8d1c4c",
   "metadata": {},
   "outputs": [
    {
     "name": "stdout",
     "output_type": "stream",
     "text": [
      "Banana <class 'str'>\n",
      "Banana <class 'str'>\n"
     ]
    }
   ],
   "source": [
    "print(s1, type(s1))\n",
    "print(s2, type(s2))"
   ]
  },
  {
   "cell_type": "markdown",
   "id": "9d614477",
   "metadata": {},
   "source": [
    " ### Многострочная строка:"
   ]
  },
  {
   "cell_type": "code",
   "execution_count": 6,
   "id": "bf1c3701",
   "metadata": {},
   "outputs": [],
   "source": [
    "text = '''A public platform building the definitive\n",
    "collection of coding questions & answers\n",
    "'''"
   ]
  },
  {
   "cell_type": "markdown",
   "id": "3a822f14",
   "metadata": {},
   "source": [
    "При выводе сохраняется первоначальное форматирование (переносы строк):"
   ]
  },
  {
   "cell_type": "code",
   "execution_count": 7,
   "id": "448da49a",
   "metadata": {},
   "outputs": [
    {
     "name": "stdout",
     "output_type": "stream",
     "text": [
      "A public platform building the definitive\n",
      "collection of coding questions & answers\n",
      " <class 'str'>\n"
     ]
    }
   ],
   "source": [
    "print(text, type(text))"
   ]
  },
  {
   "cell_type": "code",
   "execution_count": 8,
   "id": "9a902e61",
   "metadata": {},
   "outputs": [
    {
     "data": {
      "text/plain": [
       "'A public platform building the definitive\\ncollection of coding questions & answers\\n'"
      ]
     },
     "execution_count": 8,
     "metadata": {},
     "output_type": "execute_result"
    }
   ],
   "source": [
    "text"
   ]
  },
  {
   "cell_type": "markdown",
   "id": "d0b2e4f7",
   "metadata": {},
   "source": [
    "Пустая строка:"
   ]
  },
  {
   "cell_type": "code",
   "execution_count": 11,
   "id": "e51237ba",
   "metadata": {},
   "outputs": [
    {
     "data": {
      "text/plain": [
       "''"
      ]
     },
     "execution_count": 11,
     "metadata": {},
     "output_type": "execute_result"
    }
   ],
   "source": [
    "s3 = \"\"\n",
    "s3"
   ]
  },
  {
   "cell_type": "markdown",
   "id": "e20b803b",
   "metadata": {},
   "source": [
    "Строка, содержащая только один символ - пробел:"
   ]
  },
  {
   "cell_type": "code",
   "execution_count": 12,
   "id": "c641af56",
   "metadata": {},
   "outputs": [
    {
     "data": {
      "text/plain": [
       "' '"
      ]
     },
     "execution_count": 12,
     "metadata": {},
     "output_type": "execute_result"
    }
   ],
   "source": [
    "s4 = \" \"\n",
    "s4"
   ]
  },
  {
   "cell_type": "markdown",
   "id": "2bfe4d08",
   "metadata": {},
   "source": [
    "## Конкатенация"
   ]
  },
  {
   "cell_type": "markdown",
   "id": "6317dc09",
   "metadata": {},
   "source": [
    "Конкатенация - объединение строк:"
   ]
  },
  {
   "cell_type": "code",
   "execution_count": 13,
   "id": "d6f15863",
   "metadata": {},
   "outputs": [],
   "source": [
    "s5 = \"I love\"\n",
    "s6 = \"Python\""
   ]
  },
  {
   "cell_type": "code",
   "execution_count": 14,
   "id": "c0cbcc55",
   "metadata": {},
   "outputs": [
    {
     "data": {
      "text/plain": [
       "'I lovePython'"
      ]
     },
     "execution_count": 14,
     "metadata": {},
     "output_type": "execute_result"
    }
   ],
   "source": [
    "s5 + s6"
   ]
  },
  {
   "cell_type": "code",
   "execution_count": 15,
   "id": "d38d8111",
   "metadata": {},
   "outputs": [
    {
     "name": "stdout",
     "output_type": "stream",
     "text": [
      "I love Python\n"
     ]
    }
   ],
   "source": [
    "print(s5, s6, sep=\" \")"
   ]
  },
  {
   "cell_type": "code",
   "execution_count": 19,
   "id": "3e18fd85",
   "metadata": {},
   "outputs": [
    {
     "name": "stdout",
     "output_type": "stream",
     "text": [
      "I love Python\n"
     ]
    }
   ],
   "source": [
    "print(s5 + \" \" + s6)"
   ]
  },
  {
   "cell_type": "markdown",
   "id": "4ed7bebd",
   "metadata": {},
   "source": [
    "Строки можно соединять только со строками. Для соединения с другими типами данных необходимо преобразовать их в строку:"
   ]
  },
  {
   "cell_type": "code",
   "execution_count": 22,
   "id": "2f224b8f",
   "metadata": {},
   "outputs": [
    {
     "data": {
      "text/plain": [
       "'Python3'"
      ]
     },
     "execution_count": 22,
     "metadata": {},
     "output_type": "execute_result"
    }
   ],
   "source": [
    "# s6 + 3\n",
    "s6 + str(3)"
   ]
  },
  {
   "cell_type": "markdown",
   "id": "9b31b67d",
   "metadata": {},
   "source": [
    "## Преобразование в строку"
   ]
  },
  {
   "cell_type": "markdown",
   "id": "026016ea",
   "metadata": {},
   "source": [
    "Функция str() позволяет аргумент (любого типа) преобразовать в строку:"
   ]
  },
  {
   "cell_type": "code",
   "execution_count": 23,
   "id": "e66384e2",
   "metadata": {},
   "outputs": [
    {
     "data": {
      "text/plain": [
       "'True'"
      ]
     },
     "execution_count": 23,
     "metadata": {},
     "output_type": "execute_result"
    }
   ],
   "source": [
    "str(True)"
   ]
  },
  {
   "cell_type": "code",
   "execution_count": 24,
   "id": "1aa557bb",
   "metadata": {},
   "outputs": [
    {
     "data": {
      "text/plain": [
       "'78'"
      ]
     },
     "execution_count": 24,
     "metadata": {},
     "output_type": "execute_result"
    }
   ],
   "source": [
    "str(78)"
   ]
  },
  {
   "cell_type": "code",
   "execution_count": 25,
   "id": "46645a4c",
   "metadata": {},
   "outputs": [
    {
     "data": {
      "text/plain": [
       "'89.4'"
      ]
     },
     "execution_count": 25,
     "metadata": {},
     "output_type": "execute_result"
    }
   ],
   "source": [
    "str(89.4)"
   ]
  },
  {
   "cell_type": "markdown",
   "id": "231a4f83",
   "metadata": {},
   "source": [
    "## Дублирование строк"
   ]
  },
  {
   "cell_type": "markdown",
   "id": "10ea1b38",
   "metadata": {},
   "source": [
    "Для дублирования строки можно воспользоваться оператором умножения. При этом число должно быть обязательно целым:"
   ]
  },
  {
   "cell_type": "code",
   "execution_count": 27,
   "id": "e4adb59f",
   "metadata": {},
   "outputs": [
    {
     "data": {
      "text/plain": [
       "'hi! hi! hi! hi! hi! '"
      ]
     },
     "execution_count": 27,
     "metadata": {},
     "output_type": "execute_result"
    }
   ],
   "source": [
    "\"hi! \" * 5"
   ]
  },
  {
   "cell_type": "markdown",
   "id": "3f011aad",
   "metadata": {},
   "source": [
    "## Проверка вхождения подстроки в строку"
   ]
  },
  {
   "cell_type": "markdown",
   "id": "5b630ccf",
   "metadata": {},
   "source": [
    "in - оператор для проверки вхождения подстроки в строку:"
   ]
  },
  {
   "cell_type": "code",
   "execution_count": 35,
   "id": "7d9e7023",
   "metadata": {
    "scrolled": true
   },
   "outputs": [
    {
     "data": {
      "text/plain": [
       "True"
      ]
     },
     "execution_count": 35,
     "metadata": {},
     "output_type": "execute_result"
    }
   ],
   "source": [
    "\"ab\" in \"abracadabra\""
   ]
  },
  {
   "cell_type": "code",
   "execution_count": 36,
   "id": "941df86c",
   "metadata": {
    "scrolled": true
   },
   "outputs": [
    {
     "data": {
      "text/plain": [
       "False"
      ]
     },
     "execution_count": 36,
     "metadata": {},
     "output_type": "execute_result"
    }
   ],
   "source": [
    "\"abc\" in \"abracadabra\""
   ]
  },
  {
   "cell_type": "markdown",
   "id": "84fa29f6",
   "metadata": {},
   "source": [
    "## Функция len()\n",
    "Функция len() возвращает длину строки, которая поступила в нее в качестве аргумента:"
   ]
  },
  {
   "cell_type": "code",
   "execution_count": 37,
   "id": "13d476d6",
   "metadata": {},
   "outputs": [
    {
     "data": {
      "text/plain": [
       "5"
      ]
     },
     "execution_count": 37,
     "metadata": {},
     "output_type": "execute_result"
    }
   ],
   "source": [
    "len(\"hello\")"
   ]
  },
  {
   "cell_type": "code",
   "execution_count": 39,
   "id": "dd526cde",
   "metadata": {},
   "outputs": [],
   "source": [
    "s7 = \"Hello\""
   ]
  },
  {
   "cell_type": "code",
   "execution_count": 62,
   "id": "5a8b4dd0",
   "metadata": {},
   "outputs": [
    {
     "data": {
      "text/plain": [
       "5"
      ]
     },
     "execution_count": 62,
     "metadata": {},
     "output_type": "execute_result"
    }
   ],
   "source": [
    "len(s7)"
   ]
  },
  {
   "cell_type": "markdown",
   "id": "ab328004",
   "metadata": {},
   "source": [
    "Функции len() можно передавать как строку, так и строковую переменную."
   ]
  },
  {
   "cell_type": "markdown",
   "id": "db0ec81f",
   "metadata": {},
   "source": [
    "## Сравнение строк"
   ]
  },
  {
   "cell_type": "markdown",
   "id": "ba7a729a",
   "metadata": {},
   "source": [
    "Равны только те строки, которые совпадают посимвольно:"
   ]
  },
  {
   "cell_type": "code",
   "execution_count": 41,
   "id": "b33197bd",
   "metadata": {
    "scrolled": true
   },
   "outputs": [
    {
     "data": {
      "text/plain": [
       "True"
      ]
     },
     "execution_count": 41,
     "metadata": {},
     "output_type": "execute_result"
    }
   ],
   "source": [
    "s7 == \"Hello\""
   ]
  },
  {
   "cell_type": "code",
   "execution_count": 42,
   "id": "8dcbbc39",
   "metadata": {},
   "outputs": [
    {
     "data": {
      "text/plain": [
       "False"
      ]
     },
     "execution_count": 42,
     "metadata": {},
     "output_type": "execute_result"
    }
   ],
   "source": [
    "s7 == \"Hello \""
   ]
  },
  {
   "cell_type": "markdown",
   "id": "d33bed8b",
   "metadata": {},
   "source": [
    "При сравнении учитывается первый символ двух строк. У каждого символа, в зависимости от таблицы кодировки, есть свой уникальный код. Больше та строка, у которой код первого символа имеет большее значение. В случае, если первый символ совпадает - учитывается второй и так далее:"
   ]
  },
  {
   "cell_type": "code",
   "execution_count": 43,
   "id": "f2e8dda6",
   "metadata": {
    "scrolled": true
   },
   "outputs": [
    {
     "data": {
      "text/plain": [
       "False"
      ]
     },
     "execution_count": 43,
     "metadata": {},
     "output_type": "execute_result"
    }
   ],
   "source": [
    "\"Cat\" > \"Cut\""
   ]
  },
  {
   "cell_type": "code",
   "execution_count": 44,
   "id": "644ac164",
   "metadata": {},
   "outputs": [
    {
     "data": {
      "text/plain": [
       "False"
      ]
     },
     "execution_count": 44,
     "metadata": {},
     "output_type": "execute_result"
    }
   ],
   "source": [
    "\"Cat\" > \"Cat\" "
   ]
  },
  {
   "cell_type": "code",
   "execution_count": 45,
   "id": "cbb75f70",
   "metadata": {},
   "outputs": [
    {
     "data": {
      "text/plain": [
       "True"
      ]
     },
     "execution_count": 45,
     "metadata": {},
     "output_type": "execute_result"
    }
   ],
   "source": [
    "\"Cat\" >= \"Cat\""
   ]
  },
  {
   "cell_type": "markdown",
   "id": "be371b4e",
   "metadata": {},
   "source": [
    "Заглавная буква в таблице кодировки имеет меньший номер, чем строчная:"
   ]
  },
  {
   "cell_type": "code",
   "execution_count": 51,
   "id": "3052f45f",
   "metadata": {},
   "outputs": [
    {
     "data": {
      "text/plain": [
       "False"
      ]
     },
     "execution_count": 51,
     "metadata": {},
     "output_type": "execute_result"
    }
   ],
   "source": [
    "\"Cat\" >= \"cat\" "
   ]
  },
  {
   "cell_type": "code",
   "execution_count": 52,
   "id": "7e5bad46",
   "metadata": {
    "scrolled": true
   },
   "outputs": [
    {
     "data": {
      "text/plain": [
       "True"
      ]
     },
     "execution_count": 52,
     "metadata": {},
     "output_type": "execute_result"
    }
   ],
   "source": [
    "\"Cat\" <= \"cat\" "
   ]
  },
  {
   "cell_type": "markdown",
   "id": "e0f7773f",
   "metadata": {},
   "source": [
    "Функция ord принимает в качестве аргумента символ, а возвращает его код в кодировочной таблице:"
   ]
  },
  {
   "cell_type": "code",
   "execution_count": 59,
   "id": "0f47eb4c",
   "metadata": {},
   "outputs": [
    {
     "data": {
      "text/plain": [
       "67"
      ]
     },
     "execution_count": 59,
     "metadata": {},
     "output_type": "execute_result"
    }
   ],
   "source": [
    "ord(\"C\")"
   ]
  },
  {
   "cell_type": "code",
   "execution_count": 61,
   "id": "24a965e7",
   "metadata": {},
   "outputs": [
    {
     "data": {
      "text/plain": [
       "99"
      ]
     },
     "execution_count": 61,
     "metadata": {},
     "output_type": "execute_result"
    }
   ],
   "source": [
    "ord(\"c\")"
   ]
  },
  {
   "cell_type": "markdown",
   "id": "e928b1f7",
   "metadata": {},
   "source": [
    "Если строки совпадают в начале, но одна длиннее второй - то больше та, что имеет большую длину:"
   ]
  },
  {
   "cell_type": "code",
   "execution_count": 53,
   "id": "63d1737f",
   "metadata": {},
   "outputs": [
    {
     "data": {
      "text/plain": [
       "True"
      ]
     },
     "execution_count": 53,
     "metadata": {},
     "output_type": "execute_result"
    }
   ],
   "source": [
    "\"cat!\" > \"cat\" "
   ]
  },
  {
   "cell_type": "code",
   "execution_count": null,
   "id": "9e705142",
   "metadata": {},
   "outputs": [],
   "source": []
  }
 ],
 "metadata": {
  "kernelspec": {
   "display_name": "Python 3 (ipykernel)",
   "language": "python",
   "name": "python3"
  },
  "language_info": {
   "codemirror_mode": {
    "name": "ipython",
    "version": 3
   },
   "file_extension": ".py",
   "mimetype": "text/x-python",
   "name": "python",
   "nbconvert_exporter": "python",
   "pygments_lexer": "ipython3",
   "version": "3.9.13"
  }
 },
 "nbformat": 4,
 "nbformat_minor": 5
}

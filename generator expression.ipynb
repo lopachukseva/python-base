{
 "cells": [
  {
   "cell_type": "markdown",
   "id": "0d8b7715",
   "metadata": {},
   "source": [
    "## Выражения-генераторы"
   ]
  },
  {
   "cell_type": "markdown",
   "id": "401d3090",
   "metadata": {},
   "source": [
    "При создании генератора списков в квадратных скобках описывается некий алгоритм, по которому формируются его значения:"
   ]
  },
  {
   "cell_type": "code",
   "execution_count": 1,
   "id": "bb60d477",
   "metadata": {},
   "outputs": [
    {
     "data": {
      "text/plain": [
       "[1, 2, 3, 4, 5, 6, 7, 8]"
      ]
     },
     "execution_count": 1,
     "metadata": {},
     "output_type": "execute_result"
    }
   ],
   "source": [
    "a = [x for x in range(1, 9)]\n",
    "a"
   ]
  },
  {
   "cell_type": "markdown",
   "id": "c537737b",
   "metadata": {},
   "source": [
    "Аналогично с множествами:"
   ]
  },
  {
   "cell_type": "code",
   "execution_count": 2,
   "id": "33f8b9c3",
   "metadata": {},
   "outputs": [
    {
     "data": {
      "text/plain": [
       "{1, 2, 3, 4, 5, 6, 7, 8}"
      ]
     },
     "execution_count": 2,
     "metadata": {},
     "output_type": "execute_result"
    }
   ],
   "source": [
    "b = {x for x in range (1, 9)}\n",
    "b"
   ]
  },
  {
   "cell_type": "markdown",
   "id": "a3baa40e",
   "metadata": {},
   "source": [
    "И словарями:"
   ]
  },
  {
   "cell_type": "code",
   "execution_count": 3,
   "id": "44f0e94f",
   "metadata": {
    "scrolled": true
   },
   "outputs": [
    {
     "data": {
      "text/plain": [
       "{1: 1, 2: 4, 3: 9, 4: 16, 5: 25, 6: 36, 7: 49, 8: 64}"
      ]
     },
     "execution_count": 3,
     "metadata": {},
     "output_type": "execute_result"
    }
   ],
   "source": [
    "c = {x: x ** 2 for x in range (1, 9)}\n",
    "c"
   ]
  },
  {
   "cell_type": "code",
   "execution_count": 4,
   "id": "1be74c9c",
   "metadata": {},
   "outputs": [
    {
     "data": {
      "text/plain": [
       "{'Квадрат числа 1': 1,\n",
       " 'Квадрат числа 2': 4,\n",
       " 'Квадрат числа 3': 9,\n",
       " 'Квадрат числа 4': 16,\n",
       " 'Квадрат числа 5': 25,\n",
       " 'Квадрат числа 6': 36,\n",
       " 'Квадрат числа 7': 49,\n",
       " 'Квадрат числа 8': 64}"
      ]
     },
     "execution_count": 4,
     "metadata": {},
     "output_type": "execute_result"
    }
   ],
   "source": [
    "c = {f'Квадрат числа {x}': x ** 2 for x in range (1, 9)}\n",
    "c"
   ]
  },
  {
   "cell_type": "markdown",
   "id": "3582e9d0",
   "metadata": {},
   "source": [
    "Все эти значения были сгенерированы внутренним генератором, который последовательно с помощью функции next выдавал очередное значение, и это значение записывалось в список/множество/словарь. На выходе - определенный список/множество/словарь с определенными значениями."
   ]
  },
  {
   "cell_type": "markdown",
   "id": "60628fee",
   "metadata": {},
   "source": [
    "В python можно определить чистый генератор, без привязки к какой либо коллекции. Для этого используется такой же синтаксис, как и для генераторов коллекций, но все записывается в круглых скобках:"
   ]
  },
  {
   "cell_type": "code",
   "execution_count": 5,
   "id": "033c57a3",
   "metadata": {},
   "outputs": [
    {
     "data": {
      "text/plain": [
       "<generator object <genexpr> at 0x0000020DEB5870B0>"
      ]
     },
     "execution_count": 5,
     "metadata": {},
     "output_type": "execute_result"
    }
   ],
   "source": [
    "(x for x in range(1, 9))"
   ]
  },
  {
   "cell_type": "markdown",
   "id": "57272569",
   "metadata": {},
   "source": [
    "Круглые скобки не означают кортеж, так как генераторов кортежей не существует. На выходе будет чистый генератор. Ссылку на него можно сохранить в какую либо переменную:"
   ]
  },
  {
   "cell_type": "code",
   "execution_count": 6,
   "id": "941d17df",
   "metadata": {},
   "outputs": [],
   "source": [
    "g = (x for x in range(1, 4))"
   ]
  },
  {
   "cell_type": "markdown",
   "id": "d4c0a890",
   "metadata": {},
   "source": [
    "Чтобы получить из него какие либо значения, нужно вызвать функцию next, так как генератор сам по себе также является и итератором:"
   ]
  },
  {
   "cell_type": "code",
   "execution_count": 7,
   "id": "b52f2ad6",
   "metadata": {},
   "outputs": [
    {
     "data": {
      "text/plain": [
       "1"
      ]
     },
     "execution_count": 7,
     "metadata": {},
     "output_type": "execute_result"
    }
   ],
   "source": [
    "next(g)"
   ]
  },
  {
   "cell_type": "code",
   "execution_count": 8,
   "id": "31284408",
   "metadata": {},
   "outputs": [
    {
     "data": {
      "text/plain": [
       "2"
      ]
     },
     "execution_count": 8,
     "metadata": {},
     "output_type": "execute_result"
    }
   ],
   "source": [
    "next(g)"
   ]
  },
  {
   "cell_type": "code",
   "execution_count": 9,
   "id": "4f4a8161",
   "metadata": {},
   "outputs": [
    {
     "data": {
      "text/plain": [
       "3"
      ]
     },
     "execution_count": 9,
     "metadata": {},
     "output_type": "execute_result"
    }
   ],
   "source": [
    "next(g)"
   ]
  },
  {
   "cell_type": "markdown",
   "id": "d36b0bcb",
   "metadata": {},
   "source": [
    "Когда будет достинут конец, вызывается исключение StopIteration:"
   ]
  },
  {
   "cell_type": "code",
   "execution_count": 10,
   "id": "88f023e2",
   "metadata": {},
   "outputs": [],
   "source": [
    "# next(g)"
   ]
  },
  {
   "cell_type": "markdown",
   "id": "77870f1a",
   "metadata": {},
   "source": [
    "Т.е. все происходит так же, как и с обычным итератором, когда происходит его перебор через функцию next. "
   ]
  },
  {
   "cell_type": "markdown",
   "id": "a931edc7",
   "metadata": {},
   "source": [
    "Так как перебор генератора происходит с помощью механизма итератора, то перебор его элементов можно осуществлять только один раз:"
   ]
  },
  {
   "cell_type": "markdown",
   "id": "47f5bd04",
   "metadata": {},
   "source": [
    "Допустим, что существует генератор:"
   ]
  },
  {
   "cell_type": "code",
   "execution_count": 11,
   "id": "f91c171c",
   "metadata": {},
   "outputs": [],
   "source": [
    "gen = (x ** 2 for x in range(5))"
   ]
  },
  {
   "cell_type": "markdown",
   "id": "560ed1c2",
   "metadata": {},
   "source": [
    "Который перебирается с помощью цикла for (генератор является итерируемым объектом). На выходе - все числа, сформированные генератором:"
   ]
  },
  {
   "cell_type": "code",
   "execution_count": 12,
   "id": "28cfc30b",
   "metadata": {},
   "outputs": [
    {
     "name": "stdout",
     "output_type": "stream",
     "text": [
      "0\n",
      "1\n",
      "4\n",
      "9\n",
      "16\n"
     ]
    }
   ],
   "source": [
    "for x in gen:\n",
    "    print(x)"
   ]
  },
  {
   "cell_type": "markdown",
   "id": "03fb1cbb",
   "metadata": {},
   "source": [
    "Но при повторном переборе на выходе ничего не будет получено:"
   ]
  },
  {
   "cell_type": "code",
   "execution_count": 13,
   "id": "da8e905c",
   "metadata": {},
   "outputs": [],
   "source": [
    "for x in gen:\n",
    "    print(x)"
   ]
  },
  {
   "cell_type": "markdown",
   "id": "719229b6",
   "metadata": {},
   "source": [
    "Некоторые функции, например list, set, sum, max, min и другие позволяют непосредственно работать с итераторами, а значит и с генераторами. В качестве аргумента им можно передать генератор:"
   ]
  },
  {
   "cell_type": "code",
   "execution_count": 14,
   "id": "630f8aae",
   "metadata": {},
   "outputs": [
    {
     "data": {
      "text/plain": [
       "[0, 1, 4, 9, 16]"
      ]
     },
     "execution_count": 14,
     "metadata": {},
     "output_type": "execute_result"
    }
   ],
   "source": [
    "gen = (x ** 2 for x in range(5))\n",
    "\n",
    "list(gen)"
   ]
  },
  {
   "cell_type": "code",
   "execution_count": 15,
   "id": "ce8830b4",
   "metadata": {},
   "outputs": [
    {
     "data": {
      "text/plain": [
       "{0, 1, 4, 9, 16}"
      ]
     },
     "execution_count": 15,
     "metadata": {},
     "output_type": "execute_result"
    }
   ],
   "source": [
    "gen = (x ** 2 for x in range(5))\n",
    "\n",
    "set(gen)"
   ]
  },
  {
   "cell_type": "code",
   "execution_count": 16,
   "id": "fa199e68",
   "metadata": {},
   "outputs": [
    {
     "data": {
      "text/plain": [
       "16"
      ]
     },
     "execution_count": 16,
     "metadata": {},
     "output_type": "execute_result"
    }
   ],
   "source": [
    "gen = (x ** 2 for x in range(5))\n",
    "\n",
    "max(gen)"
   ]
  },
  {
   "cell_type": "code",
   "execution_count": 17,
   "id": "02d3a3a1",
   "metadata": {},
   "outputs": [
    {
     "data": {
      "text/plain": [
       "0"
      ]
     },
     "execution_count": 17,
     "metadata": {},
     "output_type": "execute_result"
    }
   ],
   "source": [
    "gen = (x ** 2 for x in range(5))\n",
    "\n",
    "min(gen)"
   ]
  },
  {
   "cell_type": "markdown",
   "id": "0286bb9e",
   "metadata": {},
   "source": [
    "Но так как генератор можно перебирать только один раз, второй раз подобной функцией для него воспользоваться не получится:"
   ]
  },
  {
   "cell_type": "code",
   "execution_count": 18,
   "id": "4d361991",
   "metadata": {},
   "outputs": [
    {
     "data": {
      "text/plain": [
       "[]"
      ]
     },
     "execution_count": 18,
     "metadata": {},
     "output_type": "execute_result"
    }
   ],
   "source": [
    "list(gen)"
   ]
  },
  {
   "cell_type": "markdown",
   "id": "985741da",
   "metadata": {},
   "source": [
    "Можно определить генератор и напрямую:"
   ]
  },
  {
   "cell_type": "code",
   "execution_count": 19,
   "id": "6710b08c",
   "metadata": {},
   "outputs": [
    {
     "data": {
      "text/plain": [
       "30"
      ]
     },
     "execution_count": 19,
     "metadata": {},
     "output_type": "execute_result"
    }
   ],
   "source": [
    "sum((x ** 2 for x in range(5)))"
   ]
  },
  {
   "cell_type": "markdown",
   "id": "1a75b9b5",
   "metadata": {},
   "source": [
    "Для чего нужны выражения генераторы? Эти объекты по сравнению с обычными списками не хранят в памяти сразу все значения, а генерируют их по мере необходимости. Допустим, нужно создать список из большого числа элементов:"
   ]
  },
  {
   "cell_type": "code",
   "execution_count": 20,
   "id": "4d1cbb63",
   "metadata": {
    "scrolled": true
   },
   "outputs": [],
   "source": [
    "# lst = list(range(10000000000000))"
   ]
  },
  {
   "cell_type": "markdown",
   "id": "36a9ecc4",
   "metadata": {},
   "source": [
    "Возникнет ошибка памяти. Но выражение генератор с таким большим числом элементов создать можно, так как они не хранятся в памяти:"
   ]
  },
  {
   "cell_type": "code",
   "execution_count": 21,
   "id": "166d80db",
   "metadata": {},
   "outputs": [],
   "source": [
    "lst = (x for x in range(10000000000000))"
   ]
  },
  {
   "cell_type": "markdown",
   "id": "9468bfba",
   "metadata": {},
   "source": [
    "И они будут формироваться по мере перебора этого генератора:"
   ]
  },
  {
   "cell_type": "code",
   "execution_count": 22,
   "id": "af33fe84",
   "metadata": {
    "scrolled": true
   },
   "outputs": [
    {
     "name": "stdout",
     "output_type": "stream",
     "text": [
      "0\n",
      "1\n",
      "2\n",
      "3\n",
      "4\n",
      "5\n",
      "6\n",
      "7\n",
      "8\n",
      "9\n",
      "10\n",
      "11\n"
     ]
    }
   ],
   "source": [
    "for x in lst:\n",
    "    print(x)\n",
    "    if x > 10:\n",
    "        break"
   ]
  },
  {
   "cell_type": "markdown",
   "id": "e2928420",
   "metadata": {},
   "source": [
    "По этой же причине нельзя пользоваться такими функциями, как len:"
   ]
  },
  {
   "cell_type": "code",
   "execution_count": 23,
   "id": "a94f4ba5",
   "metadata": {},
   "outputs": [],
   "source": [
    "h = (x+1 for x in range(10))\n",
    "# len(h)"
   ]
  },
  {
   "cell_type": "markdown",
   "id": "018e18b0",
   "metadata": {},
   "source": [
    "И обращаться по индексу:"
   ]
  },
  {
   "cell_type": "code",
   "execution_count": 24,
   "id": "c4c7c209",
   "metadata": {},
   "outputs": [],
   "source": [
    "# h[0]"
   ]
  },
  {
   "cell_type": "markdown",
   "id": "71896e3f",
   "metadata": {},
   "source": [
    "Если требуется работать с генераторами как с элементами списка, их нужно преобразовать в список:"
   ]
  },
  {
   "cell_type": "code",
   "execution_count": 25,
   "id": "b966233a",
   "metadata": {},
   "outputs": [],
   "source": [
    "j = list(h)"
   ]
  },
  {
   "cell_type": "code",
   "execution_count": 26,
   "id": "f55233d8",
   "metadata": {},
   "outputs": [
    {
     "data": {
      "text/plain": [
       "[1, 2, 3, 4, 5, 6, 7, 8, 9, 10]"
      ]
     },
     "execution_count": 26,
     "metadata": {},
     "output_type": "execute_result"
    }
   ],
   "source": [
    "j"
   ]
  },
  {
   "cell_type": "code",
   "execution_count": 27,
   "id": "6e25a7b8",
   "metadata": {},
   "outputs": [
    {
     "data": {
      "text/plain": [
       "1"
      ]
     },
     "execution_count": 27,
     "metadata": {},
     "output_type": "execute_result"
    }
   ],
   "source": [
    "j[0]"
   ]
  },
  {
   "cell_type": "code",
   "execution_count": 28,
   "id": "b05fe2c3",
   "metadata": {},
   "outputs": [
    {
     "data": {
      "text/plain": [
       "10"
      ]
     },
     "execution_count": 28,
     "metadata": {},
     "output_type": "execute_result"
    }
   ],
   "source": [
    "len(j)"
   ]
  }
 ],
 "metadata": {
  "kernelspec": {
   "display_name": "Python 3 (ipykernel)",
   "language": "python",
   "name": "python3"
  },
  "language_info": {
   "codemirror_mode": {
    "name": "ipython",
    "version": 3
   },
   "file_extension": ".py",
   "mimetype": "text/x-python",
   "name": "python",
   "nbconvert_exporter": "python",
   "pygments_lexer": "ipython3",
   "version": "3.9.13"
  }
 },
 "nbformat": 4,
 "nbformat_minor": 5
}

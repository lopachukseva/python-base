{
 "cells": [
  {
   "cell_type": "markdown",
   "id": "e01b5ba2",
   "metadata": {},
   "source": [
    "В функциях операторы * и ** позволяют упаковывать элементы в кортеж или словарь:"
   ]
  },
  {
   "cell_type": "code",
   "execution_count": 1,
   "id": "42237449",
   "metadata": {},
   "outputs": [],
   "source": [
    "def showTest(a, b, *args, c=0, **kwargs):\n",
    "    print(f\"Фактический параметр a: {a}, фактический параметр b: {b}\")\n",
    "    print(f\"Кортеж args, в который можно передать произвольное число неименованных параметров: {args}\")\n",
    "    print(f\"Формальный параметр с: {c}\")\n",
    "    print(f\"Словарь kwargs, в который можно передать произвольное число именованных аргументов: {kwargs}\")"
   ]
  },
  {
   "cell_type": "code",
   "execution_count": 2,
   "id": "095c2c77",
   "metadata": {},
   "outputs": [
    {
     "name": "stdout",
     "output_type": "stream",
     "text": [
      "Фактический параметр a: 10, фактический параметр b: 20\n",
      "Кортеж args, в который можно передать произвольное число неименованных параметров: (30, 40, 50, 60)\n",
      "Формальный параметр с: 70\n",
      "Словарь kwargs, в который можно передать произвольное число именованных аргументов: {'gt': 39, 'ht': 90, 'ji': 190}\n"
     ]
    }
   ],
   "source": [
    "showTest(10, 20, 30, 40, 50, 60, c=70, gt=39, ht=90, ji=190)"
   ]
  },
  {
   "cell_type": "markdown",
   "id": "966e575c",
   "metadata": {},
   "source": [
    "Обычные позиционные неименованные аргументы упаковываются в кортеж args, а именованные - в словарь kwargs."
   ]
  },
  {
   "cell_type": "markdown",
   "id": "d8931055",
   "metadata": {},
   "source": [
    "Но эти же самые операторы ( * и ** ) можно использовать не только в объявлении функции, но и при работе с разными коллекциями."
   ]
  },
  {
   "cell_type": "markdown",
   "id": "68e0f087",
   "metadata": {},
   "source": [
    "Если есть кортеж, состоящий из двух элементов, его можно распаковать в отдельные переменные:"
   ]
  },
  {
   "cell_type": "code",
   "execution_count": 3,
   "id": "482ce9b4",
   "metadata": {},
   "outputs": [
    {
     "name": "stdout",
     "output_type": "stream",
     "text": [
      "1 2\n"
     ]
    }
   ],
   "source": [
    "x, y = (1, 2)\n",
    "print(x, y)"
   ]
  },
  {
   "cell_type": "markdown",
   "id": "33b264a3",
   "metadata": {},
   "source": [
    "Но если число элементов в кортеже не будет соответствовать числу переменных, то возникнет ошибка:"
   ]
  },
  {
   "cell_type": "code",
   "execution_count": 4,
   "id": "1b60db20",
   "metadata": {},
   "outputs": [],
   "source": [
    "# x, y = (1, 2, 3, 4)"
   ]
  },
  {
   "cell_type": "markdown",
   "id": "cdbf6466",
   "metadata": {},
   "source": [
    "Но можно распаковать в таком виде:"
   ]
  },
  {
   "cell_type": "code",
   "execution_count": 5,
   "id": "7c1b5863",
   "metadata": {},
   "outputs": [],
   "source": [
    "x, *y = (1, 2, 3, 4)"
   ]
  },
  {
   "cell_type": "markdown",
   "id": "d3acfeb7",
   "metadata": {},
   "source": [
    "Это будет означать, что первое значение будет распаковано в переменную x, а все остальные - в переменную y."
   ]
  },
  {
   "cell_type": "markdown",
   "id": "a48550a3",
   "metadata": {},
   "source": [
    "И тогда x будет ссылаться на число:"
   ]
  },
  {
   "cell_type": "code",
   "execution_count": 6,
   "id": "a58f236f",
   "metadata": {
    "scrolled": true
   },
   "outputs": [
    {
     "data": {
      "text/plain": [
       "(1, int)"
      ]
     },
     "execution_count": 6,
     "metadata": {},
     "output_type": "execute_result"
    }
   ],
   "source": [
    "x, type(x)"
   ]
  },
  {
   "cell_type": "markdown",
   "id": "b4093f82",
   "metadata": {},
   "source": [
    "А y - на список из оставшихся элементов:"
   ]
  },
  {
   "cell_type": "code",
   "execution_count": 7,
   "id": "bde74bc5",
   "metadata": {},
   "outputs": [
    {
     "data": {
      "text/plain": [
       "([2, 3, 4], list)"
      ]
     },
     "execution_count": 7,
     "metadata": {},
     "output_type": "execute_result"
    }
   ],
   "source": [
    "y, type(y)"
   ]
  },
  {
   "cell_type": "markdown",
   "id": "6892bfa5",
   "metadata": {},
   "source": [
    "Или наоборот:"
   ]
  },
  {
   "cell_type": "code",
   "execution_count": 8,
   "id": "5e932ea1",
   "metadata": {},
   "outputs": [],
   "source": [
    "*x, y = (1, 2, 3, 4)"
   ]
  },
  {
   "cell_type": "markdown",
   "id": "370d306d",
   "metadata": {},
   "source": [
    "Первые три значения пойдут в x:"
   ]
  },
  {
   "cell_type": "code",
   "execution_count": 9,
   "id": "21d15599",
   "metadata": {},
   "outputs": [
    {
     "data": {
      "text/plain": [
       "[1, 2, 3]"
      ]
     },
     "execution_count": 9,
     "metadata": {},
     "output_type": "execute_result"
    }
   ],
   "source": [
    "x"
   ]
  },
  {
   "cell_type": "markdown",
   "id": "9662a01a",
   "metadata": {},
   "source": [
    "А последнее - в y:"
   ]
  },
  {
   "cell_type": "code",
   "execution_count": 10,
   "id": "2ca5a5f7",
   "metadata": {},
   "outputs": [
    {
     "data": {
      "text/plain": [
       "4"
      ]
     },
     "execution_count": 10,
     "metadata": {},
     "output_type": "execute_result"
    }
   ],
   "source": [
    "y"
   ]
  },
  {
   "cell_type": "markdown",
   "id": "cfbf4ebc",
   "metadata": {},
   "source": [
    "Такие операции можно делать не только с кортежами, но и с произвольными итерируемыми объектами, например со списком:"
   ]
  },
  {
   "cell_type": "code",
   "execution_count": 11,
   "id": "3725f2e2",
   "metadata": {},
   "outputs": [],
   "source": [
    "x, *y = [1, 2, \"str\"]"
   ]
  },
  {
   "cell_type": "code",
   "execution_count": 12,
   "id": "eb21aabb",
   "metadata": {},
   "outputs": [
    {
     "data": {
      "text/plain": [
       "1"
      ]
     },
     "execution_count": 12,
     "metadata": {},
     "output_type": "execute_result"
    }
   ],
   "source": [
    "x"
   ]
  },
  {
   "cell_type": "code",
   "execution_count": 13,
   "id": "1f83d894",
   "metadata": {},
   "outputs": [
    {
     "data": {
      "text/plain": [
       "[2, 'str']"
      ]
     },
     "execution_count": 13,
     "metadata": {},
     "output_type": "execute_result"
    }
   ],
   "source": [
    "y"
   ]
  },
  {
   "cell_type": "markdown",
   "id": "8a31a4d7",
   "metadata": {},
   "source": [
    "Или функцией range:"
   ]
  },
  {
   "cell_type": "code",
   "execution_count": 14,
   "id": "4c6af93d",
   "metadata": {},
   "outputs": [],
   "source": [
    "x, *y = range(5)"
   ]
  },
  {
   "cell_type": "code",
   "execution_count": 15,
   "id": "e68a3f2d",
   "metadata": {},
   "outputs": [
    {
     "data": {
      "text/plain": [
       "0"
      ]
     },
     "execution_count": 15,
     "metadata": {},
     "output_type": "execute_result"
    }
   ],
   "source": [
    "x"
   ]
  },
  {
   "cell_type": "code",
   "execution_count": 16,
   "id": "53174c6f",
   "metadata": {},
   "outputs": [
    {
     "data": {
      "text/plain": [
       "[1, 2, 3, 4]"
      ]
     },
     "execution_count": 16,
     "metadata": {},
     "output_type": "execute_result"
    }
   ],
   "source": [
    "y"
   ]
  },
  {
   "cell_type": "markdown",
   "id": "0377b860",
   "metadata": {},
   "source": [
    "Или строкой:"
   ]
  },
  {
   "cell_type": "code",
   "execution_count": 17,
   "id": "7f36c80e",
   "metadata": {},
   "outputs": [],
   "source": [
    "*x, y = \"Python\""
   ]
  },
  {
   "cell_type": "code",
   "execution_count": 18,
   "id": "78c87bed",
   "metadata": {},
   "outputs": [
    {
     "data": {
      "text/plain": [
       "['P', 'y', 't', 'h', 'o']"
      ]
     },
     "execution_count": 18,
     "metadata": {},
     "output_type": "execute_result"
    }
   ],
   "source": [
    "x"
   ]
  },
  {
   "cell_type": "code",
   "execution_count": 19,
   "id": "3d40f3e9",
   "metadata": {},
   "outputs": [
    {
     "data": {
      "text/plain": [
       "'n'"
      ]
     },
     "execution_count": 19,
     "metadata": {},
     "output_type": "execute_result"
    }
   ],
   "source": [
    "y"
   ]
  },
  {
   "cell_type": "markdown",
   "id": "5b52db68",
   "metadata": {},
   "source": [
    "Упаковать уже упакованные значения нельзя:"
   ]
  },
  {
   "cell_type": "code",
   "execution_count": 20,
   "id": "4997c2e4",
   "metadata": {
    "scrolled": true
   },
   "outputs": [],
   "source": [
    "# *x = 1, 2, 3"
   ]
  },
  {
   "cell_type": "markdown",
   "id": "ac4c0ff8",
   "metadata": {},
   "source": [
    "Также оператор * может не только упаковывать, но и распаковывать данные:"
   ]
  },
  {
   "cell_type": "markdown",
   "id": "7f370967",
   "metadata": {},
   "source": [
    "Предположим, что существует список:"
   ]
  },
  {
   "cell_type": "code",
   "execution_count": 21,
   "id": "4cdade1b",
   "metadata": {},
   "outputs": [],
   "source": [
    "a = [1, 2, 3]"
   ]
  },
  {
   "cell_type": "markdown",
   "id": "10e1b7ea",
   "metadata": {},
   "source": [
    "На основе которого нужно сформировать кортеж. Если просто попробовать записать в список кортеж, то получится кортеж, состоящий из одного элемента, и этим элементом будет список:"
   ]
  },
  {
   "cell_type": "code",
   "execution_count": 22,
   "id": "60dc2ada",
   "metadata": {},
   "outputs": [
    {
     "data": {
      "text/plain": [
       "([1, 2, 3],)"
      ]
     },
     "execution_count": 22,
     "metadata": {},
     "output_type": "execute_result"
    }
   ],
   "source": [
    "(a, )"
   ]
  },
  {
   "cell_type": "markdown",
   "id": "5cf32af8",
   "metadata": {},
   "source": [
    "Но если перед списком поставить оператор *, то произойдет распаковка:"
   ]
  },
  {
   "cell_type": "code",
   "execution_count": 23,
   "id": "0bc0c550",
   "metadata": {},
   "outputs": [
    {
     "data": {
      "text/plain": [
       "(1, 2, 3)"
      ]
     },
     "execution_count": 23,
     "metadata": {},
     "output_type": "execute_result"
    }
   ],
   "source": [
    "(*a,)"
   ]
  },
  {
   "cell_type": "markdown",
   "id": "8cd2413e",
   "metadata": {},
   "source": [
    "И на выходе будет кортеж состоящий из значений списка."
   ]
  },
  {
   "cell_type": "markdown",
   "id": "8c615a11",
   "metadata": {},
   "source": [
    "Оператор сам в зависимости от контекста понимает, требуется упаковка или распаковка"
   ]
  },
  {
   "cell_type": "markdown",
   "id": "aae84245",
   "metadata": {},
   "source": [
    "Еще один пример: допустим, существует переменная, которая ссылается на кортеж:"
   ]
  },
  {
   "cell_type": "code",
   "execution_count": 24,
   "id": "7ec5d871",
   "metadata": {},
   "outputs": [],
   "source": [
    "d = -5, 5"
   ]
  },
  {
   "cell_type": "code",
   "execution_count": 25,
   "id": "a59e8300",
   "metadata": {},
   "outputs": [
    {
     "data": {
      "text/plain": [
       "(-5, 5)"
      ]
     },
     "execution_count": 25,
     "metadata": {},
     "output_type": "execute_result"
    }
   ],
   "source": [
    "d"
   ]
  },
  {
   "cell_type": "markdown",
   "id": "03f08741",
   "metadata": {},
   "source": [
    "И необходимо вызвать функцию range с диапазоном из этого кортежа. Подобное действие приведет к ошибке, так как функция range не может принимать кортеж в качестве аргумента:"
   ]
  },
  {
   "cell_type": "code",
   "execution_count": 26,
   "id": "29652a73",
   "metadata": {},
   "outputs": [],
   "source": [
    "# range(d)"
   ]
  },
  {
   "cell_type": "markdown",
   "id": "22093629",
   "metadata": {},
   "source": [
    "Но если с помощью оператора распаковать кортеж, то ошибок не возникнет:"
   ]
  },
  {
   "cell_type": "code",
   "execution_count": 27,
   "id": "c55ea96a",
   "metadata": {},
   "outputs": [
    {
     "data": {
      "text/plain": [
       "range(-5, 5)"
      ]
     },
     "execution_count": 27,
     "metadata": {},
     "output_type": "execute_result"
    }
   ],
   "source": [
    "range(*d)"
   ]
  },
  {
   "cell_type": "code",
   "execution_count": 28,
   "id": "7abec0bf",
   "metadata": {},
   "outputs": [
    {
     "data": {
      "text/plain": [
       "[-5, -4, -3, -2, -1, 0, 1, 2, 3, 4]"
      ]
     },
     "execution_count": 28,
     "metadata": {},
     "output_type": "execute_result"
    }
   ],
   "source": [
    "list(range(*d))"
   ]
  },
  {
   "cell_type": "markdown",
   "id": "04c04bec",
   "metadata": {},
   "source": [
    "Аналогично и в этой ситуации:"
   ]
  },
  {
   "cell_type": "code",
   "execution_count": 29,
   "id": "bac5f18a",
   "metadata": {},
   "outputs": [
    {
     "data": {
      "text/plain": [
       "[range(0, 5)]"
      ]
     },
     "execution_count": 29,
     "metadata": {},
     "output_type": "execute_result"
    }
   ],
   "source": [
    "[range(5)]"
   ]
  },
  {
   "cell_type": "code",
   "execution_count": 30,
   "id": "45152282",
   "metadata": {},
   "outputs": [
    {
     "data": {
      "text/plain": [
       "[0, 1, 2, 3, 4]"
      ]
     },
     "execution_count": 30,
     "metadata": {},
     "output_type": "execute_result"
    }
   ],
   "source": [
    "[*range(5)]"
   ]
  },
  {
   "cell_type": "code",
   "execution_count": 31,
   "id": "3eb2e780",
   "metadata": {},
   "outputs": [
    {
     "data": {
      "text/plain": [
       "[-5, -4, -3, -2, -1, 0, 1, 2, 3, 4]"
      ]
     },
     "execution_count": 31,
     "metadata": {},
     "output_type": "execute_result"
    }
   ],
   "source": [
    "[*range(*d)]"
   ]
  },
  {
   "cell_type": "markdown",
   "id": "081bd31c",
   "metadata": {},
   "source": [
    "Такой механизм может быть использован для распаковки любых итерируемых объектов:"
   ]
  },
  {
   "cell_type": "code",
   "execution_count": 32,
   "id": "de111786",
   "metadata": {},
   "outputs": [
    {
     "data": {
      "text/plain": [
       "['p', 'y', 't', 'h', 'o', 'n']"
      ]
     },
     "execution_count": 32,
     "metadata": {},
     "output_type": "execute_result"
    }
   ],
   "source": [
    "[*\"python\"]"
   ]
  },
  {
   "cell_type": "code",
   "execution_count": 33,
   "id": "2e5d15d7",
   "metadata": {},
   "outputs": [
    {
     "data": {
      "text/plain": [
       "{'a', 'b', 'c', 'd', 'r'}"
      ]
     },
     "execution_count": 33,
     "metadata": {},
     "output_type": "execute_result"
    }
   ],
   "source": [
    "{*\"abracadabra\"}"
   ]
  },
  {
   "cell_type": "markdown",
   "id": "13a7765e",
   "metadata": {},
   "source": [
    "Или даже их объединять:"
   ]
  },
  {
   "cell_type": "code",
   "execution_count": 34,
   "id": "2a583fdc",
   "metadata": {},
   "outputs": [
    {
     "data": {
      "text/plain": [
       "[0, 1, 2, 3, 4, 0, 1, 2, 3]"
      ]
     },
     "execution_count": 34,
     "metadata": {},
     "output_type": "execute_result"
    }
   ],
   "source": [
    "[*range(5), *range(4)]"
   ]
  },
  {
   "cell_type": "code",
   "execution_count": 35,
   "id": "1abf9b03",
   "metadata": {},
   "outputs": [
    {
     "data": {
      "text/plain": [
       "{'c', 'e', 'h', 'i', 'n', 'o', 'p', 'r', 's', 't', 'u', 'y'}"
      ]
     },
     "execution_count": 35,
     "metadata": {},
     "output_type": "execute_result"
    }
   ],
   "source": [
    "{*\"python\", *\"security\"}"
   ]
  },
  {
   "cell_type": "code",
   "execution_count": 36,
   "id": "24689920",
   "metadata": {},
   "outputs": [
    {
     "data": {
      "text/plain": [
       "[True, False, 1, 2, 4, 'first', 'word', 'in', 10, 20]"
      ]
     },
     "execution_count": 36,
     "metadata": {},
     "output_type": "execute_result"
    }
   ],
   "source": [
    "h = (True, False)\n",
    "o = 1, 2, 4\n",
    "j = [\"first\", \"word\", \"in\", 10, 20]\n",
    "\n",
    "[*h, *o, *j]"
   ]
  },
  {
   "cell_type": "markdown",
   "id": "58596ff2",
   "metadata": {},
   "source": [
    "Пример со словарем:"
   ]
  },
  {
   "cell_type": "code",
   "execution_count": 37,
   "id": "11387d88",
   "metadata": {},
   "outputs": [],
   "source": [
    "di = {\n",
    "    \"first_key\": \"first_value\",\n",
    "    \"second_key\": \"second_value\",\n",
    "    \"third_key\": \"third_value\",\n",
    "}"
   ]
  },
  {
   "cell_type": "markdown",
   "id": "24eb0d85",
   "metadata": {},
   "source": [
    "Распаковка в список:"
   ]
  },
  {
   "cell_type": "code",
   "execution_count": 38,
   "id": "54e20375",
   "metadata": {},
   "outputs": [
    {
     "data": {
      "text/plain": [
       "['first_key', 'second_key', 'third_key']"
      ]
     },
     "execution_count": 38,
     "metadata": {},
     "output_type": "execute_result"
    }
   ],
   "source": [
    "[*di]"
   ]
  },
  {
   "cell_type": "markdown",
   "id": "fe3c2ff2",
   "metadata": {},
   "source": [
    "в множество:"
   ]
  },
  {
   "cell_type": "code",
   "execution_count": 39,
   "id": "fe92c7b1",
   "metadata": {},
   "outputs": [
    {
     "data": {
      "text/plain": [
       "{'first_key', 'second_key', 'third_key'}"
      ]
     },
     "execution_count": 39,
     "metadata": {},
     "output_type": "execute_result"
    }
   ],
   "source": [
    "{*di}"
   ]
  },
  {
   "cell_type": "markdown",
   "id": "e60ad13f",
   "metadata": {},
   "source": [
    "в кортеж:"
   ]
  },
  {
   "cell_type": "code",
   "execution_count": 40,
   "id": "d4dc5ec7",
   "metadata": {},
   "outputs": [
    {
     "data": {
      "text/plain": [
       "('first_key', 'second_key', 'third_key')"
      ]
     },
     "execution_count": 40,
     "metadata": {},
     "output_type": "execute_result"
    }
   ],
   "source": [
    "(*di,)"
   ]
  },
  {
   "cell_type": "markdown",
   "id": "ec660c46",
   "metadata": {},
   "source": [
    "Таким образом будут распакованы ключи словаря. А вызвав методы values и items, можно распаковать и значения:"
   ]
  },
  {
   "cell_type": "code",
   "execution_count": 41,
   "id": "adeddf3a",
   "metadata": {},
   "outputs": [
    {
     "data": {
      "text/plain": [
       "['first_value', 'second_value', 'third_value']"
      ]
     },
     "execution_count": 41,
     "metadata": {},
     "output_type": "execute_result"
    }
   ],
   "source": [
    "[*di.values()]"
   ]
  },
  {
   "cell_type": "code",
   "execution_count": 42,
   "id": "12332b97",
   "metadata": {},
   "outputs": [
    {
     "data": {
      "text/plain": [
       "[('first_key', 'first_value'),\n",
       " ('second_key', 'second_value'),\n",
       " ('third_key', 'third_value')]"
      ]
     },
     "execution_count": 42,
     "metadata": {},
     "output_type": "execute_result"
    }
   ],
   "source": [
    "[*di.items()]"
   ]
  },
  {
   "cell_type": "markdown",
   "id": "88aad9a9",
   "metadata": {},
   "source": [
    "Если же требуется распаковать словарь именно как словарь, то необходимо поставить две звездочки:"
   ]
  },
  {
   "cell_type": "code",
   "execution_count": 43,
   "id": "7afd56c7",
   "metadata": {},
   "outputs": [
    {
     "data": {
      "text/plain": [
       "{'first_key': 'first_value',\n",
       " 'second_key': 'second_value',\n",
       " 'third_key': 'third_value'}"
      ]
     },
     "execution_count": 43,
     "metadata": {},
     "output_type": "execute_result"
    }
   ],
   "source": [
    "{**di}"
   ]
  },
  {
   "cell_type": "markdown",
   "id": "dba1e2a4",
   "metadata": {},
   "source": [
    "На выходе будет тот же словарь. Таким образом можно объединить два словаря вместе:"
   ]
  },
  {
   "cell_type": "code",
   "execution_count": 44,
   "id": "1d435cd1",
   "metadata": {},
   "outputs": [],
   "source": [
    "di2 = {\n",
    "    \"fifth_key\": \"fifth_value\",\n",
    "    \"sixth_key\": \"sixth_value\",\n",
    "}"
   ]
  },
  {
   "cell_type": "code",
   "execution_count": 45,
   "id": "be63bcf5",
   "metadata": {},
   "outputs": [
    {
     "data": {
      "text/plain": [
       "{'first_key': 'first_value',\n",
       " 'second_key': 'second_value',\n",
       " 'third_key': 'third_value',\n",
       " 'fifth_key': 'fifth_value',\n",
       " 'sixth_key': 'sixth_value'}"
      ]
     },
     "execution_count": 45,
     "metadata": {},
     "output_type": "execute_result"
    }
   ],
   "source": [
    "{**di, **di2}"
   ]
  },
  {
   "cell_type": "markdown",
   "id": "3de76bed",
   "metadata": {},
   "source": [
    "Но вне функции оператор ** производит только распаковку. Упаковку он может осуществлять только в параметрах функции."
   ]
  }
 ],
 "metadata": {
  "kernelspec": {
   "display_name": "Python 3 (ipykernel)",
   "language": "python",
   "name": "python3"
  },
  "language_info": {
   "codemirror_mode": {
    "name": "ipython",
    "version": 3
   },
   "file_extension": ".py",
   "mimetype": "text/x-python",
   "name": "python",
   "nbconvert_exporter": "python",
   "pygments_lexer": "ipython3",
   "version": "3.9.13"
  }
 },
 "nbformat": 4,
 "nbformat_minor": 5
}

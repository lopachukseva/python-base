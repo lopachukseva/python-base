{
 "cells": [
  {
   "cell_type": "markdown",
   "id": "6134022e",
   "metadata": {},
   "source": [
    "## for"
   ]
  },
  {
   "cell_type": "markdown",
   "id": "71d602ba",
   "metadata": {},
   "source": [
    "С помощью цикла for можно релизовывать перебор итерируемых объектов (т.е. состоящих из нескольких элементов, например, списки или строки). Имеет следующий синтаксис:"
   ]
  },
  {
   "cell_type": "markdown",
   "id": "6d94cd43",
   "metadata": {},
   "source": [
    "for<переменная> in <итерируемый объект>:\n",
    "    <pre>оператор 1</pre>\n",
    "    <pre>оператор 2</pre>\n",
    "    <pre>...</pre>\n",
    "    <pre>оператор N</pre>"
   ]
  },
  {
   "cell_type": "markdown",
   "id": "b6db6436",
   "metadata": {},
   "source": [
    "Состоит из заголовка и тела цикла"
   ]
  },
  {
   "cell_type": "code",
   "execution_count": 1,
   "id": "8eeab48d",
   "metadata": {},
   "outputs": [],
   "source": [
    "a = [2, 4, -9, 1, 0, 5]"
   ]
  },
  {
   "cell_type": "markdown",
   "id": "5829ef99",
   "metadata": {},
   "source": [
    "На каждой итерации цикла переменная i по очереди ссылается на элемент списка a. На первой интерации на элемент с индексом 0, на второй - с индексом 1 и так далее до конца. В данном примере в теле цикла прописан оператор print, который на каждой итерации выводит значение i в консоль:"
   ]
  },
  {
   "cell_type": "code",
   "execution_count": 2,
   "id": "2216a7e8",
   "metadata": {
    "scrolled": false
   },
   "outputs": [
    {
     "name": "stdout",
     "output_type": "stream",
     "text": [
      "2\n",
      "4\n",
      "-9\n",
      "1\n",
      "0\n",
      "5\n"
     ]
    }
   ],
   "source": [
    "for i in a:\n",
    "    print(i)"
   ]
  },
  {
   "cell_type": "markdown",
   "id": "c05e5347",
   "metadata": {},
   "source": [
    "Аналогично происходит и со строкой:"
   ]
  },
  {
   "cell_type": "code",
   "execution_count": 3,
   "id": "b96f49a6",
   "metadata": {
    "scrolled": true
   },
   "outputs": [
    {
     "name": "stdout",
     "output_type": "stream",
     "text": [
      "p\n",
      "y\n",
      "t\n",
      "h\n",
      "o\n",
      "n\n"
     ]
    }
   ],
   "source": [
    "for i in \"python\":\n",
    "    print(i)"
   ]
  },
  {
   "cell_type": "markdown",
   "id": "b061f2ab",
   "metadata": {},
   "source": [
    "Важно то, что переменная i именно ссылается на элемент списка. То есть при попытке присвоить переменной i новое значение, она просто начнет ссылаться на новое значение, а сам список не изменится:"
   ]
  },
  {
   "cell_type": "code",
   "execution_count": 4,
   "id": "325fa553",
   "metadata": {},
   "outputs": [
    {
     "name": "stdout",
     "output_type": "stream",
     "text": [
      "[2, 4, -9, 1, 0, 5]\n",
      "[2, 4, -9, 1, 0, 5]\n"
     ]
    }
   ],
   "source": [
    "print(a)\n",
    "\n",
    "for i in a:\n",
    "    i = 1\n",
    "\n",
    "print(a)"
   ]
  },
  {
   "cell_type": "markdown",
   "id": "4cb3b18d",
   "metadata": {},
   "source": [
    "То есть таким образом изменять значения нельзя. Но можно выполнять другие действия: например, вычислить сумму этих элементов:"
   ]
  },
  {
   "cell_type": "code",
   "execution_count": 5,
   "id": "33213020",
   "metadata": {},
   "outputs": [
    {
     "name": "stdout",
     "output_type": "stream",
     "text": [
      "3\n"
     ]
    }
   ],
   "source": [
    "s = 0\n",
    "for i in a:\n",
    "    s += i\n",
    "\n",
    "print(s)"
   ]
  },
  {
   "cell_type": "markdown",
   "id": "5d333fe9",
   "metadata": {},
   "source": [
    "Или произведение:"
   ]
  },
  {
   "cell_type": "code",
   "execution_count": 6,
   "id": "3bed2a82",
   "metadata": {},
   "outputs": [
    {
     "name": "stdout",
     "output_type": "stream",
     "text": [
      "40\n"
     ]
    }
   ],
   "source": [
    "t = [1, 4, -1, 2, -5]\n",
    "\n",
    "d = 1\n",
    "\n",
    "for i in t:\n",
    "    d *= i\n",
    "\n",
    "print(d)"
   ]
  },
  {
   "cell_type": "markdown",
   "id": "c2615f69",
   "metadata": {},
   "source": [
    "Для того, чтобы изменять элементы списка, к ним нужно обращаться по индексам. То есть цикл должен перебирать не элементы, а индексы списка:"
   ]
  },
  {
   "cell_type": "code",
   "execution_count": 7,
   "id": "a306f352",
   "metadata": {},
   "outputs": [
    {
     "data": {
      "text/plain": [
       "[2, 4, -9, 1, 0, 5]"
      ]
     },
     "execution_count": 7,
     "metadata": {},
     "output_type": "execute_result"
    }
   ],
   "source": [
    "a"
   ]
  },
  {
   "cell_type": "code",
   "execution_count": 8,
   "id": "f9426542",
   "metadata": {},
   "outputs": [
    {
     "name": "stdout",
     "output_type": "stream",
     "text": [
      "0\n",
      "0\n",
      "0\n",
      "0\n",
      "0\n",
      "0\n"
     ]
    }
   ],
   "source": [
    "for i in [0, 1, 2, 3, 4, 5]:\n",
    "    a[i] = 0\n",
    "    print(a[i])"
   ]
  },
  {
   "cell_type": "code",
   "execution_count": 9,
   "id": "a6181dde",
   "metadata": {},
   "outputs": [
    {
     "ename": "SyntaxError",
     "evalue": "invalid syntax (3254369177.py, line 1)",
     "output_type": "error",
     "traceback": [
      "\u001b[1;36m  File \u001b[1;32m\"C:\\Users\\Seva Lopachuk\\AppData\\Local\\Temp\\ipykernel_10540\\3254369177.py\"\u001b[1;36m, line \u001b[1;32m1\u001b[0m\n\u001b[1;33m    И только после этого элементы списка меняют свое значение:\u001b[0m\n\u001b[1;37m      ^\u001b[0m\n\u001b[1;31mSyntaxError\u001b[0m\u001b[1;31m:\u001b[0m invalid syntax\n"
     ]
    }
   ],
   "source": [
    "И только после этого элементы списка меняют свое значение:"
   ]
  },
  {
   "cell_type": "code",
   "execution_count": null,
   "id": "36c0d38a",
   "metadata": {},
   "outputs": [],
   "source": [
    "print(a)"
   ]
  },
  {
   "cell_type": "markdown",
   "id": "0e6e5e6c",
   "metadata": {},
   "source": [
    "Но реализация перебора индексов при помощи другого списка - не гибкая, сложная и не всегда возможная. Для подобных целей существует функция range."
   ]
  },
  {
   "cell_type": "markdown",
   "id": "c3940e2a",
   "metadata": {},
   "source": [
    "## range"
   ]
  },
  {
   "cell_type": "markdown",
   "id": "ece5db71",
   "metadata": {},
   "source": [
    "Функция range генерирует арифметическую последовательность и использует следующий синтаксис:<br>\n",
    "- range(start, stop, step)<br>\n",
    "- range(start, stop)<br>\n",
    "- range(stop)<br>\n",
    "\n",
    "start - начало, stop - конец, step - шаг. <br>\n",
    "\n",
    "Если не указывать start - отсчет будет идти начиная с 0, если не указывать step - он будет равен 1 по умолчанию. Значение stop не входит в последовательность."
   ]
  },
  {
   "cell_type": "code",
   "execution_count": null,
   "id": "470de897",
   "metadata": {},
   "outputs": [],
   "source": [
    "range(5)"
   ]
  },
  {
   "cell_type": "markdown",
   "id": "dd190bf6",
   "metadata": {},
   "source": [
    "Для просмотра всех значений можно воспользоваться функцией list, которая преобразует итерируемый объект в список:"
   ]
  },
  {
   "cell_type": "code",
   "execution_count": null,
   "id": "930f634b",
   "metadata": {},
   "outputs": [],
   "source": [
    "list(range(0, 5))"
   ]
  },
  {
   "cell_type": "markdown",
   "id": "54cc2113",
   "metadata": {},
   "source": [
    "Могут быть отрицательные значения:"
   ]
  },
  {
   "cell_type": "code",
   "execution_count": null,
   "id": "1a52f21f",
   "metadata": {},
   "outputs": [],
   "source": [
    "list(range(-10, -5))"
   ]
  },
  {
   "cell_type": "code",
   "execution_count": null,
   "id": "5d547920",
   "metadata": {},
   "outputs": [],
   "source": [
    "list(range(1, 10, 2))"
   ]
  },
  {
   "cell_type": "markdown",
   "id": "28c140a0",
   "metadata": {},
   "source": [
    "И отрицательный шаг:"
   ]
  },
  {
   "cell_type": "code",
   "execution_count": null,
   "id": "5bbee411",
   "metadata": {
    "scrolled": false
   },
   "outputs": [],
   "source": [
    "list(range(3, -5, -1))"
   ]
  },
  {
   "cell_type": "markdown",
   "id": "c3e4b780",
   "metadata": {},
   "source": [
    "Использование в цикле:"
   ]
  },
  {
   "cell_type": "code",
   "execution_count": null,
   "id": "2a4f3ee8",
   "metadata": {
    "scrolled": false
   },
   "outputs": [],
   "source": [
    "for i in range(0, 6):\n",
    "    a[i] = -8\n",
    "    print(a[i])"
   ]
  },
  {
   "cell_type": "markdown",
   "id": "3f55924e",
   "metadata": {},
   "source": [
    "Преобразовывать в список не нужно, так как цикл for работает с итерируемым объектом, который и возвращает функция range."
   ]
  },
  {
   "cell_type": "markdown",
   "id": "d819ae43",
   "metadata": {},
   "source": [
    "В качестве последнего элемента указать длину списка:"
   ]
  },
  {
   "cell_type": "code",
   "execution_count": null,
   "id": "d3fa9523",
   "metadata": {},
   "outputs": [],
   "source": [
    "len(a)"
   ]
  },
  {
   "cell_type": "code",
   "execution_count": null,
   "id": "a95ba880",
   "metadata": {
    "scrolled": true
   },
   "outputs": [],
   "source": [
    "for i in range(len(a)):\n",
    "    a[i] = 0\n",
    "    print(a[i])"
   ]
  },
  {
   "cell_type": "markdown",
   "id": "1571534a",
   "metadata": {},
   "source": [
    "Таким образом программа сможет работать со списком любой длины."
   ]
  },
  {
   "cell_type": "code",
   "execution_count": 12,
   "id": "425face1",
   "metadata": {},
   "outputs": [
    {
     "name": "stdout",
     "output_type": "stream",
     "text": [
      "6.485470860550342\n"
     ]
    }
   ],
   "source": [
    "s = 0\n",
    "\n",
    "for i in range(2, 1001):\n",
    "    s += 1/i\n",
    "\n",
    "print(s)"
   ]
  }
 ],
 "metadata": {
  "kernelspec": {
   "display_name": "Python 3 (ipykernel)",
   "language": "python",
   "name": "python3"
  },
  "language_info": {
   "codemirror_mode": {
    "name": "ipython",
    "version": 3
   },
   "file_extension": ".py",
   "mimetype": "text/x-python",
   "name": "python",
   "nbconvert_exporter": "python",
   "pygments_lexer": "ipython3",
   "version": "3.9.13"
  }
 },
 "nbformat": 4,
 "nbformat_minor": 5
}

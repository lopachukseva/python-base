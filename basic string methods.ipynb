{
 "cells": [
  {
   "cell_type": "markdown",
   "id": "f5dad562",
   "metadata": {},
   "source": [
    "## Методы строк"
   ]
  },
  {
   "cell_type": "markdown",
   "id": "01f06c97",
   "metadata": {},
   "source": [
    "При объявлении строковой переменной в памяти автоматически создается объект, содержащий набор символов:"
   ]
  },
  {
   "cell_type": "code",
   "execution_count": 1,
   "id": "479b95d9",
   "metadata": {},
   "outputs": [],
   "source": [
    "s = \"banana\""
   ]
  },
  {
   "cell_type": "markdown",
   "id": "200c334f",
   "metadata": {},
   "source": [
    "и на этот объект ссылается переменная. При этом тип объекта - строковый:"
   ]
  },
  {
   "cell_type": "code",
   "execution_count": 2,
   "id": "1ccc1efc",
   "metadata": {},
   "outputs": [
    {
     "data": {
      "text/plain": [
       "str"
      ]
     },
     "execution_count": 2,
     "metadata": {},
     "output_type": "execute_result"
    }
   ],
   "source": [
    "type(s)"
   ]
  },
  {
   "cell_type": "markdown",
   "id": "241612a8",
   "metadata": {},
   "source": [
    "Каждый такой объект связан с набором стандартных функций по работе со строками. Эти функции называются методами"
   ]
  },
  {
   "cell_type": "markdown",
   "id": "e884802b",
   "metadata": {},
   "source": [
    "Чтобы вызвать какой либо метод необходимо воспользоваться следующим синтаксисом:<br>\n",
    "- object.method(arguments) <br>\n",
    "\n",
    "Для вызова функции обязательно наличие скобок. Без них метод не будет вызван, и будет получено имя метода и её адрес."
   ]
  },
  {
   "cell_type": "markdown",
   "id": "d6be5545",
   "metadata": {},
   "source": [
    "### upper"
   ]
  },
  {
   "cell_type": "markdown",
   "id": "6f0dfe77",
   "metadata": {},
   "source": [
    "Преобразование всех строчных букв в заглавные:"
   ]
  },
  {
   "cell_type": "code",
   "execution_count": 3,
   "id": "c8ac8e75",
   "metadata": {},
   "outputs": [
    {
     "data": {
      "text/plain": [
       "'BANANA'"
      ]
     },
     "execution_count": 3,
     "metadata": {},
     "output_type": "execute_result"
    }
   ],
   "source": [
    "s.upper()"
   ]
  },
  {
   "cell_type": "code",
   "execution_count": 4,
   "id": "644f9327",
   "metadata": {},
   "outputs": [
    {
     "data": {
      "text/plain": [
       "'banana'"
      ]
     },
     "execution_count": 4,
     "metadata": {},
     "output_type": "execute_result"
    }
   ],
   "source": [
    "s"
   ]
  },
  {
   "cell_type": "markdown",
   "id": "6a7272af",
   "metadata": {},
   "source": [
    "Для сохранения результата надо задать эту переменную и через оператор присваивания присвоить то, что возвратит данный метод:"
   ]
  },
  {
   "cell_type": "code",
   "execution_count": 5,
   "id": "585c0ef2",
   "metadata": {},
   "outputs": [],
   "source": [
    "s = s.upper()"
   ]
  },
  {
   "cell_type": "code",
   "execution_count": 6,
   "id": "2441bc99",
   "metadata": {},
   "outputs": [
    {
     "data": {
      "text/plain": [
       "'BANANA'"
      ]
     },
     "execution_count": 6,
     "metadata": {},
     "output_type": "execute_result"
    }
   ],
   "source": [
    "s"
   ]
  },
  {
   "cell_type": "markdown",
   "id": "f73f1f9f",
   "metadata": {},
   "source": [
    "По аналогии происходит работа с другими методами."
   ]
  },
  {
   "cell_type": "markdown",
   "id": "6620bb8e",
   "metadata": {},
   "source": [
    "### lower"
   ]
  },
  {
   "cell_type": "markdown",
   "id": "b72dae87",
   "metadata": {},
   "source": [
    "Перевод заглавных букв в строчные:"
   ]
  },
  {
   "cell_type": "code",
   "execution_count": 7,
   "id": "360c6a1e",
   "metadata": {},
   "outputs": [],
   "source": [
    "s = s.lower()"
   ]
  },
  {
   "cell_type": "code",
   "execution_count": 8,
   "id": "6a75f64b",
   "metadata": {},
   "outputs": [
    {
     "data": {
      "text/plain": [
       "'banana'"
      ]
     },
     "execution_count": 8,
     "metadata": {},
     "output_type": "execute_result"
    }
   ],
   "source": [
    "s"
   ]
  },
  {
   "cell_type": "markdown",
   "id": "69e1b3ee",
   "metadata": {},
   "source": [
    "### count"
   ]
  },
  {
   "cell_type": "markdown",
   "id": "55db9002",
   "metadata": {},
   "source": [
    "Метод count возвращает число вхождения подстроки в строку:"
   ]
  },
  {
   "cell_type": "code",
   "execution_count": 9,
   "id": "17d34a32",
   "metadata": {},
   "outputs": [
    {
     "data": {
      "text/plain": [
       "2"
      ]
     },
     "execution_count": 9,
     "metadata": {},
     "output_type": "execute_result"
    }
   ],
   "source": [
    "s.count(\"na\")"
   ]
  },
  {
   "cell_type": "markdown",
   "id": "231857fe",
   "metadata": {},
   "source": [
    "В качестве необязетельного аргумента принимает индекс, с которого начинается поиск:"
   ]
  },
  {
   "cell_type": "code",
   "execution_count": 10,
   "id": "799ce99f",
   "metadata": {},
   "outputs": [
    {
     "data": {
      "text/plain": [
       "1"
      ]
     },
     "execution_count": 10,
     "metadata": {},
     "output_type": "execute_result"
    }
   ],
   "source": [
    "s.count(\"na\", 3)"
   ]
  },
  {
   "cell_type": "markdown",
   "id": "f0396734",
   "metadata": {},
   "source": [
    "и конечный, на котором поиск заканчивается. Так же, как и в срезе, конечный символ игнорируется:"
   ]
  },
  {
   "cell_type": "code",
   "execution_count": 11,
   "id": "44857300",
   "metadata": {},
   "outputs": [
    {
     "data": {
      "text/plain": [
       "0"
      ]
     },
     "execution_count": 11,
     "metadata": {},
     "output_type": "execute_result"
    }
   ],
   "source": [
    "s.count(\"na\", 3, 5)"
   ]
  },
  {
   "cell_type": "markdown",
   "id": "75bccada",
   "metadata": {},
   "source": [
    "### find"
   ]
  },
  {
   "cell_type": "markdown",
   "id": "605731ad",
   "metadata": {},
   "source": [
    "Метод find возвращает индекс первого найденного вхождения подстроки:"
   ]
  },
  {
   "cell_type": "code",
   "execution_count": 12,
   "id": "f118b93c",
   "metadata": {},
   "outputs": [
    {
     "data": {
      "text/plain": [
       "2"
      ]
     },
     "execution_count": 12,
     "metadata": {},
     "output_type": "execute_result"
    }
   ],
   "source": [
    "s.find(\"na\")"
   ]
  },
  {
   "cell_type": "markdown",
   "id": "f1e1ce0a",
   "metadata": {},
   "source": [
    "По аналогии с методом count, можно передавать индексы начала и конца поиска:"
   ]
  },
  {
   "cell_type": "code",
   "execution_count": 13,
   "id": "26a57e16",
   "metadata": {},
   "outputs": [
    {
     "data": {
      "text/plain": [
       "2"
      ]
     },
     "execution_count": 13,
     "metadata": {},
     "output_type": "execute_result"
    }
   ],
   "source": [
    "s.find(\"na\", 2, 5)"
   ]
  },
  {
   "cell_type": "code",
   "execution_count": 18,
   "id": "6e108d81",
   "metadata": {},
   "outputs": [
    {
     "ename": "SyntaxError",
     "evalue": "invalid syntax (2072657334.py, line 1)",
     "output_type": "error",
     "traceback": [
      "\u001b[1;36m  File \u001b[1;32m\"C:\\Users\\Seva Lopachuk\\AppData\\Local\\Temp\\ipykernel_10308\\2072657334.py\"\u001b[1;36m, line \u001b[1;32m1\u001b[0m\n\u001b[1;33m    s.count(\"na\", , 5)\u001b[0m\n\u001b[1;37m                  ^\u001b[0m\n\u001b[1;31mSyntaxError\u001b[0m\u001b[1;31m:\u001b[0m invalid syntax\n"
     ]
    }
   ],
   "source": [
    "s.count(\"na\", , 5)"
   ]
  },
  {
   "cell_type": "markdown",
   "id": "95897e15",
   "metadata": {},
   "source": [
    "В случае, если ничего не найдено, возвращает -1:"
   ]
  },
  {
   "cell_type": "code",
   "execution_count": 14,
   "id": "cc0a399d",
   "metadata": {},
   "outputs": [
    {
     "data": {
      "text/plain": [
       "-1"
      ]
     },
     "execution_count": 14,
     "metadata": {},
     "output_type": "execute_result"
    }
   ],
   "source": [
    "s.find(\"na\", 3, 5)"
   ]
  },
  {
   "cell_type": "markdown",
   "id": "47130281",
   "metadata": {},
   "source": [
    "### rfind"
   ]
  },
  {
   "cell_type": "markdown",
   "id": "2fcab1c4",
   "metadata": {},
   "source": [
    "Метод rfind работает аналогично методу find, но осуществляет поиск не слева-направо, а справа-налево:"
   ]
  },
  {
   "cell_type": "code",
   "execution_count": 15,
   "id": "b910edd8",
   "metadata": {
    "scrolled": true
   },
   "outputs": [
    {
     "data": {
      "text/plain": [
       "'banana'"
      ]
     },
     "execution_count": 15,
     "metadata": {},
     "output_type": "execute_result"
    }
   ],
   "source": [
    "s"
   ]
  },
  {
   "cell_type": "code",
   "execution_count": 16,
   "id": "23a733b4",
   "metadata": {},
   "outputs": [
    {
     "data": {
      "text/plain": [
       "4"
      ]
     },
     "execution_count": 16,
     "metadata": {},
     "output_type": "execute_result"
    }
   ],
   "source": [
    "s.rfind(\"na\")"
   ]
  },
  {
   "cell_type": "markdown",
   "id": "cbab96d8",
   "metadata": {},
   "source": [
    "### index"
   ]
  },
  {
   "cell_type": "markdown",
   "id": "d04678f0",
   "metadata": {},
   "source": [
    "Метод index аналогичен find, но в случае, если не будет найдено вхождение - возвращает ошибку:"
   ]
  },
  {
   "cell_type": "code",
   "execution_count": 17,
   "id": "37119366",
   "metadata": {},
   "outputs": [],
   "source": [
    "# s.index(\"bna\")"
   ]
  },
  {
   "cell_type": "markdown",
   "id": "d2fdddbc",
   "metadata": {},
   "source": [
    "### replace"
   ]
  },
  {
   "cell_type": "markdown",
   "id": "4beda605",
   "metadata": {},
   "source": [
    "Метод replace выполняет замену подстрок old на новую подстроку new:<br>\n",
    "- string.replace(old, new, count=-1)<br>\n",
    "count - максимальное число замен. (-1 - без ограничений)\n"
   ]
  },
  {
   "cell_type": "code",
   "execution_count": 18,
   "id": "3ffdf099",
   "metadata": {},
   "outputs": [],
   "source": [
    "q = \"banana in banana\""
   ]
  },
  {
   "cell_type": "code",
   "execution_count": 19,
   "id": "afcb4ab3",
   "metadata": {},
   "outputs": [
    {
     "data": {
      "text/plain": [
       "'bazaza in bazaza'"
      ]
     },
     "execution_count": 19,
     "metadata": {},
     "output_type": "execute_result"
    }
   ],
   "source": [
    "q.replace(\"na\", \"za\")"
   ]
  },
  {
   "cell_type": "code",
   "execution_count": 20,
   "id": "33f81c66",
   "metadata": {},
   "outputs": [
    {
     "data": {
      "text/plain": [
       "'bazaza in banana'"
      ]
     },
     "execution_count": 20,
     "metadata": {},
     "output_type": "execute_result"
    }
   ],
   "source": [
    "q.replace(\"na\", \"za\", 2)"
   ]
  },
  {
   "cell_type": "code",
   "execution_count": 21,
   "id": "37715069",
   "metadata": {},
   "outputs": [
    {
     "data": {
      "text/plain": [
       "'baNANA in banana'"
      ]
     },
     "execution_count": 21,
     "metadata": {},
     "output_type": "execute_result"
    }
   ],
   "source": [
    "q.replace(\"na\", \"NA\", 2)"
   ]
  },
  {
   "cell_type": "code",
   "execution_count": 22,
   "id": "1c66ae80",
   "metadata": {},
   "outputs": [
    {
     "data": {
      "text/plain": [
       "'ba in ba'"
      ]
     },
     "execution_count": 22,
     "metadata": {},
     "output_type": "execute_result"
    }
   ],
   "source": [
    "q.replace(\"na\", \"\")"
   ]
  },
  {
   "cell_type": "markdown",
   "id": "8ff1078e",
   "metadata": {},
   "source": [
    "### isalpha"
   ]
  },
  {
   "cell_type": "markdown",
   "id": "2589b13f",
   "metadata": {},
   "source": [
    "Метод isalpha возвращает True, если строка полностью состоит из букв. В противном случае возвращает False."
   ]
  },
  {
   "cell_type": "code",
   "execution_count": 29,
   "id": "05b18048",
   "metadata": {},
   "outputs": [],
   "source": [
    "msg = \"string\""
   ]
  },
  {
   "cell_type": "code",
   "execution_count": 30,
   "id": "d83512a1",
   "metadata": {},
   "outputs": [
    {
     "data": {
      "text/plain": [
       "True"
      ]
     },
     "execution_count": 30,
     "metadata": {},
     "output_type": "execute_result"
    }
   ],
   "source": [
    "msg.isalpha()"
   ]
  },
  {
   "cell_type": "code",
   "execution_count": 31,
   "id": "2515cc03",
   "metadata": {},
   "outputs": [
    {
     "data": {
      "text/plain": [
       "False"
      ]
     },
     "execution_count": 31,
     "metadata": {},
     "output_type": "execute_result"
    }
   ],
   "source": [
    "\" a\".isalpha()"
   ]
  },
  {
   "cell_type": "code",
   "execution_count": 32,
   "id": "b535c488",
   "metadata": {},
   "outputs": [
    {
     "data": {
      "text/plain": [
       "False"
      ]
     },
     "execution_count": 32,
     "metadata": {},
     "output_type": "execute_result"
    }
   ],
   "source": [
    "\"2a\".isalpha()"
   ]
  },
  {
   "cell_type": "markdown",
   "id": "6df42bfa",
   "metadata": {},
   "source": [
    "### isdigit"
   ]
  },
  {
   "cell_type": "markdown",
   "id": "ae0619b4",
   "metadata": {},
   "source": [
    "Метод isdigit возвращает True, если строка полностью состоит из цифр. В противном случае возвращает False."
   ]
  },
  {
   "cell_type": "code",
   "execution_count": 34,
   "id": "79d702d8",
   "metadata": {},
   "outputs": [
    {
     "data": {
      "text/plain": [
       "True"
      ]
     },
     "execution_count": 34,
     "metadata": {},
     "output_type": "execute_result"
    }
   ],
   "source": [
    "\"745\".isdigit()"
   ]
  },
  {
   "cell_type": "code",
   "execution_count": 36,
   "id": "f00d018d",
   "metadata": {},
   "outputs": [
    {
     "data": {
      "text/plain": [
       "False"
      ]
     },
     "execution_count": 36,
     "metadata": {},
     "output_type": "execute_result"
    }
   ],
   "source": [
    "num_str = \"24 54\"\n",
    "num_str.isdigit()"
   ]
  },
  {
   "cell_type": "markdown",
   "id": "9cb514f1",
   "metadata": {},
   "source": [
    "### rjust"
   ]
  },
  {
   "cell_type": "markdown",
   "id": "4213a259",
   "metadata": {},
   "source": [
    "Метод rjust возвращает новую строку с заданным числом символов width. Дополнительный аргумент fillchar определяет элементы заполнители (по умолчанию - пробел):<br>\n",
    "- string.rjust(width, fillchar='')"
   ]
  },
  {
   "cell_type": "code",
   "execution_count": 42,
   "id": "a7ee7307",
   "metadata": {},
   "outputs": [],
   "source": [
    "t = ''"
   ]
  },
  {
   "cell_type": "code",
   "execution_count": 43,
   "id": "cc997375",
   "metadata": {
    "scrolled": true
   },
   "outputs": [
    {
     "data": {
      "text/plain": [
       "''"
      ]
     },
     "execution_count": 43,
     "metadata": {},
     "output_type": "execute_result"
    }
   ],
   "source": [
    "t"
   ]
  },
  {
   "cell_type": "code",
   "execution_count": 44,
   "id": "4447e3cd",
   "metadata": {},
   "outputs": [
    {
     "data": {
      "text/plain": [
       "'        '"
      ]
     },
     "execution_count": 44,
     "metadata": {},
     "output_type": "execute_result"
    }
   ],
   "source": [
    "t.rjust(8)"
   ]
  },
  {
   "cell_type": "markdown",
   "id": "382083eb",
   "metadata": {},
   "source": [
    "Если строка не пустая - то слева будут добавлены символы таким образом, чтобы общая длина строки была равна width:"
   ]
  },
  {
   "cell_type": "code",
   "execution_count": 45,
   "id": "9d464699",
   "metadata": {},
   "outputs": [],
   "source": [
    "d = 'word'"
   ]
  },
  {
   "cell_type": "code",
   "execution_count": 46,
   "id": "a98eb1b3",
   "metadata": {
    "scrolled": true
   },
   "outputs": [
    {
     "data": {
      "text/plain": [
       "'word'"
      ]
     },
     "execution_count": 46,
     "metadata": {},
     "output_type": "execute_result"
    }
   ],
   "source": [
    "d"
   ]
  },
  {
   "cell_type": "code",
   "execution_count": 48,
   "id": "e268c2c8",
   "metadata": {},
   "outputs": [],
   "source": [
    "d = d.rjust(8)"
   ]
  },
  {
   "cell_type": "code",
   "execution_count": 49,
   "id": "ca852d96",
   "metadata": {},
   "outputs": [
    {
     "data": {
      "text/plain": [
       "8"
      ]
     },
     "execution_count": 49,
     "metadata": {},
     "output_type": "execute_result"
    }
   ],
   "source": [
    "len(d)"
   ]
  },
  {
   "cell_type": "markdown",
   "id": "8168b654",
   "metadata": {},
   "source": [
    "Для смены заполнителя указывается второй параметр:"
   ]
  },
  {
   "cell_type": "code",
   "execution_count": 53,
   "id": "7ad6b4d6",
   "metadata": {},
   "outputs": [],
   "source": [
    "d = \"12\""
   ]
  },
  {
   "cell_type": "code",
   "execution_count": 54,
   "id": "153f1029",
   "metadata": {},
   "outputs": [],
   "source": [
    "d = d.rjust(4, \"0\")"
   ]
  },
  {
   "cell_type": "code",
   "execution_count": 55,
   "id": "e27fc273",
   "metadata": {},
   "outputs": [
    {
     "data": {
      "text/plain": [
       "'0012'"
      ]
     },
     "execution_count": 55,
     "metadata": {},
     "output_type": "execute_result"
    }
   ],
   "source": [
    "d"
   ]
  },
  {
   "cell_type": "markdown",
   "id": "e2b41bcc",
   "metadata": {},
   "source": [
    "### ljust"
   ]
  },
  {
   "cell_type": "markdown",
   "id": "9155fa65",
   "metadata": {},
   "source": [
    "Функция ljust работает аналогично, но добавляет символы справа:"
   ]
  },
  {
   "cell_type": "code",
   "execution_count": 57,
   "id": "1cd7daec",
   "metadata": {},
   "outputs": [],
   "source": [
    "d = \"word\""
   ]
  },
  {
   "cell_type": "code",
   "execution_count": 60,
   "id": "ba5efd73",
   "metadata": {},
   "outputs": [
    {
     "data": {
      "text/plain": [
       "'word######'"
      ]
     },
     "execution_count": 60,
     "metadata": {},
     "output_type": "execute_result"
    }
   ],
   "source": [
    "d.ljust(10, \"#\")"
   ]
  },
  {
   "cell_type": "markdown",
   "id": "8158922d",
   "metadata": {},
   "source": [
    "### split"
   ]
  },
  {
   "cell_type": "markdown",
   "id": "ab84f675",
   "metadata": {},
   "source": [
    "Метод split возвращает список из строк, на которые разбивается исходная строка string:\n",
    "- string.split(sep=None, maxsplit=-1)<br>\n",
    "sep - фрагмент разбиения строки\n",
    "\n",
    "По умолчанию (если не указывать параметр sep) разделителем является пробел."
   ]
  },
  {
   "cell_type": "code",
   "execution_count": 63,
   "id": "ec8b89fa",
   "metadata": {},
   "outputs": [
    {
     "data": {
      "text/plain": [
       "['Иванов', 'Иван', 'Иванович']"
      ]
     },
     "execution_count": 63,
     "metadata": {},
     "output_type": "execute_result"
    }
   ],
   "source": [
    "\"Иванов Иван Иванович\".split(\" \")"
   ]
  },
  {
   "cell_type": "markdown",
   "id": "5ce12091",
   "metadata": {},
   "source": [
    "Предположим, что нужно извлечь из строки цифры без запятых и пробелов:"
   ]
  },
  {
   "cell_type": "code",
   "execution_count": 64,
   "id": "5667969e",
   "metadata": {},
   "outputs": [],
   "source": [
    "digs = \"1,2,3 ,4, 5 , 6\""
   ]
  },
  {
   "cell_type": "markdown",
   "id": "b6a9bb78",
   "metadata": {},
   "source": [
    "Первым шагом при помощи метода replace удалим пробелы:"
   ]
  },
  {
   "cell_type": "code",
   "execution_count": 65,
   "id": "43e04480",
   "metadata": {},
   "outputs": [],
   "source": [
    "digs = digs.replace(\" \", \"\")"
   ]
  },
  {
   "cell_type": "code",
   "execution_count": 66,
   "id": "d06055ee",
   "metadata": {},
   "outputs": [
    {
     "data": {
      "text/plain": [
       "'1,2,3,4,5,6'"
      ]
     },
     "execution_count": 66,
     "metadata": {},
     "output_type": "execute_result"
    }
   ],
   "source": [
    "digs"
   ]
  },
  {
   "cell_type": "markdown",
   "id": "206b9068",
   "metadata": {},
   "source": [
    "А потом разделим их с помощью метода split:"
   ]
  },
  {
   "cell_type": "code",
   "execution_count": 69,
   "id": "562288ae",
   "metadata": {},
   "outputs": [],
   "source": [
    "digs = digs.split(\",\")"
   ]
  },
  {
   "cell_type": "code",
   "execution_count": 70,
   "id": "60a311ac",
   "metadata": {},
   "outputs": [
    {
     "data": {
      "text/plain": [
       "['1', '2', '3', '4', '5', '6']"
      ]
     },
     "execution_count": 70,
     "metadata": {},
     "output_type": "execute_result"
    }
   ],
   "source": [
    "digs"
   ]
  },
  {
   "cell_type": "markdown",
   "id": "149a5511",
   "metadata": {},
   "source": [
    "Или сокращенно:"
   ]
  },
  {
   "cell_type": "code",
   "execution_count": 71,
   "id": "f599e63b",
   "metadata": {},
   "outputs": [
    {
     "data": {
      "text/plain": [
       "['1', '2', '3', '4', '5', '6']"
      ]
     },
     "execution_count": 71,
     "metadata": {},
     "output_type": "execute_result"
    }
   ],
   "source": [
    "digs = \"1,2,3 ,4, 5 , 6\"\n",
    "digs = digs.replace(\" \", \"\").split(\",\")\n",
    "digs"
   ]
  },
  {
   "cell_type": "markdown",
   "id": "e5a19fbb",
   "metadata": {},
   "source": [
    "### join"
   ]
  },
  {
   "cell_type": "markdown",
   "id": "cdb294f6",
   "metadata": {},
   "source": [
    "Метод join делает операцию обратную методу split - собирает строку из фрагментов в списке:\n",
    "- string.join(list)<br>\n",
    "\n",
    "string - строка с символом, который будет разделять фрагменты"
   ]
  },
  {
   "cell_type": "code",
   "execution_count": 73,
   "id": "3326decc",
   "metadata": {},
   "outputs": [],
   "source": [
    "list = ['1', '2', '3', '4', '5', '6']"
   ]
  },
  {
   "cell_type": "code",
   "execution_count": 74,
   "id": "669a5878",
   "metadata": {},
   "outputs": [
    {
     "data": {
      "text/plain": [
       "'1 2 3 4 5 6'"
      ]
     },
     "execution_count": 74,
     "metadata": {},
     "output_type": "execute_result"
    }
   ],
   "source": [
    "\" \".join(list)"
   ]
  },
  {
   "cell_type": "code",
   "execution_count": 75,
   "id": "f89c2560",
   "metadata": {},
   "outputs": [
    {
     "data": {
      "text/plain": [
       "'1, 2, 3, 4, 5, 6'"
      ]
     },
     "execution_count": 75,
     "metadata": {},
     "output_type": "execute_result"
    }
   ],
   "source": [
    "\", \".join(list)"
   ]
  },
  {
   "cell_type": "code",
   "execution_count": 76,
   "id": "ac97a754",
   "metadata": {},
   "outputs": [],
   "source": [
    "o = \"-\""
   ]
  },
  {
   "cell_type": "code",
   "execution_count": 77,
   "id": "f0fa5884",
   "metadata": {},
   "outputs": [
    {
     "data": {
      "text/plain": [
       "'1-2-3-4-5-6'"
      ]
     },
     "execution_count": 77,
     "metadata": {},
     "output_type": "execute_result"
    }
   ],
   "source": [
    "o.join(list)"
   ]
  },
  {
   "cell_type": "markdown",
   "id": "c3f82e2a",
   "metadata": {},
   "source": [
    "### strip"
   ]
  },
  {
   "cell_type": "markdown",
   "id": "da92a2bf",
   "metadata": {},
   "source": [
    "Метод strip удаляет все символы пробелов и переносов строк в начале и в конце строки:\n",
    "- string.strip()"
   ]
  },
  {
   "cell_type": "code",
   "execution_count": 80,
   "id": "c0ef6180",
   "metadata": {},
   "outputs": [
    {
     "data": {
      "text/plain": [
       "'Hello world'"
      ]
     },
     "execution_count": 80,
     "metadata": {},
     "output_type": "execute_result"
    }
   ],
   "source": [
    "\"           Hello world \\n \\n   \".strip()"
   ]
  },
  {
   "cell_type": "code",
   "execution_count": 81,
   "id": "761a0317",
   "metadata": {},
   "outputs": [],
   "source": [
    "j = \"        Summer\\n\\n\\n   \""
   ]
  },
  {
   "cell_type": "code",
   "execution_count": 82,
   "id": "9a00c2ed",
   "metadata": {},
   "outputs": [
    {
     "data": {
      "text/plain": [
       "'        Summer\\n\\n\\n   '"
      ]
     },
     "execution_count": 82,
     "metadata": {},
     "output_type": "execute_result"
    }
   ],
   "source": [
    "j"
   ]
  },
  {
   "cell_type": "code",
   "execution_count": 83,
   "id": "8f68dac6",
   "metadata": {},
   "outputs": [
    {
     "data": {
      "text/plain": [
       "'Summer'"
      ]
     },
     "execution_count": 83,
     "metadata": {},
     "output_type": "execute_result"
    }
   ],
   "source": [
    "j.strip()"
   ]
  },
  {
   "cell_type": "markdown",
   "id": "3bc315ea",
   "metadata": {},
   "source": [
    "### lstrip / rstrip"
   ]
  },
  {
   "cell_type": "markdown",
   "id": "8ae20d21",
   "metadata": {},
   "source": [
    "Аналогичным образом работают методы lstrip и rstrip. Но lstrip выполняет удаление только в левой части строки, а rstrip - в правой:"
   ]
  },
  {
   "cell_type": "code",
   "execution_count": 87,
   "id": "dc015ce0",
   "metadata": {},
   "outputs": [
    {
     "data": {
      "text/plain": [
       "'        Summer\\n\\n\\n   '"
      ]
     },
     "execution_count": 87,
     "metadata": {},
     "output_type": "execute_result"
    }
   ],
   "source": [
    "j"
   ]
  },
  {
   "cell_type": "code",
   "execution_count": 88,
   "id": "0c060235",
   "metadata": {},
   "outputs": [
    {
     "data": {
      "text/plain": [
       "'Summer\\n\\n\\n   '"
      ]
     },
     "execution_count": 88,
     "metadata": {},
     "output_type": "execute_result"
    }
   ],
   "source": [
    "j.lstrip()"
   ]
  },
  {
   "cell_type": "code",
   "execution_count": 89,
   "id": "6b23d59f",
   "metadata": {},
   "outputs": [
    {
     "data": {
      "text/plain": [
       "'        Summer'"
      ]
     },
     "execution_count": 89,
     "metadata": {},
     "output_type": "execute_result"
    }
   ],
   "source": [
    "j.rstrip()"
   ]
  }
 ],
 "metadata": {
  "kernelspec": {
   "display_name": "Python 3 (ipykernel)",
   "language": "python",
   "name": "python3"
  },
  "language_info": {
   "codemirror_mode": {
    "name": "ipython",
    "version": 3
   },
   "file_extension": ".py",
   "mimetype": "text/x-python",
   "name": "python",
   "nbconvert_exporter": "python",
   "pygments_lexer": "ipython3",
   "version": "3.9.13"
  }
 },
 "nbformat": 4,
 "nbformat_minor": 5
}

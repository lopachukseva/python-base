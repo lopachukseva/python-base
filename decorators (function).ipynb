{
 "cells": [
  {
   "cell_type": "markdown",
   "id": "2cec88e5",
   "metadata": {},
   "source": [
    "## Декораторы функций"
   ]
  },
  {
   "cell_type": "markdown",
   "id": "a0910a5d",
   "metadata": {},
   "source": [
    "Создадим функцию func_decorator с параметром func, в который будет попадать ссылка на функцию. Внутри этой функции создадим внутреннюю функцию с именем wrapper. Эта функция будет вызывать ту функцию, ссылка на которую была передана на внешнюю функцию, но до и после может выполнять какие либо действия. В самом конце внешняя функция будет возвращать ссылку на внутреннюю. Получился декоратор в самом простом его виде:"
   ]
  },
  {
   "cell_type": "code",
   "execution_count": 1,
   "id": "5121b21e",
   "metadata": {},
   "outputs": [],
   "source": [
    "def func_decorator(func):\n",
    "    def wrapper():\n",
    "        print(\"Действие перед запуском функции\")\n",
    "        func() # запуск функции\n",
    "        print(\"Действие после запуска функции\")\n",
    "    return wrapper\n"
   ]
  },
  {
   "cell_type": "markdown",
   "id": "2a9a76af",
   "metadata": {},
   "source": [
    "Создадим вторую функцию, которая просто будет выводить в консоль строку \"Тестовая функция\":"
   ]
  },
  {
   "cell_type": "code",
   "execution_count": 2,
   "id": "f92dc9e4",
   "metadata": {},
   "outputs": [],
   "source": [
    "def test_func():\n",
    "    print(\"Тестовая функция\")"
   ]
  },
  {
   "cell_type": "markdown",
   "id": "c1cfe475",
   "metadata": {},
   "source": [
    "Эту функцию можно вызвать самым простым образом:"
   ]
  },
  {
   "cell_type": "code",
   "execution_count": 3,
   "id": "ce6a625e",
   "metadata": {
    "scrolled": true
   },
   "outputs": [
    {
     "name": "stdout",
     "output_type": "stream",
     "text": [
      "Тестовая функция\n"
     ]
    }
   ],
   "source": [
    "test_func()"
   ]
  },
  {
   "cell_type": "markdown",
   "id": "0490e671",
   "metadata": {},
   "source": [
    "А можно и с помощью декоратора. Вызовем функцию func_decorator и передадим ей ссылку на функцию test_func. Сохраним результат (ссылку на внутреннюю функцию) в переменную f:"
   ]
  },
  {
   "cell_type": "code",
   "execution_count": 4,
   "id": "ab3254ca",
   "metadata": {},
   "outputs": [],
   "source": [
    "f = func_decorator(test_func)"
   ]
  },
  {
   "cell_type": "markdown",
   "id": "17661335",
   "metadata": {},
   "source": [
    "И вызовем эту функцию:"
   ]
  },
  {
   "cell_type": "code",
   "execution_count": 5,
   "id": "c9c91e96",
   "metadata": {},
   "outputs": [
    {
     "name": "stdout",
     "output_type": "stream",
     "text": [
      "Действие перед запуском функции\n",
      "Тестовая функция\n",
      "Действие после запуска функции\n"
     ]
    }
   ],
   "source": [
    "f()"
   ]
  },
  {
   "cell_type": "markdown",
   "id": "039f0cff",
   "metadata": {},
   "source": [
    "Теперь помимо самой функции выполнились некие действия до и после."
   ]
  },
  {
   "cell_type": "markdown",
   "id": "a08f5ebb",
   "metadata": {},
   "source": [
    "Но обычно при декорировании создают ссылку на то же самое имя:"
   ]
  },
  {
   "cell_type": "code",
   "execution_count": 6,
   "id": "aa0d2a92",
   "metadata": {},
   "outputs": [],
   "source": [
    "test_func = func_decorator(test_func)"
   ]
  },
  {
   "cell_type": "code",
   "execution_count": 7,
   "id": "af884fee",
   "metadata": {},
   "outputs": [
    {
     "name": "stdout",
     "output_type": "stream",
     "text": [
      "Действие перед запуском функции\n",
      "Тестовая функция\n",
      "Действие после запуска функции\n"
     ]
    }
   ],
   "source": [
    "test_func()"
   ]
  },
  {
   "cell_type": "markdown",
   "id": "f499e0de",
   "metadata": {},
   "source": [
    "В итоге функция test_func меняет свою работу. Она не просто выводит что либо в консоль: будут дополнительно выполнены действия до и после. И все это произошло благодаря механизму замыкания. "
   ]
  },
  {
   "cell_type": "markdown",
   "id": "b8fc74c4",
   "metadata": {},
   "source": [
    "Если мы хотим, чтобы функция test_func выводила в консоль пережанные ей значения, придется модифицировать и функцию, и декоратор:"
   ]
  },
  {
   "cell_type": "code",
   "execution_count": 8,
   "id": "51a13660",
   "metadata": {},
   "outputs": [],
   "source": [
    "def func_decorator(func):\n",
    "    def wrapper(val):\n",
    "        print(\"Действие перед запуском функции\")\n",
    "        func(val) # запуск функции\n",
    "        print(\"Действие после запуска функции\")\n",
    "    return wrapper\n",
    "\n",
    "def test_func(val):\n",
    "    print(f\"Тестовая функция выводит переданное ей значение - {val}\")"
   ]
  },
  {
   "cell_type": "code",
   "execution_count": 9,
   "id": "c60364ac",
   "metadata": {},
   "outputs": [],
   "source": [
    "test_func = func_decorator(test_func)"
   ]
  },
  {
   "cell_type": "code",
   "execution_count": 10,
   "id": "18a17e53",
   "metadata": {},
   "outputs": [
    {
     "name": "stdout",
     "output_type": "stream",
     "text": [
      "Действие перед запуском функции\n",
      "Тестовая функция выводит переданное ей значение - Привет!\n",
      "Действие после запуска функции\n"
     ]
    }
   ],
   "source": [
    "test_func(\"Привет!\")"
   ]
  },
  {
   "cell_type": "markdown",
   "id": "7104632f",
   "metadata": {},
   "source": [
    "Но в этом случае декоратор не универсален: если изменится функция test_func, то придется редактировать и декоратор. Чтобы исправить это, в декораторе стоит использовать коллекции неименованных и неименованных параметров args и kwargs:"
   ]
  },
  {
   "cell_type": "code",
   "execution_count": 11,
   "id": "b9ee462d",
   "metadata": {},
   "outputs": [],
   "source": [
    "def func_decorator(func):\n",
    "    def wrapper(*args, **kwargs):\n",
    "        print(\"Действие перед запуском функции\")\n",
    "        func(*args, **kwargs) # запуск функции\n",
    "        print(\"Действие после запуска функции\")\n",
    "    return wrapper"
   ]
  },
  {
   "cell_type": "markdown",
   "id": "c159ffc4",
   "metadata": {},
   "source": [
    "Которые будут запаковывать и распаковывать переданные функции test_func значения:"
   ]
  },
  {
   "cell_type": "code",
   "execution_count": 12,
   "id": "ba1292ca",
   "metadata": {},
   "outputs": [],
   "source": [
    "def test_func(val):\n",
    "    print(f\"Тестовая функция выводит переданное ей значение - {val}\")"
   ]
  },
  {
   "cell_type": "code",
   "execution_count": 13,
   "id": "1fad245a",
   "metadata": {},
   "outputs": [],
   "source": [
    "test_func = func_decorator(test_func)"
   ]
  },
  {
   "cell_type": "code",
   "execution_count": 14,
   "id": "1a6b09ee",
   "metadata": {},
   "outputs": [
    {
     "name": "stdout",
     "output_type": "stream",
     "text": [
      "Действие перед запуском функции\n",
      "Тестовая функция выводит переданное ей значение - Привет!\n",
      "Действие после запуска функции\n"
     ]
    }
   ],
   "source": [
    "test_func(\"Привет!\")"
   ]
  },
  {
   "cell_type": "markdown",
   "id": "25110206",
   "metadata": {},
   "source": [
    "И если функция изменится:"
   ]
  },
  {
   "cell_type": "code",
   "execution_count": 15,
   "id": "39cec509",
   "metadata": {},
   "outputs": [],
   "source": [
    "def test_func(val, val2):\n",
    "    print(f\"Тестовая функция выводит первое переданное ей значение - {val} и второе - {val2}\")"
   ]
  },
  {
   "cell_type": "markdown",
   "id": "7059aaea",
   "metadata": {},
   "source": [
    "Декоратор уже изменять не придется:"
   ]
  },
  {
   "cell_type": "code",
   "execution_count": 16,
   "id": "e44d0775",
   "metadata": {},
   "outputs": [],
   "source": [
    "test_func = func_decorator(test_func)"
   ]
  },
  {
   "cell_type": "code",
   "execution_count": 17,
   "id": "9b68856f",
   "metadata": {},
   "outputs": [
    {
     "name": "stdout",
     "output_type": "stream",
     "text": [
      "Действие перед запуском функции\n",
      "Тестовая функция выводит первое переданное ей значение - Первый привет! и второе - Второй привет!\n",
      "Действие после запуска функции\n"
     ]
    }
   ],
   "source": [
    "test_func(\"Первый привет!\", \"Второй привет!\")"
   ]
  },
  {
   "cell_type": "markdown",
   "id": "404675d0",
   "metadata": {},
   "source": [
    "Пример реального применения декоратора. Допустим, необходимо протестировать скорость работы различных функций. Допустим, это будет медленный и быстрый алгоритм Евклида для нахождения НОД:"
   ]
  },
  {
   "cell_type": "code",
   "execution_count": 18,
   "id": "289c4a80",
   "metadata": {},
   "outputs": [],
   "source": [
    "def get_nod(a, b):\n",
    "    while a != b:\n",
    "        if a > b:\n",
    "            a -= b\n",
    "        else:\n",
    "            b -= a\n",
    "    return a"
   ]
  },
  {
   "cell_type": "code",
   "execution_count": 19,
   "id": "d7994ea6",
   "metadata": {},
   "outputs": [],
   "source": [
    "def get_nod_f(a, b):\n",
    "    if a < b:\n",
    "        a, b = b, a\n",
    "    \n",
    "    while b != 0:\n",
    "        a, b = b, a % b\n",
    "    return a"
   ]
  },
  {
   "cell_type": "code",
   "execution_count": 20,
   "id": "64837224",
   "metadata": {},
   "outputs": [],
   "source": [
    "import time"
   ]
  },
  {
   "cell_type": "markdown",
   "id": "5ee5a85d",
   "metadata": {},
   "source": [
    "Определим декоратор:"
   ]
  },
  {
   "cell_type": "code",
   "execution_count": 21,
   "id": "26c617ce",
   "metadata": {},
   "outputs": [],
   "source": [
    "def time_deco(nod_f):\n",
    "    def wrapper(*args):\n",
    "        s_time = time.time()\n",
    "        res = nod_f(*args)\n",
    "        e_time = time.time()\n",
    "        print(f\"Время работы функции - {e_time - s_time}\")\n",
    "        return res\n",
    "    return wrapper"
   ]
  },
  {
   "cell_type": "code",
   "execution_count": 22,
   "id": "69b29a71",
   "metadata": {},
   "outputs": [],
   "source": [
    "get_nod = time_deco(get_nod)\n",
    "get_nod_f = time_deco(get_nod_f)"
   ]
  },
  {
   "cell_type": "markdown",
   "id": "1273166b",
   "metadata": {},
   "source": [
    "В итоге помимо результата мы получаем и скорость работы функции:"
   ]
  },
  {
   "cell_type": "code",
   "execution_count": 23,
   "id": "f10640ff",
   "metadata": {},
   "outputs": [
    {
     "name": "stdout",
     "output_type": "stream",
     "text": [
      "Время работы функции - 0.03279566764831543\n"
     ]
    },
    {
     "data": {
      "text/plain": [
       "2"
      ]
     },
     "execution_count": 23,
     "metadata": {},
     "output_type": "execute_result"
    }
   ],
   "source": [
    "get_nod(1000000, 2)"
   ]
  },
  {
   "cell_type": "code",
   "execution_count": 24,
   "id": "54adcdec",
   "metadata": {},
   "outputs": [
    {
     "name": "stdout",
     "output_type": "stream",
     "text": [
      "Время работы функции - 0.0\n"
     ]
    },
    {
     "data": {
      "text/plain": [
       "2"
      ]
     },
     "execution_count": 24,
     "metadata": {},
     "output_type": "execute_result"
    }
   ],
   "source": [
    "get_nod_f(1000000, 2)"
   ]
  },
  {
   "cell_type": "markdown",
   "id": "48a75e69",
   "metadata": {},
   "source": [
    "Причем этот декоратор универсален - с помощью него можно измерять скорость работы любых функций."
   ]
  },
  {
   "cell_type": "markdown",
   "id": "61dac9b7",
   "metadata": {},
   "source": [
    "На практике декораторы применяются другим образом. Перед функцией ставится символ \"@\" и просписывается имя декоратора. Например, измерим скорость работы другой функции:"
   ]
  },
  {
   "cell_type": "code",
   "execution_count": 25,
   "id": "e5dd41ca",
   "metadata": {},
   "outputs": [],
   "source": [
    "def calcFactorial(num):\n",
    "    if num < 0: return None\n",
    "    elif num == 0: return 1\n",
    "    else: return num * calcFactorial(num - 1)"
   ]
  },
  {
   "cell_type": "code",
   "execution_count": 26,
   "id": "a7be37b8",
   "metadata": {},
   "outputs": [
    {
     "data": {
      "text/plain": [
       "24"
      ]
     },
     "execution_count": 26,
     "metadata": {},
     "output_type": "execute_result"
    }
   ],
   "source": [
    "calcFactorial(4)"
   ]
  },
  {
   "cell_type": "markdown",
   "id": "51ede5ca",
   "metadata": {},
   "source": [
    "Прописав декоратор перед именем функции:"
   ]
  },
  {
   "cell_type": "code",
   "execution_count": 27,
   "id": "45ea1191",
   "metadata": {},
   "outputs": [],
   "source": [
    "@time_deco\n",
    "def calcFactorial(num):\n",
    "    if num < 0: return None\n",
    "    res = 1\n",
    "    for x in range(1, num+1):\n",
    "        res *= x\n",
    "    return res"
   ]
  },
  {
   "cell_type": "code",
   "execution_count": 28,
   "id": "d12243be",
   "metadata": {},
   "outputs": [
    {
     "name": "stdout",
     "output_type": "stream",
     "text": [
      "Время работы функции - 2.522308588027954\n"
     ]
    }
   ],
   "source": [
    "fact = calcFactorial(100000)"
   ]
  }
 ],
 "metadata": {
  "kernelspec": {
   "display_name": "Python 3 (ipykernel)",
   "language": "python",
   "name": "python3"
  },
  "language_info": {
   "codemirror_mode": {
    "name": "ipython",
    "version": 3
   },
   "file_extension": ".py",
   "mimetype": "text/x-python",
   "name": "python",
   "nbconvert_exporter": "python",
   "pygments_lexer": "ipython3",
   "version": "3.9.13"
  }
 },
 "nbformat": 4,
 "nbformat_minor": 5
}

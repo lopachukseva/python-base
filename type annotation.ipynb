{
 "cells": [
  {
   "cell_type": "markdown",
   "id": "14ca5a99",
   "metadata": {},
   "source": [
    "## Аннотация типов"
   ]
  },
  {
   "cell_type": "markdown",
   "id": "f805840e",
   "metadata": {},
   "source": [
    "В Python используется динамическая типизация. Переменная s1 может ссылаться на объект типа str:"
   ]
  },
  {
   "cell_type": "code",
   "execution_count": 1,
   "id": "91d32e68",
   "metadata": {},
   "outputs": [
    {
     "data": {
      "text/plain": [
       "str"
      ]
     },
     "execution_count": 1,
     "metadata": {},
     "output_type": "execute_result"
    }
   ],
   "source": [
    "s1 = 'python'\n",
    "type(s1)"
   ]
  },
  {
   "cell_type": "markdown",
   "id": "2ff44906",
   "metadata": {},
   "source": [
    "А потом - на другой объект другого типа:"
   ]
  },
  {
   "cell_type": "code",
   "execution_count": 2,
   "id": "d6695f67",
   "metadata": {},
   "outputs": [
    {
     "data": {
      "text/plain": [
       "int"
      ]
     },
     "execution_count": 2,
     "metadata": {},
     "output_type": "execute_result"
    }
   ],
   "source": [
    "s1 = 54\n",
    "type(s1)"
   ]
  },
  {
   "cell_type": "markdown",
   "id": "239199a7",
   "metadata": {},
   "source": [
    "То есть одна переменная может ссылаться сначала на объект одного типа, а затем - на объект другого. Это происходит потому, что переменная связывается с типом не в момент ее объявления, а в момент присваивания ей значения."
   ]
  },
  {
   "cell_type": "markdown",
   "id": "3067e73f",
   "metadata": {},
   "source": [
    "Для того, чтобы указать, что какая либо переменная работает исключительно с определенным типом, необходимо прописать в начале следующую конструкцию:<br>\n",
    "<имя переменной>: <тип>"
   ]
  },
  {
   "cell_type": "code",
   "execution_count": 3,
   "id": "f3aeb8b7",
   "metadata": {},
   "outputs": [],
   "source": [
    "num: int"
   ]
  },
  {
   "cell_type": "code",
   "execution_count": 4,
   "id": "646eb501",
   "metadata": {},
   "outputs": [],
   "source": [
    "num = 5"
   ]
  },
  {
   "cell_type": "markdown",
   "id": "51ededc8",
   "metadata": {},
   "source": [
    "Эти две строки аналогичны следующей строке:"
   ]
  },
  {
   "cell_type": "code",
   "execution_count": 5,
   "id": "66604adc",
   "metadata": {},
   "outputs": [],
   "source": [
    "num: int = 5"
   ]
  },
  {
   "cell_type": "markdown",
   "id": "4d437050",
   "metadata": {},
   "source": [
    "Это является элементом аннотации типов. Аннотация типов является исключительно информационный характер, и на ход выполнения программы она не влияет. Если присвоить переменной num другой тип (например, строковый), то ошибки не будет."
   ]
  },
  {
   "cell_type": "markdown",
   "id": "9b8231c6",
   "metadata": {},
   "source": [
    "Аннотации типов, как правило, используются:\n",
    "- для удобства восприятия стороннего кода\n",
    "- для удобства редактирования кода, когда IDE \"подсказывает\" атрибуты указанного типа переменных\n",
    "- для отслеживания некоторых явных ошибок на уровне несоответствия типов"
   ]
  },
  {
   "cell_type": "markdown",
   "id": "01bbabc2",
   "metadata": {},
   "source": [
    "Предположим, что существует функция, которая принимает число, и возвращает это же число, но умноженное на два:"
   ]
  },
  {
   "cell_type": "code",
   "execution_count": 6,
   "id": "c07d99a7",
   "metadata": {},
   "outputs": [],
   "source": [
    "def mul2(x):\n",
    "    return x * 2"
   ]
  },
  {
   "cell_type": "code",
   "execution_count": 7,
   "id": "2ea2f367",
   "metadata": {},
   "outputs": [
    {
     "name": "stdout",
     "output_type": "stream",
     "text": [
      "8\n"
     ]
    }
   ],
   "source": [
    "res = mul2(4)\n",
    "print(res)"
   ]
  },
  {
   "cell_type": "markdown",
   "id": "51f95e14",
   "metadata": {},
   "source": [
    "Но помимо числа в эту функцию можно передать и строку:"
   ]
  },
  {
   "cell_type": "code",
   "execution_count": 8,
   "id": "0aa1bdb2",
   "metadata": {},
   "outputs": [
    {
     "name": "stdout",
     "output_type": "stream",
     "text": [
      "strstr\n"
     ]
    }
   ],
   "source": [
    "res = mul2('str')\n",
    "print(res)"
   ]
  },
  {
   "cell_type": "markdown",
   "id": "e45fdb9c",
   "metadata": {},
   "source": [
    "Или список:"
   ]
  },
  {
   "cell_type": "code",
   "execution_count": 9,
   "id": "dbd67e84",
   "metadata": {},
   "outputs": [
    {
     "name": "stdout",
     "output_type": "stream",
     "text": [
      "[3, 3]\n"
     ]
    }
   ],
   "source": [
    "res = mul2([3])\n",
    "print(res)"
   ]
  },
  {
   "cell_type": "markdown",
   "id": "636899e4",
   "metadata": {},
   "source": [
    "и так далее. Т.е. эта конструкция может работать с разными типами. Но если нужно указать, что функция должна работать исключительно с целым значением, то нужно добавить аннотацию для параметра x:"
   ]
  },
  {
   "cell_type": "code",
   "execution_count": 10,
   "id": "a51de600",
   "metadata": {},
   "outputs": [],
   "source": [
    "def mul2(x: int):\n",
    "    return x * 2"
   ]
  },
  {
   "cell_type": "markdown",
   "id": "a56b3d65",
   "metadata": {},
   "source": [
    "Теперь при попытке передать аргумент, отличный от типа int, интегрированная среда подскажет, что есть несоответствие. Но все же при попытке запустить такую программу ошибок не будет."
   ]
  },
  {
   "cell_type": "markdown",
   "id": "e653c4ce",
   "metadata": {},
   "source": [
    "Также интегрированная среда внутри функции будет подсказывать только тот набор атрибутов, что есть у соответствующего типа. Без аннотации отображается общий набор атрибутов."
   ]
  },
  {
   "cell_type": "code",
   "execution_count": 11,
   "id": "efb4cd74",
   "metadata": {},
   "outputs": [
    {
     "data": {
      "text/plain": [
       "{'x': int}"
      ]
     },
     "execution_count": 11,
     "metadata": {},
     "output_type": "execute_result"
    }
   ],
   "source": [
    "mul2.__annotations__"
   ]
  },
  {
   "cell_type": "code",
   "execution_count": 12,
   "id": "ac350e8e",
   "metadata": {},
   "outputs": [],
   "source": [
    "def mul2(x: int, y: int = 2):\n",
    "    return x * y"
   ]
  },
  {
   "cell_type": "code",
   "execution_count": 13,
   "id": "22938009",
   "metadata": {},
   "outputs": [
    {
     "data": {
      "text/plain": [
       "10"
      ]
     },
     "execution_count": 13,
     "metadata": {},
     "output_type": "execute_result"
    }
   ],
   "source": [
    "mul2(5)"
   ]
  },
  {
   "cell_type": "code",
   "execution_count": 14,
   "id": "997a2a0d",
   "metadata": {},
   "outputs": [
    {
     "data": {
      "text/plain": [
       "15"
      ]
     },
     "execution_count": 14,
     "metadata": {},
     "output_type": "execute_result"
    }
   ],
   "source": [
    "mul2(5, 3)"
   ]
  },
  {
   "cell_type": "code",
   "execution_count": 15,
   "id": "259905f7",
   "metadata": {},
   "outputs": [
    {
     "data": {
      "text/plain": [
       "{'x': int, 'y': int}"
      ]
     },
     "execution_count": 15,
     "metadata": {},
     "output_type": "execute_result"
    }
   ],
   "source": [
    "mul2.__annotations__"
   ]
  },
  {
   "cell_type": "markdown",
   "id": "74a352b1",
   "metadata": {},
   "source": [
    "### Аннотация выходного значения:"
   ]
  },
  {
   "cell_type": "code",
   "execution_count": 16,
   "id": "f88214a4",
   "metadata": {},
   "outputs": [],
   "source": [
    "def mul2(x: int, y: int = 2) -> int:\n",
    "    return x * y"
   ]
  },
  {
   "cell_type": "code",
   "execution_count": 17,
   "id": "493aa53b",
   "metadata": {},
   "outputs": [
    {
     "data": {
      "text/plain": [
       "{'x': int, 'y': int, 'return': int}"
      ]
     },
     "execution_count": 17,
     "metadata": {},
     "output_type": "execute_result"
    }
   ],
   "source": [
    "mul2.__annotations__"
   ]
  },
  {
   "cell_type": "markdown",
   "id": "36682489",
   "metadata": {},
   "source": [
    "### Составная аннотация типов:"
   ]
  },
  {
   "cell_type": "markdown",
   "id": "1112d980",
   "metadata": {},
   "source": [
    "В модуле typing есть специальные символы:"
   ]
  },
  {
   "cell_type": "code",
   "execution_count": 18,
   "id": "e2457831",
   "metadata": {},
   "outputs": [],
   "source": [
    "from typing import Union, Optional, Any, Final"
   ]
  },
  {
   "cell_type": "markdown",
   "id": "0befcdd6",
   "metadata": {},
   "source": [
    "Union - объединение нескольких типов в один тип. Если параметр x может быть как int, так и float, используется следующий синтаксис:"
   ]
  },
  {
   "cell_type": "code",
   "execution_count": 19,
   "id": "f7058633",
   "metadata": {},
   "outputs": [],
   "source": [
    "def mul2(x: Union[int, float], y: int = 2) -> int:\n",
    "    return x * y"
   ]
  },
  {
   "cell_type": "markdown",
   "id": "bd61807c",
   "metadata": {},
   "source": [
    "Так как Union - объект, то можно создать переменную, которая ссылается на этот объект:"
   ]
  },
  {
   "cell_type": "code",
   "execution_count": 20,
   "id": "85ccf940",
   "metadata": {},
   "outputs": [],
   "source": [
    "Digit = Union[int, float]"
   ]
  },
  {
   "cell_type": "markdown",
   "id": "607369a8",
   "metadata": {},
   "source": [
    "И использовать ее в параметрах функции:"
   ]
  },
  {
   "cell_type": "code",
   "execution_count": 21,
   "id": "c6b21870",
   "metadata": {},
   "outputs": [],
   "source": [
    "def mul2(x: Digit, y: int = 2) -> int:\n",
    "    return x * y"
   ]
  },
  {
   "cell_type": "markdown",
   "id": "dc32c4e3",
   "metadata": {},
   "source": [
    "И такая конструкция будет равноценна предыдущей, но в некоторых случаях может быть удобнее. Подмена через переменную называется alias - синоним."
   ]
  },
  {
   "cell_type": "markdown",
   "id": "e82d8575",
   "metadata": {},
   "source": [
    "Optional - только один тип данных, который был передан, и дополнительно автоматически добавляется к этому типу тип None:"
   ]
  },
  {
   "cell_type": "code",
   "execution_count": 22,
   "id": "94b69829",
   "metadata": {},
   "outputs": [],
   "source": [
    "def show_x(x: int, descr: Optional[str] = None):\n",
    "    if descr:\n",
    "        print(f'{descr} {x}')\n",
    "    else:\n",
    "        print(f'{x}')"
   ]
  },
  {
   "cell_type": "markdown",
   "id": "a87c796c",
   "metadata": {},
   "source": [
    "Такая конструкция будет аналогична данной:"
   ]
  },
  {
   "cell_type": "code",
   "execution_count": 23,
   "id": "7f974695",
   "metadata": {},
   "outputs": [],
   "source": [
    "# def show_x(x: int, descr: Union[str, None] = None):\n",
    "#     if descr:\n",
    "#         print(f'{descr} {x}')\n",
    "#     else:\n",
    "#         print(f'{x}')"
   ]
  },
  {
   "cell_type": "code",
   "execution_count": 24,
   "id": "0e68577c",
   "metadata": {
    "scrolled": true
   },
   "outputs": [
    {
     "name": "stdout",
     "output_type": "stream",
     "text": [
      "2\n"
     ]
    }
   ],
   "source": [
    "show_x(2)"
   ]
  },
  {
   "cell_type": "code",
   "execution_count": 25,
   "id": "78b45c44",
   "metadata": {},
   "outputs": [
    {
     "name": "stdout",
     "output_type": "stream",
     "text": [
      "about me 2\n"
     ]
    }
   ],
   "source": [
    "show_x(2, 'about me')"
   ]
  },
  {
   "cell_type": "markdown",
   "id": "39c09aeb",
   "metadata": {},
   "source": [
    "Any - означает любой тип данных. Используется, если параметр, переменная или возвращаемое значение может принимать любой тип, или же просто нет возможности указать конкретный тип данных:"
   ]
  },
  {
   "cell_type": "code",
   "execution_count": 26,
   "id": "524fe4bb",
   "metadata": {},
   "outputs": [],
   "source": [
    "def show_x(x: Any):\n",
    "    print(f'{x}')"
   ]
  },
  {
   "cell_type": "markdown",
   "id": "967fa5a2",
   "metadata": {},
   "source": [
    "Final появился в Python 3.10 и нужен для отметки констант в программе:"
   ]
  },
  {
   "cell_type": "code",
   "execution_count": 27,
   "id": "08d6f13c",
   "metadata": {},
   "outputs": [],
   "source": [
    "# MAX_VALUE: Final = 100000"
   ]
  },
  {
   "cell_type": "markdown",
   "id": "7d1f3e61",
   "metadata": {},
   "source": [
    "И далее, если попытаться в программе попытаться присвоить константе другое значение, интегрированная среда будет сообщать о том, что это константа, и ее не предполагается изменять (при этом это информационное сообщение - программа выполнится без ошибок)."
   ]
  }
 ],
 "metadata": {
  "kernelspec": {
   "display_name": "Python 3 (ipykernel)",
   "language": "python",
   "name": "python3"
  },
  "language_info": {
   "codemirror_mode": {
    "name": "ipython",
    "version": 3
   },
   "file_extension": ".py",
   "mimetype": "text/x-python",
   "name": "python",
   "nbconvert_exporter": "python",
   "pygments_lexer": "ipython3",
   "version": "3.9.13"
  }
 },
 "nbformat": 4,
 "nbformat_minor": 5
}

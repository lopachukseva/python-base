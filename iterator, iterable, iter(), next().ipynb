{
 "cells": [
  {
   "cell_type": "markdown",
   "id": "4f4d2d52",
   "metadata": {},
   "source": [
    "### Итерируемые объекты"
   ]
  },
  {
   "cell_type": "markdown",
   "id": "c69d2279",
   "metadata": {},
   "source": [
    "Итерируемый объект - объект, содержащий последовательность некоторых элементов. Например, строки или списки:"
   ]
  },
  {
   "cell_type": "code",
   "execution_count": 2,
   "id": "c57bb3de",
   "metadata": {},
   "outputs": [],
   "source": [
    "s = \"The Rolling Stones\""
   ]
  },
  {
   "cell_type": "code",
   "execution_count": 3,
   "id": "d590eba3",
   "metadata": {},
   "outputs": [],
   "source": [
    "n = [7, 1, 2, 4, 6, 3]"
   ]
  },
  {
   "cell_type": "markdown",
   "id": "b8974252",
   "metadata": {},
   "source": [
    "Существует универсальный механизм для перебора элементов этих и других подобных им объектов. Реализуется он через специальную конструкцию - итератор. Т.е. каждый итерируемый объект предоставляет доступ к своим элементам через итератор. С помощью него можно один раз пройти по всем элементам от начала до конца."
   ]
  },
  {
   "cell_type": "code",
   "execution_count": 6,
   "id": "49d999a7",
   "metadata": {},
   "outputs": [
    {
     "data": {
      "text/plain": [
       "[7, 1, 2, 4, 6, 3]"
      ]
     },
     "execution_count": 6,
     "metadata": {},
     "output_type": "execute_result"
    }
   ],
   "source": [
    "n"
   ]
  },
  {
   "cell_type": "markdown",
   "id": "892d62b3",
   "metadata": {},
   "source": [
    "Для получения итератора для объекта нужно вызвать встроенную в Python функцию iter и передать ей в качестве аргумента итерируемый объект:"
   ]
  },
  {
   "cell_type": "code",
   "execution_count": 7,
   "id": "66214b68",
   "metadata": {},
   "outputs": [
    {
     "data": {
      "text/plain": [
       "<list_iterator at 0x25dda38d5b0>"
      ]
     },
     "execution_count": 7,
     "metadata": {},
     "output_type": "execute_result"
    }
   ],
   "source": [
    "iter(n)"
   ]
  },
  {
   "cell_type": "code",
   "execution_count": 8,
   "id": "6fcf36bb",
   "metadata": {},
   "outputs": [],
   "source": [
    "it = iter(n)"
   ]
  },
  {
   "cell_type": "markdown",
   "id": "18e04cc2",
   "metadata": {},
   "source": [
    "Таким образом мы получим итератор для однократного перебора элементов списка n. Чтобы перебрать значения итерируемого объекта, используется функция next, в которую в качестве аргумента передается итератор. При выполнении будет возвращен первый элемент списка:"
   ]
  },
  {
   "cell_type": "code",
   "execution_count": 9,
   "id": "08bc413c",
   "metadata": {},
   "outputs": [
    {
     "data": {
      "text/plain": [
       "7"
      ]
     },
     "execution_count": 9,
     "metadata": {},
     "output_type": "execute_result"
    }
   ],
   "source": [
    "next(it)"
   ]
  },
  {
   "cell_type": "markdown",
   "id": "e16cc140",
   "metadata": {},
   "source": [
    "Если вызвать ее еще раз, то будет возвращен следующий элемент списка и так далее:"
   ]
  },
  {
   "cell_type": "code",
   "execution_count": 11,
   "id": "5c054d0d",
   "metadata": {},
   "outputs": [
    {
     "data": {
      "text/plain": [
       "1"
      ]
     },
     "execution_count": 11,
     "metadata": {},
     "output_type": "execute_result"
    }
   ],
   "source": [
    "next(it)"
   ]
  },
  {
   "cell_type": "code",
   "execution_count": 12,
   "id": "f273cb9d",
   "metadata": {},
   "outputs": [
    {
     "data": {
      "text/plain": [
       "2"
      ]
     },
     "execution_count": 12,
     "metadata": {},
     "output_type": "execute_result"
    }
   ],
   "source": [
    "next(it)"
   ]
  },
  {
   "cell_type": "code",
   "execution_count": 13,
   "id": "13ed3ddd",
   "metadata": {},
   "outputs": [
    {
     "data": {
      "text/plain": [
       "4"
      ]
     },
     "execution_count": 13,
     "metadata": {},
     "output_type": "execute_result"
    }
   ],
   "source": [
    "next(it)"
   ]
  },
  {
   "cell_type": "code",
   "execution_count": 14,
   "id": "bc3a301c",
   "metadata": {},
   "outputs": [
    {
     "data": {
      "text/plain": [
       "6"
      ]
     },
     "execution_count": 14,
     "metadata": {},
     "output_type": "execute_result"
    }
   ],
   "source": [
    "next(it)"
   ]
  },
  {
   "cell_type": "code",
   "execution_count": 15,
   "id": "bdbb58b4",
   "metadata": {},
   "outputs": [
    {
     "data": {
      "text/plain": [
       "3"
      ]
     },
     "execution_count": 15,
     "metadata": {},
     "output_type": "execute_result"
    }
   ],
   "source": [
    "next(it)"
   ]
  },
  {
   "cell_type": "markdown",
   "id": "d655f15e",
   "metadata": {},
   "source": [
    "Таким образом можно перебрать все элементы списка и дойти до конца. Если после этого попробовать ее вызвать еще раз, будет ошибка stop iteration:"
   ]
  },
  {
   "cell_type": "code",
   "execution_count": 17,
   "id": "23cb64cd",
   "metadata": {
    "scrolled": false
   },
   "outputs": [],
   "source": [
    "# next(it)"
   ]
  },
  {
   "cell_type": "markdown",
   "id": "b50c65e0",
   "metadata": {},
   "source": [
    "Итератор способен перебрать список только один раз, и вернуть его в начало нельзя. Для того, чтобы заново перебрать список, нужно создать новый итератор."
   ]
  },
  {
   "cell_type": "markdown",
   "id": "5434c8c4",
   "metadata": {},
   "source": [
    "Механизм универсален, и неважно, какой это объект. Это может быть строка:"
   ]
  },
  {
   "cell_type": "code",
   "execution_count": 23,
   "id": "00c28a0a",
   "metadata": {},
   "outputs": [],
   "source": [
    "s = \"stone\""
   ]
  },
  {
   "cell_type": "code",
   "execution_count": 24,
   "id": "08e4b6f4",
   "metadata": {},
   "outputs": [],
   "source": [
    "it = iter(s)"
   ]
  },
  {
   "cell_type": "code",
   "execution_count": 25,
   "id": "db5ebc44",
   "metadata": {},
   "outputs": [
    {
     "data": {
      "text/plain": [
       "'s'"
      ]
     },
     "execution_count": 25,
     "metadata": {},
     "output_type": "execute_result"
    }
   ],
   "source": [
    "next(it)"
   ]
  },
  {
   "cell_type": "code",
   "execution_count": 26,
   "id": "073c7c39",
   "metadata": {},
   "outputs": [
    {
     "data": {
      "text/plain": [
       "'t'"
      ]
     },
     "execution_count": 26,
     "metadata": {},
     "output_type": "execute_result"
    }
   ],
   "source": [
    "next(it)"
   ]
  },
  {
   "cell_type": "code",
   "execution_count": 27,
   "id": "81078375",
   "metadata": {},
   "outputs": [
    {
     "data": {
      "text/plain": [
       "'o'"
      ]
     },
     "execution_count": 27,
     "metadata": {},
     "output_type": "execute_result"
    }
   ],
   "source": [
    "next(it)"
   ]
  },
  {
   "cell_type": "code",
   "execution_count": 28,
   "id": "ded4171d",
   "metadata": {},
   "outputs": [
    {
     "data": {
      "text/plain": [
       "'n'"
      ]
     },
     "execution_count": 28,
     "metadata": {},
     "output_type": "execute_result"
    }
   ],
   "source": [
    "next(it)"
   ]
  },
  {
   "cell_type": "code",
   "execution_count": 29,
   "id": "83fe70a7",
   "metadata": {},
   "outputs": [
    {
     "data": {
      "text/plain": [
       "'e'"
      ]
     },
     "execution_count": 29,
     "metadata": {},
     "output_type": "execute_result"
    }
   ],
   "source": [
    "next(it)"
   ]
  },
  {
   "cell_type": "markdown",
   "id": "8fb51531",
   "metadata": {},
   "source": [
    "или функция range:"
   ]
  },
  {
   "cell_type": "code",
   "execution_count": 30,
   "id": "b0278430",
   "metadata": {},
   "outputs": [
    {
     "data": {
      "text/plain": [
       "range(0, 5)"
      ]
     },
     "execution_count": 30,
     "metadata": {},
     "output_type": "execute_result"
    }
   ],
   "source": [
    "range(5)"
   ]
  },
  {
   "cell_type": "code",
   "execution_count": 35,
   "id": "921fc3f6",
   "metadata": {},
   "outputs": [],
   "source": [
    "it = iter(range(3))"
   ]
  },
  {
   "cell_type": "code",
   "execution_count": 36,
   "id": "01af19ac",
   "metadata": {},
   "outputs": [
    {
     "data": {
      "text/plain": [
       "0"
      ]
     },
     "execution_count": 36,
     "metadata": {},
     "output_type": "execute_result"
    }
   ],
   "source": [
    "next(it)"
   ]
  },
  {
   "cell_type": "code",
   "execution_count": 37,
   "id": "9f1c4e62",
   "metadata": {},
   "outputs": [
    {
     "data": {
      "text/plain": [
       "1"
      ]
     },
     "execution_count": 37,
     "metadata": {},
     "output_type": "execute_result"
    }
   ],
   "source": [
    "next(it)"
   ]
  },
  {
   "cell_type": "code",
   "execution_count": 38,
   "id": "18c6f186",
   "metadata": {},
   "outputs": [
    {
     "data": {
      "text/plain": [
       "2"
      ]
     },
     "execution_count": 38,
     "metadata": {},
     "output_type": "execute_result"
    }
   ],
   "source": [
    "next(it)"
   ]
  },
  {
   "cell_type": "markdown",
   "id": "8e763804",
   "metadata": {},
   "source": [
    "И так далее. Итератору все равно, что перебирать. Главное - чтобы сам объект поддерживал этот механизм, т.е. был итерируемым."
   ]
  },
  {
   "cell_type": "markdown",
   "id": "e22381e2",
   "metadata": {},
   "source": [
    "Следует иметь ввиду, что доступ к элементу по индексу и по итератору - совершенно разные вещи."
   ]
  },
  {
   "cell_type": "markdown",
   "id": "1f04c541",
   "metadata": {},
   "source": [
    "Если в программе нужно постоянно перебирать итерируемые объекты разных типов, то единственный универсальный и безопасный способ это сделать - использовать итераторы. Например, так происходит в цикле for. Он умеет перебирать элементы совершенно разных итерируемых объектов как раз благодаря механизму итераторов."
   ]
  },
  {
   "cell_type": "markdown",
   "id": "0a9f565c",
   "metadata": {},
   "source": [
    "### Итерируемые объекты и цикл for"
   ]
  },
  {
   "cell_type": "markdown",
   "id": "7dee2eef",
   "metadata": {},
   "source": [
    "При запуске цикла for происходит неявное использование итератора и функции next. И как только встречается ошибка stop iteration, работа цикла for завершается. "
   ]
  }
 ],
 "metadata": {
  "kernelspec": {
   "display_name": "Python 3 (ipykernel)",
   "language": "python",
   "name": "python3"
  },
  "language_info": {
   "codemirror_mode": {
    "name": "ipython",
    "version": 3
   },
   "file_extension": ".py",
   "mimetype": "text/x-python",
   "name": "python",
   "nbconvert_exporter": "python",
   "pygments_lexer": "ipython3",
   "version": "3.9.13"
  }
 },
 "nbformat": 4,
 "nbformat_minor": 5
}

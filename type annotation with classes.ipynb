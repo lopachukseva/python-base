{
 "cells": [
  {
   "cell_type": "code",
   "execution_count": 1,
   "id": "a9ab9a50",
   "metadata": {},
   "outputs": [],
   "source": [
    "from typing import Any"
   ]
  },
  {
   "cell_type": "markdown",
   "id": "0c8a7c5d",
   "metadata": {},
   "source": [
    "Отличие Any от object"
   ]
  },
  {
   "cell_type": "markdown",
   "id": "da5f862c",
   "metadata": {},
   "source": [
    "Все классы неявно наследуются от типа object. Но предположим, что существуют две переменные:"
   ]
  },
  {
   "cell_type": "code",
   "execution_count": 2,
   "id": "bfb18662",
   "metadata": {},
   "outputs": [],
   "source": [
    "a: Any = None"
   ]
  },
  {
   "cell_type": "code",
   "execution_count": 3,
   "id": "2e95890e",
   "metadata": {},
   "outputs": [],
   "source": [
    "b: str"
   ]
  },
  {
   "cell_type": "markdown",
   "id": "e9a23de4",
   "metadata": {},
   "source": [
    "Такая операция с точки зрения аннотации будет верна:"
   ]
  },
  {
   "cell_type": "code",
   "execution_count": 4,
   "id": "a6f68815",
   "metadata": {},
   "outputs": [],
   "source": [
    "b = a"
   ]
  },
  {
   "cell_type": "markdown",
   "id": "6867ada6",
   "metadata": {},
   "source": [
    "Так как Any можно привести к любому типу."
   ]
  },
  {
   "cell_type": "markdown",
   "id": "bc09dcb8",
   "metadata": {},
   "source": [
    "Но если:"
   ]
  },
  {
   "cell_type": "code",
   "execution_count": 5,
   "id": "69a1dca9",
   "metadata": {},
   "outputs": [],
   "source": [
    "a: object = None\n",
    "b: str"
   ]
  },
  {
   "cell_type": "markdown",
   "id": "d211fa4f",
   "metadata": {},
   "source": [
    "То с точки зрения аннотации - это ошибка:"
   ]
  },
  {
   "cell_type": "code",
   "execution_count": 6,
   "id": "055c5318",
   "metadata": {},
   "outputs": [],
   "source": [
    "b = a"
   ]
  },
  {
   "cell_type": "markdown",
   "id": "437d0e61",
   "metadata": {},
   "source": [
    "Ведь тип object является родительским для str, а родительский привести к дочернему нельзя."
   ]
  },
  {
   "cell_type": "markdown",
   "id": "3ff3ffed",
   "metadata": {},
   "source": [
    "Это происходит потому, что тип Any совместим с любым другим типом, а тип object - ни с каким другим."
   ]
  },
  {
   "cell_type": "markdown",
   "id": "efc4d272",
   "metadata": {},
   "source": [
    " "
   ]
  },
  {
   "cell_type": "markdown",
   "id": "aeabeba4",
   "metadata": {},
   "source": [
    "Существует два класса. Класс Geom:"
   ]
  },
  {
   "cell_type": "code",
   "execution_count": 7,
   "id": "aaff10eb",
   "metadata": {},
   "outputs": [],
   "source": [
    "class Geom(): pass"
   ]
  },
  {
   "cell_type": "markdown",
   "id": "627b325c",
   "metadata": {},
   "source": [
    "И класс Point2D, который наследуется от класса Geom:"
   ]
  },
  {
   "cell_type": "code",
   "execution_count": 8,
   "id": "ccb9748a",
   "metadata": {},
   "outputs": [],
   "source": [
    "class Point2D(Geom): pass"
   ]
  },
  {
   "cell_type": "markdown",
   "id": "56bc250b",
   "metadata": {},
   "source": [
    "Предположим, что определена функция, которая принимает ссылку на класс, а возвращает объект данного класса:"
   ]
  },
  {
   "cell_type": "code",
   "execution_count": 9,
   "id": "060637c7",
   "metadata": {},
   "outputs": [],
   "source": [
    "def create_object(cls):\n",
    "    return cls()"
   ]
  },
  {
   "cell_type": "markdown",
   "id": "c0d2bb4a",
   "metadata": {},
   "source": [
    "Если требуется записать аннотацию для параметров, первое, что можно сделать, выглядит следующим образом:"
   ]
  },
  {
   "cell_type": "code",
   "execution_count": 10,
   "id": "69616ab2",
   "metadata": {},
   "outputs": [],
   "source": [
    "def create_object(cls: Geom) -> Geom:\n",
    "    return cls()"
   ]
  },
  {
   "cell_type": "markdown",
   "id": "4866307b",
   "metadata": {},
   "source": [
    "И с первого взгляда все правильно: так как класс Geom является базовым для класса Point2D, такая фукнция может принимать как ссылку на Geom, так и на Point2D. Но проблема в том, что такая запись подразумевает ожидание не ссылки на класс, а ссылки на объект. Для того, чтобы прописать аннотацию для ссылки на класс, необходимо импортировать тип Type из модуля Typing:"
   ]
  },
  {
   "cell_type": "code",
   "execution_count": 11,
   "id": "ff3e0721",
   "metadata": {},
   "outputs": [],
   "source": [
    "from typing import Type"
   ]
  },
  {
   "cell_type": "markdown",
   "id": "aab13b86",
   "metadata": {},
   "source": [
    "И прописать его в функции, записав в квадратных скобках класс:"
   ]
  },
  {
   "cell_type": "code",
   "execution_count": 12,
   "id": "0dbedaa4",
   "metadata": {},
   "outputs": [],
   "source": [
    "def create_object(cls: Type[Geom]) -> Geom:\n",
    "    return cls()"
   ]
  },
  {
   "cell_type": "markdown",
   "id": "f0404c6b",
   "metadata": {},
   "source": [
    "И для того, чтобы возвращаемый объект был не только непосредственно класса Geom, но и его объектом дочерних классов Geom, существует класс TypeVar:"
   ]
  },
  {
   "cell_type": "code",
   "execution_count": 13,
   "id": "b3abcd5a",
   "metadata": {},
   "outputs": [],
   "source": [
    "from typing import TypeVar"
   ]
  },
  {
   "cell_type": "markdown",
   "id": "8612f818",
   "metadata": {},
   "source": [
    "В качестве аргумента bound передаем имя переменной и имя класса:"
   ]
  },
  {
   "cell_type": "code",
   "execution_count": 14,
   "id": "c51bcf02",
   "metadata": {},
   "outputs": [],
   "source": [
    "T = TypeVar(\"T\", bound=Geom)"
   ]
  },
  {
   "cell_type": "markdown",
   "id": "4eea2345",
   "metadata": {},
   "source": [
    "И теперь на выходе может быть любой объект как класса Geom, так и его дочерних классов (а на входе - как класс Geom, так и любой его дочерний класс):"
   ]
  },
  {
   "cell_type": "code",
   "execution_count": 15,
   "id": "b016f0b2",
   "metadata": {},
   "outputs": [],
   "source": [
    "def create_object(cls: Type[T]) -> T:\n",
    "    return cls()"
   ]
  },
  {
   "cell_type": "markdown",
   "id": "6c2795f0",
   "metadata": {},
   "source": [
    "!!! Передается не сама переменная T, а имя, которое было указано в аргументах при ее создании."
   ]
  },
  {
   "cell_type": "markdown",
   "id": "369f639d",
   "metadata": {},
   "source": [
    "Если не передать класс - это будет общий тип - любой тип без каких либо ограничений:"
   ]
  },
  {
   "cell_type": "code",
   "execution_count": 16,
   "id": "c438a81c",
   "metadata": {},
   "outputs": [],
   "source": [
    "T = TypeVar(\"T\")"
   ]
  },
  {
   "cell_type": "markdown",
   "id": "cdd9c2f3",
   "metadata": {},
   "source": [
    "В случае, если типов несколько, они указываются через запятую:"
   ]
  },
  {
   "cell_type": "code",
   "execution_count": 17,
   "id": "600310aa",
   "metadata": {},
   "outputs": [],
   "source": [
    "T = TypeVar(\"T\", int, float)"
   ]
  },
  {
   "cell_type": "markdown",
   "id": "7aad96bf",
   "metadata": {},
   "source": [
    "Аннотация типов внутри класса происходит аналогично обычным переменным"
   ]
  }
 ],
 "metadata": {
  "kernelspec": {
   "display_name": "Python 3 (ipykernel)",
   "language": "python",
   "name": "python3"
  },
  "language_info": {
   "codemirror_mode": {
    "name": "ipython",
    "version": 3
   },
   "file_extension": ".py",
   "mimetype": "text/x-python",
   "name": "python",
   "nbconvert_exporter": "python",
   "pygments_lexer": "ipython3",
   "version": "3.9.13"
  }
 },
 "nbformat": 4,
 "nbformat_minor": 5
}

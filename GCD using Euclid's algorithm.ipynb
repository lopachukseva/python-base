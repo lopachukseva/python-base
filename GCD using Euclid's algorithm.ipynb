{
 "cells": [
  {
   "cell_type": "markdown",
   "id": "90d38f66",
   "metadata": {},
   "source": [
    "НОД - наибольший общий делитель"
   ]
  },
  {
   "cell_type": "code",
   "execution_count": 20,
   "id": "5ebf80dd",
   "metadata": {},
   "outputs": [],
   "source": [
    "import time"
   ]
  },
  {
   "cell_type": "markdown",
   "id": "45c2b93d",
   "metadata": {},
   "source": [
    "###  Медленный алгоритм Евклида для нахождения НОД:"
   ]
  },
  {
   "cell_type": "code",
   "execution_count": 63,
   "id": "11fdc324",
   "metadata": {},
   "outputs": [],
   "source": [
    "def get_nod(a, b):\n",
    "    \"\"\" GCD is computed using the Euclid algorithm.\n",
    "    :param a: first number\n",
    "    :param b: second number\n",
    "    :return: greatest common divisor of numbers\n",
    "    \"\"\"\n",
    "    while a != b:\n",
    "        if a > b:\n",
    "            a -= b\n",
    "        else:\n",
    "            b -= a\n",
    "    return a"
   ]
  },
  {
   "cell_type": "code",
   "execution_count": 64,
   "id": "6c812ab8",
   "metadata": {},
   "outputs": [
    {
     "data": {
      "text/plain": [
       "6"
      ]
     },
     "execution_count": 64,
     "metadata": {},
     "output_type": "execute_result"
    }
   ],
   "source": [
    "get_nod(18, 24)"
   ]
  },
  {
   "cell_type": "markdown",
   "id": "2c16a756",
   "metadata": {},
   "source": [
    "Функция help выводит описание функции, ссылка на которую передана ей в качестве аргумента:"
   ]
  },
  {
   "cell_type": "code",
   "execution_count": 65,
   "id": "206fa7cc",
   "metadata": {
    "scrolled": true
   },
   "outputs": [
    {
     "name": "stdout",
     "output_type": "stream",
     "text": [
      "Help on function get_nod in module __main__:\n",
      "\n",
      "get_nod(a, b)\n",
      "    GCD is computed using the Euclid algorithm.\n",
      "    :param a: first number\n",
      "    :param b: second number\n",
      "    :return: greatest common divisor of numbers\n",
      "\n"
     ]
    }
   ],
   "source": [
    "help(get_nod)"
   ]
  },
  {
   "cell_type": "code",
   "execution_count": 66,
   "id": "b746bec7",
   "metadata": {},
   "outputs": [],
   "source": [
    "def test_nod(func):\n",
    "#   test1\n",
    "    a, b, right_res = 28, 35, 7\n",
    "    res = func(a, b)\n",
    "    if res == right_res:\n",
    "        print(\"test1 passed\")\n",
    "    else: print(\"test1 failed\")\n",
    "#   test2\n",
    "    a, b, right_res = 100, 1, 1\n",
    "    res = func(a, b)\n",
    "    if res == right_res:\n",
    "        print(\"test2 passed\")\n",
    "    else: print(\"test2 failed\")\n",
    "#   test3\n",
    "    a, b, res = 100000000, 1, 1\n",
    "    sf = time.time()\n",
    "    res = func(a, b)\n",
    "    ef = time.time()\n",
    "    if res == right_res and (ef-sf) < 0.5:\n",
    "        print(f\"test3 passed, time = {ef-sf}\")\n",
    "    else: print(\"test2 failed\")"
   ]
  },
  {
   "cell_type": "code",
   "execution_count": 67,
   "id": "5cc3c277",
   "metadata": {
    "scrolled": false
   },
   "outputs": [
    {
     "name": "stdout",
     "output_type": "stream",
     "text": [
      "test1 passed\n",
      "test2 passed\n",
      "test2 failed\n"
     ]
    }
   ],
   "source": [
    "test_nod(get_nod)"
   ]
  },
  {
   "cell_type": "markdown",
   "id": "b32a3663",
   "metadata": {},
   "source": [
    "###  Быстрый алгоритм Евклида для нахождения НОД:"
   ]
  },
  {
   "cell_type": "code",
   "execution_count": 68,
   "id": "9877b4b1",
   "metadata": {},
   "outputs": [],
   "source": [
    "def get_nod_f(a, b):\n",
    "    \"\"\" GCD is computed using the fast Euclid algorithm.\n",
    "    :param a: first number\n",
    "    :param b: second number\n",
    "    :return: greatest common divisor of numbers\n",
    "    \"\"\"\n",
    "    if a < b:\n",
    "        a, b = b, a\n",
    "    \n",
    "    while b != 0:\n",
    "        a, b = b, a % b\n",
    "    return a"
   ]
  },
  {
   "cell_type": "code",
   "execution_count": 69,
   "id": "e8d0c801",
   "metadata": {
    "scrolled": true
   },
   "outputs": [
    {
     "name": "stdout",
     "output_type": "stream",
     "text": [
      "test1 passed\n",
      "test2 passed\n",
      "test3 passed, time = 0.0\n"
     ]
    }
   ],
   "source": [
    "test_nod(get_nod_f)"
   ]
  }
 ],
 "metadata": {
  "kernelspec": {
   "display_name": "Python 3 (ipykernel)",
   "language": "python",
   "name": "python3"
  },
  "language_info": {
   "codemirror_mode": {
    "name": "ipython",
    "version": 3
   },
   "file_extension": ".py",
   "mimetype": "text/x-python",
   "name": "python",
   "nbconvert_exporter": "python",
   "pygments_lexer": "ipython3",
   "version": "3.9.13"
  }
 },
 "nbformat": 4,
 "nbformat_minor": 5
}

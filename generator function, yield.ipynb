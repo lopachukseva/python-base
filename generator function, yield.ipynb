{
 "cells": [
  {
   "cell_type": "markdown",
   "id": "b1b30692",
   "metadata": {},
   "source": [
    "## Функция генератор"
   ]
  },
  {
   "cell_type": "markdown",
   "id": "c3555afa",
   "metadata": {},
   "source": [
    "Существует функция, которая перебирает список и возвращает значение:"
   ]
  },
  {
   "cell_type": "code",
   "execution_count": 6,
   "id": "6d4090cb",
   "metadata": {},
   "outputs": [],
   "source": [
    "def get_list():\n",
    "    for x in [1, 2, 3, 4]:\n",
    "        return x"
   ]
  },
  {
   "cell_type": "markdown",
   "id": "cbed2e92",
   "metadata": {},
   "source": [
    "Но она вернет не все значения списка, а только одно, так как когда функция встречает оператор return, она завершает свою работу:"
   ]
  },
  {
   "cell_type": "code",
   "execution_count": 9,
   "id": "c83da532",
   "metadata": {},
   "outputs": [
    {
     "data": {
      "text/plain": [
       "1"
      ]
     },
     "execution_count": 9,
     "metadata": {},
     "output_type": "execute_result"
    }
   ],
   "source": [
    "get_list()"
   ]
  },
  {
   "cell_type": "markdown",
   "id": "0b8c2e44",
   "metadata": {},
   "source": [
    "Но если поменять оператор return на оператор yield:"
   ]
  },
  {
   "cell_type": "code",
   "execution_count": 26,
   "id": "424da4d2",
   "metadata": {},
   "outputs": [],
   "source": [
    "def get_list():\n",
    "    for x in [1, 2, 3, 4]:\n",
    "        yield x"
   ]
  },
  {
   "cell_type": "markdown",
   "id": "fa51f9fd",
   "metadata": {},
   "source": [
    "Функция будет вести себя иначе - она будет возвращать объект генератор:"
   ]
  },
  {
   "cell_type": "code",
   "execution_count": 27,
   "id": "97215089",
   "metadata": {},
   "outputs": [
    {
     "data": {
      "text/plain": [
       "<generator object get_list at 0x000001D31803E900>"
      ]
     },
     "execution_count": 27,
     "metadata": {},
     "output_type": "execute_result"
    }
   ],
   "source": [
    "g = get_list()\n",
    "g"
   ]
  },
  {
   "cell_type": "markdown",
   "id": "d31b790b",
   "metadata": {},
   "source": [
    "Тем самым функция превратилась в функцию генератор. Перебирать значения, которые функция будет генерировать, можно с помощью функции next:"
   ]
  },
  {
   "cell_type": "code",
   "execution_count": 28,
   "id": "ddd8456a",
   "metadata": {},
   "outputs": [
    {
     "data": {
      "text/plain": [
       "1"
      ]
     },
     "execution_count": 28,
     "metadata": {},
     "output_type": "execute_result"
    }
   ],
   "source": [
    "next(g)"
   ]
  },
  {
   "cell_type": "code",
   "execution_count": 29,
   "id": "5e13df25",
   "metadata": {},
   "outputs": [
    {
     "data": {
      "text/plain": [
       "2"
      ]
     },
     "execution_count": 29,
     "metadata": {},
     "output_type": "execute_result"
    }
   ],
   "source": [
    "next(g)"
   ]
  },
  {
   "cell_type": "markdown",
   "id": "0c52a90f",
   "metadata": {},
   "source": [
    "Вызвав его несколько раз - можно перебрать все его значения:"
   ]
  },
  {
   "cell_type": "code",
   "execution_count": 30,
   "id": "d7bc158b",
   "metadata": {},
   "outputs": [
    {
     "data": {
      "text/plain": [
       "4"
      ]
     },
     "execution_count": 30,
     "metadata": {},
     "output_type": "execute_result"
    }
   ],
   "source": [
    "next(g)\n",
    "next(g)"
   ]
  },
  {
   "cell_type": "markdown",
   "id": "68de2272",
   "metadata": {},
   "source": [
    "Благодаря использованию оператора yield текущее значение x функции возвращается, а состояние функции \"замораживается\" до следующего вызова функции next."
   ]
  },
  {
   "cell_type": "markdown",
   "id": "88aa99da",
   "metadata": {},
   "source": [
    "Таким образом, используя оператор yield можно превратить в функцию-генератор любую функцию:"
   ]
  },
  {
   "cell_type": "code",
   "execution_count": 43,
   "id": "3ae3e8b2",
   "metadata": {},
   "outputs": [],
   "source": [
    "def get_list():\n",
    "    for i in range(1, 10):\n",
    "        a = range(i, 11)\n",
    "        yield sum(a) / len(a)"
   ]
  },
  {
   "cell_type": "markdown",
   "id": "96dc90a1",
   "metadata": {},
   "source": [
    "Можно перебрать как с помощью цикла:"
   ]
  },
  {
   "cell_type": "code",
   "execution_count": 44,
   "id": "762f14c0",
   "metadata": {},
   "outputs": [
    {
     "name": "stdout",
     "output_type": "stream",
     "text": [
      "5.5\n",
      "6.0\n",
      "6.5\n",
      "7.0\n",
      "7.5\n",
      "8.0\n",
      "8.5\n",
      "9.0\n",
      "9.5\n"
     ]
    }
   ],
   "source": [
    "for i in get_list():\n",
    "    print(i)"
   ]
  },
  {
   "cell_type": "markdown",
   "id": "dd8daf81",
   "metadata": {},
   "source": [
    "Так и преобразовать в список:"
   ]
  },
  {
   "cell_type": "code",
   "execution_count": 45,
   "id": "cfac51dc",
   "metadata": {},
   "outputs": [],
   "source": [
    "a = get_list()\n",
    "a = list(a)"
   ]
  },
  {
   "cell_type": "code",
   "execution_count": 46,
   "id": "e8932c10",
   "metadata": {},
   "outputs": [
    {
     "data": {
      "text/plain": [
       "[5.5, 6.0, 6.5, 7.0, 7.5, 8.0, 8.5, 9.0, 9.5]"
      ]
     },
     "execution_count": 46,
     "metadata": {},
     "output_type": "execute_result"
    }
   ],
   "source": [
    "a"
   ]
  },
  {
   "cell_type": "markdown",
   "id": "cfb85aa5",
   "metadata": {},
   "source": [
    "Так как такая функция является итерируемым объектом."
   ]
  }
 ],
 "metadata": {
  "kernelspec": {
   "display_name": "Python 3 (ipykernel)",
   "language": "python",
   "name": "python3"
  },
  "language_info": {
   "codemirror_mode": {
    "name": "ipython",
    "version": 3
   },
   "file_extension": ".py",
   "mimetype": "text/x-python",
   "name": "python",
   "nbconvert_exporter": "python",
   "pygments_lexer": "ipython3",
   "version": "3.9.13"
  }
 },
 "nbformat": 4,
 "nbformat_minor": 5
}

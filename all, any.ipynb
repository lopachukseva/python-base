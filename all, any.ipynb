{
 "cells": [
  {
   "cell_type": "markdown",
   "id": "a14c77fe",
   "metadata": {},
   "source": [
    "## all"
   ]
  },
  {
   "cell_type": "markdown",
   "id": "da52e5bf",
   "metadata": {},
   "source": [
    "Функция all возвращает значение True, если все элементы в итерируемом объекте - истинны, в противном случае она возвращает значение False:"
   ]
  },
  {
   "cell_type": "code",
   "execution_count": 1,
   "id": "6ce34607",
   "metadata": {},
   "outputs": [
    {
     "data": {
      "text/plain": [
       "True"
      ]
     },
     "execution_count": 1,
     "metadata": {},
     "output_type": "execute_result"
    }
   ],
   "source": [
    "all([True, True, True])"
   ]
  },
  {
   "cell_type": "code",
   "execution_count": 2,
   "id": "31113ba2",
   "metadata": {
    "scrolled": true
   },
   "outputs": [
    {
     "data": {
      "text/plain": [
       "False"
      ]
     },
     "execution_count": 2,
     "metadata": {},
     "output_type": "execute_result"
    }
   ],
   "source": [
    "all([False, True, True])"
   ]
  },
  {
   "cell_type": "markdown",
   "id": "9ae3f36a",
   "metadata": {},
   "source": [
    "Если элементы внутри объекта не являются булевыми, они приводятся к ним. Если привести к булевому значению любое число, отличное от нуля, оно будет иметь значение True:"
   ]
  },
  {
   "cell_type": "code",
   "execution_count": 3,
   "id": "8236a5d8",
   "metadata": {
    "scrolled": true
   },
   "outputs": [
    {
     "data": {
      "text/plain": [
       "True"
      ]
     },
     "execution_count": 3,
     "metadata": {},
     "output_type": "execute_result"
    }
   ],
   "source": [
    "bool(1)"
   ]
  },
  {
   "cell_type": "markdown",
   "id": "0ac6b3f0",
   "metadata": {},
   "source": [
    "В противном случае - False:"
   ]
  },
  {
   "cell_type": "code",
   "execution_count": 4,
   "id": "1f014717",
   "metadata": {},
   "outputs": [
    {
     "data": {
      "text/plain": [
       "False"
      ]
     },
     "execution_count": 4,
     "metadata": {},
     "output_type": "execute_result"
    }
   ],
   "source": [
    "bool(0)"
   ]
  },
  {
   "cell_type": "code",
   "execution_count": 5,
   "id": "44bced1a",
   "metadata": {
    "scrolled": false
   },
   "outputs": [
    {
     "data": {
      "text/plain": [
       "True"
      ]
     },
     "execution_count": 5,
     "metadata": {},
     "output_type": "execute_result"
    }
   ],
   "source": [
    "all([1, 2, 3])"
   ]
  },
  {
   "cell_type": "code",
   "execution_count": 6,
   "id": "af299486",
   "metadata": {
    "scrolled": true
   },
   "outputs": [
    {
     "data": {
      "text/plain": [
       "False"
      ]
     },
     "execution_count": 6,
     "metadata": {},
     "output_type": "execute_result"
    }
   ],
   "source": [
    "all([0, 1, 2, 3])"
   ]
  },
  {
   "cell_type": "markdown",
   "id": "61f810ce",
   "metadata": {},
   "source": [
    "Если строка содержит хотя бы один символ, то она истинна:"
   ]
  },
  {
   "cell_type": "code",
   "execution_count": 7,
   "id": "c4ed6a17",
   "metadata": {},
   "outputs": [
    {
     "data": {
      "text/plain": [
       "True"
      ]
     },
     "execution_count": 7,
     "metadata": {},
     "output_type": "execute_result"
    }
   ],
   "source": [
    "bool('word')"
   ]
  },
  {
   "cell_type": "markdown",
   "id": "e8ef9b0f",
   "metadata": {},
   "source": [
    "В противном случае, если строка пустая - то ложна:"
   ]
  },
  {
   "cell_type": "code",
   "execution_count": 8,
   "id": "8b4a07e8",
   "metadata": {},
   "outputs": [
    {
     "data": {
      "text/plain": [
       "False"
      ]
     },
     "execution_count": 8,
     "metadata": {},
     "output_type": "execute_result"
    }
   ],
   "source": [
    "bool('')"
   ]
  },
  {
   "cell_type": "markdown",
   "id": "6c7e3e21",
   "metadata": {},
   "source": [
    "## any"
   ]
  },
  {
   "cell_type": "markdown",
   "id": "1b43f438",
   "metadata": {},
   "source": [
    "Функция any возвращает True, если какой-либо элемент (хотя бы один) в итерируемом объекте является истинным, в противном случае возвращает значение False:"
   ]
  },
  {
   "cell_type": "code",
   "execution_count": 9,
   "id": "651a5494",
   "metadata": {},
   "outputs": [
    {
     "data": {
      "text/plain": [
       "True"
      ]
     },
     "execution_count": 9,
     "metadata": {},
     "output_type": "execute_result"
    }
   ],
   "source": [
    "any([0, 1, 2, 3])"
   ]
  },
  {
   "cell_type": "code",
   "execution_count": 10,
   "id": "4df906e8",
   "metadata": {
    "scrolled": true
   },
   "outputs": [
    {
     "data": {
      "text/plain": [
       "False"
      ]
     },
     "execution_count": 10,
     "metadata": {},
     "output_type": "execute_result"
    }
   ],
   "source": [
    "any([0, 0, 0])"
   ]
  },
  {
   "cell_type": "code",
   "execution_count": 11,
   "id": "a4d9a10d",
   "metadata": {},
   "outputs": [
    {
     "data": {
      "text/plain": [
       "True"
      ]
     },
     "execution_count": 11,
     "metadata": {},
     "output_type": "execute_result"
    }
   ],
   "source": [
    "any('Python')"
   ]
  },
  {
   "cell_type": "code",
   "execution_count": 12,
   "id": "e536bf5d",
   "metadata": {},
   "outputs": [
    {
     "data": {
      "text/plain": [
       "False"
      ]
     },
     "execution_count": 12,
     "metadata": {},
     "output_type": "execute_result"
    }
   ],
   "source": [
    "any('')"
   ]
  }
 ],
 "metadata": {
  "kernelspec": {
   "display_name": "Python 3 (ipykernel)",
   "language": "python",
   "name": "python3"
  },
  "language_info": {
   "codemirror_mode": {
    "name": "ipython",
    "version": 3
   },
   "file_extension": ".py",
   "mimetype": "text/x-python",
   "name": "python",
   "nbconvert_exporter": "python",
   "pygments_lexer": "ipython3",
   "version": "3.9.13"
  }
 },
 "nbformat": 4,
 "nbformat_minor": 5
}

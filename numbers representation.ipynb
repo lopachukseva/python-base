{
 "cells": [
  {
   "cell_type": "markdown",
   "id": "a51180f8",
   "metadata": {},
   "source": [
    "## Экспоненциальное представление чисел"
   ]
  },
  {
   "cell_type": "markdown",
   "id": "96496a93",
   "metadata": {},
   "source": [
    "<число>e<целая степень числа 10>"
   ]
  },
  {
   "cell_type": "markdown",
   "id": "d8ef814f",
   "metadata": {},
   "source": [
    "Запись:"
   ]
  },
  {
   "cell_type": "code",
   "execution_count": 1,
   "id": "0fd17702",
   "metadata": {},
   "outputs": [
    {
     "data": {
      "text/plain": [
       "100.0"
      ]
     },
     "execution_count": 1,
     "metadata": {},
     "output_type": "execute_result"
    }
   ],
   "source": [
    "a = 1e2\n",
    "a"
   ]
  },
  {
   "cell_type": "markdown",
   "id": "0972aefc",
   "metadata": {},
   "source": [
    "Означает число один умножить на десять во второй степени. Запись единицы - обязательна."
   ]
  },
  {
   "cell_type": "code",
   "execution_count": 2,
   "id": "82824912",
   "metadata": {},
   "outputs": [
    {
     "data": {
      "text/plain": [
       "300000.0"
      ]
     },
     "execution_count": 2,
     "metadata": {},
     "output_type": "execute_result"
    }
   ],
   "source": [
    "3e5"
   ]
  },
  {
   "cell_type": "markdown",
   "id": "881eadaa",
   "metadata": {},
   "source": [
    "Степень, как и число, может быть отрицательной:"
   ]
  },
  {
   "cell_type": "code",
   "execution_count": 3,
   "id": "6c577b42",
   "metadata": {},
   "outputs": [
    {
     "data": {
      "text/plain": [
       "0.004"
      ]
     },
     "execution_count": 3,
     "metadata": {},
     "output_type": "execute_result"
    }
   ],
   "source": [
    "4e-3"
   ]
  },
  {
   "cell_type": "markdown",
   "id": "217d3d02",
   "metadata": {},
   "source": [
    "## Системы счисления"
   ]
  },
  {
   "cell_type": "markdown",
   "id": "0bb243c2",
   "metadata": {},
   "source": [
    "### Двоичная система счисления"
   ]
  },
  {
   "cell_type": "markdown",
   "id": "3cf25d7e",
   "metadata": {},
   "source": [
    "Десятичная система: десять цифр от 0 до 9<br>\n",
    "Двоичная система: 2 цифры - 0, 1<br>"
   ]
  },
  {
   "cell_type": "markdown",
   "id": "46969cb7",
   "metadata": {},
   "source": [
    "В Python можно задавать числа непосредственно в двоичной системе исчисления, используя следующий синтаксис:<br>\n",
    "0b<двоичное число>"
   ]
  },
  {
   "cell_type": "code",
   "execution_count": 4,
   "id": "faacbbba",
   "metadata": {
    "scrolled": true
   },
   "outputs": [
    {
     "data": {
      "text/plain": [
       "1"
      ]
     },
     "execution_count": 4,
     "metadata": {},
     "output_type": "execute_result"
    }
   ],
   "source": [
    "0b001"
   ]
  },
  {
   "cell_type": "code",
   "execution_count": 5,
   "id": "3370de74",
   "metadata": {},
   "outputs": [
    {
     "data": {
      "text/plain": [
       "9"
      ]
     },
     "execution_count": 5,
     "metadata": {},
     "output_type": "execute_result"
    }
   ],
   "source": [
    "0b1001"
   ]
  },
  {
   "cell_type": "code",
   "execution_count": 6,
   "id": "4504f431",
   "metadata": {},
   "outputs": [
    {
     "data": {
      "text/plain": [
       "-31"
      ]
     },
     "execution_count": 6,
     "metadata": {},
     "output_type": "execute_result"
    }
   ],
   "source": [
    "-0b11111"
   ]
  },
  {
   "cell_type": "markdown",
   "id": "9289478a",
   "metadata": {},
   "source": [
    "### bin"
   ]
  },
  {
   "cell_type": "markdown",
   "id": "3762656d",
   "metadata": {},
   "source": [
    "Функция bin позволяет перевести любое число в двоичное:"
   ]
  },
  {
   "cell_type": "code",
   "execution_count": 7,
   "id": "fd3ec47e",
   "metadata": {
    "scrolled": true
   },
   "outputs": [
    {
     "data": {
      "text/plain": [
       "'0b10110'"
      ]
     },
     "execution_count": 7,
     "metadata": {},
     "output_type": "execute_result"
    }
   ],
   "source": [
    "bin(22)"
   ]
  },
  {
   "cell_type": "markdown",
   "id": "386c499f",
   "metadata": {},
   "source": [
    "### Шестнадцатиричная система счисления"
   ]
  },
  {
   "cell_type": "markdown",
   "id": "4352158a",
   "metadata": {},
   "source": [
    "Шестнадцатиричная система: 16 символов - цифры 0-9, A, B, C, D, E, F"
   ]
  },
  {
   "cell_type": "markdown",
   "id": "248b3d7a",
   "metadata": {},
   "source": [
    "0x<шестнадцатиричное число>"
   ]
  },
  {
   "cell_type": "code",
   "execution_count": 8,
   "id": "37ba2486",
   "metadata": {},
   "outputs": [
    {
     "data": {
      "text/plain": [
       "170"
      ]
     },
     "execution_count": 8,
     "metadata": {},
     "output_type": "execute_result"
    }
   ],
   "source": [
    "0xAA"
   ]
  },
  {
   "cell_type": "code",
   "execution_count": 9,
   "id": "6af3eb95",
   "metadata": {},
   "outputs": [
    {
     "data": {
      "text/plain": [
       "26"
      ]
     },
     "execution_count": 9,
     "metadata": {},
     "output_type": "execute_result"
    }
   ],
   "source": [
    "0x1A"
   ]
  },
  {
   "cell_type": "code",
   "execution_count": 10,
   "id": "fa2fef4d",
   "metadata": {
    "scrolled": true
   },
   "outputs": [
    {
     "data": {
      "text/plain": [
       "-17835"
      ]
     },
     "execution_count": 10,
     "metadata": {},
     "output_type": "execute_result"
    }
   ],
   "source": [
    "-0x45ab"
   ]
  },
  {
   "cell_type": "markdown",
   "id": "5a15e3eb",
   "metadata": {},
   "source": [
    "### hex"
   ]
  },
  {
   "cell_type": "markdown",
   "id": "5ed6a889",
   "metadata": {},
   "source": [
    "Функция hex позволяет перевести любое число в шестнадцатиричное:"
   ]
  },
  {
   "cell_type": "code",
   "execution_count": 11,
   "id": "a4c7144a",
   "metadata": {},
   "outputs": [
    {
     "data": {
      "text/plain": [
       "'0x1a'"
      ]
     },
     "execution_count": 11,
     "metadata": {},
     "output_type": "execute_result"
    }
   ],
   "source": [
    "hex(26)"
   ]
  },
  {
   "cell_type": "markdown",
   "id": "a3b1d78f",
   "metadata": {},
   "source": [
    "### Восьмеричная система счисления"
   ]
  },
  {
   "cell_type": "markdown",
   "id": "a93a704e",
   "metadata": {},
   "source": [
    "Шестнадцатиричная система: 8 символов - цифры 0-7"
   ]
  },
  {
   "cell_type": "markdown",
   "id": "ea8768ca",
   "metadata": {},
   "source": [
    "0o<шестнадцатиричное число>"
   ]
  },
  {
   "cell_type": "code",
   "execution_count": 12,
   "id": "2c3befa0",
   "metadata": {},
   "outputs": [
    {
     "data": {
      "text/plain": [
       "47"
      ]
     },
     "execution_count": 12,
     "metadata": {},
     "output_type": "execute_result"
    }
   ],
   "source": [
    "0o57"
   ]
  },
  {
   "cell_type": "code",
   "execution_count": 13,
   "id": "4eb56c47",
   "metadata": {},
   "outputs": [
    {
     "data": {
      "text/plain": [
       "-14"
      ]
     },
     "execution_count": 13,
     "metadata": {},
     "output_type": "execute_result"
    }
   ],
   "source": [
    "-0o16"
   ]
  },
  {
   "cell_type": "markdown",
   "id": "8db491f3",
   "metadata": {},
   "source": [
    "### oct"
   ]
  },
  {
   "cell_type": "markdown",
   "id": "5d872bf3",
   "metadata": {},
   "source": [
    "Функция hex позволяет перевести любое число в восьмеричное:"
   ]
  },
  {
   "cell_type": "code",
   "execution_count": 14,
   "id": "4076ab9d",
   "metadata": {},
   "outputs": [
    {
     "data": {
      "text/plain": [
       "'0o57'"
      ]
     },
     "execution_count": 14,
     "metadata": {},
     "output_type": "execute_result"
    }
   ],
   "source": [
    "oct(47)"
   ]
  },
  {
   "cell_type": "code",
   "execution_count": 15,
   "id": "5e042b51",
   "metadata": {
    "scrolled": true
   },
   "outputs": [
    {
     "data": {
      "text/plain": [
       "'0o126'"
      ]
     },
     "execution_count": 15,
     "metadata": {},
     "output_type": "execute_result"
    }
   ],
   "source": [
    "oct(0x56)"
   ]
  },
  {
   "cell_type": "code",
   "execution_count": 16,
   "id": "0d417d40",
   "metadata": {},
   "outputs": [
    {
     "data": {
      "text/plain": [
       "'-0o252'"
      ]
     },
     "execution_count": 16,
     "metadata": {},
     "output_type": "execute_result"
    }
   ],
   "source": [
    "oct(-0xAA)"
   ]
  }
 ],
 "metadata": {
  "kernelspec": {
   "display_name": "Python 3 (ipykernel)",
   "language": "python",
   "name": "python3"
  },
  "language_info": {
   "codemirror_mode": {
    "name": "ipython",
    "version": 3
   },
   "file_extension": ".py",
   "mimetype": "text/x-python",
   "name": "python",
   "nbconvert_exporter": "python",
   "pygments_lexer": "ipython3",
   "version": "3.9.13"
  }
 },
 "nbformat": 4,
 "nbformat_minor": 5
}

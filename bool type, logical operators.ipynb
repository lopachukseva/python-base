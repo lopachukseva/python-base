{
 "cells": [
  {
   "cell_type": "markdown",
   "id": "00eb2fbb",
   "metadata": {},
   "source": [
    "## Логический тип bool"
   ]
  },
  {
   "cell_type": "markdown",
   "id": "a25c806a",
   "metadata": {},
   "source": [
    "- True - истина; <br>\n",
    "- False - ложь."
   ]
  },
  {
   "cell_type": "code",
   "execution_count": 1,
   "id": "34628a2e",
   "metadata": {},
   "outputs": [
    {
     "data": {
      "text/plain": [
       "(True, bool)"
      ]
     },
     "execution_count": 1,
     "metadata": {},
     "output_type": "execute_result"
    }
   ],
   "source": [
    "a = (3 > 2)\n",
    "a, type(a)"
   ]
  },
  {
   "cell_type": "code",
   "execution_count": 2,
   "id": "313ca0ad",
   "metadata": {},
   "outputs": [
    {
     "data": {
      "text/plain": [
       "(False, bool)"
      ]
     },
     "execution_count": 2,
     "metadata": {},
     "output_type": "execute_result"
    }
   ],
   "source": [
    "b = False\n",
    "b, type(b)"
   ]
  },
  {
   "cell_type": "markdown",
   "id": "08ceb2b2",
   "metadata": {},
   "source": [
    "## Операции сравнения"
   ]
  },
  {
   "cell_type": "markdown",
   "id": "0f987de4",
   "metadata": {},
   "source": [
    "- \"==\" - равенство (возвращает True, если оба операнда равны);<br>\n",
    "- \"!=\" - неравенство (возвращает True, если оба операнда НЕ равны);<br>\n",
    "- \">\" - больше (возвращает True, если операнд слева больше операнда справа);<br>\n",
    "- \">=\" - больше или равно (возвращает True, если операнд слева больше или равен операнду справа);<br>\n",
    "- \"<\" - меньше (возвращает True, если операнд слева меньше операнда справа);<br>\n",
    "- \"<=\" - меньше или равно (возвращает True, если операнд слева больше или равен операнду справа);<br>\n"
   ]
  },
  {
   "cell_type": "code",
   "execution_count": 3,
   "id": "a4d0f272",
   "metadata": {},
   "outputs": [],
   "source": [
    "u = 10\n",
    "o = 4"
   ]
  },
  {
   "cell_type": "code",
   "execution_count": 4,
   "id": "24587aaf",
   "metadata": {
    "scrolled": true
   },
   "outputs": [
    {
     "name": "stdout",
     "output_type": "stream",
     "text": [
      "False\n"
     ]
    }
   ],
   "source": [
    "print(u == o)"
   ]
  },
  {
   "cell_type": "code",
   "execution_count": 5,
   "id": "fc6fa086",
   "metadata": {
    "scrolled": true
   },
   "outputs": [
    {
     "name": "stdout",
     "output_type": "stream",
     "text": [
      "True\n"
     ]
    }
   ],
   "source": [
    "print(u != o)"
   ]
  },
  {
   "cell_type": "code",
   "execution_count": 6,
   "id": "bd11bab1",
   "metadata": {
    "scrolled": true
   },
   "outputs": [
    {
     "name": "stdout",
     "output_type": "stream",
     "text": [
      "True\n",
      "True\n"
     ]
    }
   ],
   "source": [
    "print(u > o)\n",
    "print(u >= o)"
   ]
  },
  {
   "cell_type": "code",
   "execution_count": 7,
   "id": "6642e57c",
   "metadata": {},
   "outputs": [
    {
     "name": "stdout",
     "output_type": "stream",
     "text": [
      "False\n",
      "False\n"
     ]
    }
   ],
   "source": [
    "print(u < o)\n",
    "print(u <= o)"
   ]
  },
  {
   "cell_type": "markdown",
   "id": "b71b6c16",
   "metadata": {},
   "source": [
    "## Логические операторы"
   ]
  },
  {
   "cell_type": "markdown",
   "id": "b95eb61e",
   "metadata": {},
   "source": [
    "- and - логическое и;<br>\n",
    "- or - логическое или;<br>\n",
    "- not - логическое отрицание."
   ]
  },
  {
   "cell_type": "markdown",
   "id": "f2a48244",
   "metadata": {},
   "source": [
    "and - возвращает True, если оба выражения - True:"
   ]
  },
  {
   "cell_type": "code",
   "execution_count": 8,
   "id": "39eb7c39",
   "metadata": {
    "scrolled": false
   },
   "outputs": [
    {
     "name": "stdout",
     "output_type": "stream",
     "text": [
      "False\n"
     ]
    }
   ],
   "source": [
    "print((10 == 10) and (10 != 10))"
   ]
  },
  {
   "cell_type": "markdown",
   "id": "3bb2d961",
   "metadata": {},
   "source": [
    "or - возвращает True, если хотя бы одно выражение - True:"
   ]
  },
  {
   "cell_type": "code",
   "execution_count": 9,
   "id": "8b319e95",
   "metadata": {
    "scrolled": true
   },
   "outputs": [
    {
     "name": "stdout",
     "output_type": "stream",
     "text": [
      "True\n"
     ]
    }
   ],
   "source": [
    "print((10 == 10) or (10 != 10))"
   ]
  },
  {
   "cell_type": "markdown",
   "id": "7d769015",
   "metadata": {},
   "source": [
    "not - отрицание, т.е. not True = False"
   ]
  },
  {
   "cell_type": "code",
   "execution_count": 10,
   "id": "07642cff",
   "metadata": {
    "scrolled": true
   },
   "outputs": [
    {
     "name": "stdout",
     "output_type": "stream",
     "text": [
      "True\n"
     ]
    }
   ],
   "source": [
    "print(not (10 != 10))"
   ]
  },
  {
   "cell_type": "markdown",
   "id": "b960d9f2",
   "metadata": {},
   "source": [
    "Приоритет операторов:\n",
    "- or - 1;<br>\n",
    "- and - 2;<br>\n",
    "- not - 3.<br>"
   ]
  },
  {
   "cell_type": "markdown",
   "id": "f23bad40",
   "metadata": {},
   "source": [
    "Сначала выполняется оператор с более высоким приоритетом."
   ]
  },
  {
   "cell_type": "markdown",
   "id": "ee215c15",
   "metadata": {},
   "source": [
    "### Функция bool()"
   ]
  },
  {
   "cell_type": "markdown",
   "id": "a35b772a",
   "metadata": {},
   "source": [
    "Функция bool выполняет преобразование входного аргумента в логический тип - True или False. Если на вход поступает пустой аргумент - то он интерпретируется как False, а непустой - как True."
   ]
  },
  {
   "cell_type": "markdown",
   "id": "b606e8eb",
   "metadata": {},
   "source": [
    "В случае работы с числами непустым аргументом считается любое число, отличное от нуля:"
   ]
  },
  {
   "cell_type": "code",
   "execution_count": 3,
   "id": "cf1abedb",
   "metadata": {},
   "outputs": [
    {
     "data": {
      "text/plain": [
       "False"
      ]
     },
     "execution_count": 3,
     "metadata": {},
     "output_type": "execute_result"
    }
   ],
   "source": [
    "bool(0)"
   ]
  },
  {
   "cell_type": "code",
   "execution_count": 4,
   "id": "6410148b",
   "metadata": {},
   "outputs": [
    {
     "data": {
      "text/plain": [
       "True"
      ]
     },
     "execution_count": 4,
     "metadata": {},
     "output_type": "execute_result"
    }
   ],
   "source": [
    "bool(1)"
   ]
  },
  {
   "cell_type": "code",
   "execution_count": 5,
   "id": "d3c029c8",
   "metadata": {},
   "outputs": [
    {
     "data": {
      "text/plain": [
       "True"
      ]
     },
     "execution_count": 5,
     "metadata": {},
     "output_type": "execute_result"
    }
   ],
   "source": [
    "bool(5)"
   ]
  },
  {
   "cell_type": "markdown",
   "id": "e58e00e4",
   "metadata": {},
   "source": [
    "В случае со строками - любая пустая строка является пустым аргументом:"
   ]
  },
  {
   "cell_type": "code",
   "execution_count": 8,
   "id": "75cf1cff",
   "metadata": {},
   "outputs": [
    {
     "data": {
      "text/plain": [
       "False"
      ]
     },
     "execution_count": 8,
     "metadata": {},
     "output_type": "execute_result"
    }
   ],
   "source": [
    "bool(\"\")"
   ]
  },
  {
   "cell_type": "markdown",
   "id": "5266bfd3",
   "metadata": {},
   "source": [
    "А строка, содержащая хотя бы один символ - непустым:"
   ]
  },
  {
   "cell_type": "code",
   "execution_count": 10,
   "id": "584ef3ac",
   "metadata": {},
   "outputs": [
    {
     "data": {
      "text/plain": [
       "True"
      ]
     },
     "execution_count": 10,
     "metadata": {},
     "output_type": "execute_result"
    }
   ],
   "source": [
    "bool(\"w\")"
   ]
  }
 ],
 "metadata": {
  "kernelspec": {
   "display_name": "Python 3 (ipykernel)",
   "language": "python",
   "name": "python3"
  },
  "language_info": {
   "codemirror_mode": {
    "name": "ipython",
    "version": 3
   },
   "file_extension": ".py",
   "mimetype": "text/x-python",
   "name": "python",
   "nbconvert_exporter": "python",
   "pygments_lexer": "ipython3",
   "version": "3.9.13"
  }
 },
 "nbformat": 4,
 "nbformat_minor": 5
}

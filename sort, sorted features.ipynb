{
 "cells": [
  {
   "cell_type": "markdown",
   "id": "8d326212",
   "metadata": {},
   "source": [
    "### Особенности сортировки через sort и sorted"
   ]
  },
  {
   "cell_type": "markdown",
   "id": "b2c6fe99",
   "metadata": {},
   "source": [
    "list.sort() - метод для сортировки элементов списка<br>\n",
    "sorted() - функция для сортировки итерируемых объектов"
   ]
  },
  {
   "cell_type": "markdown",
   "id": "3ebf7d6d",
   "metadata": {},
   "source": [
    "### sort"
   ]
  },
  {
   "cell_type": "markdown",
   "id": "d2bd2cdb",
   "metadata": {},
   "source": [
    "При вызове метода sort он выполняет сортировку списка, у которого он был вызван:"
   ]
  },
  {
   "cell_type": "code",
   "execution_count": 1,
   "id": "3c0648a1",
   "metadata": {},
   "outputs": [],
   "source": [
    "a = [-9, 6, 3, -31, 5, 3, 1, -6]"
   ]
  },
  {
   "cell_type": "code",
   "execution_count": 2,
   "id": "8b393382",
   "metadata": {},
   "outputs": [],
   "source": [
    "a.sort()"
   ]
  },
  {
   "cell_type": "code",
   "execution_count": 3,
   "id": "3905dda7",
   "metadata": {
    "scrolled": true
   },
   "outputs": [
    {
     "data": {
      "text/plain": [
       "[-31, -9, -6, 1, 3, 3, 5, 6]"
      ]
     },
     "execution_count": 3,
     "metadata": {},
     "output_type": "execute_result"
    }
   ],
   "source": [
    "a"
   ]
  },
  {
   "cell_type": "markdown",
   "id": "cf0bfad9",
   "metadata": {},
   "source": [
    "По умолчанию - по возрастанию, но если передать аргумент reverse со значением True, то по убыванию:"
   ]
  },
  {
   "cell_type": "code",
   "execution_count": 4,
   "id": "5c1fe48b",
   "metadata": {},
   "outputs": [
    {
     "data": {
      "text/plain": [
       "[6, 5, 3, 3, 1, -6, -9, -31]"
      ]
     },
     "execution_count": 4,
     "metadata": {},
     "output_type": "execute_result"
    }
   ],
   "source": [
    "a.sort(reverse=True)\n",
    "a"
   ]
  },
  {
   "cell_type": "markdown",
   "id": "3e574195",
   "metadata": {},
   "source": [
    "Но так можно работать только со списками. Допустим, если существует кортеж, то метод sort мы вызвать уже не сможем, возникнет ошибка. Кортеж - неизменяемый тип данных, и менять его содержимое нельзя. "
   ]
  },
  {
   "cell_type": "markdown",
   "id": "eca6f6d6",
   "metadata": {},
   "source": [
    "### sorted"
   ]
  },
  {
   "cell_type": "markdown",
   "id": "da55498a",
   "metadata": {},
   "source": [
    "Для сортировки итерируемых объектов существует метод sorted. В качестве аргумента он принимает итерируемый объект, а возвращает - список, который содержит все элементы списка, но отсортированные по возрастанию:"
   ]
  },
  {
   "cell_type": "code",
   "execution_count": 5,
   "id": "5ff51d18",
   "metadata": {},
   "outputs": [],
   "source": [
    "b = (-9, 6, 3, -31, 5, 3, 1, -6)"
   ]
  },
  {
   "cell_type": "code",
   "execution_count": 6,
   "id": "ad2bfb1a",
   "metadata": {},
   "outputs": [
    {
     "data": {
      "text/plain": [
       "[-31, -9, -6, 1, 3, 3, 5, 6]"
      ]
     },
     "execution_count": 6,
     "metadata": {},
     "output_type": "execute_result"
    }
   ],
   "source": [
    "sorted(b)"
   ]
  },
  {
   "cell_type": "markdown",
   "id": "ac586403",
   "metadata": {},
   "source": [
    "Или по убыванию, если присвоить аргументу reverse значение True:"
   ]
  },
  {
   "cell_type": "code",
   "execution_count": 7,
   "id": "e844f9a3",
   "metadata": {},
   "outputs": [
    {
     "data": {
      "text/plain": [
       "[6, 5, 3, 3, 1, -6, -9, -31]"
      ]
     },
     "execution_count": 7,
     "metadata": {},
     "output_type": "execute_result"
    }
   ],
   "source": [
    "sorted(b, reverse=True)"
   ]
  },
  {
   "cell_type": "markdown",
   "id": "0c591931",
   "metadata": {},
   "source": [
    "То же самое можно сделать и со строкой, так как строка - итерируемый объект:"
   ]
  },
  {
   "cell_type": "code",
   "execution_count": 8,
   "id": "d1d1004b",
   "metadata": {},
   "outputs": [
    {
     "data": {
      "text/plain": [
       "['h', 'n', 'o', 'p', 't', 'y']"
      ]
     },
     "execution_count": 8,
     "metadata": {},
     "output_type": "execute_result"
    }
   ],
   "source": [
    "sorted(\"python\")"
   ]
  },
  {
   "cell_type": "markdown",
   "id": "d9f349c1",
   "metadata": {},
   "source": [
    "Метод sort вызывается у списка, и изменяет сам список. Функция sorted принимает любой итерируемый объект и возвращает список, состоящий из элементов итерируемого объекта, не изменяя при этом исходный объект."
   ]
  },
  {
   "cell_type": "markdown",
   "id": "c08fd985",
   "metadata": {},
   "source": [
    "Но следует помнить, что все алгоритмы сортировки можно применять только к элементам, которые между собой можно сравнивать на больше или меньше. Например, если в списке помимо чисел будут буквы, метод sort и функция sorted не может к нему быть применена, так как строку нельзя сравнивать с числом."
   ]
  }
 ],
 "metadata": {
  "kernelspec": {
   "display_name": "Python 3 (ipykernel)",
   "language": "python",
   "name": "python3"
  },
  "language_info": {
   "codemirror_mode": {
    "name": "ipython",
    "version": 3
   },
   "file_extension": ".py",
   "mimetype": "text/x-python",
   "name": "python",
   "nbconvert_exporter": "python",
   "pygments_lexer": "ipython3",
   "version": "3.9.13"
  }
 },
 "nbformat": 4,
 "nbformat_minor": 5
}

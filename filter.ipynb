{
 "cells": [
  {
   "cell_type": "markdown",
   "id": "f0deb326",
   "metadata": {},
   "source": [
    "## Функция filter для отбора значений итерируемых объектов"
   ]
  },
  {
   "cell_type": "markdown",
   "id": "d5014c4c",
   "metadata": {},
   "source": [
    "filter(func, *iterables) - фильтрация элементов итерируемого объекта"
   ]
  },
  {
   "cell_type": "markdown",
   "id": "aa3feea6",
   "metadata": {},
   "source": [
    "Если функция func возвращает True, то текущий элемент итерируемого объекта возвращается функцией filter:"
   ]
  },
  {
   "cell_type": "code",
   "execution_count": 1,
   "id": "afdcb8a7",
   "metadata": {},
   "outputs": [],
   "source": [
    "a = [1, 2, 4, -9, 9, 0, -7]"
   ]
  },
  {
   "cell_type": "markdown",
   "id": "3c8a57dc",
   "metadata": {},
   "source": [
    "Функция filter возвращает итератор:"
   ]
  },
  {
   "cell_type": "code",
   "execution_count": 10,
   "id": "18b7e016",
   "metadata": {},
   "outputs": [
    {
     "data": {
      "text/plain": [
       "<filter at 0x1849e458520>"
      ]
     },
     "execution_count": 10,
     "metadata": {},
     "output_type": "execute_result"
    }
   ],
   "source": [
    "b = filter(lambda x: x > 0, a)\n",
    "b"
   ]
  },
  {
   "cell_type": "markdown",
   "id": "f0ac595f",
   "metadata": {},
   "source": [
    "Который можно перебрать с помощью функции next:"
   ]
  },
  {
   "cell_type": "code",
   "execution_count": 11,
   "id": "cde2c143",
   "metadata": {},
   "outputs": [
    {
     "data": {
      "text/plain": [
       "1"
      ]
     },
     "execution_count": 11,
     "metadata": {},
     "output_type": "execute_result"
    }
   ],
   "source": [
    "next(b)"
   ]
  },
  {
   "cell_type": "code",
   "execution_count": 12,
   "id": "93a1fb9f",
   "metadata": {},
   "outputs": [
    {
     "data": {
      "text/plain": [
       "2"
      ]
     },
     "execution_count": 12,
     "metadata": {},
     "output_type": "execute_result"
    }
   ],
   "source": [
    "next(b)"
   ]
  },
  {
   "cell_type": "code",
   "execution_count": 13,
   "id": "3ed2632f",
   "metadata": {},
   "outputs": [
    {
     "data": {
      "text/plain": [
       "4"
      ]
     },
     "execution_count": 13,
     "metadata": {},
     "output_type": "execute_result"
    }
   ],
   "source": [
    "next(b)"
   ]
  },
  {
   "cell_type": "code",
   "execution_count": 14,
   "id": "5bba526c",
   "metadata": {},
   "outputs": [
    {
     "data": {
      "text/plain": [
       "9"
      ]
     },
     "execution_count": 14,
     "metadata": {},
     "output_type": "execute_result"
    }
   ],
   "source": [
    "next(b)"
   ]
  },
  {
   "cell_type": "markdown",
   "id": "79e44f8a",
   "metadata": {},
   "source": [
    "Преобразовать в список:"
   ]
  },
  {
   "cell_type": "code",
   "execution_count": 15,
   "id": "3ee12d33",
   "metadata": {},
   "outputs": [
    {
     "data": {
      "text/plain": [
       "[1, 2, 4, 9]"
      ]
     },
     "execution_count": 15,
     "metadata": {},
     "output_type": "execute_result"
    }
   ],
   "source": [
    "b = list(filter(lambda x: x > 0, a))\n",
    "b"
   ]
  },
  {
   "cell_type": "markdown",
   "id": "8fa5e28a",
   "metadata": {},
   "source": [
    "Перебрать с помощью цикла for:"
   ]
  },
  {
   "cell_type": "code",
   "execution_count": 16,
   "id": "288ae3c0",
   "metadata": {},
   "outputs": [
    {
     "name": "stdout",
     "output_type": "stream",
     "text": [
      "1\n",
      "2\n",
      "4\n",
      "9\n"
     ]
    }
   ],
   "source": [
    "b = filter(lambda x: x > 0, a)\n",
    "for x in b:\n",
    "    print(x)"
   ]
  },
  {
   "cell_type": "markdown",
   "id": "02a902b2",
   "metadata": {},
   "source": [
    "Воспользоваться функцией min:"
   ]
  },
  {
   "cell_type": "code",
   "execution_count": 17,
   "id": "4b05a8f6",
   "metadata": {},
   "outputs": [
    {
     "data": {
      "text/plain": [
       "1"
      ]
     },
     "execution_count": 17,
     "metadata": {},
     "output_type": "execute_result"
    }
   ],
   "source": [
    "b = filter(lambda x: x > 0, a)\n",
    "min(b)"
   ]
  },
  {
   "cell_type": "markdown",
   "id": "ff7c89ec",
   "metadata": {},
   "source": [
    "И так далее."
   ]
  },
  {
   "cell_type": "markdown",
   "id": "0d068977",
   "metadata": {},
   "source": [
    "Не обязательно использовать lambda функцию. Допустим, мы хотим сформировать список на основе существующего, но оставить в нем только простые числа. Простые числа - те, что имеют только два делителя - само число и единица. Определим функцию, которая будет возвращать True, если число простое, и False, если нет:"
   ]
  },
  {
   "cell_type": "code",
   "execution_count": 33,
   "id": "4475341a",
   "metadata": {},
   "outputs": [],
   "source": [
    "def isSimple(num):\n",
    "    d = num - 1\n",
    "    if d < 1:\n",
    "        return False\n",
    "    \n",
    "    while d > 1:\n",
    "        if num % d == 0:\n",
    "            return False\n",
    "        d -= 1\n",
    "    \n",
    "    return True"
   ]
  },
  {
   "cell_type": "code",
   "execution_count": 34,
   "id": "f000e7b7",
   "metadata": {},
   "outputs": [
    {
     "data": {
      "text/plain": [
       "[2]"
      ]
     },
     "execution_count": 34,
     "metadata": {},
     "output_type": "execute_result"
    }
   ],
   "source": [
    "b = list(filter(isSimple, a))\n",
    "b"
   ]
  },
  {
   "cell_type": "markdown",
   "id": "a5cbe746",
   "metadata": {},
   "source": [
    "Так как функция filter возвращает итерируемый объект, ничего не мешает вкладывать их друг в друга. К примеру, внутренняя функция будет отбирать только простые числа, а внешняя допольнительно еще и нечетные:"
   ]
  },
  {
   "cell_type": "code",
   "execution_count": 41,
   "id": "d21b9ba5",
   "metadata": {},
   "outputs": [],
   "source": [
    "va = [1, 2, 4, -9, 9, 0, -7, 8, 4, 8, -3, 7, 11]"
   ]
  },
  {
   "cell_type": "code",
   "execution_count": 42,
   "id": "03938a2a",
   "metadata": {},
   "outputs": [],
   "source": [
    "xa = filter(lambda x: x % 2 != 0, (filter(isSimple, va)))"
   ]
  },
  {
   "cell_type": "code",
   "execution_count": 43,
   "id": "61535a92",
   "metadata": {},
   "outputs": [
    {
     "name": "stdout",
     "output_type": "stream",
     "text": [
      "7\n",
      "11\n"
     ]
    }
   ],
   "source": [
    "for x in xa:\n",
    "    print(x)"
   ]
  }
 ],
 "metadata": {
  "kernelspec": {
   "display_name": "Python 3 (ipykernel)",
   "language": "python",
   "name": "python3"
  },
  "language_info": {
   "codemirror_mode": {
    "name": "ipython",
    "version": 3
   },
   "file_extension": ".py",
   "mimetype": "text/x-python",
   "name": "python",
   "nbconvert_exporter": "python",
   "pygments_lexer": "ipython3",
   "version": "3.9.13"
  }
 },
 "nbformat": 4,
 "nbformat_minor": 5
}

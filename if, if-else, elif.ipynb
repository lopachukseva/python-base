{
 "cells": [
  {
   "cell_type": "markdown",
   "id": "de3a3428",
   "metadata": {},
   "source": [
    "### if"
   ]
  },
  {
   "cell_type": "markdown",
   "id": "55753bd2",
   "metadata": {},
   "source": [
    "if - условный оператор (оператор ветвления). Позволяет выполнять одну группу операторов при истинности условия, и другую - в обратном случае."
   ]
  },
  {
   "cell_type": "code",
   "execution_count": 1,
   "id": "216d22b8",
   "metadata": {},
   "outputs": [],
   "source": [
    "a = 10"
   ]
  },
  {
   "cell_type": "markdown",
   "id": "74890dd6",
   "metadata": {},
   "source": [
    "Если выражение (a > 0) истинно, в консоль будет выведена строка (a - положительное число):"
   ]
  },
  {
   "cell_type": "code",
   "execution_count": 2,
   "id": "3e1e794a",
   "metadata": {
    "scrolled": true
   },
   "outputs": [
    {
     "name": "stdout",
     "output_type": "stream",
     "text": [
      "a - положительное число\n"
     ]
    }
   ],
   "source": [
    "if (a > 0): print('a - положительное число')"
   ]
  },
  {
   "cell_type": "markdown",
   "id": "938f0518",
   "metadata": {},
   "source": [
    "Если операторов больше одного:"
   ]
  },
  {
   "cell_type": "code",
   "execution_count": 3,
   "id": "ce13ce05",
   "metadata": {},
   "outputs": [
    {
     "name": "stdout",
     "output_type": "stream",
     "text": [
      "a - положительное число\n",
      "a = 10\n"
     ]
    }
   ],
   "source": [
    "if (a > 0):\n",
    "    print('a - положительное число')\n",
    "    print(f'a = {a}')"
   ]
  },
  {
   "cell_type": "code",
   "execution_count": 4,
   "id": "a1b6d6fd",
   "metadata": {},
   "outputs": [
    {
     "name": "stdout",
     "output_type": "stream",
     "text": [
      "x: 3\n",
      "y: 4\n",
      "x: 3, y: 4\n"
     ]
    }
   ],
   "source": [
    "x = int(input(\"x: \"))\n",
    "y = int(input(\"y: \"))\n",
    "\n",
    "if (x > y):\n",
    "    x, y = y, x\n",
    "\n",
    "print(f\"x: {x}, y: {y}\")"
   ]
  },
  {
   "cell_type": "markdown",
   "id": "b1c23c1d",
   "metadata": {},
   "source": [
    "В качестве условия можно передавать и переменную. Условия будет истинно, если оно ссылается на любой объект. Непустое число - число, отличное от нуля. Непустая строка - строка, содержащая хотя бы один символ:"
   ]
  },
  {
   "cell_type": "code",
   "execution_count": 5,
   "id": "d7fe8568",
   "metadata": {},
   "outputs": [
    {
     "name": "stdout",
     "output_type": "stream",
     "text": [
      "Условие выполняется: sd\n"
     ]
    }
   ],
   "source": [
    "d = \"\"\n",
    "sd = \" \"\n",
    "if d: print(\"Условие выполняется: d\")\n",
    "if sd: print(\"Условие выполняется: sd\")"
   ]
  },
  {
   "cell_type": "code",
   "execution_count": 6,
   "id": "fc0f961f",
   "metadata": {},
   "outputs": [
    {
     "name": "stdout",
     "output_type": "stream",
     "text": [
      "Условие выполняется: nd\n"
     ]
    }
   ],
   "source": [
    "n = 0\n",
    "nd = 9\n",
    "if n: print(\"Условие выполняется: n\")\n",
    "if nd: print(\"Условие выполняется: nd\")"
   ]
  },
  {
   "cell_type": "markdown",
   "id": "15ffcc7a",
   "metadata": {},
   "source": [
    "Все происходит потому, что по этому же правилу происходит преобразование в тип bool:"
   ]
  },
  {
   "cell_type": "code",
   "execution_count": 7,
   "id": "b8f0daab",
   "metadata": {},
   "outputs": [
    {
     "data": {
      "text/plain": [
       "(False, True, False, True)"
      ]
     },
     "execution_count": 7,
     "metadata": {},
     "output_type": "execute_result"
    }
   ],
   "source": [
    "bool(d), bool(sd), bool(n), bool(nd)"
   ]
  },
  {
   "cell_type": "markdown",
   "id": "dbf164d5",
   "metadata": {},
   "source": [
    "Соответственно, если переменная изначально типа bool:"
   ]
  },
  {
   "cell_type": "code",
   "execution_count": 8,
   "id": "e3acbca1",
   "metadata": {},
   "outputs": [
    {
     "name": "stdout",
     "output_type": "stream",
     "text": [
      "Условие выполняется: nf\n"
     ]
    }
   ],
   "source": [
    "f = False\n",
    "nf = True\n",
    "if f: print(\"Условие выполняется: f\")\n",
    "if nf: print(\"Условие выполняется: nf\")"
   ]
  },
  {
   "cell_type": "markdown",
   "id": "6b749e0a",
   "metadata": {},
   "source": [
    "А подобное условие будет выполняться всегда:"
   ]
  },
  {
   "cell_type": "code",
   "execution_count": 9,
   "id": "75e46c0b",
   "metadata": {
    "scrolled": true
   },
   "outputs": [
    {
     "name": "stdout",
     "output_type": "stream",
     "text": [
      "Thats True!\n"
     ]
    }
   ],
   "source": [
    "if True:\n",
    "    print(\"Thats True!\")"
   ]
  },
  {
   "cell_type": "code",
   "execution_count": 10,
   "id": "48836cdd",
   "metadata": {},
   "outputs": [],
   "source": [
    "values = [10, 4, 4, 6, 8]"
   ]
  },
  {
   "cell_type": "code",
   "execution_count": 11,
   "id": "a1d1c671",
   "metadata": {},
   "outputs": [],
   "source": [
    "if 2 in values:\n",
    "    print(\"Число 2 содержится в списке\")"
   ]
  },
  {
   "cell_type": "code",
   "execution_count": 12,
   "id": "be9ca078",
   "metadata": {},
   "outputs": [
    {
     "name": "stdout",
     "output_type": "stream",
     "text": [
      "Число 4 содержится в списке\n"
     ]
    }
   ],
   "source": [
    "if 4 in values:\n",
    "    print(\"Число 4 содержится в списке\")"
   ]
  },
  {
   "cell_type": "markdown",
   "id": "d42626c1",
   "metadata": {},
   "source": [
    "### else"
   ]
  },
  {
   "cell_type": "markdown",
   "id": "8b003993",
   "metadata": {},
   "source": [
    "Блок else выполняется только в том случае, если не было выполнено условие if:"
   ]
  },
  {
   "cell_type": "code",
   "execution_count": 13,
   "id": "d3442c6a",
   "metadata": {},
   "outputs": [],
   "source": [
    "values = [10, 4, 4, 6, 8]"
   ]
  },
  {
   "cell_type": "code",
   "execution_count": 14,
   "id": "8ee7787a",
   "metadata": {},
   "outputs": [
    {
     "name": "stdout",
     "output_type": "stream",
     "text": [
      "Число 2 не содержится в списке\n"
     ]
    }
   ],
   "source": [
    "if 2 in values:\n",
    "    print(\"Число 2 содержится в списке\")\n",
    "else:\n",
    "    print(\"Число 2 не содержится в списке\")"
   ]
  },
  {
   "cell_type": "markdown",
   "id": "6d367969",
   "metadata": {},
   "source": [
    "### Вложенные условия"
   ]
  },
  {
   "cell_type": "code",
   "execution_count": 15,
   "id": "fe349534",
   "metadata": {},
   "outputs": [
    {
     "name": "stdout",
     "output_type": "stream",
     "text": [
      "x = 3\n",
      "x - нечетная цифра\n"
     ]
    }
   ],
   "source": [
    "x = int(input(\"x = \"))\n",
    "\n",
    "if (0 <= x <= 9):\n",
    "    if (x % 2 == 0):\n",
    "        print(\"x - четная цифра\")\n",
    "    else:\n",
    "        print(\"x - нечетная цифра\")\n",
    "else:\n",
    "    print(\"x - число\")"
   ]
  },
  {
   "cell_type": "markdown",
   "id": "cf58c4dd",
   "metadata": {},
   "source": [
    "### elif"
   ]
  },
  {
   "cell_type": "code",
   "execution_count": 19,
   "id": "07dfbabe",
   "metadata": {},
   "outputs": [
    {
     "name": "stdout",
     "output_type": "stream",
     "text": [
      "Введите число от 1 до 3: 2\n",
      "Введено число 2\n"
     ]
    }
   ],
   "source": [
    "item = int(input(\"Введите число от 1 до 3: \"))\n",
    "\n",
    "if item == 1:\n",
    "    print(\"Введено число 1\")\n",
    "else:\n",
    "    if item == 2:\n",
    "        print(\"Введено число 2\")\n",
    "    else:\n",
    "        if item == 3:\n",
    "            print(\"Введено число 3\")\n",
    "        else:\n",
    "            print(\"Введено неверное число\")"
   ]
  },
  {
   "cell_type": "markdown",
   "id": "a3429fc8",
   "metadata": {},
   "source": [
    "elif = else if. "
   ]
  },
  {
   "cell_type": "markdown",
   "id": "122f906d",
   "metadata": {},
   "source": [
    "Эту же конструкцию можно реализовать гораздо проще, используя elif:"
   ]
  },
  {
   "cell_type": "code",
   "execution_count": 22,
   "id": "511c383a",
   "metadata": {},
   "outputs": [
    {
     "name": "stdout",
     "output_type": "stream",
     "text": [
      "Введите число от 1 до 3: 3\n",
      "Введено число 3\n"
     ]
    }
   ],
   "source": [
    "item = int(input(\"Введите число от 1 до 3: \"))\n",
    "\n",
    "if item == 1:\n",
    "    print(\"Введено число 1\")\n",
    "elif item == 2:\n",
    "    print(\"Введено число 2\")\n",
    "elif item == 3:\n",
    "    print(\"Введено число 3\")\n",
    "else:\n",
    "    print(\"Введено неверное число\")"
   ]
  },
  {
   "cell_type": "markdown",
   "id": "26586c16",
   "metadata": {},
   "source": [
    "Механизм работает так, что если выполнено условие if - выполняется блок кода в нем и проверки останавливаются. Иначе выполняется переход к блоку elif. Если его условие выполнено, то проверки останавливаются и выполняется блок кода.  Если нет - то выполняется следующий блок elif и так далее. Но в случае, если блок if и ни один из блоков elif не выполнены, выполняется блок else. Важно соблюдать порядок - if - elif - else."
   ]
  }
 ],
 "metadata": {
  "kernelspec": {
   "display_name": "Python 3 (ipykernel)",
   "language": "python",
   "name": "python3"
  },
  "language_info": {
   "codemirror_mode": {
    "name": "ipython",
    "version": 3
   },
   "file_extension": ".py",
   "mimetype": "text/x-python",
   "name": "python",
   "nbconvert_exporter": "python",
   "pygments_lexer": "ipython3",
   "version": "3.9.13"
  }
 },
 "nbformat": 4,
 "nbformat_minor": 5
}

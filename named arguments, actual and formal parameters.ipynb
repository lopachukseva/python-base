{
 "cells": [
  {
   "cell_type": "markdown",
   "id": "c3e40ef6",
   "metadata": {},
   "source": [
    "Предположим, что существует функция, которая принимает три аргумента - длину, ширину и высоту прямоугольного параллелепипеда и возвращает произведение - объем:"
   ]
  },
  {
   "cell_type": "code",
   "execution_count": 1,
   "id": "c0fca7ac",
   "metadata": {},
   "outputs": [],
   "source": [
    "def get_V(a, b, c):\n",
    "    print(f'a: {a}, b: {b}, c: {c}')\n",
    "    return(a*b*c)"
   ]
  },
  {
   "cell_type": "code",
   "execution_count": 2,
   "id": "2591bde0",
   "metadata": {},
   "outputs": [
    {
     "name": "stdout",
     "output_type": "stream",
     "text": [
      "a: 10, b: 20, c: 3\n"
     ]
    }
   ],
   "source": [
    "v = get_V(10, 20, 3)"
   ]
  },
  {
   "cell_type": "markdown",
   "id": "5818fa71",
   "metadata": {},
   "source": [
    "И здесь первому параметру a было присвоен первый аргумент, второму - второй и так далее. Это произошло потому, что здесь используется позиционная запись аргументов: значения параметров a, b, c определяются порядком записи аргументов."
   ]
  },
  {
   "cell_type": "markdown",
   "id": "e8b3661b",
   "metadata": {},
   "source": [
    "Но можно не меняя порядка записи аргументов присвоить другие значения параметрам. Для этого при вызове функции нужно явно прописать название параметров:"
   ]
  },
  {
   "cell_type": "code",
   "execution_count": 3,
   "id": "acde7404",
   "metadata": {},
   "outputs": [
    {
     "name": "stdout",
     "output_type": "stream",
     "text": [
      "a: 3, b: 20, c: 10\n"
     ]
    }
   ],
   "source": [
    "v = get_V(c=10, b=20, a=3)"
   ]
  },
  {
   "cell_type": "markdown",
   "id": "4f970778",
   "metadata": {},
   "source": [
    "Такие аргументы называются именованными. Также можно комбинировать именованную и позиционную запись аргументов. Например:"
   ]
  },
  {
   "cell_type": "code",
   "execution_count": 4,
   "id": "b4cb50f5",
   "metadata": {},
   "outputs": [
    {
     "name": "stdout",
     "output_type": "stream",
     "text": [
      "a: 10, b: 3, c: 20\n"
     ]
    }
   ],
   "source": [
    "v = get_V(10, c=20, b=3)"
   ]
  },
  {
   "cell_type": "markdown",
   "id": "7b05ccca",
   "metadata": {},
   "source": [
    "Но только позиционные аргументы должны идти в начале, а именованные - в конце."
   ]
  },
  {
   "cell_type": "markdown",
   "id": "4da1272b",
   "metadata": {},
   "source": [
    "Также параметрам можно задавать значения по умолчанию:"
   ]
  },
  {
   "cell_type": "code",
   "execution_count": 5,
   "id": "19b66f13",
   "metadata": {},
   "outputs": [],
   "source": [
    "def get_V(a, b, c, verbose=True):\n",
    "    if verbose:\n",
    "        print(f'a: {a}, b: {b}, c: {c}')\n",
    "    return(a*b*c)"
   ]
  },
  {
   "cell_type": "markdown",
   "id": "8b9242ab",
   "metadata": {},
   "source": [
    "Параметры, которым не задано значение по умолчанию, называются фактическими. А те, которым оно задано - формальными. Т.е. здесь a, b, c - фактические параметры, а verbose - формальный параметр."
   ]
  },
  {
   "cell_type": "markdown",
   "id": "9cf85dd6",
   "metadata": {},
   "source": [
    "Формальные параметры отличаются тем, при вызове функции их не обязательно передавать. И если их не передавать - они примут значение по умолчанию:"
   ]
  },
  {
   "cell_type": "code",
   "execution_count": 6,
   "id": "6d21d56f",
   "metadata": {
    "scrolled": false
   },
   "outputs": [
    {
     "name": "stdout",
     "output_type": "stream",
     "text": [
      "a: 10, b: 20, c: 40\n"
     ]
    }
   ],
   "source": [
    "v = get_V(10, 20, 40)"
   ]
  },
  {
   "cell_type": "markdown",
   "id": "0bbb40f7",
   "metadata": {},
   "source": [
    "А если передать, то примут значение, которое было передано:"
   ]
  },
  {
   "cell_type": "code",
   "execution_count": 7,
   "id": "76748715",
   "metadata": {},
   "outputs": [],
   "source": [
    "v = get_V(10, 20, 40, False)"
   ]
  },
  {
   "cell_type": "markdown",
   "id": "58a4a2b8",
   "metadata": {},
   "source": [
    "И "
   ]
  },
  {
   "cell_type": "markdown",
   "id": "e4330edb",
   "metadata": {},
   "source": [
    "При работе с формальными параметрами, которым присвоен изменяемый тип данных, есть одна особенность. Предположим, что существует функция с двумя параметрами, из которых второй - имеет значение по умолчанию - пустой список:"
   ]
  },
  {
   "cell_type": "code",
   "execution_count": 8,
   "id": "1666e3c9",
   "metadata": {},
   "outputs": [],
   "source": [
    "def add_item(item, lst=[]):\n",
    "    lst.append(item)\n",
    "    return lst"
   ]
  },
  {
   "cell_type": "code",
   "execution_count": 9,
   "id": "f272e82c",
   "metadata": {},
   "outputs": [],
   "source": [
    "l = add_item(1)\n",
    "l = add_item(2)"
   ]
  },
  {
   "cell_type": "markdown",
   "id": "55300149",
   "metadata": {},
   "source": [
    "И по хорошему, при вызове второй функции должен быть возвращен список с одним элементом - 2. Но на деле в этом списке оказывается и 1, и 2:"
   ]
  },
  {
   "cell_type": "code",
   "execution_count": 10,
   "id": "8bc19d76",
   "metadata": {
    "scrolled": true
   },
   "outputs": [
    {
     "name": "stdout",
     "output_type": "stream",
     "text": [
      "[1, 2]\n"
     ]
    }
   ],
   "source": [
    "print(l)"
   ]
  },
  {
   "cell_type": "markdown",
   "id": "1e21089f",
   "metadata": {},
   "source": [
    "Это произошло потому, что при создании функции переменная lst ссылается на определенный объект. При первом вызове функции в этот объект была добавлена 1, а при повторном вызове она ссылается на тот же объект, что и ранее, и поэтому добавляется еще и 2. Чтобы это обойти, можно поступить следующим образом:"
   ]
  },
  {
   "cell_type": "code",
   "execution_count": 11,
   "id": "4354431b",
   "metadata": {},
   "outputs": [],
   "source": [
    "def add_item(item, lst=None):\n",
    "    if lst is None:\n",
    "        lst = []\n",
    "        \n",
    "    lst.append(item)\n",
    "    return lst"
   ]
  },
  {
   "cell_type": "code",
   "execution_count": 12,
   "id": "a75ae413",
   "metadata": {},
   "outputs": [],
   "source": [
    "l = add_item(1)\n",
    "l = add_item(2)"
   ]
  },
  {
   "cell_type": "markdown",
   "id": "14f6dfa7",
   "metadata": {},
   "source": [
    "И теперь переменная lst всегда ссылается на пустой список, если он не был явно передан. И в итоге функция вернет только список, содержащий результаты работы только одного вызова, а не двух:"
   ]
  },
  {
   "cell_type": "code",
   "execution_count": 13,
   "id": "d2358ffe",
   "metadata": {},
   "outputs": [
    {
     "name": "stdout",
     "output_type": "stream",
     "text": [
      "[2]\n"
     ]
    }
   ],
   "source": [
    "print(l)"
   ]
  },
  {
   "cell_type": "markdown",
   "id": "981e09fc",
   "metadata": {},
   "source": [
    "Подобное поведение будет со всеми изменяемыми параметрами. Поэтому в качестве формальных параметров лучше указывать неизменяемые типы данных."
   ]
  },
  {
   "cell_type": "markdown",
   "id": "d6d47e22",
   "metadata": {},
   "source": [
    "Еще один пример с формальными параметрами. Допустим, существует функция, которая сравнивает две строки:"
   ]
  },
  {
   "cell_type": "code",
   "execution_count": 14,
   "id": "bbc2f08b",
   "metadata": {},
   "outputs": [],
   "source": [
    "def cmp_str(s1, s2, reg=True):\n",
    "    if not reg:\n",
    "        return s1.lower() == s2.lower()\n",
    "    else:\n",
    "        return s1 == s2"
   ]
  },
  {
   "cell_type": "markdown",
   "id": "665a2793",
   "metadata": {},
   "source": [
    "Параметр reg отвечает за то, будет ли при сравнении учтен регистр в строках. По умолчанию он - True и регистр учитывается:"
   ]
  },
  {
   "cell_type": "code",
   "execution_count": 15,
   "id": "9645c614",
   "metadata": {
    "scrolled": false
   },
   "outputs": [
    {
     "data": {
      "text/plain": [
       "False"
      ]
     },
     "execution_count": 15,
     "metadata": {},
     "output_type": "execute_result"
    }
   ],
   "source": [
    "cmp_str('python', \"PYTHON\")"
   ]
  },
  {
   "cell_type": "markdown",
   "id": "ccf0f158",
   "metadata": {},
   "source": [
    "Но если передать ему другое значение (False), то регистр не будет учитываться:"
   ]
  },
  {
   "cell_type": "code",
   "execution_count": 16,
   "id": "867b1c29",
   "metadata": {
    "scrolled": true
   },
   "outputs": [
    {
     "data": {
      "text/plain": [
       "True"
      ]
     },
     "execution_count": 16,
     "metadata": {},
     "output_type": "execute_result"
    }
   ],
   "source": [
    "cmp_str('python', \"PYTHON\", reg=False)"
   ]
  }
 ],
 "metadata": {
  "kernelspec": {
   "display_name": "Python 3 (ipykernel)",
   "language": "python",
   "name": "python3"
  },
  "language_info": {
   "codemirror_mode": {
    "name": "ipython",
    "version": 3
   },
   "file_extension": ".py",
   "mimetype": "text/x-python",
   "name": "python",
   "nbconvert_exporter": "python",
   "pygments_lexer": "ipython3",
   "version": "3.9.13"
  }
 },
 "nbformat": 4,
 "nbformat_minor": 5
}

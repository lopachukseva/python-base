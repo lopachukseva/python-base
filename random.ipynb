{
 "cells": [
  {
   "cell_type": "markdown",
   "id": "3f474754",
   "metadata": {},
   "source": [
    "## Модуль random стандартной библиотеки"
   ]
  },
  {
   "cell_type": "code",
   "execution_count": 1,
   "id": "5d2ef510",
   "metadata": {},
   "outputs": [],
   "source": [
    "import random"
   ]
  },
  {
   "cell_type": "markdown",
   "id": "7d069222",
   "metadata": {},
   "source": [
    "В модуле random есть множество функций, которые генерируют или работают со случайными значениями. Некоторые из них используются наиболее часто:"
   ]
  },
  {
   "cell_type": "markdown",
   "id": "c10870c1",
   "metadata": {},
   "source": [
    "### random"
   ]
  },
  {
   "cell_type": "markdown",
   "id": "c955bc3f",
   "metadata": {},
   "source": [
    "Функция random возвращает случайные числа с равномерным законом распределения в диапазоне от 0 до единицы:"
   ]
  },
  {
   "cell_type": "code",
   "execution_count": 2,
   "id": "90b4205c",
   "metadata": {},
   "outputs": [
    {
     "data": {
      "text/plain": [
       "0.7515398100208305"
      ]
     },
     "execution_count": 2,
     "metadata": {},
     "output_type": "execute_result"
    }
   ],
   "source": [
    "random.random()"
   ]
  },
  {
   "cell_type": "markdown",
   "id": "748cf55b",
   "metadata": {},
   "source": [
    "### uniform"
   ]
  },
  {
   "cell_type": "markdown",
   "id": "718f99ea",
   "metadata": {},
   "source": [
    "Функция uniform возвращает случайные числа с равномерным законом распределения в диапазоне от a до b:"
   ]
  },
  {
   "cell_type": "code",
   "execution_count": 3,
   "id": "0a918453",
   "metadata": {},
   "outputs": [],
   "source": [
    "a, b = 1, 5"
   ]
  },
  {
   "cell_type": "code",
   "execution_count": 4,
   "id": "016e14f2",
   "metadata": {},
   "outputs": [
    {
     "data": {
      "text/plain": [
       "4.600237528074876"
      ]
     },
     "execution_count": 4,
     "metadata": {},
     "output_type": "execute_result"
    }
   ],
   "source": [
    "random.uniform(a, b)"
   ]
  },
  {
   "cell_type": "markdown",
   "id": "5fcfd047",
   "metadata": {},
   "source": [
    "### randint"
   ]
  },
  {
   "cell_type": "markdown",
   "id": "6b2674ab",
   "metadata": {},
   "source": [
    "Функция randint возвращает случайные целые числа с равномерным законом распределения в диапазоне от a до b:"
   ]
  },
  {
   "cell_type": "code",
   "execution_count": 5,
   "id": "6b4e09fd",
   "metadata": {},
   "outputs": [],
   "source": [
    "a, b = -10, 50"
   ]
  },
  {
   "cell_type": "code",
   "execution_count": 6,
   "id": "702dc940",
   "metadata": {},
   "outputs": [
    {
     "data": {
      "text/plain": [
       "17"
      ]
     },
     "execution_count": 6,
     "metadata": {},
     "output_type": "execute_result"
    }
   ],
   "source": [
    "random.randint(a, b)"
   ]
  },
  {
   "cell_type": "markdown",
   "id": "5d152479",
   "metadata": {},
   "source": [
    "Причем оба числа включаются в диапазон."
   ]
  },
  {
   "cell_type": "markdown",
   "id": "e6caf2c6",
   "metadata": {},
   "source": [
    "### randrange"
   ]
  },
  {
   "cell_type": "markdown",
   "id": "ecfc33d4",
   "metadata": {},
   "source": [
    "Функция randint возвращает случайные целые числа с равномерным законом распределения в диапазоне от a до b c шагом c:"
   ]
  },
  {
   "cell_type": "code",
   "execution_count": 7,
   "id": "13d6dde3",
   "metadata": {},
   "outputs": [],
   "source": [
    "a, b, c = -10, 20, 3"
   ]
  },
  {
   "cell_type": "code",
   "execution_count": 8,
   "id": "d3391bff",
   "metadata": {},
   "outputs": [
    {
     "data": {
      "text/plain": [
       "11"
      ]
     },
     "execution_count": 8,
     "metadata": {},
     "output_type": "execute_result"
    }
   ],
   "source": [
    "random.randrange(a, b, c)"
   ]
  },
  {
   "cell_type": "markdown",
   "id": "748ef2d0",
   "metadata": {},
   "source": [
    "Шаг следования при этом не является обязательным параметром."
   ]
  },
  {
   "cell_type": "markdown",
   "id": "bf570957",
   "metadata": {},
   "source": [
    "### gauss"
   ]
  },
  {
   "cell_type": "markdown",
   "id": "8a42770b",
   "metadata": {},
   "source": [
    "gauss(mu, sigma) - случайное значение по гауссовскому закону (формальный диапазон не ограничен)<br>\n",
    "mu - математическое ожидание (среднее значение случайной величины)<br>\n",
    "sigma - среднеквадратическое отклонение (мера разброса относительно мат. ожидания)"
   ]
  },
  {
   "cell_type": "code",
   "execution_count": 9,
   "id": "57828284",
   "metadata": {},
   "outputs": [
    {
     "data": {
      "text/plain": [
       "-1.3151797504567229"
      ]
     },
     "execution_count": 9,
     "metadata": {},
     "output_type": "execute_result"
    }
   ],
   "source": [
    "random.gauss(-1, 0.5)"
   ]
  },
  {
   "cell_type": "markdown",
   "id": "3aec1828",
   "metadata": {},
   "source": [
    "## Фукнции для работы с последовательностями"
   ]
  },
  {
   "cell_type": "markdown",
   "id": "4b9b143c",
   "metadata": {},
   "source": [
    "Допустим, что существует список:"
   ]
  },
  {
   "cell_type": "code",
   "execution_count": 10,
   "id": "277a4926",
   "metadata": {},
   "outputs": [],
   "source": [
    "lst = [-5, 2, -1, 3, 6, 10, 4]"
   ]
  },
  {
   "cell_type": "markdown",
   "id": "2e2f0779",
   "metadata": {},
   "source": [
    "Из которого необходимо выбрать один элемент случайным образом. Для этого можно воспользоваться функцией choice"
   ]
  },
  {
   "cell_type": "markdown",
   "id": "050a0914",
   "metadata": {},
   "source": [
    "### choice"
   ]
  },
  {
   "cell_type": "markdown",
   "id": "d2689b2a",
   "metadata": {},
   "source": [
    "Функция choice принимает на вход последовательность, а возвращает элемент, выбранный случайным образом:"
   ]
  },
  {
   "cell_type": "code",
   "execution_count": 11,
   "id": "6179fcd2",
   "metadata": {},
   "outputs": [
    {
     "data": {
      "text/plain": [
       "-5"
      ]
     },
     "execution_count": 11,
     "metadata": {},
     "output_type": "execute_result"
    }
   ],
   "source": [
    "random.choice(lst)"
   ]
  },
  {
   "cell_type": "markdown",
   "id": "196d30f4",
   "metadata": {},
   "source": [
    "### shuffle"
   ]
  },
  {
   "cell_type": "markdown",
   "id": "ae682e39",
   "metadata": {},
   "source": [
    "Функция shuffle позволяет перемешивать элементы коллекции, которая поступает в нее в качестве аргумента. Работает только с изменяемыми типами данных:"
   ]
  },
  {
   "cell_type": "code",
   "execution_count": 12,
   "id": "333abfec",
   "metadata": {},
   "outputs": [],
   "source": [
    "random.shuffle(lst)"
   ]
  },
  {
   "cell_type": "markdown",
   "id": "9ba8de6d",
   "metadata": {},
   "source": [
    "Функция меняет непосредственно исходный список:"
   ]
  },
  {
   "cell_type": "code",
   "execution_count": 13,
   "id": "a53537ae",
   "metadata": {},
   "outputs": [
    {
     "data": {
      "text/plain": [
       "[2, 10, 4, 6, -5, 3, -1]"
      ]
     },
     "execution_count": 13,
     "metadata": {},
     "output_type": "execute_result"
    }
   ],
   "source": [
    "lst"
   ]
  },
  {
   "cell_type": "markdown",
   "id": "62070d40",
   "metadata": {},
   "source": [
    "### sample"
   ]
  },
  {
   "cell_type": "markdown",
   "id": "018dca7a",
   "metadata": {},
   "source": [
    "Функция sample возвращает новый список заданной длины, состоящий из неповторяющихся элементов списка, выбранных из него случайным образом:"
   ]
  },
  {
   "cell_type": "code",
   "execution_count": 14,
   "id": "07e875c1",
   "metadata": {},
   "outputs": [
    {
     "data": {
      "text/plain": [
       "[2, 10, 4, 3]"
      ]
     },
     "execution_count": 14,
     "metadata": {},
     "output_type": "execute_result"
    }
   ],
   "source": [
    "random.sample(lst, 4)"
   ]
  },
  {
   "cell_type": "markdown",
   "id": "b88c77cd",
   "metadata": {},
   "source": [
    "### seed - фиксация зерна генератора случайных чисел"
   ]
  },
  {
   "cell_type": "code",
   "execution_count": 15,
   "id": "49dbb495",
   "metadata": {},
   "outputs": [],
   "source": [
    "random.seed(10)"
   ]
  },
  {
   "cell_type": "code",
   "execution_count": 16,
   "id": "8e2447df",
   "metadata": {},
   "outputs": [
    {
     "data": {
      "text/plain": [
       "[9, 0, 6, 7, 9, 0, 3, 7, 7, 4]"
      ]
     },
     "execution_count": 16,
     "metadata": {},
     "output_type": "execute_result"
    }
   ],
   "source": [
    "a = [random.randint(0, 10) for x in range(10)]\n",
    "a"
   ]
  },
  {
   "cell_type": "code",
   "execution_count": 17,
   "id": "04057368",
   "metadata": {},
   "outputs": [],
   "source": [
    "random.seed(10)"
   ]
  },
  {
   "cell_type": "code",
   "execution_count": 18,
   "id": "6db25104",
   "metadata": {},
   "outputs": [
    {
     "data": {
      "text/plain": [
       "[9, 0, 6, 7, 9, 0, 3, 7, 7, 4]"
      ]
     },
     "execution_count": 18,
     "metadata": {},
     "output_type": "execute_result"
    }
   ],
   "source": [
    "a = [random.randint(0, 10) for x in range(10)]\n",
    "a"
   ]
  }
 ],
 "metadata": {
  "kernelspec": {
   "display_name": "Python 3 (ipykernel)",
   "language": "python",
   "name": "python3"
  },
  "language_info": {
   "codemirror_mode": {
    "name": "ipython",
    "version": 3
   },
   "file_extension": ".py",
   "mimetype": "text/x-python",
   "name": "python",
   "nbconvert_exporter": "python",
   "pygments_lexer": "ipython3",
   "version": "3.9.13"
  }
 },
 "nbformat": 4,
 "nbformat_minor": 5
}

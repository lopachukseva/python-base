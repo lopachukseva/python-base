{
 "cells": [
  {
   "cell_type": "markdown",
   "id": "33181ea7",
   "metadata": {},
   "source": [
    "## Запись в файл в текстовом режиме доступа"
   ]
  },
  {
   "cell_type": "markdown",
   "id": "f26b854f",
   "metadata": {},
   "source": [
    "Для открытия файла на запись используется фунция open. Но с атрибутом mode='w' (по умолчанию - 'r'):"
   ]
  },
  {
   "cell_type": "code",
   "execution_count": 1,
   "id": "2981faf2",
   "metadata": {},
   "outputs": [],
   "source": [
    "file = open('output_file.txt', mode='w', encoding='utf=8')"
   ]
  },
  {
   "cell_type": "markdown",
   "id": "9328788e",
   "metadata": {},
   "source": [
    "В самом простом варианте для записи можно вызвать метод write:"
   ]
  },
  {
   "cell_type": "code",
   "execution_count": 2,
   "id": "d36f7fb9",
   "metadata": {},
   "outputs": [
    {
     "data": {
      "text/plain": [
       "12"
      ]
     },
     "execution_count": 2,
     "metadata": {},
     "output_type": "execute_result"
    }
   ],
   "source": [
    "file.write('Hello world!')"
   ]
  },
  {
   "cell_type": "markdown",
   "id": "1ac748cb",
   "metadata": {},
   "source": [
    "После записи каких либо данных файл необходимо закрыть, используя метод close:"
   ]
  },
  {
   "cell_type": "code",
   "execution_count": 3,
   "id": "ecac805d",
   "metadata": {},
   "outputs": [],
   "source": [
    "file.close()"
   ]
  },
  {
   "cell_type": "markdown",
   "id": "2c7c7b92",
   "metadata": {},
   "source": [
    "При открытии файла на запись все содержимое, что было внутри, удаляется. Это будет видно, если снова открыть и записать в него какую либо строку, а затем посмотреть содержимое файла - будет только та строка, что добавилась в этот раз:"
   ]
  },
  {
   "cell_type": "code",
   "execution_count": 4,
   "id": "ba8e1eb4",
   "metadata": {},
   "outputs": [],
   "source": [
    "file = open('output_file.txt', mode='w', encoding='utf=8')\n",
    "file.write('Hello!')\n",
    "file.close()"
   ]
  },
  {
   "cell_type": "markdown",
   "id": "9b36fbd8",
   "metadata": {},
   "source": [
    "Т.е. открывая тот или иной файл на запись, происходит удаление всего его содержимого."
   ]
  },
  {
   "cell_type": "markdown",
   "id": "1fc6f369",
   "metadata": {},
   "source": [
    "Чтобы избежать остановки программы, как и в случае с чтением следует помещать критический код в блок try и пользоваться менеджером контекста:"
   ]
  },
  {
   "cell_type": "code",
   "execution_count": 5,
   "id": "9342a586",
   "metadata": {},
   "outputs": [],
   "source": [
    "try:\n",
    "    with open('output_file.txt', mode='w', encoding='utf=8') as file:\n",
    "        file.write('Hello world!')\n",
    "except:\n",
    "    print('Ошибка при работе с файлом')"
   ]
  },
  {
   "cell_type": "markdown",
   "id": "ba180dd3",
   "metadata": {},
   "source": [
    "Если в файл будет записано несколько строк таким образом, все они будут помещены в одну строку файла:"
   ]
  },
  {
   "cell_type": "code",
   "execution_count": 6,
   "id": "324f548c",
   "metadata": {},
   "outputs": [],
   "source": [
    "try:\n",
    "    with open('output_file.txt', mode='w', encoding='utf=8') as file:\n",
    "        file.write('Hello world!')\n",
    "        file.write('Hello world!')\n",
    "        file.write('Hello world!')\n",
    "        file.write('Hello world!')\n",
    "except:\n",
    "    print('Ошибка при работе с файлом')"
   ]
  },
  {
   "cell_type": "markdown",
   "id": "3ff4bf79",
   "metadata": {},
   "source": [
    "Это происходит потому, что объект file записывает информацию, используя файловую позицию (как и в случае с чтением), и автоматически перемещает ее при выполнении записи новых данных. Поэтому строки идут в файле друг за другом. Для того, чтобы каждая строка была в отдельной строке в файле, необходимо использовать символ переноса строки:"
   ]
  },
  {
   "cell_type": "code",
   "execution_count": 7,
   "id": "9a63e182",
   "metadata": {},
   "outputs": [],
   "source": [
    "try:\n",
    "    with open('output_file.txt', mode='w', encoding='utf=8') as file:\n",
    "        file.write('Hello world!\\n')\n",
    "        file.write('Hello world!\\n')\n",
    "        file.write('Hello world!\\n')\n",
    "        file.write('Hello world!\\n')\n",
    "except:\n",
    "    print('Ошибка при работе с файлом')"
   ]
  },
  {
   "cell_type": "markdown",
   "id": "0ea19eb8",
   "metadata": {},
   "source": [
    "В случае, если в файл нужно добавить какую либо информацию (не удаляя старую), то нужно открыть файл в режиме append (mode='a'). В таком случае данные в файл будут добавляться:"
   ]
  },
  {
   "cell_type": "code",
   "execution_count": 8,
   "id": "e9a3f965",
   "metadata": {},
   "outputs": [],
   "source": [
    "try:\n",
    "    with open('output_file.txt', mode='a', encoding='utf=8') as file:\n",
    "        file.write('Hello!\\n')\n",
    "except:\n",
    "    print('Ошибка при работе с файлом')"
   ]
  },
  {
   "cell_type": "markdown",
   "id": "8021ba28",
   "metadata": {},
   "source": [
    "Если открыть файл в режиме write или append - считывать информацию из него в таких режимах нельзя:"
   ]
  },
  {
   "cell_type": "code",
   "execution_count": 9,
   "id": "fc500831",
   "metadata": {
    "scrolled": true
   },
   "outputs": [
    {
     "name": "stdout",
     "output_type": "stream",
     "text": [
      "Ошибка при работе с файлом\n"
     ]
    }
   ],
   "source": [
    "try:\n",
    "    with open('output_file.txt', mode='a', encoding='utf=8') as file:\n",
    "        print(file.readlines())\n",
    "except:\n",
    "    print('Ошибка при работе с файлом')"
   ]
  },
  {
   "cell_type": "markdown",
   "id": "07101bd1",
   "metadata": {},
   "source": [
    "Для того, чтобы и записывать, и считывать информацию из файла, можно использовать режим a+ (mode='a+'). Но изначально в таком режиме файловая позиция находится в конце файла, и ее необходимо переместить начало файла (или любое другое, откуда необходимо начать читать файл):"
   ]
  },
  {
   "cell_type": "code",
   "execution_count": 10,
   "id": "23df8a95",
   "metadata": {},
   "outputs": [
    {
     "name": "stdout",
     "output_type": "stream",
     "text": [
      "['Hello world!\\n', 'Hello world!\\n', 'Hello world!\\n', 'Hello world!\\n', 'Hello!\\n']\n"
     ]
    }
   ],
   "source": [
    "try:\n",
    "    with open('output_file.txt', mode='a+', encoding='utf=8') as file:\n",
    "        file.seek(0) # перемещение файловой позиции в начало\n",
    "        print(file.readlines())\n",
    "except:\n",
    "    print('Ошибка при работе с файлом')"
   ]
  },
  {
   "cell_type": "markdown",
   "id": "647dc030",
   "metadata": {},
   "source": [
    "Файловая позиция seek - только для чтения. Это наглядно видно в этом примере:"
   ]
  },
  {
   "cell_type": "code",
   "execution_count": 11,
   "id": "315fb1e0",
   "metadata": {},
   "outputs": [
    {
     "name": "stdout",
     "output_type": "stream",
     "text": [
      "['Hello world!\\n', 'Hello world!\\n', 'Hello world!\\n', 'Hello world!\\n', 'Hello!\\n']\n"
     ]
    }
   ],
   "source": [
    "try:\n",
    "    with open('output_file.txt', mode='a+', encoding='utf=8') as file:\n",
    "        file.seek(0) # перемещение файловой позиции в начало\n",
    "        file.write('Hello! Seek for read only!\\n')\n",
    "        print(file.readlines())\n",
    "except:\n",
    "    print('Ошибка при работе с файлом')"
   ]
  },
  {
   "cell_type": "markdown",
   "id": "076f7084",
   "metadata": {},
   "source": [
    "Не смотря на то, что файловая позиция seek в конце файла, новая строка была добавлена в конец файла. Для записи используется своя независимая позиция внутри файла."
   ]
  },
  {
   "cell_type": "markdown",
   "id": "3b5f5c14",
   "metadata": {},
   "source": [
    "Метод writelines позволяет записать в файл сразу несколько строк:"
   ]
  },
  {
   "cell_type": "code",
   "execution_count": 12,
   "id": "df7dfb8f",
   "metadata": {},
   "outputs": [
    {
     "name": "stdout",
     "output_type": "stream",
     "text": [
      "['Hello world!\\n', 'Hello world!\\n', 'Hello world!\\n', 'Hello world!\\n', 'Hello!\\n', 'Hello! Seek for read only!\\n']\n"
     ]
    }
   ],
   "source": [
    "try:\n",
    "    with open('output_file.txt', mode='a+', encoding='utf=8') as file:\n",
    "        file.seek(0) # перемещение файловой позиции в начало\n",
    "        file.writelines(['Hello!1\\n', 'Hello!2\\n', 'Hello!3\\n'])\n",
    "        print(file.readlines())\n",
    "except:\n",
    "    print('Ошибка при работе с файлом')"
   ]
  },
  {
   "cell_type": "markdown",
   "id": "f3919853",
   "metadata": {},
   "source": [
    "Для этого нужно передать ему список из строк, которые требуется записать."
   ]
  },
  {
   "cell_type": "markdown",
   "id": "0f6531ec",
   "metadata": {},
   "source": [
    "## Запись в файл в бинарном режиме доступа"
   ]
  },
  {
   "cell_type": "markdown",
   "id": "d3d19863",
   "metadata": {},
   "source": [
    "Помимо текстового есть бинарный режим работы. В этом режиме данные из файла считываются без какой либо обработки. Обычно он используется для сохранения и считывания объекта целиком. Предположим, что необходимо сохранить такую коллекцию, а затем прочитать:"
   ]
  },
  {
   "cell_type": "code",
   "execution_count": 13,
   "id": "127d4540",
   "metadata": {},
   "outputs": [],
   "source": [
    "books = [\n",
    "    ('Тургенев И.С.', 'Муму', 250),\n",
    "    ('Булгаков М.А.', 'Мастер и Маргарита', 500),\n",
    "]"
   ]
  },
  {
   "cell_type": "markdown",
   "id": "4582c94d",
   "metadata": {},
   "source": [
    "С помощью бинарного режима доступа это выполняется следующим образом:"
   ]
  },
  {
   "cell_type": "markdown",
   "id": "a5f8f991",
   "metadata": {},
   "source": [
    "Необходимо импортировать библиотеку pickle, которая позволяет записывать файлы в бинарном режиме:"
   ]
  },
  {
   "cell_type": "code",
   "execution_count": 14,
   "id": "b22ac4f8",
   "metadata": {},
   "outputs": [],
   "source": [
    "import pickle"
   ]
  },
  {
   "cell_type": "markdown",
   "id": "3f0987fd",
   "metadata": {},
   "source": [
    "Открывается файл на запись в бинарном режиме (wb - запись в бинарном режиме):"
   ]
  },
  {
   "cell_type": "code",
   "execution_count": 15,
   "id": "3af759d8",
   "metadata": {},
   "outputs": [],
   "source": [
    "file = open('out.bin', mode='wb')"
   ]
  },
  {
   "cell_type": "markdown",
   "id": "60371b32",
   "metadata": {},
   "source": [
    "И далее используется функция dump библиотеки pickle. Первым аргументом передается данные, которые нужно занести в файл, а вторым - файл, в который необходимо эти данные записать:"
   ]
  },
  {
   "cell_type": "code",
   "execution_count": 16,
   "id": "3ad9477a",
   "metadata": {},
   "outputs": [],
   "source": [
    "pickle.dump(books, file)"
   ]
  },
  {
   "cell_type": "markdown",
   "id": "bcf43319",
   "metadata": {},
   "source": [
    "А после записи - закрыть:"
   ]
  },
  {
   "cell_type": "code",
   "execution_count": 17,
   "id": "f001ba9b",
   "metadata": {},
   "outputs": [],
   "source": [
    "file.close()"
   ]
  },
  {
   "cell_type": "markdown",
   "id": "12db82b5",
   "metadata": {},
   "source": [
    "Таким образом можно сохранять произвольные данные в файл."
   ]
  },
  {
   "cell_type": "markdown",
   "id": "b070e6ac",
   "metadata": {},
   "source": [
    "Эту же самую коллекцию можно легко прочитать из файла. Для этого его нужно открыть в режиме бинарного чтения:"
   ]
  },
  {
   "cell_type": "code",
   "execution_count": 18,
   "id": "4cb4bfaa",
   "metadata": {},
   "outputs": [],
   "source": [
    "file = open('out.bin', mode='rb')"
   ]
  },
  {
   "cell_type": "markdown",
   "id": "c6d7397e",
   "metadata": {},
   "source": [
    "Воспользоваться функцией load библиотеки pickle, которая принимает в качестве аргумента файл, а возвращает обратно коллекцию, которая была сохранена в файл:"
   ]
  },
  {
   "cell_type": "code",
   "execution_count": 19,
   "id": "9770892f",
   "metadata": {
    "scrolled": true
   },
   "outputs": [],
   "source": [
    "bs = pickle.load(file)"
   ]
  },
  {
   "cell_type": "markdown",
   "id": "7e7bd958",
   "metadata": {},
   "source": [
    "Как можно убедиться - коллекция идентична той, что была сохранена:"
   ]
  },
  {
   "cell_type": "code",
   "execution_count": 20,
   "id": "35a3adf7",
   "metadata": {
    "scrolled": true
   },
   "outputs": [
    {
     "data": {
      "text/plain": [
       "[('Тургенев И.С.', 'Муму', 250), ('Булгаков М.А.', 'Мастер и Маргарита', 500)]"
      ]
     },
     "execution_count": 20,
     "metadata": {},
     "output_type": "execute_result"
    }
   ],
   "source": [
    "bs"
   ]
  },
  {
   "cell_type": "markdown",
   "id": "8fd65031",
   "metadata": {},
   "source": [
    "И также необходимо закрыть файл:"
   ]
  },
  {
   "cell_type": "code",
   "execution_count": 21,
   "id": "75455531",
   "metadata": {},
   "outputs": [],
   "source": [
    "file.close()"
   ]
  },
  {
   "cell_type": "markdown",
   "id": "a9216302",
   "metadata": {},
   "source": [
    "Таким образом можно записывать и считывать несколько объектов:"
   ]
  },
  {
   "cell_type": "code",
   "execution_count": 22,
   "id": "e864304d",
   "metadata": {},
   "outputs": [],
   "source": [
    "book1 = ['Тургенев И.С.', 'Муму', 250]\n",
    "book2 = ['Булгаков М.А.', 'Мастер и Маргарита', 500]"
   ]
  },
  {
   "cell_type": "code",
   "execution_count": 23,
   "id": "4875359e",
   "metadata": {},
   "outputs": [],
   "source": [
    "try:\n",
    "    with open('out.bin', mode='wb') as file:\n",
    "        pickle.dump(book1, file)\n",
    "        pickle.dump(book2, file)\n",
    "except:\n",
    "    print('Ошибка при работе с файлом')"
   ]
  },
  {
   "cell_type": "code",
   "execution_count": 24,
   "id": "993a7693",
   "metadata": {},
   "outputs": [],
   "source": [
    "try:\n",
    "    with open('out.bin', mode='rb') as file:\n",
    "        b1 = pickle.load(file)\n",
    "        b2 = pickle.load(file)\n",
    "except:\n",
    "    print('Ошибка при работе с файлом')"
   ]
  },
  {
   "cell_type": "code",
   "execution_count": 25,
   "id": "a12c7315",
   "metadata": {},
   "outputs": [
    {
     "name": "stdout",
     "output_type": "stream",
     "text": [
      "['Тургенев И.С.', 'Муму', 250]\n",
      "['Булгаков М.А.', 'Мастер и Маргарита', 500]\n"
     ]
    }
   ],
   "source": [
    "print(b1, b2, sep='\\n')"
   ]
  }
 ],
 "metadata": {
  "kernelspec": {
   "display_name": "Python 3 (ipykernel)",
   "language": "python",
   "name": "python3"
  },
  "language_info": {
   "codemirror_mode": {
    "name": "ipython",
    "version": 3
   },
   "file_extension": ".py",
   "mimetype": "text/x-python",
   "name": "python",
   "nbconvert_exporter": "python",
   "pygments_lexer": "ipython3",
   "version": "3.9.13"
  }
 },
 "nbformat": 4,
 "nbformat_minor": 5
}

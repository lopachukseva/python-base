{
 "cells": [
  {
   "cell_type": "markdown",
   "id": "b7e14201",
   "metadata": {},
   "source": [
    "## Словари"
   ]
  },
  {
   "cell_type": "markdown",
   "id": "5f0c6477",
   "metadata": {},
   "source": [
    "В списке:"
   ]
  },
  {
   "cell_type": "code",
   "execution_count": 5,
   "id": "1e8a26c1",
   "metadata": {},
   "outputs": [],
   "source": [
    "s = ['house', 'car', 'tree', 'road', 'river']"
   ]
  },
  {
   "cell_type": "markdown",
   "id": "91a3f654",
   "metadata": {},
   "source": [
    "Каждому элементу поставлено в соответствие некое число - индекс. И по этому индексу можно получать любой элемент:"
   ]
  },
  {
   "cell_type": "code",
   "execution_count": 6,
   "id": "6c0ad1be",
   "metadata": {},
   "outputs": [
    {
     "data": {
      "text/plain": [
       "'house'"
      ]
     },
     "execution_count": 6,
     "metadata": {},
     "output_type": "execute_result"
    }
   ],
   "source": [
    "s[0]"
   ]
  },
  {
   "cell_type": "code",
   "execution_count": 7,
   "id": "b4b04913",
   "metadata": {},
   "outputs": [
    {
     "data": {
      "text/plain": [
       "'road'"
      ]
     },
     "execution_count": 7,
     "metadata": {},
     "output_type": "execute_result"
    }
   ],
   "source": [
    "s[3]"
   ]
  },
  {
   "cell_type": "markdown",
   "id": "0821508e",
   "metadata": {},
   "source": [
    "Предположим, что в программе нужно описать соответствия:"
   ]
  },
  {
   "cell_type": "markdown",
   "id": "8d045b99",
   "metadata": {},
   "source": [
    "house -> дом<br>\n",
    "car -> машина<br>\n",
    "tree -> дерево<br>\n",
    "road -> дорога<br>\n",
    "river -> река<br>"
   ]
  },
  {
   "cell_type": "markdown",
   "id": "04d2a526",
   "metadata": {},
   "source": [
    "И здесь хотелось бы получать значения не по индексу, а по ключу. Для этого и существуют словари. "
   ]
  },
  {
   "cell_type": "markdown",
   "id": "b3d7c392",
   "metadata": {},
   "source": [
    "Словарь - упорядоченная коллекция произвольных объектов с доступом по ключу. Задается следующим образом:"
   ]
  },
  {
   "cell_type": "markdown",
   "id": "cfde8b44",
   "metadata": {},
   "source": [
    "d = {key1: value1, key2:value2, ... , keyN:valueN}"
   ]
  },
  {
   "cell_type": "code",
   "execution_count": 8,
   "id": "1a69f94c",
   "metadata": {},
   "outputs": [],
   "source": [
    "d = {'house': 'дом', 'car': 'машина', 'tree': 'дерево', 'road': 'дорога', 'river': 'река'}"
   ]
  },
  {
   "cell_type": "code",
   "execution_count": 9,
   "id": "05351719",
   "metadata": {},
   "outputs": [],
   "source": [
    "d = {'house': 'дом',\n",
    "     'car': 'машина', \n",
    "     'tree': 'дерево', \n",
    "     'road': 'дорога', \n",
    "     'river': 'река'}"
   ]
  },
  {
   "cell_type": "code",
   "execution_count": 10,
   "id": "7c3248a6",
   "metadata": {},
   "outputs": [
    {
     "data": {
      "text/plain": [
       "{'house': 'дом',\n",
       " 'car': 'машина',\n",
       " 'tree': 'дерево',\n",
       " 'road': 'дорога',\n",
       " 'river': 'река'}"
      ]
     },
     "execution_count": 10,
     "metadata": {},
     "output_type": "execute_result"
    }
   ],
   "source": [
    "d"
   ]
  },
  {
   "cell_type": "markdown",
   "id": "941255de",
   "metadata": {},
   "source": [
    "Для обращения к элементу словаря прописывается имя переменной, которая ссылается на словарь, а в квадратных скобках - ключ. На выходе - значение, которое связано с этим ключом:"
   ]
  },
  {
   "cell_type": "code",
   "execution_count": 13,
   "id": "d9954262",
   "metadata": {},
   "outputs": [
    {
     "data": {
      "text/plain": [
       "'дом'"
      ]
     },
     "execution_count": 13,
     "metadata": {},
     "output_type": "execute_result"
    }
   ],
   "source": [
    "d['house']"
   ]
  },
  {
   "cell_type": "code",
   "execution_count": 14,
   "id": "e5d7959b",
   "metadata": {},
   "outputs": [
    {
     "data": {
      "text/plain": [
       "'машина'"
      ]
     },
     "execution_count": 14,
     "metadata": {},
     "output_type": "execute_result"
    }
   ],
   "source": [
    "d['car']"
   ]
  },
  {
   "cell_type": "markdown",
   "id": "a1697307",
   "metadata": {},
   "source": [
    "Важно, что одному ключу в словаре может соответствовать только одно значение"
   ]
  },
  {
   "cell_type": "markdown",
   "id": "7cfef28b",
   "metadata": {},
   "source": [
    "Также словарь можно задавать с помощью функции dict:<br>\n",
    "dict(key1=value1, key2=value2, ... , keyN=valueN)<br>\n",
    "Ключи должны быть обязательно строками, и записываются без кавычек"
   ]
  },
  {
   "cell_type": "markdown",
   "id": "286670cd",
   "metadata": {},
   "source": [
    "На выходе ключи превращаются в соответствующие строки:"
   ]
  },
  {
   "cell_type": "code",
   "execution_count": 16,
   "id": "f01cbb04",
   "metadata": {},
   "outputs": [
    {
     "data": {
      "text/plain": [
       "{'one': 1, 'two': 2, 'three': 3, 'four': 4}"
      ]
     },
     "execution_count": 16,
     "metadata": {},
     "output_type": "execute_result"
    }
   ],
   "source": [
    "dict(one=1, two=2, three=3, four=4)"
   ]
  },
  {
   "cell_type": "markdown",
   "id": "a4a17dd9",
   "metadata": {},
   "source": [
    "Причем при использовании функции dict в именах этих ключей можно писать только те символы, которые разрешены в именах переменных"
   ]
  },
  {
   "cell_type": "markdown",
   "id": "f175745c",
   "metadata": {},
   "source": [
    "В некоторых случаях эта функция может быть полезной. Например, чтобы превратить следующий список:"
   ]
  },
  {
   "cell_type": "code",
   "execution_count": 18,
   "id": "f112dc7c",
   "metadata": {},
   "outputs": [],
   "source": [
    "lst = [[2, 'неудовлетворительно'], [3, 'удовлетворительно'], [4, 'хорошо'], [5, 'отлично']]"
   ]
  },
  {
   "cell_type": "code",
   "execution_count": 21,
   "id": "2ea1c1dd",
   "metadata": {},
   "outputs": [],
   "source": [
    "lst_dict = dict(lst)"
   ]
  },
  {
   "cell_type": "code",
   "execution_count": 22,
   "id": "9b76133a",
   "metadata": {},
   "outputs": [
    {
     "data": {
      "text/plain": [
       "{2: 'неудовлетворительно', 3: 'удовлетворительно', 4: 'хорошо', 5: 'отлично'}"
      ]
     },
     "execution_count": 22,
     "metadata": {},
     "output_type": "execute_result"
    }
   ],
   "source": [
    "lst_dict"
   ]
  },
  {
   "cell_type": "markdown",
   "id": "b96b6ab5",
   "metadata": {},
   "source": [
    "Если вызвать функцию dict без аргументов - на выходе будет пустой словарь:"
   ]
  },
  {
   "cell_type": "code",
   "execution_count": 24,
   "id": "01a28c96",
   "metadata": {},
   "outputs": [],
   "source": [
    "d = dict()"
   ]
  },
  {
   "cell_type": "markdown",
   "id": "c3e71c15",
   "metadata": {},
   "source": [
    "В качестве ключей можно брать любые неизменяемые типы данных. Добавить новую пару ключ-значение в словарь можно следующим образом:"
   ]
  },
  {
   "cell_type": "code",
   "execution_count": 28,
   "id": "442ab6fc",
   "metadata": {},
   "outputs": [],
   "source": [
    "d[True] = 'Истина'"
   ]
  },
  {
   "cell_type": "code",
   "execution_count": 29,
   "id": "a2d54fce",
   "metadata": {},
   "outputs": [
    {
     "data": {
      "text/plain": [
       "{True: 'Истина'}"
      ]
     },
     "execution_count": 29,
     "metadata": {},
     "output_type": "execute_result"
    }
   ],
   "source": [
    "d"
   ]
  },
  {
   "cell_type": "code",
   "execution_count": 30,
   "id": "8ad1ce04",
   "metadata": {},
   "outputs": [],
   "source": [
    "d[False] = 'Ложь'"
   ]
  },
  {
   "cell_type": "code",
   "execution_count": 31,
   "id": "54f62d92",
   "metadata": {},
   "outputs": [
    {
     "data": {
      "text/plain": [
       "{True: 'Истина', False: 'Ложь'}"
      ]
     },
     "execution_count": 31,
     "metadata": {},
     "output_type": "execute_result"
    }
   ],
   "source": [
    "d"
   ]
  },
  {
   "cell_type": "markdown",
   "id": "8541b93c",
   "metadata": {},
   "source": [
    "Т.е. присваивая словарю значение с новым ключом, оно автоматически добавяется в словарь. Если уже существующему ключу присвоить другое значение, то оно будет изменено:"
   ]
  },
  {
   "cell_type": "code",
   "execution_count": 32,
   "id": "4e5138c9",
   "metadata": {},
   "outputs": [
    {
     "data": {
      "text/plain": [
       "{True: 1, False: 0}"
      ]
     },
     "execution_count": 32,
     "metadata": {},
     "output_type": "execute_result"
    }
   ],
   "source": [
    "d[True] = 1\n",
    "d[False] = 0\n",
    "d"
   ]
  },
  {
   "cell_type": "markdown",
   "id": "548c3f95",
   "metadata": {},
   "source": [
    "В отличии от ключей, в качестве значений могут быть любые типы данных:"
   ]
  },
  {
   "cell_type": "code",
   "execution_count": 35,
   "id": "7425b95f",
   "metadata": {},
   "outputs": [
    {
     "data": {
      "text/plain": [
       "{'list': [1, 2, 3], 'bool': True, 'str': 'string', 'num': 9, 5: 4}"
      ]
     },
     "execution_count": 35,
     "metadata": {},
     "output_type": "execute_result"
    }
   ],
   "source": [
    "d = {}\n",
    "d['list'] = [1, 2, 3]\n",
    "d['bool'] = True\n",
    "d['str'] = 'string'\n",
    "d['num'] = 9\n",
    "d[5] = 4\n",
    "d"
   ]
  },
  {
   "cell_type": "markdown",
   "id": "f19085e6",
   "metadata": {},
   "source": [
    "Ключ - только неизменяемые, значение - как изменяемые, так и неизменяемые"
   ]
  },
  {
   "cell_type": "markdown",
   "id": "68ccfe49",
   "metadata": {},
   "source": [
    "### len - число элементов в словаре (число пар ключ-значение)"
   ]
  },
  {
   "cell_type": "code",
   "execution_count": 36,
   "id": "a13f7e7e",
   "metadata": {},
   "outputs": [
    {
     "data": {
      "text/plain": [
       "5"
      ]
     },
     "execution_count": 36,
     "metadata": {},
     "output_type": "execute_result"
    }
   ],
   "source": [
    "len(d)"
   ]
  },
  {
   "cell_type": "code",
   "execution_count": 39,
   "id": "1fe21d7e",
   "metadata": {},
   "outputs": [
    {
     "data": {
      "text/plain": [
       "{'bool': True, 'str': 'string', 'num': 9, 5: 4}"
      ]
     },
     "execution_count": 39,
     "metadata": {},
     "output_type": "execute_result"
    }
   ],
   "source": [
    "d"
   ]
  },
  {
   "cell_type": "markdown",
   "id": "c26ca144",
   "metadata": {},
   "source": [
    "### del - удаление элемента из словаря по ключу"
   ]
  },
  {
   "cell_type": "code",
   "execution_count": 37,
   "id": "11e4ead2",
   "metadata": {},
   "outputs": [],
   "source": [
    "del d['list']"
   ]
  },
  {
   "cell_type": "code",
   "execution_count": 38,
   "id": "d912a92d",
   "metadata": {},
   "outputs": [
    {
     "data": {
      "text/plain": [
       "{'bool': True, 'str': 'string', 'num': 9, 5: 4}"
      ]
     },
     "execution_count": 38,
     "metadata": {},
     "output_type": "execute_result"
    }
   ],
   "source": [
    "d"
   ]
  },
  {
   "cell_type": "markdown",
   "id": "c309b778",
   "metadata": {},
   "source": [
    "### in - проверка на наличие элемента с определенным ключом:"
   ]
  },
  {
   "cell_type": "markdown",
   "id": "881f18f9",
   "metadata": {},
   "source": [
    "Возвращает True, если такой элемент находится в словаре:"
   ]
  },
  {
   "cell_type": "code",
   "execution_count": 40,
   "id": "e1897e16",
   "metadata": {},
   "outputs": [
    {
     "data": {
      "text/plain": [
       "True"
      ]
     },
     "execution_count": 40,
     "metadata": {},
     "output_type": "execute_result"
    }
   ],
   "source": [
    "'bool' in d"
   ]
  },
  {
   "cell_type": "code",
   "execution_count": 41,
   "id": "95691d40",
   "metadata": {},
   "outputs": [
    {
     "data": {
      "text/plain": [
       "True"
      ]
     },
     "execution_count": 41,
     "metadata": {},
     "output_type": "execute_result"
    }
   ],
   "source": [
    "'num' in d"
   ]
  },
  {
   "cell_type": "markdown",
   "id": "3ac0868b",
   "metadata": {},
   "source": [
    "И False, если элемента с таким ключом нет:"
   ]
  },
  {
   "cell_type": "code",
   "execution_count": 43,
   "id": "4db1d71d",
   "metadata": {},
   "outputs": [
    {
     "data": {
      "text/plain": [
       "False"
      ]
     },
     "execution_count": 43,
     "metadata": {},
     "output_type": "execute_result"
    }
   ],
   "source": [
    "'west' in d"
   ]
  },
  {
   "cell_type": "markdown",
   "id": "48868e99",
   "metadata": {},
   "source": [
    "Обратная проверка:"
   ]
  },
  {
   "cell_type": "code",
   "execution_count": 45,
   "id": "80e29f9f",
   "metadata": {},
   "outputs": [
    {
     "data": {
      "text/plain": [
       "True"
      ]
     },
     "execution_count": 45,
     "metadata": {},
     "output_type": "execute_result"
    }
   ],
   "source": [
    "'west' not in d"
   ]
  }
 ],
 "metadata": {
  "kernelspec": {
   "display_name": "Python 3 (ipykernel)",
   "language": "python",
   "name": "python3"
  },
  "language_info": {
   "codemirror_mode": {
    "name": "ipython",
    "version": 3
   },
   "file_extension": ".py",
   "mimetype": "text/x-python",
   "name": "python",
   "nbconvert_exporter": "python",
   "pygments_lexer": "ipython3",
   "version": "3.9.13"
  }
 },
 "nbformat": 4,
 "nbformat_minor": 5
}

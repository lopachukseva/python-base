{
 "cells": [
  {
   "cell_type": "markdown",
   "id": "9820be69",
   "metadata": {},
   "source": [
    "## Функции print() и input()"
   ]
  },
  {
   "cell_type": "markdown",
   "id": "3d850b66",
   "metadata": {},
   "source": [
    "- print() - вывод данных в консоль; <br>\n",
    "- input() - ввод данных."
   ]
  },
  {
   "cell_type": "markdown",
   "id": "aa011232",
   "metadata": {},
   "source": [
    "### Функция print()"
   ]
  },
  {
   "cell_type": "code",
   "execution_count": 1,
   "id": "537126e9",
   "metadata": {
    "scrolled": true
   },
   "outputs": [
    {
     "name": "stdout",
     "output_type": "stream",
     "text": [
      "1\n"
     ]
    }
   ],
   "source": [
    "print(1)"
   ]
  },
  {
   "cell_type": "code",
   "execution_count": 2,
   "id": "5d5a139d",
   "metadata": {
    "scrolled": true
   },
   "outputs": [
    {
     "name": "stdout",
     "output_type": "stream",
     "text": [
      "1 2 3\n"
     ]
    }
   ],
   "source": [
    "print(1, 2, 3)"
   ]
  },
  {
   "cell_type": "code",
   "execution_count": 3,
   "id": "61dea35a",
   "metadata": {},
   "outputs": [
    {
     "name": "stdout",
     "output_type": "stream",
     "text": [
      "some words\n"
     ]
    }
   ],
   "source": [
    "print(\"some words\")"
   ]
  },
  {
   "cell_type": "code",
   "execution_count": 4,
   "id": "b0ecc8e1",
   "metadata": {
    "scrolled": false
   },
   "outputs": [
    {
     "name": "stdout",
     "output_type": "stream",
     "text": [
      "9.88\n",
      "117.37440000000002\n"
     ]
    }
   ],
   "source": [
    "a = 9.88\n",
    "print(a)\n",
    "print(a * 2 + pow(a, 2))"
   ]
  },
  {
   "cell_type": "markdown",
   "id": "103812f0",
   "metadata": {},
   "source": [
    "У функции print есть два необязательных именованных параметра - sep и end:<br>\n",
    "- sep - разделитель между данными (по умолчанию - пробел); <br>\n",
    "- end - завершающий символ или строка (по умолчанию - перенос строки)."
   ]
  },
  {
   "cell_type": "code",
   "execution_count": 11,
   "id": "54358a13",
   "metadata": {
    "scrolled": true
   },
   "outputs": [
    {
     "name": "stdout",
     "output_type": "stream",
     "text": [
      "3 | 2 | 7.17\n",
      "3 2 7.17.3 | 2 | 7.17."
     ]
    }
   ],
   "source": [
    "a = 3\n",
    "b = 2\n",
    "c = 7.17\n",
    "print(a, b, c, sep=\" | \")\n",
    "print(a, b, c, end=\".\")\n",
    "print(a, b, c, sep=\" | \", end=\".\")"
   ]
  },
  {
   "cell_type": "markdown",
   "id": "e07a36fd",
   "metadata": {},
   "source": [
    "Вывод с помощью f-строки:"
   ]
  },
  {
   "cell_type": "code",
   "execution_count": 15,
   "id": "9917cc07",
   "metadata": {},
   "outputs": [
    {
     "name": "stdout",
     "output_type": "stream",
     "text": [
      "Координаты точки: x= 5, y= 7. "
     ]
    }
   ],
   "source": [
    "x = 5\n",
    "y = 7\n",
    "print(f\"Координаты точки: x= {x}, y= {y}\", end=\". \")"
   ]
  },
  {
   "cell_type": "markdown",
   "id": "5792c7a8",
   "metadata": {},
   "source": [
    "### Функция input()"
   ]
  },
  {
   "cell_type": "code",
   "execution_count": 16,
   "id": "66920c0e",
   "metadata": {},
   "outputs": [
    {
     "name": "stdout",
     "output_type": "stream",
     "text": [
      "Введено с клавиатуры\n"
     ]
    }
   ],
   "source": [
    "s = input()"
   ]
  },
  {
   "cell_type": "code",
   "execution_count": 18,
   "id": "fbb52624",
   "metadata": {},
   "outputs": [
    {
     "name": "stdout",
     "output_type": "stream",
     "text": [
      "Введено с клавиатуры <class 'str'>\n"
     ]
    }
   ],
   "source": [
    "print(s, type(s))"
   ]
  },
  {
   "cell_type": "markdown",
   "id": "92397958",
   "metadata": {},
   "source": [
    "Функция input вне зависимости от введенных данных возвращает строку:"
   ]
  },
  {
   "cell_type": "code",
   "execution_count": 24,
   "id": "b160beb0",
   "metadata": {},
   "outputs": [
    {
     "name": "stdout",
     "output_type": "stream",
     "text": [
      "25345\n"
     ]
    }
   ],
   "source": [
    "n = input()"
   ]
  },
  {
   "cell_type": "code",
   "execution_count": 25,
   "id": "d71a4f4a",
   "metadata": {},
   "outputs": [
    {
     "name": "stdout",
     "output_type": "stream",
     "text": [
      "25345 <class 'str'>\n"
     ]
    }
   ],
   "source": [
    "print(n, type(n))"
   ]
  },
  {
   "cell_type": "markdown",
   "id": "4e650a32",
   "metadata": {},
   "source": [
    "Это может вызывать ошибку в случае, если введенное число в будущем планируется использовать в арифметических операциях. Поэтому введенные данные следует преобразовывать в необходимый тип данных:"
   ]
  },
  {
   "cell_type": "code",
   "execution_count": 27,
   "id": "0d822f72",
   "metadata": {},
   "outputs": [
    {
     "name": "stdout",
     "output_type": "stream",
     "text": [
      "-10\n"
     ]
    }
   ],
   "source": [
    "n = input()"
   ]
  },
  {
   "cell_type": "code",
   "execution_count": 30,
   "id": "83a38747",
   "metadata": {},
   "outputs": [
    {
     "name": "stdout",
     "output_type": "stream",
     "text": [
      "-10 <class 'int'>\n"
     ]
    }
   ],
   "source": [
    "n = int(n)\n",
    "print(n, type(n))"
   ]
  },
  {
   "cell_type": "markdown",
   "id": "12d5b637",
   "metadata": {},
   "source": [
    "И в таком случае число можно будет использовать в арифметических операциях:"
   ]
  },
  {
   "cell_type": "code",
   "execution_count": 32,
   "id": "857b02ba",
   "metadata": {
    "scrolled": true
   },
   "outputs": [
    {
     "name": "stdout",
     "output_type": "stream",
     "text": [
      "10\n"
     ]
    }
   ],
   "source": [
    "print(abs(n))"
   ]
  },
  {
   "cell_type": "markdown",
   "id": "7e6f607d",
   "metadata": {},
   "source": [
    "Подобное преобразование можно провести сразу в момент ввода:"
   ]
  },
  {
   "cell_type": "code",
   "execution_count": 37,
   "id": "9efb3b7b",
   "metadata": {},
   "outputs": [
    {
     "name": "stdout",
     "output_type": "stream",
     "text": [
      "244\n",
      "3.5\n"
     ]
    }
   ],
   "source": [
    "n = int(input())\n",
    "j = float(input())"
   ]
  },
  {
   "cell_type": "code",
   "execution_count": 38,
   "id": "08416550",
   "metadata": {},
   "outputs": [
    {
     "name": "stdout",
     "output_type": "stream",
     "text": [
      "<class 'int'> <class 'float'>\n"
     ]
    }
   ],
   "source": [
    "print(type(n), type(j))"
   ]
  },
  {
   "cell_type": "markdown",
   "id": "f11ee04c",
   "metadata": {},
   "source": [
    "В функцию input в качестве аргумента можно передать строку:"
   ]
  },
  {
   "cell_type": "code",
   "execution_count": 39,
   "id": "1aae2034",
   "metadata": {},
   "outputs": [
    {
     "name": "stdout",
     "output_type": "stream",
     "text": [
      "Введите радиус круга:3\n"
     ]
    }
   ],
   "source": [
    "r = input(\"Введите радиус круга:\")"
   ]
  }
 ],
 "metadata": {
  "kernelspec": {
   "display_name": "Python 3 (ipykernel)",
   "language": "python",
   "name": "python3"
  },
  "language_info": {
   "codemirror_mode": {
    "name": "ipython",
    "version": 3
   },
   "file_extension": ".py",
   "mimetype": "text/x-python",
   "name": "python",
   "nbconvert_exporter": "python",
   "pygments_lexer": "ipython3",
   "version": "3.9.13"
  }
 },
 "nbformat": 4,
 "nbformat_minor": 5
}

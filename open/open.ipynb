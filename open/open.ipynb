{
 "cells": [
  {
   "cell_type": "markdown",
   "id": "5293f9c4",
   "metadata": {},
   "source": [
    "## Функция open для работы с файлами"
   ]
  },
  {
   "cell_type": "markdown",
   "id": "ea94914f",
   "metadata": {},
   "source": [
    "Функция open открывает заданный файл на чтение или запись. По умолчанию - на чтение. "
   ]
  },
  {
   "cell_type": "markdown",
   "id": "84918958",
   "metadata": {},
   "source": [
    "open(file [, mode='r', encoding=None, ... ])<br>\n",
    "- file - путь к файлу<br>\n",
    "- mode - режим доступа к файлу(чтение/запись)<br>\n",
    "- encoding - кодировка файла<br>"
   ]
  },
  {
   "cell_type": "markdown",
   "id": "13711f3c",
   "metadata": {},
   "source": [
    "Путь к файлу может быть относительным или абсолютным (полным). Разделителем между каталогами принято использовать слэш - \"\\\\\". В отличии от обратного слэша - \"/\" это обеспечит большую кроссплатформенность, а также не потребует экранирования."
   ]
  },
  {
   "cell_type": "code",
   "execution_count": 1,
   "id": "db9991b8",
   "metadata": {},
   "outputs": [],
   "source": [
    "file = open('file.txt')"
   ]
  },
  {
   "cell_type": "markdown",
   "id": "b6456545",
   "metadata": {},
   "source": [
    "По умолчанию фунция open открывает файл только на чтение. Это означает, что можно только считывать информацию из файла, но не записывать."
   ]
  },
  {
   "cell_type": "markdown",
   "id": "6a3719cb",
   "metadata": {},
   "source": [
    "Переменная file ссылается на файловый объект:"
   ]
  },
  {
   "cell_type": "code",
   "execution_count": 2,
   "id": "f3d8496f",
   "metadata": {
    "scrolled": true
   },
   "outputs": [
    {
     "data": {
      "text/plain": [
       "<_io.TextIOWrapper name='file.txt' mode='r' encoding='cp1252'>"
      ]
     },
     "execution_count": 2,
     "metadata": {},
     "output_type": "execute_result"
    }
   ],
   "source": [
    "file"
   ]
  },
  {
   "cell_type": "markdown",
   "id": "ff371144",
   "metadata": {},
   "source": [
    "Для чтения файла существует функция read. Если не передать ей никаких аргументов, она читает все содержимое файла:"
   ]
  },
  {
   "cell_type": "code",
   "execution_count": 3,
   "id": "6ca32319",
   "metadata": {
    "scrolled": true
   },
   "outputs": [
    {
     "name": "stdout",
     "output_type": "stream",
     "text": [
      "first string\n",
      "second string\n"
     ]
    }
   ],
   "source": [
    "print(file.read())"
   ]
  },
  {
   "cell_type": "markdown",
   "id": "d768b1e6",
   "metadata": {},
   "source": [
    "Если кодировка файла не соответствует кодировке по умолчанию, содержимое файла может быть прочитано некорректно. Для смены кодировки ее имя необходимо передать функции open вторым аргументом:"
   ]
  },
  {
   "cell_type": "code",
   "execution_count": 4,
   "id": "dbfdf41e",
   "metadata": {},
   "outputs": [],
   "source": [
    "for i in file:\n",
    "    print(i)"
   ]
  },
  {
   "cell_type": "code",
   "execution_count": 5,
   "id": "fe5755b7",
   "metadata": {},
   "outputs": [],
   "source": [
    "file = open('file.txt', encoding='utf-8')"
   ]
  },
  {
   "cell_type": "markdown",
   "id": "10b24f70",
   "metadata": {},
   "source": [
    "На случай, если необходимо прочитать не весь файл, функции read можно передать максимальное количество символов, которое нужно прочитать:"
   ]
  },
  {
   "cell_type": "code",
   "execution_count": 6,
   "id": "c1defd4d",
   "metadata": {
    "scrolled": true
   },
   "outputs": [
    {
     "name": "stdout",
     "output_type": "stream",
     "text": [
      "first stri\n"
     ]
    }
   ],
   "source": [
    "print(file.read(10))"
   ]
  },
  {
   "cell_type": "markdown",
   "id": "427d194b",
   "metadata": {},
   "source": [
    "Если еще раз вызвать метод read - будут прочитаны следующие символы:"
   ]
  },
  {
   "cell_type": "markdown",
   "id": "eefe8f86",
   "metadata": {},
   "source": [
    "print(file.read(10))"
   ]
  },
  {
   "cell_type": "markdown",
   "id": "a95c9c57",
   "metadata": {},
   "source": [
    "Существует понятие \"файловая позиция\". Изначально она в начале файла. При частичном чтении она перемещается по файлу, и следующий вызов функции продолжает читать файл с того места, где был остановлен предыдущий. В конце - символ EOF (End Of File). Он сигнализирует о конце файла."
   ]
  },
  {
   "cell_type": "markdown",
   "id": "e28d0890",
   "metadata": {},
   "source": [
    "При необходимости можно управлять положением файловой позиции. Для этого у файлового объекта существует специальный символ seek:<br>\n",
    "- file.seek(offset[, from_what]), где offset - значение, куда стоит установить файловую позицию"
   ]
  },
  {
   "cell_type": "code",
   "execution_count": 7,
   "id": "d88a95e5",
   "metadata": {},
   "outputs": [
    {
     "data": {
      "text/plain": [
       "0"
      ]
     },
     "execution_count": 7,
     "metadata": {},
     "output_type": "execute_result"
    }
   ],
   "source": [
    "file.seek(0)"
   ]
  },
  {
   "cell_type": "markdown",
   "id": "d397fc8d",
   "metadata": {},
   "source": [
    "И теперь считывание файла начнется с начала:"
   ]
  },
  {
   "cell_type": "code",
   "execution_count": 8,
   "id": "3c102796",
   "metadata": {
    "scrolled": true
   },
   "outputs": [
    {
     "name": "stdout",
     "output_type": "stream",
     "text": [
      "first\n"
     ]
    }
   ],
   "source": [
    "print(file.read(5))"
   ]
  },
  {
   "cell_type": "code",
   "execution_count": 9,
   "id": "ff44bace",
   "metadata": {},
   "outputs": [
    {
     "data": {
      "text/plain": [
       "0"
      ]
     },
     "execution_count": 9,
     "metadata": {},
     "output_type": "execute_result"
    }
   ],
   "source": [
    "file.seek(0)"
   ]
  },
  {
   "cell_type": "code",
   "execution_count": 10,
   "id": "9206dc6e",
   "metadata": {},
   "outputs": [
    {
     "name": "stdout",
     "output_type": "stream",
     "text": [
      "first stri\n"
     ]
    }
   ],
   "source": [
    "print(file.read(10))"
   ]
  },
  {
   "cell_type": "markdown",
   "id": "0ff0cb31",
   "metadata": {},
   "source": [
    "Метод tell возвращает текущую файловую позицию:"
   ]
  },
  {
   "cell_type": "code",
   "execution_count": 11,
   "id": "22f23465",
   "metadata": {},
   "outputs": [
    {
     "data": {
      "text/plain": [
       "10"
      ]
     },
     "execution_count": 11,
     "metadata": {},
     "output_type": "execute_result"
    }
   ],
   "source": [
    "file.tell()"
   ]
  },
  {
   "cell_type": "markdown",
   "id": "1e06e841",
   "metadata": {},
   "source": [
    "Важно, что файловая позиция указывает не номер символа, а номер байта. Поэтому, напрмер, при чтении файлов, содержащих кириллицу, будет несовпадение."
   ]
  },
  {
   "cell_type": "code",
   "execution_count": 12,
   "id": "9532586d",
   "metadata": {},
   "outputs": [
    {
     "data": {
      "text/plain": [
       "0"
      ]
     },
     "execution_count": 12,
     "metadata": {},
     "output_type": "execute_result"
    }
   ],
   "source": [
    "file.seek(0)"
   ]
  },
  {
   "cell_type": "markdown",
   "id": "4898ae9f",
   "metadata": {},
   "source": [
    "Метод readline позволяет прочесть не весь файл, а только первую строку:"
   ]
  },
  {
   "cell_type": "code",
   "execution_count": 13,
   "id": "f839dcdb",
   "metadata": {},
   "outputs": [
    {
     "data": {
      "text/plain": [
       "'first string\\n'"
      ]
     },
     "execution_count": 13,
     "metadata": {},
     "output_type": "execute_result"
    }
   ],
   "source": [
    "file.readline()"
   ]
  },
  {
   "cell_type": "markdown",
   "id": "420a3144",
   "metadata": {},
   "source": [
    "метод readline понимает, что строка закончилась, когда доходит либо до символа конца строки, либо до конца файла."
   ]
  },
  {
   "cell_type": "code",
   "execution_count": 14,
   "id": "e2671717",
   "metadata": {},
   "outputs": [
    {
     "data": {
      "text/plain": [
       "0"
      ]
     },
     "execution_count": 14,
     "metadata": {},
     "output_type": "execute_result"
    }
   ],
   "source": [
    "file.seek(0)"
   ]
  },
  {
   "cell_type": "markdown",
   "id": "645727ce",
   "metadata": {},
   "source": [
    "Чтобы перебрать весь файл по строкам, можно воспользоваться циклом for:"
   ]
  },
  {
   "cell_type": "code",
   "execution_count": 15,
   "id": "1a92ca52",
   "metadata": {
    "scrolled": true
   },
   "outputs": [
    {
     "name": "stdout",
     "output_type": "stream",
     "text": [
      "first string\n",
      "\n",
      "second string\n"
     ]
    }
   ],
   "source": [
    "for line in file:\n",
    "    print(line)"
   ]
  },
  {
   "cell_type": "code",
   "execution_count": 16,
   "id": "2b83f572",
   "metadata": {},
   "outputs": [
    {
     "data": {
      "text/plain": [
       "0"
      ]
     },
     "execution_count": 16,
     "metadata": {},
     "output_type": "execute_result"
    }
   ],
   "source": [
    "file.seek(0)"
   ]
  },
  {
   "cell_type": "markdown",
   "id": "90c04d4a",
   "metadata": {},
   "source": [
    "Из-за того, что перенос строки есть как в переменной line, так и функции print, появляется пустая строка. Чтобы ее убрать:"
   ]
  },
  {
   "cell_type": "code",
   "execution_count": 17,
   "id": "7f780f8e",
   "metadata": {},
   "outputs": [
    {
     "name": "stdout",
     "output_type": "stream",
     "text": [
      "first string\n",
      "second string"
     ]
    }
   ],
   "source": [
    "for line in file:\n",
    "    print(line, end='')"
   ]
  },
  {
   "cell_type": "code",
   "execution_count": 18,
   "id": "8e9cb258",
   "metadata": {},
   "outputs": [
    {
     "data": {
      "text/plain": [
       "0"
      ]
     },
     "execution_count": 18,
     "metadata": {},
     "output_type": "execute_result"
    }
   ],
   "source": [
    "file.seek(0)"
   ]
  },
  {
   "cell_type": "markdown",
   "id": "066faf77",
   "metadata": {},
   "source": [
    "Для чтения всех строк сразу есть метод readlines:"
   ]
  },
  {
   "cell_type": "code",
   "execution_count": 19,
   "id": "6fbc1927",
   "metadata": {},
   "outputs": [
    {
     "data": {
      "text/plain": [
       "['first string\\n', 'second string']"
      ]
     },
     "execution_count": 19,
     "metadata": {},
     "output_type": "execute_result"
    }
   ],
   "source": [
    "file.readlines()"
   ]
  },
  {
   "cell_type": "markdown",
   "id": "21589080",
   "metadata": {},
   "source": [
    "Он возвращает список, где каждый элемент - отдельная строка. Но такой метод стоит использовать с осторожностью, так как для чтения больших файлов таким образом требуется много памяти."
   ]
  },
  {
   "cell_type": "markdown",
   "id": "490988b5",
   "metadata": {},
   "source": [
    "Как только завершается работа с файлом, его следует закрыть, используя метод close:"
   ]
  },
  {
   "cell_type": "code",
   "execution_count": 20,
   "id": "27caa4ad",
   "metadata": {},
   "outputs": [],
   "source": [
    "file.close()"
   ]
  }
 ],
 "metadata": {
  "kernelspec": {
   "display_name": "Python 3 (ipykernel)",
   "language": "python",
   "name": "python3"
  },
  "language_info": {
   "codemirror_mode": {
    "name": "ipython",
    "version": 3
   },
   "file_extension": ".py",
   "mimetype": "text/x-python",
   "name": "python",
   "nbconvert_exporter": "python",
   "pygments_lexer": "ipython3",
   "version": "3.9.13"
  }
 },
 "nbformat": 4,
 "nbformat_minor": 5
}

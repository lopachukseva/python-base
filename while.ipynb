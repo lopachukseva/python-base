{
 "cells": [
  {
   "cell_type": "markdown",
   "id": "479a3d87",
   "metadata": {},
   "source": [
    "Цикл позволяет реализовывать некие повторяющиеся действия"
   ]
  },
  {
   "cell_type": "markdown",
   "id": "642463df",
   "metadata": {},
   "source": [
    "## Цикл while"
   ]
  },
  {
   "cell_type": "markdown",
   "id": "3b26439d",
   "metadata": {},
   "source": [
    "Цикл while позволяет повторять действия до тех пор, пока выполняется определенное условие. Его синтаксис имеет следующий вид:"
   ]
  },
  {
   "cell_type": "markdown",
   "id": "5bb8a13c",
   "metadata": {},
   "source": [
    "while(условие):\n",
    "    <pre>оператор 1</pre>\n",
    "    <pre>оператор 2</pre>\n",
    "    <pre>...</pre>\n",
    "    <pre>оператор N</pre>"
   ]
  },
  {
   "cell_type": "markdown",
   "id": "64afd110",
   "metadata": {},
   "source": [
    "Первая строка вместе с ключевым словом while является заголовком, а группа операторов - телом цикла"
   ]
  },
  {
   "cell_type": "code",
   "execution_count": 7,
   "id": "08b2d255",
   "metadata": {},
   "outputs": [
    {
     "name": "stdout",
     "output_type": "stream",
     "text": [
      "1 1\n",
      "2 3\n",
      "3 6\n",
      "4 10\n",
      "5 15\n",
      "6 21\n",
      "7 28\n",
      "8 36\n",
      "9 45\n",
      "10 55\n",
      "55\n"
     ]
    }
   ],
   "source": [
    "n = 1000\n",
    "i = 1\n",
    "s = 0\n",
    "while i <= 10:\n",
    "    s += i\n",
    "    print(i, s)\n",
    "    i += 1\n",
    "\n",
    "print(s)"
   ]
  },
  {
   "cell_type": "markdown",
   "id": "8d9879b7",
   "metadata": {},
   "source": [
    "<b>Итерация</b> - однократное выполнение тела цикла. Условия можно прописывать те же самые, что и в условных операторах, в том числе и составные:"
   ]
  },
  {
   "cell_type": "code",
   "execution_count": 11,
   "id": "c68bb901",
   "metadata": {},
   "outputs": [
    {
     "data": {
      "text/plain": [
       "(0, -24)"
      ]
     },
     "execution_count": 11,
     "metadata": {},
     "output_type": "execute_result"
    }
   ],
   "source": [
    "a = 10\n",
    "b = -14\n",
    "\n",
    "\n",
    "while (a > 0 and b < 0):\n",
    "    a -= 1\n",
    "    b -= 1\n",
    "\n",
    "a, b"
   ]
  },
  {
   "cell_type": "markdown",
   "id": "54278726",
   "metadata": {},
   "source": [
    "В циклах прописываются условия их работы, а не завершения. В условиях желательно прописывать строгие условия - <> == !=, так как они работают быстрее, чем нестрогие - <= >=."
   ]
  },
  {
   "cell_type": "code",
   "execution_count": 16,
   "id": "c9de01f0",
   "metadata": {},
   "outputs": [
    {
     "name": "stdout",
     "output_type": "stream",
     "text": [
      "Enter password: 24'\n",
      "Enter password: password\n",
      "Successful login!\n"
     ]
    }
   ],
   "source": [
    "true_password = 'password'\n",
    "password = ''\n",
    "\n",
    "while password != true_password:\n",
    "    password = input('Enter password: ')\n",
    "\n",
    "print('Successful login!')"
   ]
  },
  {
   "cell_type": "code",
   "execution_count": 20,
   "id": "e150ba45",
   "metadata": {},
   "outputs": [
    {
     "name": "stdout",
     "output_type": "stream",
     "text": [
      "63\n"
     ]
    }
   ],
   "source": [
    "N = 20\n",
    "i = 3\n",
    "s = 0\n",
    "\n",
    "while i < N:\n",
    "    s += i\n",
    "    i += 3\n",
    "\n",
    "print(s)"
   ]
  },
  {
   "cell_type": "code",
   "execution_count": 21,
   "id": "a366799a",
   "metadata": {},
   "outputs": [
    {
     "name": "stdout",
     "output_type": "stream",
     "text": [
      "63\n"
     ]
    }
   ],
   "source": [
    "N = 20\n",
    "i = 1\n",
    "s = 0\n",
    "\n",
    "while i < N:\n",
    "    if i % 3 == 0:\n",
    "        s += i\n",
    "    i += 1\n",
    "\n",
    "print(s)"
   ]
  }
 ],
 "metadata": {
  "kernelspec": {
   "display_name": "Python 3 (ipykernel)",
   "language": "python",
   "name": "python3"
  },
  "language_info": {
   "codemirror_mode": {
    "name": "ipython",
    "version": 3
   },
   "file_extension": ".py",
   "mimetype": "text/x-python",
   "name": "python",
   "nbconvert_exporter": "python",
   "pygments_lexer": "ipython3",
   "version": "3.9.13"
  }
 },
 "nbformat": 4,
 "nbformat_minor": 5
}

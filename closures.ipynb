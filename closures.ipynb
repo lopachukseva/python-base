{
 "cells": [
  {
   "cell_type": "markdown",
   "id": "4b46ecb2",
   "metadata": {},
   "source": [
    "## Замыкания"
   ]
  },
  {
   "cell_type": "markdown",
   "id": "c68f823c",
   "metadata": {},
   "source": [
    "Допустим, что существует функция, которая содержит в себе еще одну функцию. И эта внутренняя функция для своей работы использует переменную, которая принадлежит внешней функции:"
   ]
  },
  {
   "cell_type": "code",
   "execution_count": 1,
   "id": "70d1f2bf",
   "metadata": {},
   "outputs": [
    {
     "name": "stdout",
     "output_type": "stream",
     "text": [
      "Don`t say me goodbye, Misha\n"
     ]
    }
   ],
   "source": [
    "def say_name(name):\n",
    "    def say_goodbye():\n",
    "        print(f\"Don`t say me goodbye, {name}\")\n",
    "    \n",
    "    say_goodbye()\n",
    "\n",
    "say_name(\"Misha\")"
   ]
  },
  {
   "cell_type": "markdown",
   "id": "599652ac",
   "metadata": {},
   "source": [
    "Модифицируем программу. Теперь внешняя функция не будет запускать внутреннюю - она будет возвращать на нее ссылку. Сохраним эту ссылку в переменную f, а затем запустим:"
   ]
  },
  {
   "cell_type": "code",
   "execution_count": 2,
   "id": "c6d09778",
   "metadata": {},
   "outputs": [
    {
     "name": "stdout",
     "output_type": "stream",
     "text": [
      "Don`t say me goodbye, Misha\n"
     ]
    }
   ],
   "source": [
    "def say_name(name):\n",
    "    def say_goodbye():\n",
    "        print(f\"Don`t say me goodbye, {name}\")\n",
    "    \n",
    "    return say_goodbye\n",
    "\n",
    "f = say_name(\"Misha\")\n",
    "f()"
   ]
  },
  {
   "cell_type": "markdown",
   "id": "5d3dad29",
   "metadata": {},
   "source": [
    "Результат не поменялся, хотя казалось бы: внутренней функции неоткуда взять имя, которое принадлежит внешней."
   ]
  },
  {
   "cell_type": "markdown",
   "id": "049c17fb",
   "metadata": {},
   "source": [
    "А дело в том, что когда имеется глобальная ссылка на внутреннее окружение, то ее окружение продолжает существовать. А вместе с локальным окружением продолжают существовать и все остальные внешние окружения, которые с ним связаны, так как у каждого локального окружения есть неявная внешняя ссылка на внешнее окружение.\n",
    "\n",
    "В случае с данным примером - у функции say_goodbye внешнее окружение это функция say_name, а у функции say_name внешнее окружение - глобальное. И все эти окружение не пропадают, пока ссылка f существует."
   ]
  },
  {
   "cell_type": "markdown",
   "id": "91090870",
   "metadata": {},
   "source": [
    "Такой эффект, когда сохраняются внутренние локальные окружения и имееется возмозность продолжать использовать пемеренные из внешних окружений называется в программировании замыканием: во внутренней функции (say_goodbye) есть ссылка на внешнюю (say_name), а в ней - на глобальную. А в глобальной - опять на внутреннюю (say_goodbye). "
   ]
  },
  {
   "cell_type": "markdown",
   "id": "734f1a87",
   "metadata": {},
   "source": [
    "При каждом вызове создается свое независимое локальное окружение:"
   ]
  },
  {
   "cell_type": "code",
   "execution_count": 3,
   "id": "8d26aaaf",
   "metadata": {},
   "outputs": [],
   "source": [
    "f1 = say_name(\"Mike\")\n",
    "f2 = say_name(\"Python\")"
   ]
  },
  {
   "cell_type": "code",
   "execution_count": 4,
   "id": "9fcbed17",
   "metadata": {},
   "outputs": [
    {
     "name": "stdout",
     "output_type": "stream",
     "text": [
      "Don`t say me goodbye, Mike\n"
     ]
    }
   ],
   "source": [
    "f1()"
   ]
  },
  {
   "cell_type": "code",
   "execution_count": 5,
   "id": "63f208e2",
   "metadata": {},
   "outputs": [
    {
     "name": "stdout",
     "output_type": "stream",
     "text": [
      "Don`t say me goodbye, Python\n"
     ]
    }
   ],
   "source": [
    "f2()"
   ]
  },
  {
   "cell_type": "markdown",
   "id": "beb52e46",
   "metadata": {},
   "source": [
    "Создадим функцию счетчик:"
   ]
  },
  {
   "cell_type": "code",
   "execution_count": 6,
   "id": "33192281",
   "metadata": {},
   "outputs": [],
   "source": [
    "def counter(start=0):\n",
    "    def step():\n",
    "        nonlocal start\n",
    "        start += 1\n",
    "        return start\n",
    "    return step"
   ]
  },
  {
   "cell_type": "code",
   "execution_count": 7,
   "id": "0bd7b083",
   "metadata": {},
   "outputs": [],
   "source": [
    "c1 = counter(10)"
   ]
  },
  {
   "cell_type": "code",
   "execution_count": 8,
   "id": "6d7cbb49",
   "metadata": {},
   "outputs": [],
   "source": [
    "c2 = counter()"
   ]
  },
  {
   "cell_type": "markdown",
   "id": "444f4d5e",
   "metadata": {},
   "source": [
    "Видно, что две функции работают независимо друг от друга:"
   ]
  },
  {
   "cell_type": "code",
   "execution_count": 9,
   "id": "908a05cb",
   "metadata": {
    "scrolled": true
   },
   "outputs": [
    {
     "name": "stdout",
     "output_type": "stream",
     "text": [
      "11 1\n",
      "12 2\n",
      "13 3\n"
     ]
    }
   ],
   "source": [
    "print(c1(), c2())\n",
    "print(c1(), c2())\n",
    "print(c1(), c2())"
   ]
  },
  {
   "cell_type": "markdown",
   "id": "8a22c2b8",
   "metadata": {},
   "source": [
    "Еще один пример:"
   ]
  },
  {
   "cell_type": "code",
   "execution_count": 10,
   "id": "83602fad",
   "metadata": {},
   "outputs": [],
   "source": [
    "def stripString(strip_char=\" \"):\n",
    "    def doStrip(string):\n",
    "        return string.strip(strip_char)\n",
    "    return doStrip"
   ]
  },
  {
   "cell_type": "code",
   "execution_count": 11,
   "id": "199e0420",
   "metadata": {},
   "outputs": [],
   "source": [
    "s1 = stripString()\n",
    "s2 = stripString(\"-\")"
   ]
  },
  {
   "cell_type": "code",
   "execution_count": 12,
   "id": "54c7188d",
   "metadata": {
    "scrolled": true
   },
   "outputs": [
    {
     "data": {
      "text/plain": [
       "'---Hello!'"
      ]
     },
     "execution_count": 12,
     "metadata": {},
     "output_type": "execute_result"
    }
   ],
   "source": [
    "s1(\"---Hello!  \")"
   ]
  },
  {
   "cell_type": "code",
   "execution_count": 13,
   "id": "1f90f103",
   "metadata": {},
   "outputs": [
    {
     "data": {
      "text/plain": [
       "'Hello!  '"
      ]
     },
     "execution_count": 13,
     "metadata": {},
     "output_type": "execute_result"
    }
   ],
   "source": [
    "s2(\"---Hello!  \")"
   ]
  }
 ],
 "metadata": {
  "kernelspec": {
   "display_name": "Python 3 (ipykernel)",
   "language": "python",
   "name": "python3"
  },
  "language_info": {
   "codemirror_mode": {
    "name": "ipython",
    "version": 3
   },
   "file_extension": ".py",
   "mimetype": "text/x-python",
   "name": "python",
   "nbconvert_exporter": "python",
   "pygments_lexer": "ipython3",
   "version": "3.9.13"
  }
 },
 "nbformat": 4,
 "nbformat_minor": 5
}

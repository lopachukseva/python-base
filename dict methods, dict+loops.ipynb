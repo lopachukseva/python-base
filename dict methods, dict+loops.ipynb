{
 "cells": [
  {
   "cell_type": "markdown",
   "id": "85af29c5",
   "metadata": {},
   "source": [
    "## Методы словаря"
   ]
  },
  {
   "cell_type": "markdown",
   "id": "4c6c3f2f",
   "metadata": {},
   "source": [
    "### dict.fromkeys"
   ]
  },
  {
   "cell_type": "markdown",
   "id": "19654953",
   "metadata": {},
   "source": [
    "Метод fromkeys формирует словарь с заданными ключами (которые передаются в виде списка) и некоторым значением:"
   ]
  },
  {
   "cell_type": "markdown",
   "id": "cf9f8c7a",
   "metadata": {},
   "source": [
    "Допустим, существует словарь, в котором каждый элемент является строкой, содержащей название города:"
   ]
  },
  {
   "cell_type": "code",
   "execution_count": 1,
   "id": "b2a2bf2c",
   "metadata": {},
   "outputs": [],
   "source": [
    "cities = ['Moscow', 'Kazan', 'Minsk', 'Saint-Petersburg']"
   ]
  },
  {
   "cell_type": "markdown",
   "id": "953678db",
   "metadata": {},
   "source": [
    "И мы бы хотели, чтобы эти строки являлись ключами будущего словаря. Для этого можно воспользоваться методом fromkeys объекта dict, передав ему в качестве аргумента список:"
   ]
  },
  {
   "cell_type": "code",
   "execution_count": 3,
   "id": "7f84ef3b",
   "metadata": {},
   "outputs": [],
   "source": [
    "a = dict.fromkeys(cities)"
   ]
  },
  {
   "cell_type": "markdown",
   "id": "b29a0bd4",
   "metadata": {},
   "source": [
    "Будет сформирован словарь, в котором ключи - элементы списка, а значение каждого из ключей - None:"
   ]
  },
  {
   "cell_type": "code",
   "execution_count": 4,
   "id": "3b2e6e2f",
   "metadata": {},
   "outputs": [
    {
     "name": "stdout",
     "output_type": "stream",
     "text": [
      "{'Moscow': None, 'Kazan': None, 'Minsk': None, 'Saint-Petersburg': None}\n"
     ]
    }
   ],
   "source": [
    "print(a)"
   ]
  },
  {
   "cell_type": "markdown",
   "id": "e30279b1",
   "metadata": {},
   "source": [
    "Это значение по умолчанию. Если необходимо его переопределить - необходимо в метод fromkeys передать второй аргумент с этим значением. И теперь именно это значение будет присутствовать у каждого элемента:"
   ]
  },
  {
   "cell_type": "code",
   "execution_count": 7,
   "id": "b086e8a5",
   "metadata": {},
   "outputs": [],
   "source": [
    "a = dict.fromkeys(cities, \"default\")"
   ]
  },
  {
   "cell_type": "code",
   "execution_count": 8,
   "id": "08073574",
   "metadata": {},
   "outputs": [
    {
     "name": "stdout",
     "output_type": "stream",
     "text": [
      "{'Moscow': 'default', 'Kazan': 'default', 'Minsk': 'default', 'Saint-Petersburg': 'default'}\n"
     ]
    }
   ],
   "source": [
    "print(a)"
   ]
  },
  {
   "cell_type": "markdown",
   "id": "9291a9dd",
   "metadata": {},
   "source": [
    "### clear"
   ]
  },
  {
   "cell_type": "markdown",
   "id": "cdc6ebbc",
   "metadata": {},
   "source": [
    "Метод clear служит для очистки словаря:"
   ]
  },
  {
   "cell_type": "code",
   "execution_count": 9,
   "id": "e3936177",
   "metadata": {},
   "outputs": [
    {
     "data": {
      "text/plain": [
       "{'Moscow': 'default',\n",
       " 'Kazan': 'default',\n",
       " 'Minsk': 'default',\n",
       " 'Saint-Petersburg': 'default'}"
      ]
     },
     "execution_count": 9,
     "metadata": {},
     "output_type": "execute_result"
    }
   ],
   "source": [
    "a"
   ]
  },
  {
   "cell_type": "code",
   "execution_count": 10,
   "id": "4296c352",
   "metadata": {},
   "outputs": [],
   "source": [
    "a.clear()"
   ]
  },
  {
   "cell_type": "code",
   "execution_count": 11,
   "id": "8c7fc175",
   "metadata": {},
   "outputs": [
    {
     "data": {
      "text/plain": [
       "{}"
      ]
     },
     "execution_count": 11,
     "metadata": {},
     "output_type": "execute_result"
    }
   ],
   "source": [
    "a"
   ]
  },
  {
   "cell_type": "markdown",
   "id": "e569f96b",
   "metadata": {},
   "source": [
    "### copy"
   ]
  },
  {
   "cell_type": "markdown",
   "id": "a4bbc6c8",
   "metadata": {},
   "source": [
    "Метод copy возвращает копию словаря:"
   ]
  },
  {
   "cell_type": "code",
   "execution_count": 12,
   "id": "7d47f009",
   "metadata": {},
   "outputs": [],
   "source": [
    "b = {\n",
    "    'key1': 'value1',\n",
    "    'key2': 'value2',\n",
    "    'key3': 'value3',\n",
    "}"
   ]
  },
  {
   "cell_type": "code",
   "execution_count": 13,
   "id": "8feef893",
   "metadata": {},
   "outputs": [],
   "source": [
    "c = b.copy()"
   ]
  },
  {
   "cell_type": "code",
   "execution_count": 14,
   "id": "bfc20e0f",
   "metadata": {},
   "outputs": [
    {
     "data": {
      "text/plain": [
       "True"
      ]
     },
     "execution_count": 14,
     "metadata": {},
     "output_type": "execute_result"
    }
   ],
   "source": [
    "id(b) != id(c)"
   ]
  },
  {
   "cell_type": "markdown",
   "id": "99f87cb2",
   "metadata": {},
   "source": [
    "Ещё один способ создания копии словаря - передать исходный словарь в функцию dict(). В таком случае она вернет копию словаря:"
   ]
  },
  {
   "cell_type": "code",
   "execution_count": 15,
   "id": "b9a738a3",
   "metadata": {},
   "outputs": [],
   "source": [
    "c = dict(b)"
   ]
  },
  {
   "cell_type": "code",
   "execution_count": 16,
   "id": "9183ded9",
   "metadata": {},
   "outputs": [
    {
     "data": {
      "text/plain": [
       "True"
      ]
     },
     "execution_count": 16,
     "metadata": {},
     "output_type": "execute_result"
    }
   ],
   "source": [
    "id(b) != id(c)"
   ]
  },
  {
   "cell_type": "markdown",
   "id": "ccaf26bf",
   "metadata": {},
   "source": [
    "### get"
   ]
  },
  {
   "cell_type": "markdown",
   "id": "6bb1324a",
   "metadata": {},
   "source": [
    "Метод get позволяет получить значение по ключу:"
   ]
  },
  {
   "cell_type": "code",
   "execution_count": 17,
   "id": "9d937fbe",
   "metadata": {},
   "outputs": [
    {
     "data": {
      "text/plain": [
       "'value1'"
      ]
     },
     "execution_count": 17,
     "metadata": {},
     "output_type": "execute_result"
    }
   ],
   "source": [
    "b.get('key1')"
   ]
  },
  {
   "cell_type": "markdown",
   "id": "ef57a9a3",
   "metadata": {},
   "source": [
    "Разница от такого обращения:"
   ]
  },
  {
   "cell_type": "code",
   "execution_count": 18,
   "id": "df85d885",
   "metadata": {},
   "outputs": [
    {
     "data": {
      "text/plain": [
       "'value1'"
      ]
     },
     "execution_count": 18,
     "metadata": {},
     "output_type": "execute_result"
    }
   ],
   "source": [
    "b['key1']"
   ]
  },
  {
   "cell_type": "markdown",
   "id": "fdf4b84b",
   "metadata": {},
   "source": [
    "заключается в том, что если в нее передать несуществующий ключ - будет ошибка. А если несуществующий ключ передать в функцию get, то на выходе будет значение None:"
   ]
  },
  {
   "cell_type": "code",
   "execution_count": 19,
   "id": "bec7f501",
   "metadata": {
    "scrolled": true
   },
   "outputs": [
    {
     "name": "stdout",
     "output_type": "stream",
     "text": [
      "None\n"
     ]
    }
   ],
   "source": [
    "print(b.get('keyn'))"
   ]
  },
  {
   "cell_type": "markdown",
   "id": "eedb4b64",
   "metadata": {},
   "source": [
    "Или же она может возвращать любое другое значение, которое прописано в качестве второго аргумента:"
   ]
  },
  {
   "cell_type": "code",
   "execution_count": 20,
   "id": "fa5c5ed4",
   "metadata": {},
   "outputs": [
    {
     "name": "stdout",
     "output_type": "stream",
     "text": [
      "не найдено\n"
     ]
    }
   ],
   "source": [
    "print(b.get('keyn', 'не найдено'))"
   ]
  },
  {
   "cell_type": "markdown",
   "id": "43c0b48f",
   "metadata": {},
   "source": [
    "### setdefault"
   ]
  },
  {
   "cell_type": "markdown",
   "id": "fedd0391",
   "metadata": {},
   "source": [
    "Метод setdefault возвращает значение по заданному ключу, но если этот ключ в словаре отсутствует - то создается запись в словаре с несуществующим ключом и некоторым значением (либо значение по умолчанию, либо значение, которое было передано вторым аргументом):"
   ]
  },
  {
   "cell_type": "code",
   "execution_count": 21,
   "id": "08d0925a",
   "metadata": {},
   "outputs": [
    {
     "data": {
      "text/plain": [
       "{'key1': 'value1', 'key2': 'value2', 'key3': 'value3'}"
      ]
     },
     "execution_count": 21,
     "metadata": {},
     "output_type": "execute_result"
    }
   ],
   "source": [
    "b"
   ]
  },
  {
   "cell_type": "markdown",
   "id": "cec233bb",
   "metadata": {},
   "source": [
    "Если просто передать имя существующего ключа, то функция вернет значение, и словарь не изменится:"
   ]
  },
  {
   "cell_type": "code",
   "execution_count": 22,
   "id": "c265c6ad",
   "metadata": {},
   "outputs": [
    {
     "data": {
      "text/plain": [
       "'value1'"
      ]
     },
     "execution_count": 22,
     "metadata": {},
     "output_type": "execute_result"
    }
   ],
   "source": [
    "b.setdefault('key1')"
   ]
  },
  {
   "cell_type": "code",
   "execution_count": 23,
   "id": "47d35616",
   "metadata": {},
   "outputs": [
    {
     "data": {
      "text/plain": [
       "{'key1': 'value1', 'key2': 'value2', 'key3': 'value3'}"
      ]
     },
     "execution_count": 23,
     "metadata": {},
     "output_type": "execute_result"
    }
   ],
   "source": [
    "b"
   ]
  },
  {
   "cell_type": "markdown",
   "id": "88031ebb",
   "metadata": {},
   "source": [
    "Но если передать несуществующий ключ:"
   ]
  },
  {
   "cell_type": "code",
   "execution_count": 24,
   "id": "da81754b",
   "metadata": {},
   "outputs": [],
   "source": [
    "b.setdefault('key4')"
   ]
  },
  {
   "cell_type": "markdown",
   "id": "7532f53a",
   "metadata": {},
   "source": [
    "То вернется значение None и в словарь будет добавлена новая пара ключ-значение:"
   ]
  },
  {
   "cell_type": "code",
   "execution_count": 25,
   "id": "1dc97158",
   "metadata": {},
   "outputs": [
    {
     "data": {
      "text/plain": [
       "{'key1': 'value1', 'key2': 'value2', 'key3': 'value3', 'key4': None}"
      ]
     },
     "execution_count": 25,
     "metadata": {},
     "output_type": "execute_result"
    }
   ],
   "source": [
    "b"
   ]
  },
  {
   "cell_type": "markdown",
   "id": "36ac556d",
   "metadata": {},
   "source": [
    "Для того, чтобы вместо None было другое значение, необходимо передать его вторым аргументом:"
   ]
  },
  {
   "cell_type": "code",
   "execution_count": 26,
   "id": "91084ed3",
   "metadata": {},
   "outputs": [
    {
     "data": {
      "text/plain": [
       "'value'"
      ]
     },
     "execution_count": 26,
     "metadata": {},
     "output_type": "execute_result"
    }
   ],
   "source": [
    "b.setdefault('key5', 'value')"
   ]
  },
  {
   "cell_type": "markdown",
   "id": "35b2a976",
   "metadata": {},
   "source": [
    "Будет возвращено значение, которое было передано вторым аргументом, а также добавлена в словарь новая пара ключ-значение:"
   ]
  },
  {
   "cell_type": "code",
   "execution_count": 27,
   "id": "5af8d832",
   "metadata": {},
   "outputs": [
    {
     "data": {
      "text/plain": [
       "{'key1': 'value1',\n",
       " 'key2': 'value2',\n",
       " 'key3': 'value3',\n",
       " 'key4': None,\n",
       " 'key5': 'value'}"
      ]
     },
     "execution_count": 27,
     "metadata": {},
     "output_type": "execute_result"
    }
   ],
   "source": [
    "b"
   ]
  },
  {
   "cell_type": "markdown",
   "id": "be70a610",
   "metadata": {},
   "source": [
    "Но если такой ключ уже есть, будет просто возвращено его значение:"
   ]
  },
  {
   "cell_type": "code",
   "execution_count": 28,
   "id": "88083deb",
   "metadata": {},
   "outputs": [
    {
     "data": {
      "text/plain": [
       "'value'"
      ]
     },
     "execution_count": 28,
     "metadata": {},
     "output_type": "execute_result"
    }
   ],
   "source": [
    "b.setdefault('key5', 'another value')"
   ]
  },
  {
   "cell_type": "markdown",
   "id": "845b22ec",
   "metadata": {},
   "source": [
    "### pop"
   ]
  },
  {
   "cell_type": "markdown",
   "id": "39dbb264",
   "metadata": {},
   "source": [
    "Метод pop позволяет удалить из словаря пару ключ-значение по ключу:"
   ]
  },
  {
   "cell_type": "code",
   "execution_count": 29,
   "id": "a45f69b6",
   "metadata": {},
   "outputs": [],
   "source": [
    "b.pop('key4')"
   ]
  },
  {
   "cell_type": "code",
   "execution_count": 30,
   "id": "081b8411",
   "metadata": {},
   "outputs": [
    {
     "data": {
      "text/plain": [
       "'value'"
      ]
     },
     "execution_count": 30,
     "metadata": {},
     "output_type": "execute_result"
    }
   ],
   "source": [
    "b.pop('key5')"
   ]
  },
  {
   "cell_type": "markdown",
   "id": "0df86766",
   "metadata": {},
   "source": [
    "При этом метод вернет удаленное значение (если оно есть). Если передать несуществующий ключ - возникнет ошибка. Но если прописать второй аргумент - будет возвращен именно он:"
   ]
  },
  {
   "cell_type": "code",
   "execution_count": 31,
   "id": "c2825fc0",
   "metadata": {},
   "outputs": [
    {
     "data": {
      "text/plain": [
       "'такого элемента не существует'"
      ]
     },
     "execution_count": 31,
     "metadata": {},
     "output_type": "execute_result"
    }
   ],
   "source": [
    "b.pop('key6', 'такого элемента не существует')"
   ]
  },
  {
   "cell_type": "code",
   "execution_count": 32,
   "id": "884cf102",
   "metadata": {},
   "outputs": [
    {
     "data": {
      "text/plain": [
       "False"
      ]
     },
     "execution_count": 32,
     "metadata": {},
     "output_type": "execute_result"
    }
   ],
   "source": [
    "b.pop('key6', False)"
   ]
  },
  {
   "cell_type": "markdown",
   "id": "ab4ff1d5",
   "metadata": {},
   "source": [
    "### popitem"
   ]
  },
  {
   "cell_type": "markdown",
   "id": "65ff3d3e",
   "metadata": {},
   "source": [
    "Метод popitem удаляет последнюю пару ключ-значение и возвращает их:"
   ]
  },
  {
   "cell_type": "code",
   "execution_count": 33,
   "id": "15190216",
   "metadata": {},
   "outputs": [
    {
     "data": {
      "text/plain": [
       "('key3', 'value3')"
      ]
     },
     "execution_count": 33,
     "metadata": {},
     "output_type": "execute_result"
    }
   ],
   "source": [
    "b.popitem()"
   ]
  },
  {
   "cell_type": "code",
   "execution_count": 34,
   "id": "d64b8535",
   "metadata": {},
   "outputs": [
    {
     "data": {
      "text/plain": [
       "{'key1': 'value1', 'key2': 'value2'}"
      ]
     },
     "execution_count": 34,
     "metadata": {},
     "output_type": "execute_result"
    }
   ],
   "source": [
    "b"
   ]
  },
  {
   "cell_type": "markdown",
   "id": "239b1da2",
   "metadata": {},
   "source": [
    "Если вызвать этот метод для пустого словаря - будет ошибка."
   ]
  },
  {
   "cell_type": "markdown",
   "id": "f80932f0",
   "metadata": {},
   "source": [
    "### keys"
   ]
  },
  {
   "cell_type": "markdown",
   "id": "3aba98c9",
   "metadata": {},
   "source": [
    "Метод keys возвращает список ключей:"
   ]
  },
  {
   "cell_type": "code",
   "execution_count": 36,
   "id": "15f3b9fa",
   "metadata": {},
   "outputs": [
    {
     "data": {
      "text/plain": [
       "dict_keys(['key1', 'key2'])"
      ]
     },
     "execution_count": 36,
     "metadata": {},
     "output_type": "execute_result"
    }
   ],
   "source": [
    "b.keys()"
   ]
  },
  {
   "cell_type": "markdown",
   "id": "91f7aa5c",
   "metadata": {},
   "source": [
    "Цикл обходит словарь именно по этому списку:"
   ]
  },
  {
   "cell_type": "code",
   "execution_count": 39,
   "id": "bc88eba7",
   "metadata": {},
   "outputs": [
    {
     "name": "stdout",
     "output_type": "stream",
     "text": [
      "key1\n",
      "key2\n"
     ]
    }
   ],
   "source": [
    "for key in b:\n",
    "    print(key)"
   ]
  },
  {
   "cell_type": "markdown",
   "id": "46e98e79",
   "metadata": {},
   "source": [
    "### values"
   ]
  },
  {
   "cell_type": "markdown",
   "id": "0544868b",
   "metadata": {},
   "source": [
    "Метод keys возвращает список значений:"
   ]
  },
  {
   "cell_type": "code",
   "execution_count": 41,
   "id": "72e65dec",
   "metadata": {},
   "outputs": [
    {
     "data": {
      "text/plain": [
       "dict_values(['value1', 'value2'])"
      ]
     },
     "execution_count": 41,
     "metadata": {},
     "output_type": "execute_result"
    }
   ],
   "source": [
    "b.values()"
   ]
  },
  {
   "cell_type": "markdown",
   "id": "6e3a5800",
   "metadata": {},
   "source": [
    "Для того, чтобы перебрать значения в цикле for, нужно вызвать этот метод в заголовке цикла:"
   ]
  },
  {
   "cell_type": "code",
   "execution_count": 42,
   "id": "7b30f3e9",
   "metadata": {},
   "outputs": [
    {
     "name": "stdout",
     "output_type": "stream",
     "text": [
      "value1\n",
      "value2\n"
     ]
    }
   ],
   "source": [
    "for value in b.values():\n",
    "    print(value)"
   ]
  },
  {
   "cell_type": "markdown",
   "id": "bcaa7f90",
   "metadata": {},
   "source": [
    "### items"
   ]
  },
  {
   "cell_type": "markdown",
   "id": "209712a3",
   "metadata": {},
   "source": [
    "Метод items возвращает список из кортежей, каждый из которых соответствует паре ключ-значение:"
   ]
  },
  {
   "cell_type": "code",
   "execution_count": 44,
   "id": "5b447144",
   "metadata": {},
   "outputs": [
    {
     "data": {
      "text/plain": [
       "dict_items([('key1', 'value1'), ('key2', 'value2')])"
      ]
     },
     "execution_count": 44,
     "metadata": {},
     "output_type": "execute_result"
    }
   ],
   "source": [
    "b.items()"
   ]
  },
  {
   "cell_type": "markdown",
   "id": "b83505e9",
   "metadata": {},
   "source": [
    "Таким образом в цикле можно перебрать сразу и ключи, и значения:"
   ]
  },
  {
   "cell_type": "code",
   "execution_count": 45,
   "id": "05a645a4",
   "metadata": {
    "scrolled": true
   },
   "outputs": [
    {
     "name": "stdout",
     "output_type": "stream",
     "text": [
      "('key1', 'value1')\n",
      "('key2', 'value2')\n"
     ]
    }
   ],
   "source": [
    "for item in b.items():\n",
    "    print(item)"
   ]
  },
  {
   "cell_type": "code",
   "execution_count": 47,
   "id": "a8279220",
   "metadata": {},
   "outputs": [
    {
     "name": "stdout",
     "output_type": "stream",
     "text": [
      "Ключ: key1, значение: value1\n",
      "Ключ: key2, значение: value2\n"
     ]
    }
   ],
   "source": [
    "for key, value in b.items():\n",
    "    print(f'Ключ: {key}, значение: {value}')"
   ]
  },
  {
   "cell_type": "markdown",
   "id": "3d17efa0",
   "metadata": {},
   "source": [
    "### update"
   ]
  },
  {
   "cell_type": "markdown",
   "id": "59dce440",
   "metadata": {},
   "source": [
    "Метод update обновляет словарь, от которого он был вызван, значениями словаря, который был передан в качестве аргумента."
   ]
  },
  {
   "cell_type": "markdown",
   "id": "e9cabdf7",
   "metadata": {},
   "source": [
    "Предположим, что есть два словаря:"
   ]
  },
  {
   "cell_type": "code",
   "execution_count": 49,
   "id": "421f870f",
   "metadata": {},
   "outputs": [],
   "source": [
    "a1 = {'Moscow': 135236, \n",
    "      'Kazan': 25336, \n",
    "      'Minsk': 12532, \n",
    "      'Saint-Petersburg': 9532\n",
    "}\n",
    "\n",
    "a2 = {\n",
    "    'Minsk': 11083,\n",
    "    'Novosibirsk': 4587\n",
    "}"
   ]
  },
  {
   "cell_type": "markdown",
   "id": "37ffabfe",
   "metadata": {},
   "source": [
    "Если вызвать метод update от словаря a1, и передать в качестве аргумента словарь a2:"
   ]
  },
  {
   "cell_type": "code",
   "execution_count": 51,
   "id": "68f7b5da",
   "metadata": {},
   "outputs": [],
   "source": [
    "a1.update(a2)"
   ]
  },
  {
   "cell_type": "markdown",
   "id": "2fbf26fe",
   "metadata": {},
   "source": [
    "Если в словаре a1 нет ключа, что есть в a2, то из a2 в a1 будет добавлена соответствующая пара ключ-значение. Если ключ уже есть, то будет обновлено его значение:"
   ]
  },
  {
   "cell_type": "code",
   "execution_count": 53,
   "id": "32f90121",
   "metadata": {},
   "outputs": [
    {
     "data": {
      "text/plain": [
       "{'Moscow': 135236,\n",
       " 'Kazan': 25336,\n",
       " 'Minsk': 11083,\n",
       " 'Saint-Petersburg': 9532,\n",
       " 'Novosibirsk': 4587}"
      ]
     },
     "execution_count": 53,
     "metadata": {},
     "output_type": "execute_result"
    }
   ],
   "source": [
    "a1"
   ]
  },
  {
   "cell_type": "markdown",
   "id": "873ad8f9",
   "metadata": {},
   "source": [
    "Если нужно объеденить два словаря и записать его в третий, то можно воспользоваться следующим синтаксисом:"
   ]
  },
  {
   "cell_type": "code",
   "execution_count": 58,
   "id": "95fc162a",
   "metadata": {},
   "outputs": [],
   "source": [
    "b1 = {**a1, **a2}"
   ]
  },
  {
   "cell_type": "code",
   "execution_count": 55,
   "id": "917514e5",
   "metadata": {},
   "outputs": [
    {
     "data": {
      "text/plain": [
       "{'Moscow': 135236,\n",
       " 'Kazan': 25336,\n",
       " 'Minsk': 11083,\n",
       " 'Saint-Petersburg': 9532,\n",
       " 'Novosibirsk': 4587}"
      ]
     },
     "execution_count": 55,
     "metadata": {},
     "output_type": "execute_result"
    }
   ],
   "source": [
    "b1"
   ]
  },
  {
   "cell_type": "markdown",
   "id": "84fa0eb9",
   "metadata": {},
   "source": [
    "Причем здесь важен порядок: если ключи в словарях совпадают, будет отдано предпочтение тому значению, словарь с которым был передан в последнюю очередь:"
   ]
  },
  {
   "cell_type": "code",
   "execution_count": 59,
   "id": "402f6476",
   "metadata": {},
   "outputs": [],
   "source": [
    "b2 = {**a2, **a1}"
   ]
  },
  {
   "cell_type": "code",
   "execution_count": 60,
   "id": "cf578faa",
   "metadata": {},
   "outputs": [
    {
     "data": {
      "text/plain": [
       "{'Minsk': 11083,\n",
       " 'Novosibirsk': 4587,\n",
       " 'Moscow': 135236,\n",
       " 'Kazan': 25336,\n",
       " 'Saint-Petersburg': 9532}"
      ]
     },
     "execution_count": 60,
     "metadata": {},
     "output_type": "execute_result"
    }
   ],
   "source": [
    "b2"
   ]
  },
  {
   "cell_type": "markdown",
   "id": "cd1a9fdc",
   "metadata": {},
   "source": [
    "Таким образом можно объеденить 2 и более словарей"
   ]
  },
  {
   "cell_type": "markdown",
   "id": "2fb9999c",
   "metadata": {},
   "source": [
    "Начиная с версии 3.9 можно объединять словари и таким способом:"
   ]
  },
  {
   "cell_type": "code",
   "execution_count": 61,
   "id": "eef32313",
   "metadata": {},
   "outputs": [
    {
     "data": {
      "text/plain": [
       "{'Moscow': 135236,\n",
       " 'Kazan': 25336,\n",
       " 'Minsk': 11083,\n",
       " 'Saint-Petersburg': 9532,\n",
       " 'Novosibirsk': 4587}"
      ]
     },
     "execution_count": 61,
     "metadata": {},
     "output_type": "execute_result"
    }
   ],
   "source": [
    "a1 | a2"
   ]
  },
  {
   "cell_type": "markdown",
   "id": "ccbd146f",
   "metadata": {},
   "source": [
    "И такая запись будет по функционалу идентична предыдущей"
   ]
  }
 ],
 "metadata": {
  "kernelspec": {
   "display_name": "Python 3 (ipykernel)",
   "language": "python",
   "name": "python3"
  },
  "language_info": {
   "codemirror_mode": {
    "name": "ipython",
    "version": 3
   },
   "file_extension": ".py",
   "mimetype": "text/x-python",
   "name": "python",
   "nbconvert_exporter": "python",
   "pygments_lexer": "ipython3",
   "version": "3.9.13"
  }
 },
 "nbformat": 4,
 "nbformat_minor": 5
}

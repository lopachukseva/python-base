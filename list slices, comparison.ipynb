{
 "cells": [
  {
   "cell_type": "markdown",
   "id": "af202301",
   "metadata": {},
   "source": [
    "## Срезы"
   ]
  },
  {
   "cell_type": "markdown",
   "id": "0b213d08",
   "metadata": {},
   "source": [
    "Срезы помогают выделять наборы элементов и работают так же, как и в строках следующему синтаксису:\n",
    "- list[start:stop:step]"
   ]
  },
  {
   "cell_type": "markdown",
   "id": "ce7a7752",
   "metadata": {},
   "source": [
    "start - индекс начального элемента (по умолчанию - от начала), stop - индекс конечного элемента (не включается в срез, по умолчанию - до конца), step - шаг (по умолчанию - 1). Значение по умолчанию применяется, если его не указывать:"
   ]
  },
  {
   "cell_type": "code",
   "execution_count": 1,
   "id": "d4996c54",
   "metadata": {},
   "outputs": [],
   "source": [
    "a = [11, 1, 2, 4, 6, -9, 0, 3]"
   ]
  },
  {
   "cell_type": "markdown",
   "id": "10fb1c7f",
   "metadata": {},
   "source": [
    "Срез начиная с элемента с индексом 1 и до конца:"
   ]
  },
  {
   "cell_type": "code",
   "execution_count": 2,
   "id": "f67d9f12",
   "metadata": {},
   "outputs": [
    {
     "data": {
      "text/plain": [
       "[1, 2, 4, 6, -9, 0, 3]"
      ]
     },
     "execution_count": 2,
     "metadata": {},
     "output_type": "execute_result"
    }
   ],
   "source": [
    "a[1:]"
   ]
  },
  {
   "cell_type": "markdown",
   "id": "a07d1ade",
   "metadata": {},
   "source": [
    "Срез начиная с элемента с индексом 1 и до элемента с идексом 5(не включая):"
   ]
  },
  {
   "cell_type": "code",
   "execution_count": 3,
   "id": "bbda8901",
   "metadata": {
    "scrolled": false
   },
   "outputs": [
    {
     "data": {
      "text/plain": [
       "[1, 2, 4, 6]"
      ]
     },
     "execution_count": 3,
     "metadata": {},
     "output_type": "execute_result"
    }
   ],
   "source": [
    "a[1:5]"
   ]
  },
  {
   "cell_type": "markdown",
   "id": "cc863407",
   "metadata": {},
   "source": [
    "Срез от начала до конца, но только каждый второй элемент (0, 2, 4, 6, 8....)"
   ]
  },
  {
   "cell_type": "code",
   "execution_count": 4,
   "id": "752ef4c8",
   "metadata": {},
   "outputs": [
    {
     "data": {
      "text/plain": [
       "[11, 2, 6, 0]"
      ]
     },
     "execution_count": 4,
     "metadata": {},
     "output_type": "execute_result"
    }
   ],
   "source": [
    "a[::2]"
   ]
  },
  {
   "cell_type": "markdown",
   "id": "627cc0c5",
   "metadata": {},
   "source": [
    "Каждый третий начиная с 2:"
   ]
  },
  {
   "cell_type": "code",
   "execution_count": 5,
   "id": "4ca6b6ad",
   "metadata": {
    "scrolled": true
   },
   "outputs": [
    {
     "data": {
      "text/plain": [
       "[2, -9]"
      ]
     },
     "execution_count": 5,
     "metadata": {},
     "output_type": "execute_result"
    }
   ],
   "source": [
    "a[2::3]"
   ]
  },
  {
   "cell_type": "markdown",
   "id": "560d55c7",
   "metadata": {},
   "source": [
    "Так же, как и со строками, возможно использование отрицательных индексов. Каждый второй с конца:"
   ]
  },
  {
   "cell_type": "code",
   "execution_count": 6,
   "id": "8df75226",
   "metadata": {},
   "outputs": [
    {
     "data": {
      "text/plain": [
       "[3, -9, 4, 1]"
      ]
     },
     "execution_count": 6,
     "metadata": {},
     "output_type": "execute_result"
    }
   ],
   "source": [
    "a[::-2]"
   ]
  },
  {
   "cell_type": "markdown",
   "id": "684be6c8",
   "metadata": {},
   "source": [
    "Каждый второй с конца до шестого с конца:"
   ]
  },
  {
   "cell_type": "code",
   "execution_count": 7,
   "id": "be66a4d3",
   "metadata": {},
   "outputs": [
    {
     "data": {
      "text/plain": [
       "[3, -9, 4]"
      ]
     },
     "execution_count": 7,
     "metadata": {},
     "output_type": "execute_result"
    }
   ],
   "source": [
    "a[:-6:-2]"
   ]
  },
  {
   "cell_type": "markdown",
   "id": "86b54ed7",
   "metadata": {},
   "source": [
    "С помощью срезов получается новый список, который не зависит от первоначального. Если не указывать ни начальный, не конечный индекс, это будет копия первоначального списка:"
   ]
  },
  {
   "cell_type": "code",
   "execution_count": 8,
   "id": "132af6dd",
   "metadata": {},
   "outputs": [],
   "source": [
    "b = a[:]"
   ]
  },
  {
   "cell_type": "markdown",
   "id": "fb41205d",
   "metadata": {},
   "source": [
    "Т.е. эти переменные ссылаются на разные списки:"
   ]
  },
  {
   "cell_type": "code",
   "execution_count": 9,
   "id": "dce7a5a7",
   "metadata": {},
   "outputs": [
    {
     "data": {
      "text/plain": [
       "(1441348144576, 1441348080128)"
      ]
     },
     "execution_count": 9,
     "metadata": {},
     "output_type": "execute_result"
    }
   ],
   "source": [
    "id(a), id(b)"
   ]
  },
  {
   "cell_type": "markdown",
   "id": "5211bf48",
   "metadata": {},
   "source": [
    "Также копию списка можно сделать с помощью функции list:"
   ]
  },
  {
   "cell_type": "code",
   "execution_count": 10,
   "id": "0228f228",
   "metadata": {},
   "outputs": [
    {
     "data": {
      "text/plain": [
       "1441347311552"
      ]
     },
     "execution_count": 10,
     "metadata": {},
     "output_type": "execute_result"
    }
   ],
   "source": [
    "c = list(a)\n",
    "id(c)"
   ]
  },
  {
   "cell_type": "markdown",
   "id": "37b90adc",
   "metadata": {},
   "source": [
    "Операция присваивания копию списка не создает. Переменная будет ссылаться на тот же самый список:"
   ]
  },
  {
   "cell_type": "code",
   "execution_count": 11,
   "id": "402fccbd",
   "metadata": {},
   "outputs": [
    {
     "data": {
      "text/plain": [
       "True"
      ]
     },
     "execution_count": 11,
     "metadata": {},
     "output_type": "execute_result"
    }
   ],
   "source": [
    "e = a\n",
    "id(a) == id (e)"
   ]
  },
  {
   "cell_type": "markdown",
   "id": "bb05dcfa",
   "metadata": {},
   "source": [
    "В этом взаимодействие со списками ничем не отличается от строк. Но так как списки относятся к изменяемым типам данных, есть одно отличие: со срезами можно выполнять операцию по изменению группы элементов:\n",
    "list[start:stop] = new_list"
   ]
  },
  {
   "cell_type": "code",
   "execution_count": 12,
   "id": "6c701cd6",
   "metadata": {},
   "outputs": [],
   "source": [
    "m = [1, 2, 3, 4, 5, 6, 7]"
   ]
  },
  {
   "cell_type": "markdown",
   "id": "7477ca10",
   "metadata": {},
   "source": [
    "Второму и третьему значению в списке m будут присвоены значения word1 и word2 соответственно:"
   ]
  },
  {
   "cell_type": "code",
   "execution_count": 13,
   "id": "7dc7c495",
   "metadata": {},
   "outputs": [],
   "source": [
    "m[2:4] = [\"word1\", \"word2\"]"
   ]
  },
  {
   "cell_type": "code",
   "execution_count": 14,
   "id": "9241a369",
   "metadata": {},
   "outputs": [
    {
     "data": {
      "text/plain": [
       "[1, 2, 'word1', 'word2', 5, 6, 7]"
      ]
     },
     "execution_count": 14,
     "metadata": {},
     "output_type": "execute_result"
    }
   ],
   "source": [
    "m"
   ]
  },
  {
   "cell_type": "markdown",
   "id": "90424bd3",
   "metadata": {},
   "source": [
    "Или же каждому второму элементу присвоено значение 0:"
   ]
  },
  {
   "cell_type": "code",
   "execution_count": 18,
   "id": "1b3079c5",
   "metadata": {},
   "outputs": [],
   "source": [
    "m[::2] = [0, 0, 0, 0]"
   ]
  },
  {
   "cell_type": "code",
   "execution_count": 19,
   "id": "3369d261",
   "metadata": {},
   "outputs": [
    {
     "data": {
      "text/plain": [
       "[0, 2, 0, 'word2', 0, 6, 0]"
      ]
     },
     "execution_count": 19,
     "metadata": {},
     "output_type": "execute_result"
    }
   ],
   "source": [
    "m"
   ]
  },
  {
   "cell_type": "markdown",
   "id": "ef1e28bd",
   "metadata": {},
   "source": [
    "Но стоит обратить внимание, что количество новых значений должны быть равны величине среза."
   ]
  },
  {
   "cell_type": "markdown",
   "id": "176e84e2",
   "metadata": {},
   "source": [
    "Новые значения можно перечислить и через запятую:"
   ]
  },
  {
   "cell_type": "code",
   "execution_count": 20,
   "id": "fd0252d1",
   "metadata": {},
   "outputs": [],
   "source": [
    "m[2:6] = 10, 20, 30, 40, 50"
   ]
  },
  {
   "cell_type": "code",
   "execution_count": 21,
   "id": "70e06ed6",
   "metadata": {},
   "outputs": [
    {
     "data": {
      "text/plain": [
       "[0, 2, 10, 20, 30, 40, 50, 0]"
      ]
     },
     "execution_count": 21,
     "metadata": {},
     "output_type": "execute_result"
    }
   ],
   "source": [
    "m"
   ]
  },
  {
   "cell_type": "markdown",
   "id": "6780af2c",
   "metadata": {},
   "source": [
    "### Сравнение списков"
   ]
  },
  {
   "cell_type": "code",
   "execution_count": 22,
   "id": "ddbc990f",
   "metadata": {},
   "outputs": [
    {
     "data": {
      "text/plain": [
       "True"
      ]
     },
     "execution_count": 22,
     "metadata": {},
     "output_type": "execute_result"
    }
   ],
   "source": [
    "[4, 5, 6] == [4, 5, 6]"
   ]
  },
  {
   "cell_type": "code",
   "execution_count": 29,
   "id": "5bec9400",
   "metadata": {},
   "outputs": [
    {
     "data": {
      "text/plain": [
       "True"
      ]
     },
     "execution_count": 29,
     "metadata": {},
     "output_type": "execute_result"
    }
   ],
   "source": [
    "[40, 5, 6] > [4, 5, 6, 100]"
   ]
  },
  {
   "cell_type": "markdown",
   "id": "dbd640ac",
   "metadata": {},
   "source": [
    "Списки сравниваются подобно строкам: сначала сравниваются первые элементы, затем вторые, третьи и так далее. Как только встречаются элементы, которые не равны друг другу, алгоритм останавливается и появляется ответ. Равны только те строки, что полностью поэлементно совпадают."
   ]
  },
  {
   "cell_type": "markdown",
   "id": "2def6684",
   "metadata": {},
   "source": [
    "При всех прочих равных элементах больше тот, у которого больше элементов:"
   ]
  },
  {
   "cell_type": "code",
   "execution_count": 32,
   "id": "28c135f6",
   "metadata": {},
   "outputs": [
    {
     "data": {
      "text/plain": [
       "True"
      ]
     },
     "execution_count": 32,
     "metadata": {},
     "output_type": "execute_result"
    }
   ],
   "source": [
    "[1, 2, 3, 4] > [1, 2, 3]"
   ]
  },
  {
   "cell_type": "markdown",
   "id": "ff642a7e",
   "metadata": {},
   "source": [
    "Но нужно помнить, что сравнение строк и чисел невозможно, и подобная операция вызовет ошибку:"
   ]
  },
  {
   "cell_type": "code",
   "execution_count": 34,
   "id": "2051974b",
   "metadata": {},
   "outputs": [],
   "source": [
    "# [1, 2, 3, 4] > [1, 2, 3, \"abc\"]"
   ]
  }
 ],
 "metadata": {
  "kernelspec": {
   "display_name": "Python 3 (ipykernel)",
   "language": "python",
   "name": "python3"
  },
  "language_info": {
   "codemirror_mode": {
    "name": "ipython",
    "version": 3
   },
   "file_extension": ".py",
   "mimetype": "text/x-python",
   "name": "python",
   "nbconvert_exporter": "python",
   "pygments_lexer": "ipython3",
   "version": "3.9.13"
  }
 },
 "nbformat": 4,
 "nbformat_minor": 5
}

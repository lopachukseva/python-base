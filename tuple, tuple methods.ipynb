{
 "cells": [
  {
   "cell_type": "markdown",
   "id": "ab1c4e22",
   "metadata": {},
   "source": [
    "## Кортежи"
   ]
  },
  {
   "cell_type": "markdown",
   "id": "724ace0f",
   "metadata": {},
   "source": [
    "Кортеж - упорядоченная, но неизменяемая коллекция производных данных. В целом они аналогичны спискам, но в отличие от них элементы кортежей изменять нельзя."
   ]
  },
  {
   "cell_type": "markdown",
   "id": "5c1c4dc0",
   "metadata": {},
   "source": [
    "Если переменной a присвоить данные в таком виде:"
   ]
  },
  {
   "cell_type": "code",
   "execution_count": 1,
   "id": "f685d7e5",
   "metadata": {},
   "outputs": [],
   "source": [
    "a = 1, 2"
   ]
  },
  {
   "cell_type": "markdown",
   "id": "b29b064a",
   "metadata": {},
   "source": [
    "То они будут восприниматься как кортеж:"
   ]
  },
  {
   "cell_type": "code",
   "execution_count": 2,
   "id": "82264004",
   "metadata": {},
   "outputs": [
    {
     "data": {
      "text/plain": [
       "tuple"
      ]
     },
     "execution_count": 2,
     "metadata": {},
     "output_type": "execute_result"
    }
   ],
   "source": [
    "type(a)"
   ]
  },
  {
   "cell_type": "markdown",
   "id": "b5f17f3c",
   "metadata": {},
   "source": [
    "Отображается через круглые скобки:"
   ]
  },
  {
   "cell_type": "code",
   "execution_count": 3,
   "id": "0a376d9b",
   "metadata": {},
   "outputs": [
    {
     "data": {
      "text/plain": [
       "(1, 2)"
      ]
     },
     "execution_count": 3,
     "metadata": {},
     "output_type": "execute_result"
    }
   ],
   "source": [
    "a"
   ]
  },
  {
   "cell_type": "markdown",
   "id": "a4235c5a",
   "metadata": {},
   "source": [
    "Кортежи задаются и отображаются через круглые скобки:"
   ]
  },
  {
   "cell_type": "code",
   "execution_count": 4,
   "id": "42cd7f24",
   "metadata": {},
   "outputs": [],
   "source": [
    "b = (1, 2, 3, 2)"
   ]
  },
  {
   "cell_type": "code",
   "execution_count": 5,
   "id": "6a40fe93",
   "metadata": {},
   "outputs": [
    {
     "name": "stdout",
     "output_type": "stream",
     "text": [
      "(1, 2, 3, 2) <class 'tuple'>\n"
     ]
    }
   ],
   "source": [
    "print(b, type(b))"
   ]
  },
  {
   "cell_type": "markdown",
   "id": "a7b2e4ab",
   "metadata": {},
   "source": [
    "Если нужно задать кортеж, состоящий из одного элемента, нужно после этого элемента поставить запятую:"
   ]
  },
  {
   "cell_type": "code",
   "execution_count": 6,
   "id": "2fcc4fc5",
   "metadata": {},
   "outputs": [],
   "source": [
    "c = (1, )"
   ]
  },
  {
   "cell_type": "code",
   "execution_count": 7,
   "id": "6f0ef1a1",
   "metadata": {},
   "outputs": [
    {
     "name": "stdout",
     "output_type": "stream",
     "text": [
      "(1,) <class 'tuple'>\n"
     ]
    }
   ],
   "source": [
    "print(c, type(c))"
   ]
  },
  {
   "cell_type": "code",
   "execution_count": 8,
   "id": "9a58aafe",
   "metadata": {},
   "outputs": [
    {
     "name": "stdout",
     "output_type": "stream",
     "text": [
      "(1,) <class 'tuple'>\n"
     ]
    }
   ],
   "source": [
    "d = 1, \n",
    "print(d, type(d))"
   ]
  },
  {
   "cell_type": "markdown",
   "id": "4e471b95",
   "metadata": {},
   "source": [
    "Если есть какой либо кортеж, то его можно сразу распаковать в отдельные переменные:"
   ]
  },
  {
   "cell_type": "code",
   "execution_count": 9,
   "id": "af6c1109",
   "metadata": {},
   "outputs": [
    {
     "name": "stdout",
     "output_type": "stream",
     "text": [
      "-4 5\n"
     ]
    }
   ],
   "source": [
    "x, y = (-4, 5)\n",
    "print(x, y)"
   ]
  },
  {
   "cell_type": "code",
   "execution_count": 10,
   "id": "0713801c",
   "metadata": {
    "scrolled": true
   },
   "outputs": [
    {
     "name": "stdout",
     "output_type": "stream",
     "text": [
      "3 2\n"
     ]
    }
   ],
   "source": [
    "e = (3, 2)\n",
    "x, y = e\n",
    "print(x, y)"
   ]
  },
  {
   "cell_type": "code",
   "execution_count": 11,
   "id": "cece1c1f",
   "metadata": {},
   "outputs": [
    {
     "name": "stdout",
     "output_type": "stream",
     "text": [
      "1 6 -2\n"
     ]
    }
   ],
   "source": [
    "x, y, z = 1, 6, -2\n",
    "print(x, y, z)"
   ]
  },
  {
   "cell_type": "markdown",
   "id": "71e5ec43",
   "metadata": {},
   "source": [
    "Главное, чтобы число переменных и число элементов кортежа совпадало. Это похоже на синтаксис множественного присваивания. То же самое можно делать и со списками:"
   ]
  },
  {
   "cell_type": "code",
   "execution_count": 12,
   "id": "b60771b1",
   "metadata": {},
   "outputs": [
    {
     "name": "stdout",
     "output_type": "stream",
     "text": [
      "string1 string2\n"
     ]
    }
   ],
   "source": [
    "s1, s2 = ['string1', 'string2']\n",
    "\n",
    "print(s1, s2)"
   ]
  },
  {
   "cell_type": "markdown",
   "id": "a0429c4a",
   "metadata": {},
   "source": [
    "И со строками:"
   ]
  },
  {
   "cell_type": "code",
   "execution_count": 13,
   "id": "2e4acd1b",
   "metadata": {},
   "outputs": [],
   "source": [
    "f1, f2 = \"ra\""
   ]
  },
  {
   "cell_type": "code",
   "execution_count": 14,
   "id": "1a6f076b",
   "metadata": {},
   "outputs": [
    {
     "name": "stdout",
     "output_type": "stream",
     "text": [
      "r a\n"
     ]
    }
   ],
   "source": [
    "print(f1, f2)"
   ]
  },
  {
   "cell_type": "markdown",
   "id": "9b585d14",
   "metadata": {},
   "source": [
    "### Число элементов в кортеже"
   ]
  },
  {
   "cell_type": "code",
   "execution_count": 15,
   "id": "3adf99e5",
   "metadata": {},
   "outputs": [],
   "source": [
    "a = (9, 1, 2)"
   ]
  },
  {
   "cell_type": "code",
   "execution_count": 16,
   "id": "a09bac51",
   "metadata": {},
   "outputs": [
    {
     "data": {
      "text/plain": [
       "3"
      ]
     },
     "execution_count": 16,
     "metadata": {},
     "output_type": "execute_result"
    }
   ],
   "source": [
    "len(a)"
   ]
  },
  {
   "cell_type": "markdown",
   "id": "4447c4b9",
   "metadata": {},
   "source": [
    "Индексирование и обращение по индексу - аналогично спискам:"
   ]
  },
  {
   "cell_type": "code",
   "execution_count": 17,
   "id": "3f44c25c",
   "metadata": {},
   "outputs": [
    {
     "data": {
      "text/plain": [
       "(9, 1, 2)"
      ]
     },
     "execution_count": 17,
     "metadata": {},
     "output_type": "execute_result"
    }
   ],
   "source": [
    "a"
   ]
  },
  {
   "cell_type": "code",
   "execution_count": 18,
   "id": "a5538ff3",
   "metadata": {},
   "outputs": [
    {
     "data": {
      "text/plain": [
       "9"
      ]
     },
     "execution_count": 18,
     "metadata": {},
     "output_type": "execute_result"
    }
   ],
   "source": [
    "a[0]"
   ]
  },
  {
   "cell_type": "code",
   "execution_count": 19,
   "id": "19fb8fd6",
   "metadata": {},
   "outputs": [
    {
     "data": {
      "text/plain": [
       "1"
      ]
     },
     "execution_count": 19,
     "metadata": {},
     "output_type": "execute_result"
    }
   ],
   "source": [
    "a[1]"
   ]
  },
  {
   "cell_type": "markdown",
   "id": "4e0815ce",
   "metadata": {},
   "source": [
    "Срезы - аналогично спискам (кроме полного среза):"
   ]
  },
  {
   "cell_type": "code",
   "execution_count": 20,
   "id": "90f90468",
   "metadata": {},
   "outputs": [],
   "source": [
    "a = (8, 4, 2, 3, 5, 4)"
   ]
  },
  {
   "cell_type": "code",
   "execution_count": 21,
   "id": "ceddf648",
   "metadata": {},
   "outputs": [
    {
     "data": {
      "text/plain": [
       "(4, 2, 3)"
      ]
     },
     "execution_count": 21,
     "metadata": {},
     "output_type": "execute_result"
    }
   ],
   "source": [
    "a[1:4]"
   ]
  },
  {
   "cell_type": "code",
   "execution_count": 22,
   "id": "eb62f3c1",
   "metadata": {},
   "outputs": [
    {
     "data": {
      "text/plain": [
       "(4, 3)"
      ]
     },
     "execution_count": 22,
     "metadata": {},
     "output_type": "execute_result"
    }
   ],
   "source": [
    "a[1:4:2]"
   ]
  },
  {
   "cell_type": "markdown",
   "id": "5e287e6e",
   "metadata": {},
   "source": [
    "Полный срез не создает копию, т.е. обе переменные будут ссылаться на один и тот же объект:"
   ]
  },
  {
   "cell_type": "code",
   "execution_count": 23,
   "id": "f2332f2e",
   "metadata": {},
   "outputs": [
    {
     "data": {
      "text/plain": [
       "True"
      ]
     },
     "execution_count": 23,
     "metadata": {},
     "output_type": "execute_result"
    }
   ],
   "source": [
    "b = a[:]\n",
    "id(a) == id(b)"
   ]
  },
  {
   "cell_type": "markdown",
   "id": "2be7a50c",
   "metadata": {},
   "source": [
    "В целом кортежи имеют меньший функционал, и списки имеют те же возможности (и даже больше). Но главное отличие - то, что кортежи относятся к неизменяемым типам данных. Это важно, когда необходимо запретить редактировать значения элементов. Или же из-за этой особенности можно использовать кортежи в качестве ключей в словаре:"
   ]
  },
  {
   "cell_type": "code",
   "execution_count": 24,
   "id": "a68cc87f",
   "metadata": {},
   "outputs": [
    {
     "data": {
      "text/plain": [
       "{(8, 4, 2, 3, 5, 4): 'кортеж'}"
      ]
     },
     "execution_count": 24,
     "metadata": {},
     "output_type": "execute_result"
    }
   ],
   "source": [
    "d = {a:'кортеж'}\n",
    "d"
   ]
  },
  {
   "cell_type": "markdown",
   "id": "505a21ce",
   "metadata": {},
   "source": [
    "Также кортеж занимает меньше памяти, чем аналогичный список:"
   ]
  },
  {
   "cell_type": "code",
   "execution_count": 25,
   "id": "072621bb",
   "metadata": {},
   "outputs": [
    {
     "data": {
      "text/plain": [
       "(48, 104)"
      ]
     },
     "execution_count": 25,
     "metadata": {},
     "output_type": "execute_result"
    }
   ],
   "source": [
    "a = (1, 2, 3)\n",
    "b = [1, 2, 3]\n",
    "\n",
    "a.__sizeof__(), b.__sizeof__()"
   ]
  },
  {
   "cell_type": "markdown",
   "id": "835fb576",
   "metadata": {},
   "source": [
    "Поэтому если ведется работа с неизменяемым упорядоченным списком, предпочтительнее использовать кортежи"
   ]
  },
  {
   "cell_type": "markdown",
   "id": "a1a89101",
   "metadata": {},
   "source": [
    "Пустой кортеж:"
   ]
  },
  {
   "cell_type": "code",
   "execution_count": 26,
   "id": "5f481555",
   "metadata": {},
   "outputs": [],
   "source": [
    "a = ()"
   ]
  },
  {
   "cell_type": "markdown",
   "id": "bb138135",
   "metadata": {},
   "source": [
    "Или с помощью функции tuple:"
   ]
  },
  {
   "cell_type": "code",
   "execution_count": 27,
   "id": "708e871d",
   "metadata": {},
   "outputs": [],
   "source": [
    "b = tuple()"
   ]
  },
  {
   "cell_type": "markdown",
   "id": "c04bbf1e",
   "metadata": {},
   "source": [
    "Объединение двух кортежей:"
   ]
  },
  {
   "cell_type": "code",
   "execution_count": 28,
   "id": "56c13482",
   "metadata": {},
   "outputs": [],
   "source": [
    "a = a + (1, )"
   ]
  },
  {
   "cell_type": "code",
   "execution_count": 29,
   "id": "767aeec2",
   "metadata": {},
   "outputs": [
    {
     "data": {
      "text/plain": [
       "(1,)"
      ]
     },
     "execution_count": 29,
     "metadata": {},
     "output_type": "execute_result"
    }
   ],
   "source": [
    "a"
   ]
  },
  {
   "cell_type": "markdown",
   "id": "8ba27730",
   "metadata": {},
   "source": [
    "Здесь кортеж не расширяется (т.к. неизменяемый тип), а создается новый"
   ]
  },
  {
   "cell_type": "code",
   "execution_count": 30,
   "id": "07cd125e",
   "metadata": {},
   "outputs": [],
   "source": [
    "a += (2,)"
   ]
  },
  {
   "cell_type": "code",
   "execution_count": 31,
   "id": "5182ac87",
   "metadata": {},
   "outputs": [
    {
     "data": {
      "text/plain": [
       "(1, 2)"
      ]
     },
     "execution_count": 31,
     "metadata": {},
     "output_type": "execute_result"
    }
   ],
   "source": [
    "a"
   ]
  },
  {
   "cell_type": "code",
   "execution_count": 32,
   "id": "4771c277",
   "metadata": {},
   "outputs": [],
   "source": [
    "b = (0, ) * 10"
   ]
  },
  {
   "cell_type": "code",
   "execution_count": 33,
   "id": "c59be257",
   "metadata": {},
   "outputs": [
    {
     "data": {
      "text/plain": [
       "(0, 0, 0, 0, 0, 0, 0, 0, 0, 0)"
      ]
     },
     "execution_count": 33,
     "metadata": {},
     "output_type": "execute_result"
    }
   ],
   "source": [
    "b"
   ]
  },
  {
   "cell_type": "code",
   "execution_count": 34,
   "id": "cafd1ecc",
   "metadata": {},
   "outputs": [
    {
     "data": {
      "text/plain": [
       "('hello', 'world', 'hello', 'world', 'hello', 'world')"
      ]
     },
     "execution_count": 34,
     "metadata": {},
     "output_type": "execute_result"
    }
   ],
   "source": [
    "b = ('hello', 'world') * 3\n",
    "b"
   ]
  },
  {
   "cell_type": "markdown",
   "id": "271651ca",
   "metadata": {},
   "source": [
    "Изменять/удалять уже существующие элементы - нельзя"
   ]
  },
  {
   "cell_type": "markdown",
   "id": "c9818676",
   "metadata": {},
   "source": [
    "### tuple"
   ]
  },
  {
   "cell_type": "markdown",
   "id": "1dea7986",
   "metadata": {},
   "source": [
    "В функцию tuple, которая возвращает кортеж, на вход в качестве аргумента можно передать любой итерируемый объект:"
   ]
  },
  {
   "cell_type": "code",
   "execution_count": 35,
   "id": "3aa7285f",
   "metadata": {},
   "outputs": [
    {
     "data": {
      "text/plain": [
       "(1, 2, 3, 4)"
      ]
     },
     "execution_count": 35,
     "metadata": {},
     "output_type": "execute_result"
    }
   ],
   "source": [
    "a = tuple([1, 2, 3, 4])\n",
    "a"
   ]
  },
  {
   "cell_type": "code",
   "execution_count": 36,
   "id": "3afd72a8",
   "metadata": {},
   "outputs": [
    {
     "data": {
      "text/plain": [
       "('s', 't', 'r', 'i', 'n', 'g')"
      ]
     },
     "execution_count": 36,
     "metadata": {},
     "output_type": "execute_result"
    }
   ],
   "source": [
    "a = tuple('string')\n",
    "a"
   ]
  },
  {
   "cell_type": "code",
   "execution_count": 37,
   "id": "e8d3f76a",
   "metadata": {},
   "outputs": [
    {
     "data": {
      "text/plain": [
       "(0, 1, 2, 3, 4, 5, 6, 7, 8, 9)"
      ]
     },
     "execution_count": 37,
     "metadata": {},
     "output_type": "execute_result"
    }
   ],
   "source": [
    "a = tuple(range(10))\n",
    "a"
   ]
  },
  {
   "cell_type": "markdown",
   "id": "7d258ce2",
   "metadata": {},
   "source": [
    "И кортеж в список:"
   ]
  },
  {
   "cell_type": "code",
   "execution_count": 38,
   "id": "b5f10c69",
   "metadata": {},
   "outputs": [
    {
     "data": {
      "text/plain": [
       "[0, 1, 2, 3, 4, 5, 6, 7, 8, 9]"
      ]
     },
     "execution_count": 38,
     "metadata": {},
     "output_type": "execute_result"
    }
   ],
   "source": [
    "list(a)"
   ]
  },
  {
   "cell_type": "markdown",
   "id": "ea36d6b4",
   "metadata": {},
   "source": [
    "Элементы кортежа могут быть самых разных типов: числа, строки, булевые значения, словари, списки и т.д.:"
   ]
  },
  {
   "cell_type": "code",
   "execution_count": 39,
   "id": "5898d8e7",
   "metadata": {},
   "outputs": [
    {
     "data": {
      "text/plain": [
       "(54, 'string', True, {'key': 'value', 'key2': 'value2'}, [4, 5, 2, 3])"
      ]
     },
     "execution_count": 39,
     "metadata": {},
     "output_type": "execute_result"
    }
   ],
   "source": [
    "f = (54, 'string', True, {'key': 'value', 'key2': 'value2'}, [4, 5, 2, 3])\n",
    "f"
   ]
  },
  {
   "cell_type": "code",
   "execution_count": 40,
   "id": "85dd0683",
   "metadata": {},
   "outputs": [
    {
     "data": {
      "text/plain": [
       "[4, 5, 2, 3]"
      ]
     },
     "execution_count": 40,
     "metadata": {},
     "output_type": "execute_result"
    }
   ],
   "source": [
    "f[-1]"
   ]
  },
  {
   "cell_type": "markdown",
   "id": "733675bc",
   "metadata": {},
   "source": [
    "Так как список - изменяемое значение, его можно изменить даже не смотря на то, что он находится в неизменяемом - в кортеже:"
   ]
  },
  {
   "cell_type": "code",
   "execution_count": 41,
   "id": "605bce54",
   "metadata": {},
   "outputs": [
    {
     "name": "stdout",
     "output_type": "stream",
     "text": [
      "[24, 5, 2, 3, 'new value']\n",
      "(54, 'string', True, {'key': 'value', 'key2': 'value2'}, [24, 5, 2, 3, 'new value'])\n"
     ]
    }
   ],
   "source": [
    "f[-1].append('new value')\n",
    "f[-1][0] += 20\n",
    "print(f[-1], f, sep=\"\\n\")"
   ]
  },
  {
   "cell_type": "markdown",
   "id": "37b21513",
   "metadata": {},
   "source": [
    "Изменяемые типы данных в кортеже можно менять. Т.е. неизменными к кортежах являются ссылки на объекты, а сами объекты, если они это поддерживают, можно изменять"
   ]
  },
  {
   "cell_type": "markdown",
   "id": "2f8b2c4e",
   "metadata": {},
   "source": [
    "### count"
   ]
  },
  {
   "cell_type": "markdown",
   "id": "4d2a2b5c",
   "metadata": {},
   "source": [
    "Метод count возвращает число элементов с найденным значением:"
   ]
  },
  {
   "cell_type": "code",
   "execution_count": 42,
   "id": "5a88f68e",
   "metadata": {},
   "outputs": [],
   "source": [
    "tu = (9, 8, 4, 1, 1, 9, 4, 2, 4, 4, 9, 8)"
   ]
  },
  {
   "cell_type": "code",
   "execution_count": 43,
   "id": "3d05da1c",
   "metadata": {},
   "outputs": [
    {
     "data": {
      "text/plain": [
       "3"
      ]
     },
     "execution_count": 43,
     "metadata": {},
     "output_type": "execute_result"
    }
   ],
   "source": [
    "tu.count(9)"
   ]
  },
  {
   "cell_type": "code",
   "execution_count": 44,
   "id": "82a2478a",
   "metadata": {},
   "outputs": [
    {
     "data": {
      "text/plain": [
       "4"
      ]
     },
     "execution_count": 44,
     "metadata": {},
     "output_type": "execute_result"
    }
   ],
   "source": [
    "tu.count(4)"
   ]
  },
  {
   "cell_type": "markdown",
   "id": "37c96226",
   "metadata": {},
   "source": [
    "### index"
   ]
  },
  {
   "cell_type": "markdown",
   "id": "616c3b95",
   "metadata": {},
   "source": [
    "Метод index возвращает индекс первого найденного элемента с указанным значением (+ есть необязательные параметры start и stop, которые являются индексами начала и конца поиска):"
   ]
  },
  {
   "cell_type": "code",
   "execution_count": 45,
   "id": "9869f644",
   "metadata": {},
   "outputs": [
    {
     "data": {
      "text/plain": [
       "0"
      ]
     },
     "execution_count": 45,
     "metadata": {},
     "output_type": "execute_result"
    }
   ],
   "source": [
    "tu.index(9)"
   ]
  },
  {
   "cell_type": "code",
   "execution_count": 46,
   "id": "8247b363",
   "metadata": {},
   "outputs": [
    {
     "data": {
      "text/plain": [
       "5"
      ]
     },
     "execution_count": 46,
     "metadata": {},
     "output_type": "execute_result"
    }
   ],
   "source": [
    "tu.index(9, 1)"
   ]
  },
  {
   "cell_type": "code",
   "execution_count": 47,
   "id": "1e931892",
   "metadata": {},
   "outputs": [
    {
     "data": {
      "text/plain": [
       "10"
      ]
     },
     "execution_count": 47,
     "metadata": {},
     "output_type": "execute_result"
    }
   ],
   "source": [
    "tu.index(9, 6, -1)"
   ]
  },
  {
   "cell_type": "markdown",
   "id": "be3cf8f8",
   "metadata": {},
   "source": [
    "### in"
   ]
  },
  {
   "cell_type": "markdown",
   "id": "df220fcb",
   "metadata": {},
   "source": [
    "Оператор in проверяет вхождение того или иного значения в кортеж:"
   ]
  },
  {
   "cell_type": "code",
   "execution_count": 48,
   "id": "f84a97d5",
   "metadata": {},
   "outputs": [
    {
     "data": {
      "text/plain": [
       "True"
      ]
     },
     "execution_count": 48,
     "metadata": {},
     "output_type": "execute_result"
    }
   ],
   "source": [
    "9 in tu"
   ]
  },
  {
   "cell_type": "code",
   "execution_count": 49,
   "id": "8f3a9fa8",
   "metadata": {},
   "outputs": [
    {
     "data": {
      "text/plain": [
       "False"
      ]
     },
     "execution_count": 49,
     "metadata": {},
     "output_type": "execute_result"
    }
   ],
   "source": [
    "45 in tu"
   ]
  },
  {
   "cell_type": "markdown",
   "id": "d2f881a2",
   "metadata": {},
   "source": [
    "True - входит, False - не входит"
   ]
  }
 ],
 "metadata": {
  "kernelspec": {
   "display_name": "Python 3 (ipykernel)",
   "language": "python",
   "name": "python3"
  },
  "language_info": {
   "codemirror_mode": {
    "name": "ipython",
    "version": 3
   },
   "file_extension": ".py",
   "mimetype": "text/x-python",
   "name": "python",
   "nbconvert_exporter": "python",
   "pygments_lexer": "ipython3",
   "version": "3.9.13"
  }
 },
 "nbformat": 4,
 "nbformat_minor": 5
}

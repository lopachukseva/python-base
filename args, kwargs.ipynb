{
 "cells": [
  {
   "cell_type": "markdown",
   "id": "403d5fee",
   "metadata": {},
   "source": [
    "Функции можно передавать произвольное количество параметров. Например, подобным образом работает встроенная функция max:"
   ]
  },
  {
   "cell_type": "code",
   "execution_count": 1,
   "id": "3c6e4026",
   "metadata": {},
   "outputs": [
    {
     "data": {
      "text/plain": [
       "11"
      ]
     },
     "execution_count": 1,
     "metadata": {},
     "output_type": "execute_result"
    }
   ],
   "source": [
    "max(10, 3, 9, 11, 4)"
   ]
  },
  {
   "cell_type": "markdown",
   "id": "17007cd2",
   "metadata": {},
   "source": [
    "Предположим, нужно написать функцию, которая будет принимать произвольное количество строк, а возвращать - адрес. Для начала нужно посмотреть, как работает этот механизм. Для передачи произвольного числа параметров перед именем переменной нужно поставить символ звездочки. В теле функции функция print будет выводить все в консоль:"
   ]
  },
  {
   "cell_type": "code",
   "execution_count": 2,
   "id": "39c98e00",
   "metadata": {},
   "outputs": [],
   "source": [
    "def os_path(*args):\n",
    "    print(args)"
   ]
  },
  {
   "cell_type": "markdown",
   "id": "f16d4c33",
   "metadata": {},
   "source": [
    "Вызовем функцию, передав ей произвольное число параметров:"
   ]
  },
  {
   "cell_type": "code",
   "execution_count": 3,
   "id": "9909447e",
   "metadata": {},
   "outputs": [
    {
     "name": "stdout",
     "output_type": "stream",
     "text": [
      "('www', 'google', 'com')\n"
     ]
    }
   ],
   "source": [
    "os_path(\"www\", \"google\", \"com\")"
   ]
  },
  {
   "cell_type": "markdown",
   "id": "828c4745",
   "metadata": {},
   "source": [
    "И видим, что функция print выводит коллекцию, состоящую из переданных аргументов."
   ]
  },
  {
   "cell_type": "markdown",
   "id": "387bce37",
   "metadata": {},
   "source": [
    "Т.е. для того, чтобы функция принимала произвольное число аргументов, в ее объявлении достаточно прописать параметр, состоящий из звездочки и имени переменной. Эта переменная будет ссылаться на коллекцию из переданных аргументов."
   ]
  },
  {
   "cell_type": "markdown",
   "id": "0ebd583e",
   "metadata": {},
   "source": [
    "Звездочка - оператор упаковки аргументов."
   ]
  },
  {
   "cell_type": "markdown",
   "id": "de3ec3cc",
   "metadata": {},
   "source": [
    "В итоге функция, формирующая адрес, будет выглядеть следующим образом:"
   ]
  },
  {
   "cell_type": "code",
   "execution_count": 4,
   "id": "eb6d6a8b",
   "metadata": {},
   "outputs": [],
   "source": [
    "def os_path(*args):\n",
    "    path = \".\".join(args)\n",
    "    return path"
   ]
  },
  {
   "cell_type": "code",
   "execution_count": 5,
   "id": "b82be056",
   "metadata": {},
   "outputs": [
    {
     "name": "stdout",
     "output_type": "stream",
     "text": [
      "www.google.com\n"
     ]
    }
   ],
   "source": [
    "p = os_path(\"www\", \"google\", \"com\")\n",
    "print(p)"
   ]
  },
  {
   "cell_type": "markdown",
   "id": "ffb9bb08",
   "metadata": {},
   "source": [
    "Тип коллекции - кортеж:"
   ]
  },
  {
   "cell_type": "code",
   "execution_count": 6,
   "id": "800c6dce",
   "metadata": {},
   "outputs": [
    {
     "name": "stdout",
     "output_type": "stream",
     "text": [
      "('first', 'second') <class 'tuple'>\n"
     ]
    }
   ],
   "source": [
    "def pr_test(*args):\n",
    "    print(args, type(args))\n",
    "\n",
    "pr_test(\"first\", \"second\")"
   ]
  },
  {
   "cell_type": "markdown",
   "id": "102edab9",
   "metadata": {},
   "source": [
    "Но если вдруг нужно будет передать произвольное число параметров со значением по умолчанию (формальный параметр) в эту коллекцию, возникнет ошибка. Для передачи произвольного количества именованных параметров существует другой синтаксиc - перед именем параметра нужно написать две звездочки перед переменной, которая будет ссылаться на коллекцию, состоящую из именованных аргументов:"
   ]
  },
  {
   "cell_type": "code",
   "execution_count": 7,
   "id": "626abe8c",
   "metadata": {},
   "outputs": [],
   "source": [
    "def os_path(*args, **kwargs):\n",
    "    print(args, type(args))\n",
    "    print(kwargs, type(kwargs))"
   ]
  },
  {
   "cell_type": "code",
   "execution_count": 8,
   "id": "98e8d278",
   "metadata": {},
   "outputs": [
    {
     "name": "stdout",
     "output_type": "stream",
     "text": [
      "('first', 'second', 'third') <class 'tuple'>\n",
      "{'sep1': '.', 'sep2': '/'} <class 'dict'>\n"
     ]
    }
   ],
   "source": [
    "os_path(\"first\", \"second\", \"third\", sep1=\".\", sep2=\"/\")"
   ]
  },
  {
   "cell_type": "markdown",
   "id": "26c6975c",
   "metadata": {},
   "source": [
    "Коллекция kwargs представляет собой словарь, где ключи - имена аргументов, а значениями - значениями этих аргументов. "
   ]
  },
  {
   "cell_type": "markdown",
   "id": "7c627256",
   "metadata": {},
   "source": [
    "Наряду с этими коллекциями можно прописывать обычные и фактические параметры. Главное соблюдать порядок: сначала идут фактические параметры, затем коллекция args (коллекция фактических), затем формальные, и только после - коллекция kwargs (коллекция формальных):"
   ]
  },
  {
   "cell_type": "code",
   "execution_count": 9,
   "id": "e050d394",
   "metadata": {},
   "outputs": [
    {
     "name": "stdout",
     "output_type": "stream",
     "text": [
      "first <class 'str'>\n",
      "second <class 'str'>\n",
      "('froma1', 'froma2') <class 'tuple'>\n",
      "fifth <class 'str'>\n",
      "{'tkw1': 'from kw1', 'tkw2': 'fromkw2'} <class 'dict'>\n"
     ]
    }
   ],
   "source": [
    "def pr_test(a, b, *args, c = \"\", **kwargs):\n",
    "    print(a, type(a))\n",
    "    print(b, type(b))\n",
    "    print(args, type(args))\n",
    "    print(c, type(c))\n",
    "    print(kwargs, type(kwargs))\n",
    "\n",
    "pr_test(\"first\", \"second\", \"froma1\", \"froma2\", c = \"fifth\", tkw1=\"from kw1\", tkw2=\"fromkw2\")"
   ]
  },
  {
   "cell_type": "code",
   "execution_count": 10,
   "id": "717a4d93",
   "metadata": {},
   "outputs": [],
   "source": [
    "def pr_test(**kwargs):\n",
    "    if 'sep' in kwargs and kwargs['sep']:\n",
    "        print(\"аргумент sep был передан в функцию, и его значение - True\")\n",
    "    else: print(\"аргумент sep не был передан в функцию\")"
   ]
  },
  {
   "cell_type": "code",
   "execution_count": 11,
   "id": "ef151e4e",
   "metadata": {},
   "outputs": [
    {
     "name": "stdout",
     "output_type": "stream",
     "text": [
      "аргумент sep был передан в функцию, и его значение - True\n"
     ]
    }
   ],
   "source": [
    "pr_test(sep=True)"
   ]
  },
  {
   "cell_type": "code",
   "execution_count": 12,
   "id": "fcf945dd",
   "metadata": {},
   "outputs": [
    {
     "name": "stdout",
     "output_type": "stream",
     "text": [
      "аргумент sep не был передан в функцию\n"
     ]
    }
   ],
   "source": [
    "pr_test(sep=False)"
   ]
  }
 ],
 "metadata": {
  "kernelspec": {
   "display_name": "Python 3 (ipykernel)",
   "language": "python",
   "name": "python3"
  },
  "language_info": {
   "codemirror_mode": {
    "name": "ipython",
    "version": 3
   },
   "file_extension": ".py",
   "mimetype": "text/x-python",
   "name": "python",
   "nbconvert_exporter": "python",
   "pygments_lexer": "ipython3",
   "version": "3.9.13"
  }
 },
 "nbformat": 4,
 "nbformat_minor": 5
}

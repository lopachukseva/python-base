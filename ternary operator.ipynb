{
 "cells": [
  {
   "cell_type": "markdown",
   "id": "054e3800",
   "metadata": {},
   "source": [
    "## Тернарный условный оператор"
   ]
  },
  {
   "cell_type": "markdown",
   "id": "df415695",
   "metadata": {},
   "source": [
    "Синтаксис выглядит следующим образом: <значение1>if<условие>else<значение2>. Т.е. он возвращает значение1, если условие выполняется, и значение2, если не выполняется."
   ]
  },
  {
   "cell_type": "code",
   "execution_count": 6,
   "id": "1cae94e6",
   "metadata": {},
   "outputs": [
    {
     "name": "stdout",
     "output_type": "stream",
     "text": [
      "10\n"
     ]
    }
   ],
   "source": [
    "a = 2\n",
    "b = 10\n",
    "\n",
    "c = a if a > b else b\n",
    "\n",
    "print (c)"
   ]
  },
  {
   "cell_type": "code",
   "execution_count": 7,
   "id": "4273102e",
   "metadata": {},
   "outputs": [
    {
     "name": "stdout",
     "output_type": "stream",
     "text": [
      "1\n"
     ]
    }
   ],
   "source": [
    "x = 0\n",
    "y = 0 if x  == 1 else 1\n",
    "print(y)"
   ]
  },
  {
   "cell_type": "code",
   "execution_count": 10,
   "id": "b0adb0a7",
   "metadata": {},
   "outputs": [
    {
     "name": "stdout",
     "output_type": "stream",
     "text": [
      "r = -9\n",
      "9\n"
     ]
    }
   ],
   "source": [
    "r = int(input(\"r = \"))\n",
    "\n",
    "u = r if r>=0 else abs(r)\n",
    "\n",
    "print(u)"
   ]
  },
  {
   "cell_type": "markdown",
   "id": "8440745f",
   "metadata": {},
   "source": [
    "Тернарный оператор автоматически возвращает результат, тогда как обычный условный оператор выполняет блок кода по определенному условию, и сам по себе не возвращает каких либо значений. Также в тернарном операторе нет внутренних блоков, поэтому можно прописать только одну конструкцию"
   ]
  },
  {
   "cell_type": "markdown",
   "id": "36dbdb86",
   "metadata": {},
   "source": [
    "Тернарный условный оператор можно также рассматривать как активный элемент, например, часть списка:"
   ]
  },
  {
   "cell_type": "code",
   "execution_count": 13,
   "id": "75b4a5a6",
   "metadata": {},
   "outputs": [
    {
     "data": {
      "text/plain": [
       "[5, 6, 3, 9, 12, 0, 2]"
      ]
     },
     "execution_count": 13,
     "metadata": {},
     "output_type": "execute_result"
    }
   ],
   "source": [
    "a = 12\n",
    "b = 7\n",
    "\n",
    "list = [5, 6, 3, 9, a if a > b else b, 0, 2]\n",
    "\n",
    "list"
   ]
  },
  {
   "cell_type": "markdown",
   "id": "a8bf1332",
   "metadata": {},
   "source": [
    "или часть строки:"
   ]
  },
  {
   "cell_type": "code",
   "execution_count": 23,
   "id": "3db75f4c",
   "metadata": {
    "scrolled": true
   },
   "outputs": [
    {
     "name": "stdout",
     "output_type": "stream",
     "text": [
      "t = 2\n",
      "t - четное число\n"
     ]
    }
   ],
   "source": [
    "t = int(input(\"t = \"))\n",
    "print(f't - {\"четное\" if t % 2 == 0 else \"нечетное\"} число')"
   ]
  },
  {
   "cell_type": "markdown",
   "id": "98befe78",
   "metadata": {},
   "source": [
    "Также тернарные операторы можно вкладывать друг в друга. Но такие конструкции лучше избегать:"
   ]
  },
  {
   "cell_type": "code",
   "execution_count": 26,
   "id": "7aeb760a",
   "metadata": {},
   "outputs": [],
   "source": [
    "a = 4 if 4 > 2 else(8 if 6 < 3 else 7)"
   ]
  }
 ],
 "metadata": {
  "kernelspec": {
   "display_name": "Python 3 (ipykernel)",
   "language": "python",
   "name": "python3"
  },
  "language_info": {
   "codemirror_mode": {
    "name": "ipython",
    "version": 3
   },
   "file_extension": ".py",
   "mimetype": "text/x-python",
   "name": "python",
   "nbconvert_exporter": "python",
   "pygments_lexer": "ipython3",
   "version": "3.9.13"
  }
 },
 "nbformat": 4,
 "nbformat_minor": 5
}

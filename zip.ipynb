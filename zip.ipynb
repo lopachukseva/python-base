{
 "cells": [
  {
   "cell_type": "markdown",
   "id": "3209aa8a",
   "metadata": {},
   "source": [
    "## Функция zip"
   ]
  },
  {
   "cell_type": "markdown",
   "id": "8c096a21",
   "metadata": {},
   "source": [
    "Функция zip для указанных итерируемых объектов выполняет перебор соответствующих элементов и продолжает свою работу до тех пор, пока не дойдет до конца самой короткой коллекции. Таким образом она гарантирует, что на выходе будут формироваться наборы значений из всех переданных объектов. Имеет следующий синтаксис:"
   ]
  },
  {
   "cell_type": "markdown",
   "id": "b7cecbd2",
   "metadata": {},
   "source": [
    "zip(iter1, [iter2, [iter3], ...])"
   ]
  },
  {
   "cell_type": "code",
   "execution_count": 1,
   "id": "48c15896",
   "metadata": {},
   "outputs": [],
   "source": [
    "a = [1, 2, 3, 4, 5]\n",
    "b = ['first', 'second', 'third']"
   ]
  },
  {
   "cell_type": "code",
   "execution_count": 2,
   "id": "0cf2d881",
   "metadata": {},
   "outputs": [
    {
     "data": {
      "text/plain": [
       "<zip at 0x1b2ec940540>"
      ]
     },
     "execution_count": 2,
     "metadata": {},
     "output_type": "execute_result"
    }
   ],
   "source": [
    "z = zip(a, b)\n",
    "z"
   ]
  },
  {
   "cell_type": "markdown",
   "id": "e4ba0e73",
   "metadata": {},
   "source": [
    "На выходе - итератор. Его можно перебрать с помощью функции next:"
   ]
  },
  {
   "cell_type": "code",
   "execution_count": 3,
   "id": "ef7e08e1",
   "metadata": {},
   "outputs": [
    {
     "data": {
      "text/plain": [
       "(1, 'first')"
      ]
     },
     "execution_count": 3,
     "metadata": {},
     "output_type": "execute_result"
    }
   ],
   "source": [
    "next(z)"
   ]
  },
  {
   "cell_type": "code",
   "execution_count": 4,
   "id": "a49d3dee",
   "metadata": {},
   "outputs": [
    {
     "data": {
      "text/plain": [
       "(2, 'second')"
      ]
     },
     "execution_count": 4,
     "metadata": {},
     "output_type": "execute_result"
    }
   ],
   "source": [
    "next(z)"
   ]
  },
  {
   "cell_type": "markdown",
   "id": "9122d38a",
   "metadata": {},
   "source": [
    "Как видно, создаются пары, где элементы первой пары - первые элементы двух коллеций."
   ]
  },
  {
   "cell_type": "code",
   "execution_count": 5,
   "id": "d1b1635d",
   "metadata": {},
   "outputs": [],
   "source": [
    "z = zip(a, b)"
   ]
  },
  {
   "cell_type": "markdown",
   "id": "513044de",
   "metadata": {},
   "source": [
    "Если перебрать весь объект при помощи цикла for, будет видно, что пары создаются до тех пор, пока не закончится самая короткая коллекция:"
   ]
  },
  {
   "cell_type": "code",
   "execution_count": 6,
   "id": "71eec032",
   "metadata": {},
   "outputs": [
    {
     "name": "stdout",
     "output_type": "stream",
     "text": [
      "(1, 'first')\n",
      "(2, 'second')\n",
      "(3, 'third')\n"
     ]
    }
   ],
   "source": [
    "for x in z:\n",
    "    print(x)"
   ]
  },
  {
   "cell_type": "markdown",
   "id": "cf1e662c",
   "metadata": {},
   "source": [
    "И соответственно, этот итератор можно пройти только один раз."
   ]
  },
  {
   "cell_type": "markdown",
   "id": "34b6578d",
   "metadata": {},
   "source": [
    "На вход в функцию zip могут постапать любые итерируемые объекты. Например строки:"
   ]
  },
  {
   "cell_type": "code",
   "execution_count": 7,
   "id": "3aa0dc2c",
   "metadata": {},
   "outputs": [
    {
     "name": "stdout",
     "output_type": "stream",
     "text": [
      "('h', 'p')\n",
      "('e', 'y')\n",
      "('l', 't')\n",
      "('l', 'h')\n",
      "('o', 'o')\n"
     ]
    }
   ],
   "source": [
    "s = zip('hello', 'python')\n",
    "\n",
    "for x in s:\n",
    "    print(x)"
   ]
  },
  {
   "cell_type": "markdown",
   "id": "8f0e560b",
   "metadata": {},
   "source": [
    "Или строки и списки  одновременно:"
   ]
  },
  {
   "cell_type": "code",
   "execution_count": 8,
   "id": "f43b2a40",
   "metadata": {},
   "outputs": [
    {
     "name": "stdout",
     "output_type": "stream",
     "text": [
      "('h', 'p', 1, 'first')\n",
      "('e', 'y', 2, 'second')\n",
      "('l', 't', 3, 'third')\n"
     ]
    }
   ],
   "source": [
    "s = zip('hello', 'python', a, b)\n",
    "\n",
    "for x in s:\n",
    "    print(x)"
   ]
  },
  {
   "cell_type": "markdown",
   "id": "16818d87",
   "metadata": {},
   "source": [
    "Эти кортежи можно сразу распаковать:"
   ]
  },
  {
   "cell_type": "code",
   "execution_count": 9,
   "id": "48f13742",
   "metadata": {},
   "outputs": [
    {
     "name": "stdout",
     "output_type": "stream",
     "text": [
      "h p 1 first\n",
      "e y 2 second\n",
      "l t 3 third\n"
     ]
    }
   ],
   "source": [
    "s = zip('hello', 'python', a, b)\n",
    "\n",
    "for a, b, c, d in s:\n",
    "    print(a, b, c, d)"
   ]
  },
  {
   "cell_type": "markdown",
   "id": "69b810bf",
   "metadata": {},
   "source": [
    "Или распаковать так, присвоив кортежи отдельным переменным:"
   ]
  },
  {
   "cell_type": "code",
   "execution_count": 10,
   "id": "0f5c3c82",
   "metadata": {},
   "outputs": [],
   "source": [
    "a = [1, 2, 3, 4]\n",
    "b = [5, 6, 7, 8, 9, 10]\n",
    "c = 'python'\n",
    "\n",
    "z1, z2, z3, z4 = zip(a, b, c)"
   ]
  },
  {
   "cell_type": "code",
   "execution_count": 11,
   "id": "9f4bdc23",
   "metadata": {},
   "outputs": [
    {
     "name": "stdout",
     "output_type": "stream",
     "text": [
      "(1, 5, 'p') | (2, 6, 'y') | (3, 7, 't') | (4, 8, 'h')\n"
     ]
    }
   ],
   "source": [
    "print(z1, z2, z3, z4, sep=' | ')"
   ]
  },
  {
   "cell_type": "code",
   "execution_count": 12,
   "id": "d410403c",
   "metadata": {},
   "outputs": [
    {
     "name": "stdout",
     "output_type": "stream",
     "text": [
      "(1, 5, 'p') [(2, 6, 'y'), (3, 7, 't'), (4, 8, 'h')]\n"
     ]
    }
   ],
   "source": [
    "a = [1, 2, 3, 4]\n",
    "b = [5, 6, 7, 8, 9, 10]\n",
    "c = 'python'\n",
    "\n",
    "z1, *z2 = zip(a, b, c)\n",
    "\n",
    "print(z1, z2)"
   ]
  },
  {
   "cell_type": "markdown",
   "id": "0621497b",
   "metadata": {},
   "source": [
    "К итератору можно применять оператор распаковки:"
   ]
  },
  {
   "cell_type": "code",
   "execution_count": 13,
   "id": "c599fe93",
   "metadata": {},
   "outputs": [],
   "source": [
    "a = [1, 2, 3, 4]\n",
    "b = [5, 6, 7, 8, 9, 10]\n",
    "c = 'python'\n",
    "\n",
    "z = zip(a, b, c)"
   ]
  },
  {
   "cell_type": "code",
   "execution_count": 14,
   "id": "283163f2",
   "metadata": {},
   "outputs": [
    {
     "name": "stdout",
     "output_type": "stream",
     "text": [
      "(1, 5, 'p') (2, 6, 'y') (3, 7, 't') (4, 8, 'h')\n"
     ]
    }
   ],
   "source": [
    "print(*z)"
   ]
  },
  {
   "cell_type": "markdown",
   "id": "a01c967a",
   "metadata": {},
   "source": [
    "А если это так, то можно распакованные элементы (в данном случае кортежи) передать в качестве аргумента другой функции. Например, передать обратно функции zip, сформировав тем самым изначальную коллекцию (с поправкой на то, что некоторые элементы были утеряны при первом преобразовании):"
   ]
  },
  {
   "cell_type": "code",
   "execution_count": 15,
   "id": "e6766bbe",
   "metadata": {},
   "outputs": [],
   "source": [
    "z = zip(a, b, c)"
   ]
  },
  {
   "cell_type": "code",
   "execution_count": 16,
   "id": "4e612177",
   "metadata": {},
   "outputs": [],
   "source": [
    "z1, z2, z3 = zip(*z)"
   ]
  },
  {
   "cell_type": "code",
   "execution_count": 17,
   "id": "292e554e",
   "metadata": {},
   "outputs": [
    {
     "name": "stdout",
     "output_type": "stream",
     "text": [
      "(1, 2, 3, 4)\n",
      "(5, 6, 7, 8)\n",
      "('p', 'y', 't', 'h')\n"
     ]
    }
   ],
   "source": [
    "print(z1, z2, z3, sep='\\n')"
   ]
  }
 ],
 "metadata": {
  "kernelspec": {
   "display_name": "Python 3 (ipykernel)",
   "language": "python",
   "name": "python3"
  },
  "language_info": {
   "codemirror_mode": {
    "name": "ipython",
    "version": 3
   },
   "file_extension": ".py",
   "mimetype": "text/x-python",
   "name": "python",
   "nbconvert_exporter": "python",
   "pygments_lexer": "ipython3",
   "version": "3.9.13"
  }
 },
 "nbformat": 4,
 "nbformat_minor": 5
}

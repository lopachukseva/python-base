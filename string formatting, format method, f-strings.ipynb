{
 "cells": [
  {
   "cell_type": "markdown",
   "id": "d8c8c510",
   "metadata": {},
   "source": [
    "Предположим, что существуют данные, на с помощью которых нужно сформировать строку по шаблону:"
   ]
  },
  {
   "cell_type": "code",
   "execution_count": 1,
   "id": "915f5c1d",
   "metadata": {},
   "outputs": [],
   "source": [
    "name = \"Alexey\"\n",
    "age = 19"
   ]
  },
  {
   "cell_type": "markdown",
   "id": "0e1d3032",
   "metadata": {},
   "source": [
    "Это можно сделать, используя concatenate:"
   ]
  },
  {
   "cell_type": "code",
   "execution_count": 2,
   "id": "63a3d084",
   "metadata": {},
   "outputs": [],
   "source": [
    "s1 = \"Hello, my name is \" + name + \". I am \" + str(age) + \" years old.\""
   ]
  },
  {
   "cell_type": "code",
   "execution_count": 3,
   "id": "a642f0ea",
   "metadata": {},
   "outputs": [
    {
     "data": {
      "text/plain": [
       "'Hello, my name is Alexey. I am 19 years old.'"
      ]
     },
     "execution_count": 3,
     "metadata": {},
     "output_type": "execute_result"
    }
   ],
   "source": [
    "s1"
   ]
  },
  {
   "cell_type": "markdown",
   "id": "f663794a",
   "metadata": {},
   "source": [
    "Или используя метод строки format или f-строки:"
   ]
  },
  {
   "cell_type": "markdown",
   "id": "e4db0fc7",
   "metadata": {},
   "source": [
    "## format"
   ]
  },
  {
   "cell_type": "markdown",
   "id": "84962fb2",
   "metadata": {},
   "source": [
    "В строке записываются фигурные скобки, внутри которых индексы строк, которые передаются в метод, который затем вызывается у этой строки:"
   ]
  },
  {
   "cell_type": "code",
   "execution_count": 4,
   "id": "705b22f5",
   "metadata": {},
   "outputs": [
    {
     "data": {
      "text/plain": [
       "'Hello, my name is Alexey. I am 19 years old.'"
      ]
     },
     "execution_count": 4,
     "metadata": {},
     "output_type": "execute_result"
    }
   ],
   "source": [
    "'Hello, my name is {0}. I am {1} years old.'.format(name, age)"
   ]
  },
  {
   "cell_type": "markdown",
   "id": "e24ff820",
   "metadata": {},
   "source": [
    "Также вместо индексов можно использовать ключи:"
   ]
  },
  {
   "cell_type": "code",
   "execution_count": 5,
   "id": "1938b59e",
   "metadata": {
    "scrolled": true
   },
   "outputs": [
    {
     "data": {
      "text/plain": [
       "'Hello, my name is Alexey. I am 19 years old.'"
      ]
     },
     "execution_count": 5,
     "metadata": {},
     "output_type": "execute_result"
    }
   ],
   "source": [
    "'Hello, my name is {fio}. I am {old} years old.'.format(fio=name, old=age)"
   ]
  },
  {
   "cell_type": "markdown",
   "id": "3ec414df",
   "metadata": {},
   "source": [
    "## f строки"
   ]
  },
  {
   "cell_type": "markdown",
   "id": "76f1593f",
   "metadata": {},
   "source": [
    "Для опеределения f строки перед ней записывается символ \"f\". В фигурных скобках указывается имя переменной:"
   ]
  },
  {
   "cell_type": "code",
   "execution_count": 6,
   "id": "74e4947c",
   "metadata": {},
   "outputs": [],
   "source": [
    "s2 = f\"Hello, my name is {name}. I am {age} years old.\""
   ]
  },
  {
   "cell_type": "markdown",
   "id": "8f591a61",
   "metadata": {},
   "source": [
    "На выходе - строка, которая сформирована на основе этих переменных:"
   ]
  },
  {
   "cell_type": "code",
   "execution_count": 8,
   "id": "fad5ba57",
   "metadata": {
    "scrolled": true
   },
   "outputs": [
    {
     "data": {
      "text/plain": [
       "'Hello, my name is Alexey. I am 19 years old.'"
      ]
     },
     "execution_count": 8,
     "metadata": {},
     "output_type": "execute_result"
    }
   ],
   "source": [
    "s2"
   ]
  },
  {
   "cell_type": "markdown",
   "id": "6a19eae7",
   "metadata": {},
   "source": [
    "Также внутри фигурных скобок можно использовать не только переменные, но и любые конструкции языка Python. Например, вызвать метод upper для строки name, или же умножить возраст на какое либо число:"
   ]
  },
  {
   "cell_type": "code",
   "execution_count": 9,
   "id": "8a42d8f6",
   "metadata": {},
   "outputs": [
    {
     "data": {
      "text/plain": [
       "'Hello, my name is ALEXEY. I am 38 years old.'"
      ]
     },
     "execution_count": 9,
     "metadata": {},
     "output_type": "execute_result"
    }
   ],
   "source": [
    "s2 = f\"Hello, my name is {name.upper()}. I am {age * 2} years old.\"\n",
    "s2"
   ]
  }
 ],
 "metadata": {
  "kernelspec": {
   "display_name": "Python 3 (ipykernel)",
   "language": "python",
   "name": "python3"
  },
  "language_info": {
   "codemirror_mode": {
    "name": "ipython",
    "version": 3
   },
   "file_extension": ".py",
   "mimetype": "text/x-python",
   "name": "python",
   "nbconvert_exporter": "python",
   "pygments_lexer": "ipython3",
   "version": "3.9.13"
  }
 },
 "nbformat": 4,
 "nbformat_minor": 5
}

{
 "cells": [
  {
   "cell_type": "markdown",
   "id": "46f3a242",
   "metadata": {},
   "source": [
    "## Декораторы функций с параметрами"
   ]
  },
  {
   "cell_type": "markdown",
   "id": "e0398b4e",
   "metadata": {},
   "source": [
    "Импортируем библиотеку math:"
   ]
  },
  {
   "cell_type": "code",
   "execution_count": 1,
   "id": "ea413172",
   "metadata": {},
   "outputs": [],
   "source": [
    "import math"
   ]
  },
  {
   "cell_type": "markdown",
   "id": "072aad5e",
   "metadata": {},
   "source": [
    "Предположим, что у нас есть функция, которая вычисляет синус:"
   ]
  },
  {
   "cell_type": "code",
   "execution_count": 2,
   "id": "749f9acf",
   "metadata": {},
   "outputs": [],
   "source": [
    "def sin_df(x):\n",
    "    return math.sin(x)"
   ]
  },
  {
   "cell_type": "code",
   "execution_count": 3,
   "id": "be1b73b2",
   "metadata": {},
   "outputs": [],
   "source": [
    "g = math.pi/3"
   ]
  },
  {
   "cell_type": "code",
   "execution_count": 4,
   "id": "fa2e3cdb",
   "metadata": {
    "scrolled": true
   },
   "outputs": [
    {
     "data": {
      "text/plain": [
       "0.8660254037844386"
      ]
     },
     "execution_count": 4,
     "metadata": {},
     "output_type": "execute_result"
    }
   ],
   "source": [
    "sin_df(g)"
   ]
  },
  {
   "cell_type": "markdown",
   "id": "c5161cd3",
   "metadata": {},
   "source": [
    "И мы хотим вычислить производную этой функции с точностью 0.0001. Для этого можно определить декоратор:"
   ]
  },
  {
   "cell_type": "code",
   "execution_count": 5,
   "id": "ccb1b8b6",
   "metadata": {},
   "outputs": [],
   "source": [
    "def func_decorator(func):\n",
    "    def wrapper(x, *args, **kwargs):\n",
    "        dx = 0.0001\n",
    "        return (func(x + dx, *args, **kwargs) - func(x, *args, **kwargs)) / dx\n",
    "    return wrapper"
   ]
  },
  {
   "cell_type": "code",
   "execution_count": 6,
   "id": "11209f53",
   "metadata": {},
   "outputs": [],
   "source": [
    "@func_decorator\n",
    "def sin_df(x):\n",
    "    return math.sin(x)"
   ]
  },
  {
   "cell_type": "code",
   "execution_count": 7,
   "id": "72e4b009",
   "metadata": {},
   "outputs": [
    {
     "data": {
      "text/plain": [
       "0.4999566978958203"
      ]
     },
     "execution_count": 7,
     "metadata": {},
     "output_type": "execute_result"
    }
   ],
   "source": [
    "sin_df(g)"
   ]
  },
  {
   "cell_type": "markdown",
   "id": "e9fc714c",
   "metadata": {},
   "source": [
    "Но если потребуется изменить точность - придется менять декоратор. А передать ему ничего на данный момент невозможно."
   ]
  },
  {
   "cell_type": "markdown",
   "id": "91c1d09c",
   "metadata": {},
   "source": [
    "Для того, чтобы иметь такую возможность, нужно модифицировать декоратор и добавить еще одну функцию:"
   ]
  },
  {
   "cell_type": "code",
   "execution_count": 8,
   "id": "de578f07",
   "metadata": {},
   "outputs": [],
   "source": [
    "def df_decorator(dx):\n",
    "    def func_decorator(func):\n",
    "        def wrapper(x, *args, **kwargs):\n",
    "            return (func(x + dx, *args, **kwargs) - func(x, *args, **kwargs)) / dx\n",
    "        return wrapper\n",
    "    return func_decorator"
   ]
  },
  {
   "cell_type": "markdown",
   "id": "f24f32e2",
   "metadata": {},
   "source": [
    "Вся функция, которая имелась до этого, помещается в еще одну функцию, которая принимает параметр dx и возвращает ссылку на функцию внутри себя. Теперь к функции, которую декорируем, применяется именно она, и ей передается значение параметра dx:"
   ]
  },
  {
   "cell_type": "code",
   "execution_count": 9,
   "id": "5f3a6994",
   "metadata": {},
   "outputs": [],
   "source": [
    "@df_decorator(dx=0.000001)\n",
    "def sin_df(x):\n",
    "    return math.sin(x)"
   ]
  },
  {
   "cell_type": "code",
   "execution_count": 10,
   "id": "1b4a795c",
   "metadata": {},
   "outputs": [
    {
     "data": {
      "text/plain": [
       "0.4999995669718871"
      ]
     },
     "execution_count": 10,
     "metadata": {},
     "output_type": "execute_result"
    }
   ],
   "source": [
    "sin_df(g)"
   ]
  },
  {
   "cell_type": "markdown",
   "id": "87a4e03c",
   "metadata": {},
   "source": [
    "Через иной синтаксис это выглядит следующим образом:"
   ]
  },
  {
   "cell_type": "code",
   "execution_count": 11,
   "id": "310022c8",
   "metadata": {},
   "outputs": [],
   "source": [
    "def sin_df(x):\n",
    "    return math.sin(x)"
   ]
  },
  {
   "cell_type": "code",
   "execution_count": 12,
   "id": "5a8851c8",
   "metadata": {},
   "outputs": [],
   "source": [
    "f = df_decorator(dx=0.000001)\n",
    "sin_df = f(sin_df)"
   ]
  },
  {
   "cell_type": "code",
   "execution_count": 13,
   "id": "365dacfd",
   "metadata": {},
   "outputs": [
    {
     "data": {
      "text/plain": [
       "0.4999995669718871"
      ]
     },
     "execution_count": 13,
     "metadata": {},
     "output_type": "execute_result"
    }
   ],
   "source": [
    "sin_df(g)"
   ]
  },
  {
   "cell_type": "markdown",
   "id": "c97d944f",
   "metadata": {},
   "source": [
    "Или то же самое, но в одну строку без доп. переменных:"
   ]
  },
  {
   "cell_type": "code",
   "execution_count": 14,
   "id": "0b460354",
   "metadata": {},
   "outputs": [],
   "source": [
    "def sin_df(x):\n",
    "    return math.sin(x)"
   ]
  },
  {
   "cell_type": "code",
   "execution_count": 15,
   "id": "54fe8dc0",
   "metadata": {},
   "outputs": [],
   "source": [
    "sin_df = df_decorator(dx=0.000001)(sin_df)"
   ]
  },
  {
   "cell_type": "code",
   "execution_count": 16,
   "id": "18784bda",
   "metadata": {},
   "outputs": [
    {
     "data": {
      "text/plain": [
       "0.4999995669718871"
      ]
     },
     "execution_count": 16,
     "metadata": {},
     "output_type": "execute_result"
    }
   ],
   "source": [
    "sin_df(g)"
   ]
  },
  {
   "cell_type": "markdown",
   "id": "10915f0c",
   "metadata": {},
   "source": [
    "### Проблема потери имени и описания декорируемой функции"
   ]
  },
  {
   "cell_type": "markdown",
   "id": "23b2d677",
   "metadata": {},
   "source": [
    "У каждой функции есть свое имя, которое доступно с помощью специальной переменной name:"
   ]
  },
  {
   "cell_type": "code",
   "execution_count": 17,
   "id": "1e191b57",
   "metadata": {},
   "outputs": [],
   "source": [
    "def sin_df(x):\n",
    "    return math.sin(x)"
   ]
  },
  {
   "cell_type": "code",
   "execution_count": 18,
   "id": "16fdac56",
   "metadata": {
    "scrolled": true
   },
   "outputs": [
    {
     "name": "stdout",
     "output_type": "stream",
     "text": [
      "sin_df\n"
     ]
    }
   ],
   "source": [
    "print(sin_df.__name__)"
   ]
  },
  {
   "cell_type": "markdown",
   "id": "c19ed030",
   "metadata": {},
   "source": [
    "Но при декорировании функции оно будет потеряно:"
   ]
  },
  {
   "cell_type": "code",
   "execution_count": 19,
   "id": "58a51067",
   "metadata": {},
   "outputs": [],
   "source": [
    "@df_decorator(dx=0.000001)\n",
    "def sin_df(x):\n",
    "    return math.sin(x)"
   ]
  },
  {
   "cell_type": "code",
   "execution_count": 20,
   "id": "716087ce",
   "metadata": {},
   "outputs": [
    {
     "name": "stdout",
     "output_type": "stream",
     "text": [
      "wrapper\n"
     ]
    }
   ],
   "source": [
    "print(sin_df.__name__)"
   ]
  },
  {
   "cell_type": "markdown",
   "id": "44cc7733",
   "metadata": {},
   "source": [
    "Эту проблему можно решив, явно прописав имя в теле декоратора:"
   ]
  },
  {
   "cell_type": "code",
   "execution_count": 21,
   "id": "b06661a0",
   "metadata": {},
   "outputs": [],
   "source": [
    "def df_decorator(dx):\n",
    "    def func_decorator(func):\n",
    "        def wrapper(x, *args, **kwargs):\n",
    "            return (func(x + dx, *args, **kwargs) - func(x, *args, **kwargs)) / dx\n",
    "        wrapper.__name__ = func.__name__\n",
    "        return wrapper\n",
    "    \n",
    "    return func_decorator"
   ]
  },
  {
   "cell_type": "code",
   "execution_count": 22,
   "id": "cc157d25",
   "metadata": {},
   "outputs": [],
   "source": [
    "@df_decorator(dx=0.000001)\n",
    "def sin_df(x):\n",
    "    return math.sin(x)"
   ]
  },
  {
   "cell_type": "markdown",
   "id": "d5b856a3",
   "metadata": {},
   "source": [
    "И таким образом имя фунции сохранится:"
   ]
  },
  {
   "cell_type": "code",
   "execution_count": 23,
   "id": "ccc5ac6e",
   "metadata": {},
   "outputs": [
    {
     "name": "stdout",
     "output_type": "stream",
     "text": [
      "sin_df\n"
     ]
    }
   ],
   "source": [
    "print(sin_df.__name__)"
   ]
  },
  {
   "cell_type": "markdown",
   "id": "478ca3d7",
   "metadata": {},
   "source": [
    "Также стоит сохранять и описание функции:"
   ]
  },
  {
   "cell_type": "code",
   "execution_count": 24,
   "id": "e2754858",
   "metadata": {},
   "outputs": [],
   "source": [
    "def sin_df(x):\n",
    "    \"\"\"Функция для вычисления производной синуса\"\"\"\n",
    "    return math.sin(x)"
   ]
  },
  {
   "cell_type": "code",
   "execution_count": 25,
   "id": "cfbc884d",
   "metadata": {},
   "outputs": [],
   "source": [
    "def df_decorator(dx):\n",
    "    def func_decorator(func):\n",
    "        def wrapper(x, *args, **kwargs):\n",
    "            return (func(x + dx, *args, **kwargs) - func(x, *args, **kwargs)) / dx\n",
    "        wrapper.__name__ = func.__name__\n",
    "        wrapper.__doc__ = func.__doc__\n",
    "        return wrapper\n",
    "    \n",
    "    return func_decorator"
   ]
  },
  {
   "cell_type": "code",
   "execution_count": 26,
   "id": "73fd6253",
   "metadata": {},
   "outputs": [],
   "source": [
    "@df_decorator(0.0001)\n",
    "def sin_df(x):\n",
    "    \"\"\"Функция для вычисления производной синуса\"\"\"\n",
    "    return math.sin(x)"
   ]
  },
  {
   "cell_type": "code",
   "execution_count": 27,
   "id": "6b9bf43f",
   "metadata": {
    "scrolled": true
   },
   "outputs": [
    {
     "name": "stdout",
     "output_type": "stream",
     "text": [
      "Функция для вычисления производной синуса\n"
     ]
    }
   ],
   "source": [
    "print(sin_df.__doc__)"
   ]
  },
  {
   "cell_type": "markdown",
   "id": "c3db6ffb",
   "metadata": {},
   "source": [
    "Но этот функционал (для сохранения имени и описания функции) - стандартный подход при декорировании, и стандартизирован на уровне языка"
   ]
  },
  {
   "cell_type": "markdown",
   "id": "655caee1",
   "metadata": {},
   "source": [
    "Нужно импортировать специальный декоратор:"
   ]
  },
  {
   "cell_type": "code",
   "execution_count": 28,
   "id": "730c5c87",
   "metadata": {},
   "outputs": [],
   "source": [
    "from functools import wraps"
   ]
  },
  {
   "cell_type": "markdown",
   "id": "7f709255",
   "metadata": {},
   "source": [
    "И с помощью него декорировать вложенную функцию wrapper:"
   ]
  },
  {
   "cell_type": "code",
   "execution_count": 29,
   "id": "ce34f444",
   "metadata": {},
   "outputs": [],
   "source": [
    "def df_decorator(dx):\n",
    "    def func_decorator(func):\n",
    "        @wraps(func)\n",
    "        def wrapper(x, *args, **kwargs):\n",
    "            return (func(x + dx, *args, **kwargs) - func(x, *args, **kwargs)) / dx\n",
    "        \n",
    "        return wrapper\n",
    "    \n",
    "    return func_decorator"
   ]
  },
  {
   "cell_type": "code",
   "execution_count": 30,
   "id": "82120035",
   "metadata": {},
   "outputs": [],
   "source": [
    "@df_decorator(0.00001)\n",
    "def sin_df(x):\n",
    "    \"\"\"Функция для вычисления производной синуса\"\"\"\n",
    "    return math.sin(x)"
   ]
  },
  {
   "cell_type": "code",
   "execution_count": 31,
   "id": "5261f60f",
   "metadata": {
    "scrolled": true
   },
   "outputs": [
    {
     "name": "stdout",
     "output_type": "stream",
     "text": [
      "sin_df\n",
      "Функция для вычисления производной синуса\n"
     ]
    }
   ],
   "source": [
    "print(sin_df.__name__)\n",
    "print(sin_df.__doc__)"
   ]
  },
  {
   "cell_type": "markdown",
   "id": "763a71f0",
   "metadata": {},
   "source": [
    "И таким образом имя и описание функции будет сохранено благодаря декоратору wraps вложенной функции wrapper."
   ]
  }
 ],
 "metadata": {
  "kernelspec": {
   "display_name": "Python 3 (ipykernel)",
   "language": "python",
   "name": "python3"
  },
  "language_info": {
   "codemirror_mode": {
    "name": "ipython",
    "version": 3
   },
   "file_extension": ".py",
   "mimetype": "text/x-python",
   "name": "python",
   "nbconvert_exporter": "python",
   "pygments_lexer": "ipython3",
   "version": "3.9.13"
  }
 },
 "nbformat": 4,
 "nbformat_minor": 5
}

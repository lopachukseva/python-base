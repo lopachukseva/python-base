{
 "cells": [
  {
   "cell_type": "markdown",
   "id": "17804bce",
   "metadata": {},
   "source": [
    "## Множества"
   ]
  },
  {
   "cell_type": "markdown",
   "id": "6c828f80",
   "metadata": {},
   "source": [
    "Множество - неупорядоченная коллекция уникальных элементов. Является изменяемым типом данных. Множество задается в фигурных скобках, в которых прописываются значения:"
   ]
  },
  {
   "cell_type": "code",
   "execution_count": 1,
   "id": "b96c9ae6",
   "metadata": {},
   "outputs": [],
   "source": [
    "a = {1, 2, 3, \"hello world\"}"
   ]
  },
  {
   "cell_type": "code",
   "execution_count": 2,
   "id": "d68d01e9",
   "metadata": {},
   "outputs": [
    {
     "name": "stdout",
     "output_type": "stream",
     "text": [
      "{'hello world', 2, 3, 1} <class 'set'>\n"
     ]
    }
   ],
   "source": [
    "print(a, type(a))"
   ]
  },
  {
   "cell_type": "markdown",
   "id": "52e14a66",
   "metadata": {},
   "source": [
    "Ключевая особенность множества - отсутствие дублирующих значений. Если попробовать задать одинаковые значения, ошибки не будет, но дублирующие значение будут проигнорированы:"
   ]
  },
  {
   "cell_type": "code",
   "execution_count": 3,
   "id": "777264f7",
   "metadata": {},
   "outputs": [],
   "source": [
    "a = {1, 2, 3, \"hello world\", 2, 1, \"hello world\"}"
   ]
  },
  {
   "cell_type": "code",
   "execution_count": 4,
   "id": "d0cba1d5",
   "metadata": {},
   "outputs": [
    {
     "name": "stdout",
     "output_type": "stream",
     "text": [
      "{'hello world', 2, 3, 1}\n"
     ]
    }
   ],
   "source": [
    "print(a)"
   ]
  },
  {
   "cell_type": "markdown",
   "id": "892b3dbb",
   "metadata": {},
   "source": [
    "Элементами множества могут быть только неизменяемые типы данных: числа, булевые значения, строки, кортежи. Неизменяемые типы данных, такие как списки, словари и т.д. - использовать в множествах нельзя. Внутри множеств использовать другие множества также нельзя. Также если внутри множества есть кортеж, элементами этого списка также могут быть только неизменяемые типы данных."
   ]
  },
  {
   "cell_type": "markdown",
   "id": "7d28fb2f",
   "metadata": {},
   "source": [
    "Для создания пустого множество необходимо воспользоваться функцией set:"
   ]
  },
  {
   "cell_type": "code",
   "execution_count": 5,
   "id": "db0d053b",
   "metadata": {},
   "outputs": [
    {
     "name": "stdout",
     "output_type": "stream",
     "text": [
      "set() <class 'set'>\n"
     ]
    }
   ],
   "source": [
    "c = set()\n",
    "print(c, type(c))"
   ]
  },
  {
   "cell_type": "markdown",
   "id": "29567d73",
   "metadata": {},
   "source": [
    "Так как если воспользоваться следующей конструкцией, на выходе будет словарь:"
   ]
  },
  {
   "cell_type": "code",
   "execution_count": 6,
   "id": "90315e21",
   "metadata": {},
   "outputs": [
    {
     "name": "stdout",
     "output_type": "stream",
     "text": [
      "{} <class 'dict'>\n"
     ]
    }
   ],
   "source": [
    "d = {}\n",
    "print(d, type(d))"
   ]
  },
  {
   "cell_type": "markdown",
   "id": "e8211da8",
   "metadata": {},
   "source": [
    "Если в функцию set в качестве аргумента передать итерируемый объект, например список, то будет создано не пустое множество, а множество со значениями:"
   ]
  },
  {
   "cell_type": "code",
   "execution_count": 7,
   "id": "17c24055",
   "metadata": {},
   "outputs": [],
   "source": [
    "li = [5, 1, 3, 4, \"python\", \"python\"]\n",
    "e = set(li)"
   ]
  },
  {
   "cell_type": "markdown",
   "id": "26aee1b4",
   "metadata": {},
   "source": [
    "Если в этом объекте будут дублирующие элементы, то они будут проигнорированы, а в множестве окажутся только уникальные элементы:"
   ]
  },
  {
   "cell_type": "code",
   "execution_count": 8,
   "id": "71c93beb",
   "metadata": {
    "scrolled": true
   },
   "outputs": [
    {
     "name": "stdout",
     "output_type": "stream",
     "text": [
      "{1, 3, 4, 5, 'python'} <class 'set'>\n"
     ]
    }
   ],
   "source": [
    "print(e, type(e))"
   ]
  },
  {
   "cell_type": "code",
   "execution_count": 9,
   "id": "e2b7a3ca",
   "metadata": {},
   "outputs": [
    {
     "name": "stdout",
     "output_type": "stream",
     "text": [
      "{0, 1, 2, 3, 4, 5, 6, 7, 8, 9} <class 'set'>\n"
     ]
    }
   ],
   "source": [
    "d = set(range(10))\n",
    "print(d, type(d))"
   ]
  },
  {
   "cell_type": "code",
   "execution_count": 10,
   "id": "51db9134",
   "metadata": {},
   "outputs": [
    {
     "data": {
      "text/plain": [
       "{'d', 'e', 'l', 'o', 'p', 'r', 'v'}"
      ]
     },
     "execution_count": 10,
     "metadata": {},
     "output_type": "execute_result"
    }
   ],
   "source": [
    "set(\"developer\")"
   ]
  },
  {
   "cell_type": "markdown",
   "id": "f3ed4f31",
   "metadata": {},
   "source": [
    "Так как множество - неупорядоченная коллекция, обратиться к ее элементу по индексу невозможно:"
   ]
  },
  {
   "cell_type": "code",
   "execution_count": 11,
   "id": "e5557ff8",
   "metadata": {},
   "outputs": [],
   "source": [
    "# d[0]"
   ]
  },
  {
   "cell_type": "markdown",
   "id": "ecc53016",
   "metadata": {},
   "source": [
    "С помощью множеств можно легко убирать дубли из данных. Допустим, есть список городов:"
   ]
  },
  {
   "cell_type": "code",
   "execution_count": 12,
   "id": "366cec68",
   "metadata": {},
   "outputs": [],
   "source": [
    "cities = [\"Москва\", \"Екатеринбург\",\"Нижний Новгород\",\"Екатеринбург\",\"Таллинн\",\"Санкт-Петербург\", \"Москва\"]"
   ]
  },
  {
   "cell_type": "markdown",
   "id": "91b7b82e",
   "metadata": {},
   "source": [
    "из которого нужно убрать дублирующие значения. Для этого из этого списка можно создать множество, в котором будут только уникальные значения:"
   ]
  },
  {
   "cell_type": "code",
   "execution_count": 13,
   "id": "2b65c3d0",
   "metadata": {},
   "outputs": [
    {
     "data": {
      "text/plain": [
       "{'Екатеринбург', 'Москва', 'Нижний Новгород', 'Санкт-Петербург', 'Таллинн'}"
      ]
     },
     "execution_count": 13,
     "metadata": {},
     "output_type": "execute_result"
    }
   ],
   "source": [
    "set(cities)"
   ]
  },
  {
   "cell_type": "markdown",
   "id": "61e67376",
   "metadata": {},
   "source": [
    "Полученный результат можно сразу преобразовать обратно в список:"
   ]
  },
  {
   "cell_type": "code",
   "execution_count": 14,
   "id": "b85e77eb",
   "metadata": {},
   "outputs": [
    {
     "data": {
      "text/plain": [
       "['Нижний Новгород', 'Таллинн', 'Екатеринбург', 'Москва', 'Санкт-Петербург']"
      ]
     },
     "execution_count": 14,
     "metadata": {},
     "output_type": "execute_result"
    }
   ],
   "source": [
    "list(set(cities))"
   ]
  },
  {
   "cell_type": "markdown",
   "id": "99d7b020",
   "metadata": {},
   "source": [
    "Множество - итерируемый объект, и поэтому его можно перебрать через цикл:"
   ]
  },
  {
   "cell_type": "code",
   "execution_count": 15,
   "id": "9a274d22",
   "metadata": {},
   "outputs": [
    {
     "data": {
      "text/plain": [
       "{'Екатеринбург', 'Москва', 'Нижний Новгород', 'Санкт-Петербург', 'Таллинн'}"
      ]
     },
     "execution_count": 15,
     "metadata": {},
     "output_type": "execute_result"
    }
   ],
   "source": [
    "f = set(cities)\n",
    "f"
   ]
  },
  {
   "cell_type": "code",
   "execution_count": 16,
   "id": "6407af24",
   "metadata": {},
   "outputs": [
    {
     "name": "stdout",
     "output_type": "stream",
     "text": [
      "Нижний Новгород\n",
      "Таллинн\n",
      "Екатеринбург\n",
      "Москва\n",
      "Санкт-Петербург\n"
     ]
    }
   ],
   "source": [
    "for c in f:\n",
    "    print(c)"
   ]
  },
  {
   "cell_type": "markdown",
   "id": "d3a1de2e",
   "metadata": {},
   "source": [
    "Для того, чтобы узнать число элементов в множестве, используется фунция len:"
   ]
  },
  {
   "cell_type": "code",
   "execution_count": 17,
   "id": "c0140d2f",
   "metadata": {},
   "outputs": [
    {
     "data": {
      "text/plain": [
       "5"
      ]
     },
     "execution_count": 17,
     "metadata": {},
     "output_type": "execute_result"
    }
   ],
   "source": [
    "len(f)"
   ]
  },
  {
   "cell_type": "markdown",
   "id": "f7c85869",
   "metadata": {},
   "source": [
    "Для проверки вхождения - оператор in:"
   ]
  },
  {
   "cell_type": "code",
   "execution_count": 18,
   "id": "c3c1de9c",
   "metadata": {},
   "outputs": [
    {
     "data": {
      "text/plain": [
       "True"
      ]
     },
     "execution_count": 18,
     "metadata": {},
     "output_type": "execute_result"
    }
   ],
   "source": [
    "\"Москва\" in f"
   ]
  },
  {
   "cell_type": "code",
   "execution_count": 19,
   "id": "146bc42f",
   "metadata": {},
   "outputs": [
    {
     "data": {
      "text/plain": [
       "False"
      ]
     },
     "execution_count": 19,
     "metadata": {},
     "output_type": "execute_result"
    }
   ],
   "source": [
    "\"Ульяновск\" in f"
   ]
  },
  {
   "cell_type": "markdown",
   "id": "74121d28",
   "metadata": {},
   "source": [
    "### Методы множеств"
   ]
  },
  {
   "cell_type": "markdown",
   "id": "870c3b66",
   "metadata": {},
   "source": [
    "### add"
   ]
  },
  {
   "cell_type": "markdown",
   "id": "0d328a09",
   "metadata": {},
   "source": [
    "Метод add позволяет добавить элемент в множество:"
   ]
  },
  {
   "cell_type": "code",
   "execution_count": 20,
   "id": "939472e5",
   "metadata": {},
   "outputs": [
    {
     "data": {
      "text/plain": [
       "set()"
      ]
     },
     "execution_count": 20,
     "metadata": {},
     "output_type": "execute_result"
    }
   ],
   "source": [
    "g = set()\n",
    "g"
   ]
  },
  {
   "cell_type": "code",
   "execution_count": 21,
   "id": "b809b017",
   "metadata": {},
   "outputs": [
    {
     "data": {
      "text/plain": [
       "{1, 'el1'}"
      ]
     },
     "execution_count": 21,
     "metadata": {},
     "output_type": "execute_result"
    }
   ],
   "source": [
    "g.add(\"el1\")\n",
    "g.add(1)\n",
    "g"
   ]
  },
  {
   "cell_type": "markdown",
   "id": "1b2c4daf",
   "metadata": {},
   "source": [
    "### update"
   ]
  },
  {
   "cell_type": "markdown",
   "id": "3589c29b",
   "metadata": {},
   "source": [
    "Метод update позволяет добавить сразу несколько элементов. В качестве аргумента в него передается любой итерируемый объект:"
   ]
  },
  {
   "cell_type": "code",
   "execution_count": 22,
   "id": "0d68f031",
   "metadata": {},
   "outputs": [
    {
     "data": {
      "text/plain": [
       "{('str1', 'str2', 9, 2), 1, 2, 3, 'el1'}"
      ]
     },
     "execution_count": 22,
     "metadata": {},
     "output_type": "execute_result"
    }
   ],
   "source": [
    "g.update([1, 2, 3, (\"str1\", \"str2\", 9, 2)])\n",
    "g"
   ]
  },
  {
   "cell_type": "code",
   "execution_count": 23,
   "id": "0985dc66",
   "metadata": {},
   "outputs": [
    {
     "data": {
      "text/plain": [
       "{('str1', 'str2', 9, 2), 1, 2, 3, 'd', 'el1', 'f', 's'}"
      ]
     },
     "execution_count": 23,
     "metadata": {},
     "output_type": "execute_result"
    }
   ],
   "source": [
    "g.update(\"sdfsd\")\n",
    "g"
   ]
  },
  {
   "cell_type": "markdown",
   "id": "578b2a52",
   "metadata": {},
   "source": [
    "### discard"
   ]
  },
  {
   "cell_type": "markdown",
   "id": "5c5942c3",
   "metadata": {},
   "source": [
    "Метод discard позволяет удалить элемент по его значению:"
   ]
  },
  {
   "cell_type": "code",
   "execution_count": 24,
   "id": "a9bd265d",
   "metadata": {},
   "outputs": [
    {
     "data": {
      "text/plain": [
       "{('str1', 'str2', 9, 2), 1, 2, 3, 'd', 'f', 's'}"
      ]
     },
     "execution_count": 24,
     "metadata": {},
     "output_type": "execute_result"
    }
   ],
   "source": [
    "g.discard(\"el1\")\n",
    "g"
   ]
  },
  {
   "cell_type": "markdown",
   "id": "94976a3e",
   "metadata": {},
   "source": [
    "Если передать ему несуществующее значение, ошибки не будет, но и множество никак не изменится:"
   ]
  },
  {
   "cell_type": "code",
   "execution_count": 25,
   "id": "f0efde89",
   "metadata": {},
   "outputs": [
    {
     "data": {
      "text/plain": [
       "{('str1', 'str2', 9, 2), 1, 2, 3, 'd', 'f', 's'}"
      ]
     },
     "execution_count": 25,
     "metadata": {},
     "output_type": "execute_result"
    }
   ],
   "source": [
    "g.discard(324)\n",
    "g"
   ]
  },
  {
   "cell_type": "markdown",
   "id": "94e98ef6",
   "metadata": {},
   "source": [
    "### remove"
   ]
  },
  {
   "cell_type": "markdown",
   "id": "8a45fd3e",
   "metadata": {},
   "source": [
    "Метод remove аналогичен методу discard:"
   ]
  },
  {
   "cell_type": "code",
   "execution_count": 26,
   "id": "7a8181f2",
   "metadata": {},
   "outputs": [
    {
     "data": {
      "text/plain": [
       "{('str1', 'str2', 9, 2), 1, 2, 'd', 'f', 's'}"
      ]
     },
     "execution_count": 26,
     "metadata": {},
     "output_type": "execute_result"
    }
   ],
   "source": [
    "g.remove(3)\n",
    "g"
   ]
  },
  {
   "cell_type": "markdown",
   "id": "ef2069e2",
   "metadata": {},
   "source": [
    "Но в отличие от метода discard, если ему передать несуществующее значение, возникнет ошибка:"
   ]
  },
  {
   "cell_type": "code",
   "execution_count": 27,
   "id": "16f2a765",
   "metadata": {},
   "outputs": [],
   "source": [
    "# g.remove(456)"
   ]
  },
  {
   "cell_type": "markdown",
   "id": "fc40d404",
   "metadata": {},
   "source": [
    "### pop"
   ]
  },
  {
   "cell_type": "markdown",
   "id": "a74d2f8f",
   "metadata": {},
   "source": [
    "Метод pop удаляет произвольное значение из множества и возвращает его. Произвольное потому, что множество - неупорядоченная коллекция:"
   ]
  },
  {
   "cell_type": "code",
   "execution_count": 28,
   "id": "323f6e22",
   "metadata": {},
   "outputs": [
    {
     "data": {
      "text/plain": [
       "1"
      ]
     },
     "execution_count": 28,
     "metadata": {},
     "output_type": "execute_result"
    }
   ],
   "source": [
    "g.pop()"
   ]
  },
  {
   "cell_type": "code",
   "execution_count": 29,
   "id": "5f57f12a",
   "metadata": {},
   "outputs": [
    {
     "data": {
      "text/plain": [
       "2"
      ]
     },
     "execution_count": 29,
     "metadata": {},
     "output_type": "execute_result"
    }
   ],
   "source": [
    "g.pop()"
   ]
  },
  {
   "cell_type": "code",
   "execution_count": 30,
   "id": "69e20cd1",
   "metadata": {
    "scrolled": true
   },
   "outputs": [
    {
     "data": {
      "text/plain": [
       "'d'"
      ]
     },
     "execution_count": 30,
     "metadata": {},
     "output_type": "execute_result"
    }
   ],
   "source": [
    "g.pop()"
   ]
  },
  {
   "cell_type": "code",
   "execution_count": 31,
   "id": "15bf74af",
   "metadata": {},
   "outputs": [
    {
     "data": {
      "text/plain": [
       "'f'"
      ]
     },
     "execution_count": 31,
     "metadata": {},
     "output_type": "execute_result"
    }
   ],
   "source": [
    "g.pop()"
   ]
  },
  {
   "cell_type": "markdown",
   "id": "bb4fe238",
   "metadata": {},
   "source": [
    "Если вызвать метод pop для пустого множества, то возникнет ошибка"
   ]
  },
  {
   "cell_type": "markdown",
   "id": "8f4dbfa6",
   "metadata": {},
   "source": [
    "### clear"
   ]
  },
  {
   "cell_type": "markdown",
   "id": "7737f85a",
   "metadata": {},
   "source": [
    "Метод clear удаляет все элементы из множества:"
   ]
  },
  {
   "cell_type": "code",
   "execution_count": 32,
   "id": "5c65d62d",
   "metadata": {},
   "outputs": [
    {
     "data": {
      "text/plain": [
       "{('str1', 'str2', 9, 2), 's'}"
      ]
     },
     "execution_count": 32,
     "metadata": {},
     "output_type": "execute_result"
    }
   ],
   "source": [
    "g"
   ]
  },
  {
   "cell_type": "code",
   "execution_count": 33,
   "id": "b299e4da",
   "metadata": {},
   "outputs": [
    {
     "data": {
      "text/plain": [
       "set()"
      ]
     },
     "execution_count": 33,
     "metadata": {},
     "output_type": "execute_result"
    }
   ],
   "source": [
    "g.clear()\n",
    "g"
   ]
  }
 ],
 "metadata": {
  "kernelspec": {
   "display_name": "Python 3 (ipykernel)",
   "language": "python",
   "name": "python3"
  },
  "language_info": {
   "codemirror_mode": {
    "name": "ipython",
    "version": 3
   },
   "file_extension": ".py",
   "mimetype": "text/x-python",
   "name": "python",
   "nbconvert_exporter": "python",
   "pygments_lexer": "ipython3",
   "version": "3.9.13"
  }
 },
 "nbformat": 4,
 "nbformat_minor": 5
}

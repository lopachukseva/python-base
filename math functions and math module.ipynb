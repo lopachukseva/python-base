{
 "cells": [
  {
   "cell_type": "markdown",
   "id": "e2b0c6a9",
   "metadata": {},
   "source": [
    "## Математические функции"
   ]
  },
  {
   "cell_type": "markdown",
   "id": "60162aa0",
   "metadata": {},
   "source": [
    "### Модуль числа:"
   ]
  },
  {
   "cell_type": "code",
   "execution_count": 1,
   "id": "818ba3bf",
   "metadata": {},
   "outputs": [
    {
     "data": {
      "text/plain": [
       "10"
      ]
     },
     "execution_count": 1,
     "metadata": {},
     "output_type": "execute_result"
    }
   ],
   "source": [
    "abs(-10)"
   ]
  },
  {
   "cell_type": "code",
   "execution_count": 2,
   "id": "563a5cfe",
   "metadata": {},
   "outputs": [
    {
     "data": {
      "text/plain": [
       "0.5"
      ]
     },
     "execution_count": 2,
     "metadata": {},
     "output_type": "execute_result"
    }
   ],
   "source": [
    "abs(0.5)"
   ]
  },
  {
   "cell_type": "markdown",
   "id": "f367087f",
   "metadata": {},
   "source": [
    "Аргумент обязятельно должен быть числовой"
   ]
  },
  {
   "cell_type": "markdown",
   "id": "7c66e42d",
   "metadata": {},
   "source": [
    "### Минимальное/Максимальное среди переданных чисел:"
   ]
  },
  {
   "cell_type": "code",
   "execution_count": 3,
   "id": "21305359",
   "metadata": {},
   "outputs": [
    {
     "data": {
      "text/plain": [
       "-5"
      ]
     },
     "execution_count": 3,
     "metadata": {},
     "output_type": "execute_result"
    }
   ],
   "source": [
    "min(0, -5, 6, 9)"
   ]
  },
  {
   "cell_type": "code",
   "execution_count": 4,
   "id": "f985c027",
   "metadata": {},
   "outputs": [
    {
     "data": {
      "text/plain": [
       "100"
      ]
     },
     "execution_count": 4,
     "metadata": {},
     "output_type": "execute_result"
    }
   ],
   "source": [
    "max(8, 100, -4, 0)"
   ]
  },
  {
   "cell_type": "markdown",
   "id": "7b67f784",
   "metadata": {},
   "source": [
    "### Возведение в степень:"
   ]
  },
  {
   "cell_type": "code",
   "execution_count": 5,
   "id": "c78c1ade",
   "metadata": {
    "scrolled": false
   },
   "outputs": [
    {
     "data": {
      "text/plain": [
       "9"
      ]
     },
     "execution_count": 5,
     "metadata": {},
     "output_type": "execute_result"
    }
   ],
   "source": [
    "pow(3, 2)"
   ]
  },
  {
   "cell_type": "markdown",
   "id": "1034f2b4",
   "metadata": {},
   "source": [
    "Это аналог операции"
   ]
  },
  {
   "cell_type": "code",
   "execution_count": 6,
   "id": "1b314c9d",
   "metadata": {},
   "outputs": [
    {
     "data": {
      "text/plain": [
       "9"
      ]
     },
     "execution_count": 6,
     "metadata": {},
     "output_type": "execute_result"
    }
   ],
   "source": [
    "3 ** 2"
   ]
  },
  {
   "cell_type": "markdown",
   "id": "97e83f54",
   "metadata": {},
   "source": [
    "### Округление к ближайшему целому:"
   ]
  },
  {
   "cell_type": "code",
   "execution_count": 7,
   "id": "7ca82f20",
   "metadata": {},
   "outputs": [
    {
     "data": {
      "text/plain": [
       "0"
      ]
     },
     "execution_count": 7,
     "metadata": {},
     "output_type": "execute_result"
    }
   ],
   "source": [
    "round(0.1)"
   ]
  },
  {
   "cell_type": "code",
   "execution_count": 8,
   "id": "9bcf7959",
   "metadata": {},
   "outputs": [
    {
     "data": {
      "text/plain": [
       "2"
      ]
     },
     "execution_count": 8,
     "metadata": {},
     "output_type": "execute_result"
    }
   ],
   "source": [
    "round(1.6)"
   ]
  },
  {
   "cell_type": "raw",
   "id": "aa820842",
   "metadata": {},
   "source": [
    "Округление до определенного знака. Для этого вторым аргументом передается число знаков после точки:"
   ]
  },
  {
   "cell_type": "code",
   "execution_count": 9,
   "id": "9e3f3dca",
   "metadata": {},
   "outputs": [
    {
     "data": {
      "text/plain": [
       "2.55"
      ]
     },
     "execution_count": 9,
     "metadata": {},
     "output_type": "execute_result"
    }
   ],
   "source": [
    "round(2.5478, 2)"
   ]
  },
  {
   "cell_type": "markdown",
   "id": "bd817836",
   "metadata": {},
   "source": [
    "Если значение отрицательное - то происходит округление до десятков, сотен и так далее. Т.е. передается число знаков до точки:"
   ]
  },
  {
   "cell_type": "code",
   "execution_count": 10,
   "id": "f5d57ed3",
   "metadata": {},
   "outputs": [
    {
     "data": {
      "text/plain": [
       "20"
      ]
     },
     "execution_count": 10,
     "metadata": {},
     "output_type": "execute_result"
    }
   ],
   "source": [
    "round(18, -1)"
   ]
  },
  {
   "cell_type": "code",
   "execution_count": 11,
   "id": "a1b1a87a",
   "metadata": {},
   "outputs": [
    {
     "data": {
      "text/plain": [
       "100"
      ]
     },
     "execution_count": 11,
     "metadata": {},
     "output_type": "execute_result"
    }
   ],
   "source": [
    "round(56, -2)"
   ]
  },
  {
   "cell_type": "markdown",
   "id": "d8b34563",
   "metadata": {},
   "source": [
    "Функции можно вкладывать друг в друга:"
   ]
  },
  {
   "cell_type": "code",
   "execution_count": 12,
   "id": "c8be06c8",
   "metadata": {
    "scrolled": true
   },
   "outputs": [
    {
     "data": {
      "text/plain": [
       "10"
      ]
     },
     "execution_count": 12,
     "metadata": {},
     "output_type": "execute_result"
    }
   ],
   "source": [
    "max(3, 4, -1, abs(-10))"
   ]
  },
  {
   "cell_type": "markdown",
   "id": "5548a18e",
   "metadata": {},
   "source": [
    "## Модуль math"
   ]
  },
  {
   "cell_type": "code",
   "execution_count": 13,
   "id": "ee0962af",
   "metadata": {},
   "outputs": [],
   "source": [
    "import math"
   ]
  },
  {
   "cell_type": "markdown",
   "id": "6994d58c",
   "metadata": {},
   "source": [
    "### Округление числа до наибольшего целого:"
   ]
  },
  {
   "cell_type": "code",
   "execution_count": 14,
   "id": "2fb9d9c4",
   "metadata": {},
   "outputs": [
    {
     "data": {
      "text/plain": [
       "4"
      ]
     },
     "execution_count": 14,
     "metadata": {},
     "output_type": "execute_result"
    }
   ],
   "source": [
    "math.ceil(3.2)"
   ]
  },
  {
   "cell_type": "code",
   "execution_count": 15,
   "id": "3dc4e05f",
   "metadata": {},
   "outputs": [
    {
     "data": {
      "text/plain": [
       "-3"
      ]
     },
     "execution_count": 15,
     "metadata": {},
     "output_type": "execute_result"
    }
   ],
   "source": [
    "math.ceil(-3.2)"
   ]
  },
  {
   "cell_type": "markdown",
   "id": "82984792",
   "metadata": {},
   "source": [
    "### Округление числа до наименьшего целого:"
   ]
  },
  {
   "cell_type": "code",
   "execution_count": 16,
   "id": "09f82bba",
   "metadata": {},
   "outputs": [
    {
     "data": {
      "text/plain": [
       "3"
      ]
     },
     "execution_count": 16,
     "metadata": {},
     "output_type": "execute_result"
    }
   ],
   "source": [
    "math.floor(3.2)"
   ]
  },
  {
   "cell_type": "code",
   "execution_count": 17,
   "id": "2c56dfaa",
   "metadata": {},
   "outputs": [
    {
     "data": {
      "text/plain": [
       "-4"
      ]
     },
     "execution_count": 17,
     "metadata": {},
     "output_type": "execute_result"
    }
   ],
   "source": [
    "math.floor(-3.2)"
   ]
  },
  {
   "cell_type": "markdown",
   "id": "9ffb6aae",
   "metadata": {},
   "source": [
    "### Факториал числа:"
   ]
  },
  {
   "cell_type": "code",
   "execution_count": 18,
   "id": "ae11b0a1",
   "metadata": {},
   "outputs": [
    {
     "data": {
      "text/plain": [
       "24"
      ]
     },
     "execution_count": 18,
     "metadata": {},
     "output_type": "execute_result"
    }
   ],
   "source": [
    "math.factorial(4)"
   ]
  },
  {
   "cell_type": "markdown",
   "id": "02799e98",
   "metadata": {},
   "source": [
    "### Удаление дробной части:"
   ]
  },
  {
   "cell_type": "code",
   "execution_count": 19,
   "id": "677a9f17",
   "metadata": {},
   "outputs": [
    {
     "data": {
      "text/plain": [
       "5"
      ]
     },
     "execution_count": 19,
     "metadata": {},
     "output_type": "execute_result"
    }
   ],
   "source": [
    "math.trunc(5.6)"
   ]
  },
  {
   "cell_type": "markdown",
   "id": "a278ac32",
   "metadata": {},
   "source": [
    "Это аналог функции int, которая выполняет то же самое:"
   ]
  },
  {
   "cell_type": "code",
   "execution_count": 20,
   "id": "f4543f65",
   "metadata": {},
   "outputs": [
    {
     "data": {
      "text/plain": [
       "5"
      ]
     },
     "execution_count": 20,
     "metadata": {},
     "output_type": "execute_result"
    }
   ],
   "source": [
    "int(5.8)"
   ]
  },
  {
   "cell_type": "markdown",
   "id": "11bb1700",
   "metadata": {},
   "source": [
    "### Логарифм:"
   ]
  },
  {
   "cell_type": "markdown",
   "id": "45bdb37c",
   "metadata": {},
   "source": [
    "Логарифм от 4 по основанию 2:"
   ]
  },
  {
   "cell_type": "code",
   "execution_count": 21,
   "id": "8600d067",
   "metadata": {},
   "outputs": [
    {
     "data": {
      "text/plain": [
       "2.0"
      ]
     },
     "execution_count": 21,
     "metadata": {},
     "output_type": "execute_result"
    }
   ],
   "source": [
    "math.log2(4)"
   ]
  },
  {
   "cell_type": "markdown",
   "id": "04028893",
   "metadata": {},
   "source": [
    "Натуральный логарифм от 4:"
   ]
  },
  {
   "cell_type": "code",
   "execution_count": 22,
   "id": "1ae1a496",
   "metadata": {},
   "outputs": [
    {
     "data": {
      "text/plain": [
       "1.3862943611198906"
      ]
     },
     "execution_count": 22,
     "metadata": {},
     "output_type": "execute_result"
    }
   ],
   "source": [
    "math.log(4)"
   ]
  },
  {
   "cell_type": "markdown",
   "id": "15b98c2d",
   "metadata": {},
   "source": [
    "Также основание можно передавать вторым аргументом:"
   ]
  },
  {
   "cell_type": "code",
   "execution_count": 23,
   "id": "932b5718",
   "metadata": {},
   "outputs": [
    {
     "data": {
      "text/plain": [
       "2.0"
      ]
     },
     "execution_count": 23,
     "metadata": {},
     "output_type": "execute_result"
    }
   ],
   "source": [
    "math.log(4, 2)"
   ]
  },
  {
   "cell_type": "markdown",
   "id": "d51a6315",
   "metadata": {},
   "source": [
    "### Квадратный корень:"
   ]
  },
  {
   "cell_type": "code",
   "execution_count": 24,
   "id": "e11555ab",
   "metadata": {},
   "outputs": [
    {
     "data": {
      "text/plain": [
       "7.0"
      ]
     },
     "execution_count": 24,
     "metadata": {},
     "output_type": "execute_result"
    }
   ],
   "source": [
    "math.sqrt(49)"
   ]
  },
  {
   "cell_type": "markdown",
   "id": "5ebdd6bb",
   "metadata": {},
   "source": [
    "### Тригонометрические функции:"
   ]
  },
  {
   "cell_type": "code",
   "execution_count": 25,
   "id": "0c0db4bf",
   "metadata": {},
   "outputs": [
    {
     "data": {
      "text/plain": [
       "-0.9899924966004454"
      ]
     },
     "execution_count": 25,
     "metadata": {},
     "output_type": "execute_result"
    }
   ],
   "source": [
    "math.cos(3)"
   ]
  },
  {
   "cell_type": "code",
   "execution_count": 26,
   "id": "73c8e67f",
   "metadata": {},
   "outputs": [
    {
     "data": {
      "text/plain": [
       "0.479425538604203"
      ]
     },
     "execution_count": 26,
     "metadata": {},
     "output_type": "execute_result"
    }
   ],
   "source": [
    "math.sin(0.5)"
   ]
  },
  {
   "cell_type": "code",
   "execution_count": 27,
   "id": "efac11e8",
   "metadata": {},
   "outputs": [
    {
     "data": {
      "text/plain": [
       "3.141592653589793"
      ]
     },
     "execution_count": 27,
     "metadata": {},
     "output_type": "execute_result"
    }
   ],
   "source": [
    "math.pi"
   ]
  },
  {
   "cell_type": "code",
   "execution_count": 28,
   "id": "21e38e47",
   "metadata": {},
   "outputs": [
    {
     "data": {
      "text/plain": [
       "2.718281828459045"
      ]
     },
     "execution_count": 28,
     "metadata": {},
     "output_type": "execute_result"
    }
   ],
   "source": [
    "math.e"
   ]
  },
  {
   "cell_type": "markdown",
   "id": "74216a87",
   "metadata": {},
   "source": [
    "Также существует множество других функций."
   ]
  }
 ],
 "metadata": {
  "kernelspec": {
   "display_name": "Python 3 (ipykernel)",
   "language": "python",
   "name": "python3"
  },
  "language_info": {
   "codemirror_mode": {
    "name": "ipython",
    "version": 3
   },
   "file_extension": ".py",
   "mimetype": "text/x-python",
   "name": "python",
   "nbconvert_exporter": "python",
   "pygments_lexer": "ipython3",
   "version": "3.9.13"
  }
 },
 "nbformat": 4,
 "nbformat_minor": 5
}

{
 "cells": [
  {
   "cell_type": "markdown",
   "id": "f3c4c05d",
   "metadata": {},
   "source": [
    "## Индексы строк"
   ]
  },
  {
   "cell_type": "markdown",
   "id": "2c84704c",
   "metadata": {},
   "source": [
    "Все строки представляют собой упорядоченный набор символов. У каждого символа строки есть свой порядковый номер - индекс. Эти индексы можно использовать для обращения к отдельному символу строки."
   ]
  },
  {
   "cell_type": "code",
   "execution_count": 60,
   "id": "4523875a",
   "metadata": {},
   "outputs": [
    {
     "data": {
      "text/plain": [
       "'A'"
      ]
     },
     "execution_count": 60,
     "metadata": {},
     "output_type": "execute_result"
    }
   ],
   "source": [
    "\"Apple\"[0]"
   ]
  },
  {
   "cell_type": "code",
   "execution_count": 50,
   "id": "b06b69b2",
   "metadata": {},
   "outputs": [],
   "source": [
    "s = \"Hello Python!\""
   ]
  },
  {
   "cell_type": "code",
   "execution_count": 51,
   "id": "c12d98b5",
   "metadata": {
    "scrolled": false
   },
   "outputs": [
    {
     "data": {
      "text/plain": [
       "'H'"
      ]
     },
     "execution_count": 51,
     "metadata": {},
     "output_type": "execute_result"
    }
   ],
   "source": [
    "s[0]"
   ]
  },
  {
   "cell_type": "code",
   "execution_count": 52,
   "id": "0a78e2c1",
   "metadata": {
    "scrolled": false
   },
   "outputs": [
    {
     "data": {
      "text/plain": [
       "'P'"
      ]
     },
     "execution_count": 52,
     "metadata": {},
     "output_type": "execute_result"
    }
   ],
   "source": [
    "s[6]"
   ]
  },
  {
   "cell_type": "markdown",
   "id": "de2121d4",
   "metadata": {},
   "source": [
    "Индексы начинаются с нуля. Для обращения к последнему символу строки можно вычислить ее длину, а затем отнять единицу:"
   ]
  },
  {
   "cell_type": "code",
   "execution_count": 53,
   "id": "b375622b",
   "metadata": {},
   "outputs": [
    {
     "data": {
      "text/plain": [
       "'!'"
      ]
     },
     "execution_count": 53,
     "metadata": {},
     "output_type": "execute_result"
    }
   ],
   "source": [
    "s[len(s)-1]"
   ]
  },
  {
   "cell_type": "markdown",
   "id": "f0639843",
   "metadata": {},
   "source": [
    "Либо же воспользоваться отрицательным индексом, и получить тот же самый результат:"
   ]
  },
  {
   "cell_type": "code",
   "execution_count": 56,
   "id": "bb95cc6e",
   "metadata": {},
   "outputs": [
    {
     "data": {
      "text/plain": [
       "'!'"
      ]
     },
     "execution_count": 56,
     "metadata": {},
     "output_type": "execute_result"
    }
   ],
   "source": [
    "s[-1]"
   ]
  },
  {
   "cell_type": "markdown",
   "id": "17ae6694",
   "metadata": {},
   "source": [
    "Индекс -1 означает последний элемент (первый с конца). Если нужно взять предпоследний элемент (второй с конца) - то это уже индекс -2 и так далее:"
   ]
  },
  {
   "cell_type": "code",
   "execution_count": 58,
   "id": "e6239a0f",
   "metadata": {},
   "outputs": [
    {
     "data": {
      "text/plain": [
       "'n'"
      ]
     },
     "execution_count": 58,
     "metadata": {},
     "output_type": "execute_result"
    }
   ],
   "source": [
    "s[-2]"
   ]
  },
  {
   "cell_type": "code",
   "execution_count": 59,
   "id": "d2d84e58",
   "metadata": {},
   "outputs": [
    {
     "data": {
      "text/plain": [
       "'o'"
      ]
     },
     "execution_count": 59,
     "metadata": {},
     "output_type": "execute_result"
    }
   ],
   "source": [
    "s[-3]"
   ]
  },
  {
   "cell_type": "markdown",
   "id": "8dce2f63",
   "metadata": {},
   "source": [
    "## Срезы"
   ]
  },
  {
   "cell_type": "markdown",
   "id": "d60fc6f2",
   "metadata": {},
   "source": [
    "Во всех этих случаях на выходе новая строка, которая содержит один символ. Но из строки можно также выделять несколько символов, используя следующий синтаксис:<br>\n",
    "- string[start:stop]"
   ]
  },
  {
   "cell_type": "markdown",
   "id": "e74f8de2",
   "metadata": {},
   "source": [
    "Здесь start - начальный индекс, stop - конечный (символ с этим индексом игнорируется)"
   ]
  },
  {
   "cell_type": "code",
   "execution_count": 68,
   "id": "256453f6",
   "metadata": {},
   "outputs": [
    {
     "data": {
      "text/plain": [
       "'ello'"
      ]
     },
     "execution_count": 68,
     "metadata": {},
     "output_type": "execute_result"
    }
   ],
   "source": [
    "s[1:5]"
   ]
  },
  {
   "cell_type": "markdown",
   "id": "978df7e5",
   "metadata": {},
   "source": [
    "На выходе - строка, состоящая из элементов с индексами 1, 2, 3, 4"
   ]
  },
  {
   "cell_type": "markdown",
   "id": "b24fbd5a",
   "metadata": {},
   "source": [
    "Если не указывать start - это будет означать, что срез будет выполнен начиная с нулевого индекса:"
   ]
  },
  {
   "cell_type": "code",
   "execution_count": 70,
   "id": "e827830e",
   "metadata": {},
   "outputs": [
    {
     "data": {
      "text/plain": [
       "'Hello'"
      ]
     },
     "execution_count": 70,
     "metadata": {},
     "output_type": "execute_result"
    }
   ],
   "source": [
    "s[:5]"
   ]
  },
  {
   "cell_type": "markdown",
   "id": "f2d4db88",
   "metadata": {},
   "source": [
    "А если не указывать stop - то срез будет выполнен до последнего символа:"
   ]
  },
  {
   "cell_type": "code",
   "execution_count": 74,
   "id": "4ef6e439",
   "metadata": {},
   "outputs": [
    {
     "data": {
      "text/plain": [
       "'Python!'"
      ]
     },
     "execution_count": 74,
     "metadata": {},
     "output_type": "execute_result"
    }
   ],
   "source": [
    "s[6:]"
   ]
  },
  {
   "cell_type": "markdown",
   "id": "af07b56b",
   "metadata": {},
   "source": [
    "Если не указывать ни start, ни stop - будет получена строка, идентичная изначальной:"
   ]
  },
  {
   "cell_type": "code",
   "execution_count": 76,
   "id": "c57d8eb4",
   "metadata": {},
   "outputs": [
    {
     "data": {
      "text/plain": [
       "'Hello Python!'"
      ]
     },
     "execution_count": 76,
     "metadata": {},
     "output_type": "execute_result"
    }
   ],
   "source": [
    "s[:]"
   ]
  },
  {
   "cell_type": "markdown",
   "id": "5a7285e9",
   "metadata": {},
   "source": [
    "И в отличии от предыдущих срезов это будет тот же самый объект:"
   ]
  },
  {
   "cell_type": "code",
   "execution_count": 79,
   "id": "5fd72ce7",
   "metadata": {},
   "outputs": [
    {
     "name": "stdout",
     "output_type": "stream",
     "text": [
      "2052774266352\n",
      "2052774266352\n"
     ]
    }
   ],
   "source": [
    "sn = s[:]\n",
    "print(id(s))\n",
    "print(id(sn))"
   ]
  },
  {
   "cell_type": "markdown",
   "id": "7f998d59",
   "metadata": {},
   "source": [
    "В срезах можно использовать и отрицательные индексы. В данном случае срез будет выполнен начиная с символа с индексом 2, и заканчивая символом, который имеет позицию второго с конца:"
   ]
  },
  {
   "cell_type": "code",
   "execution_count": 81,
   "id": "06fda239",
   "metadata": {},
   "outputs": [
    {
     "data": {
      "text/plain": [
       "'llo Pytho'"
      ]
     },
     "execution_count": 81,
     "metadata": {},
     "output_type": "execute_result"
    }
   ],
   "source": [
    "s[2:-2]"
   ]
  },
  {
   "cell_type": "markdown",
   "id": "ed19cb53",
   "metadata": {},
   "source": [
    "### Шаг перебора символов"
   ]
  },
  {
   "cell_type": "markdown",
   "id": "86cd26cf",
   "metadata": {},
   "source": [
    "- string[start:stop:step]"
   ]
  },
  {
   "cell_type": "markdown",
   "id": "04b76300",
   "metadata": {},
   "source": [
    "step - шаг перебора символов. По умолчанию равен единице, и символы перебираются последовательно"
   ]
  },
  {
   "cell_type": "code",
   "execution_count": 82,
   "id": "7aa2d18f",
   "metadata": {},
   "outputs": [
    {
     "data": {
      "text/plain": [
       "'loPt'"
      ]
     },
     "execution_count": 82,
     "metadata": {},
     "output_type": "execute_result"
    }
   ],
   "source": [
    "s[2:10:2]"
   ]
  },
  {
   "cell_type": "markdown",
   "id": "20aa8a23",
   "metadata": {},
   "source": [
    "Первый символ символ start. Следующий - start+step. И так до символа stop, который так же не включается в срез.\n",
    "В примере выше - символы с индексами 2, 4, 6, 8"
   ]
  },
  {
   "cell_type": "markdown",
   "id": "483af731",
   "metadata": {},
   "source": [
    "Можно указать только одну границу и шаг:"
   ]
  },
  {
   "cell_type": "code",
   "execution_count": 85,
   "id": "94a08844",
   "metadata": {},
   "outputs": [
    {
     "data": {
      "text/plain": [
       "'eoyo'"
      ]
     },
     "execution_count": 85,
     "metadata": {},
     "output_type": "execute_result"
    }
   ],
   "source": [
    "s[1::3]"
   ]
  },
  {
   "cell_type": "code",
   "execution_count": 86,
   "id": "b6e5e5b7",
   "metadata": {},
   "outputs": [
    {
     "data": {
      "text/plain": [
       "'HlP'"
      ]
     },
     "execution_count": 86,
     "metadata": {},
     "output_type": "execute_result"
    }
   ],
   "source": [
    "s[:8:3]"
   ]
  },
  {
   "cell_type": "markdown",
   "id": "440f9995",
   "metadata": {},
   "source": [
    "Или не указывать границы вовсе, и указать только шаг:"
   ]
  },
  {
   "cell_type": "code",
   "execution_count": 87,
   "id": "70a25888",
   "metadata": {},
   "outputs": [
    {
     "data": {
      "text/plain": [
       "'HlPh!'"
      ]
     },
     "execution_count": 87,
     "metadata": {},
     "output_type": "execute_result"
    }
   ],
   "source": [
    "s[::3]"
   ]
  },
  {
   "cell_type": "markdown",
   "id": "28d01cf3",
   "metadata": {},
   "source": [
    "Возможно использовать отрицательный индекс в шаге. В таком случае элементы будут выделены с конца:"
   ]
  },
  {
   "cell_type": "code",
   "execution_count": 93,
   "id": "37039b92",
   "metadata": {},
   "outputs": [
    {
     "data": {
      "text/plain": [
       "'!nohtyP olleH'"
      ]
     },
     "execution_count": 93,
     "metadata": {},
     "output_type": "execute_result"
    }
   ],
   "source": [
    "s[::-1]"
   ]
  },
  {
   "cell_type": "markdown",
   "id": "bc400077",
   "metadata": {},
   "source": [
    "Каждый второй с конца:"
   ]
  },
  {
   "cell_type": "code",
   "execution_count": 94,
   "id": "974c4c6d",
   "metadata": {},
   "outputs": [
    {
     "data": {
      "text/plain": [
       "'!otPolH'"
      ]
     },
     "execution_count": 94,
     "metadata": {},
     "output_type": "execute_result"
    }
   ],
   "source": [
    "s[::-2]"
   ]
  },
  {
   "cell_type": "markdown",
   "id": "a34f1aa8",
   "metadata": {},
   "source": [
    "Строки относятся к неизменяемым типам данных, и изменить их символы, обратившись к ним по индексу, нельзя."
   ]
  },
  {
   "cell_type": "code",
   "execution_count": null,
   "id": "12f19c4e",
   "metadata": {},
   "outputs": [],
   "source": []
  }
 ],
 "metadata": {
  "kernelspec": {
   "display_name": "Python 3 (ipykernel)",
   "language": "python",
   "name": "python3"
  },
  "language_info": {
   "codemirror_mode": {
    "name": "ipython",
    "version": 3
   },
   "file_extension": ".py",
   "mimetype": "text/x-python",
   "name": "python",
   "nbconvert_exporter": "python",
   "pygments_lexer": "ipython3",
   "version": "3.9.13"
  }
 },
 "nbformat": 4,
 "nbformat_minor": 5
}

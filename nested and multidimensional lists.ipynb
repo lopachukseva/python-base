{
 "cells": [
  {
   "cell_type": "markdown",
   "id": "f7d8e836",
   "metadata": {},
   "source": [
    "Список может быть элементом другого списка:"
   ]
  },
  {
   "cell_type": "code",
   "execution_count": 1,
   "id": "0e08f735",
   "metadata": {},
   "outputs": [],
   "source": [
    "a = [[1, 2, 3], [4, 5, 6], [7, 8, 9]]"
   ]
  },
  {
   "cell_type": "markdown",
   "id": "5e6b6347",
   "metadata": {},
   "source": [
    "Такой список называется вложенным. Для обращения к нему используется тот же синтаксис, что и для обращения к любому другому элементу:"
   ]
  },
  {
   "cell_type": "code",
   "execution_count": 2,
   "id": "c16eeacd",
   "metadata": {
    "scrolled": true
   },
   "outputs": [
    {
     "data": {
      "text/plain": [
       "[1, 2, 3]"
      ]
     },
     "execution_count": 2,
     "metadata": {},
     "output_type": "execute_result"
    }
   ],
   "source": [
    "a[0]"
   ]
  },
  {
   "cell_type": "markdown",
   "id": "5e4a7c07",
   "metadata": {},
   "source": [
    "Для обращения к элементу вложенного списка:"
   ]
  },
  {
   "cell_type": "code",
   "execution_count": 3,
   "id": "8ff2478d",
   "metadata": {},
   "outputs": [
    {
     "data": {
      "text/plain": [
       "1"
      ]
     },
     "execution_count": 3,
     "metadata": {},
     "output_type": "execute_result"
    }
   ],
   "source": [
    "a[0][0]"
   ]
  },
  {
   "cell_type": "code",
   "execution_count": 4,
   "id": "39618280",
   "metadata": {},
   "outputs": [
    {
     "data": {
      "text/plain": [
       "6"
      ]
     },
     "execution_count": 4,
     "metadata": {},
     "output_type": "execute_result"
    }
   ],
   "source": [
    "a[1][2]"
   ]
  },
  {
   "cell_type": "code",
   "execution_count": 5,
   "id": "73d9dd36",
   "metadata": {},
   "outputs": [],
   "source": [
    "line = [1, 2, 3]"
   ]
  },
  {
   "cell_type": "code",
   "execution_count": 6,
   "id": "cc24cc25",
   "metadata": {
    "scrolled": false
   },
   "outputs": [
    {
     "data": {
      "text/plain": [
       "[[1, 2, 3], [1, 2, 3], [1, 2, 3]]"
      ]
     },
     "execution_count": 6,
     "metadata": {},
     "output_type": "execute_result"
    }
   ],
   "source": [
    "nlist = [line, line, line]\n",
    "nlist"
   ]
  },
  {
   "cell_type": "code",
   "execution_count": 7,
   "id": "fa19a693",
   "metadata": {},
   "outputs": [
    {
     "data": {
      "text/plain": [
       "[[1, 2, 3], [1, 2, 3], [1, 2, 3]]"
      ]
     },
     "execution_count": 7,
     "metadata": {},
     "output_type": "execute_result"
    }
   ],
   "source": [
    "nlist = [line[:], line[:], line[:]]\n",
    "nlist"
   ]
  },
  {
   "cell_type": "code",
   "execution_count": 8,
   "id": "bee34679",
   "metadata": {},
   "outputs": [
    {
     "data": {
      "text/plain": [
       "[0, 0, 0, 0, 0]"
      ]
     },
     "execution_count": 8,
     "metadata": {},
     "output_type": "execute_result"
    }
   ],
   "source": [
    "[0] * 5"
   ]
  },
  {
   "cell_type": "code",
   "execution_count": null,
   "id": "caeff8b8",
   "metadata": {},
   "outputs": [],
   "source": []
  }
 ],
 "metadata": {
  "kernelspec": {
   "display_name": "Python 3 (ipykernel)",
   "language": "python",
   "name": "python3"
  },
  "language_info": {
   "codemirror_mode": {
    "name": "ipython",
    "version": 3
   },
   "file_extension": ".py",
   "mimetype": "text/x-python",
   "name": "python",
   "nbconvert_exporter": "python",
   "pygments_lexer": "ipython3",
   "version": "3.9.13"
  }
 },
 "nbformat": 4,
 "nbformat_minor": 5
}

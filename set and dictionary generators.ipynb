{
 "cells": [
  {
   "cell_type": "markdown",
   "id": "959003c2",
   "metadata": {},
   "source": [
    "## Генераторы множеств и словарей"
   ]
  },
  {
   "cell_type": "markdown",
   "id": "0267a60e",
   "metadata": {},
   "source": [
    "По аналогии со списками у множеств и словарей также есть генераторы. Отличие в синтаксисе - конструкция не в квадратных скобках, а в круглых:"
   ]
  },
  {
   "cell_type": "markdown",
   "id": "ff8a19e5",
   "metadata": {},
   "source": [
    "{<способ формирования значения> for <счетчик> in <итерируемый объект>}"
   ]
  },
  {
   "cell_type": "markdown",
   "id": "7c054791",
   "metadata": {},
   "source": [
    "На выходе будет множество:"
   ]
  },
  {
   "cell_type": "code",
   "execution_count": 6,
   "id": "eeaca27b",
   "metadata": {},
   "outputs": [
    {
     "data": {
      "text/plain": [
       "{0, 1, 4, 9, 16, 25, 36, 49, 64, 81}"
      ]
     },
     "execution_count": 6,
     "metadata": {},
     "output_type": "execute_result"
    }
   ],
   "source": [
    "x = {x ** 2 for x in range(10)}\n",
    "x"
   ]
  },
  {
   "cell_type": "markdown",
   "id": "4c8cc46f",
   "metadata": {},
   "source": [
    "Для этого, чтобы на выходе был словарь, необходимо добавить ключ:"
   ]
  },
  {
   "cell_type": "code",
   "execution_count": 8,
   "id": "2f202215",
   "metadata": {},
   "outputs": [
    {
     "data": {
      "text/plain": [
       "{0: 0, 1: 1, 2: 4, 3: 9, 4: 16, 5: 25, 6: 36, 7: 49, 8: 64, 9: 81}"
      ]
     },
     "execution_count": 8,
     "metadata": {},
     "output_type": "execute_result"
    }
   ],
   "source": [
    "x = {x: x ** 2 for x in range(10)}\n",
    "x"
   ]
  },
  {
   "cell_type": "code",
   "execution_count": 9,
   "id": "89e54621",
   "metadata": {},
   "outputs": [
    {
     "data": {
      "text/plain": [
       "{'Квадрат числа 0': 0,\n",
       " 'Квадрат числа 1': 1,\n",
       " 'Квадрат числа 2': 4,\n",
       " 'Квадрат числа 3': 9,\n",
       " 'Квадрат числа 4': 16,\n",
       " 'Квадрат числа 5': 25,\n",
       " 'Квадрат числа 6': 36,\n",
       " 'Квадрат числа 7': 49,\n",
       " 'Квадрат числа 8': 64,\n",
       " 'Квадрат числа 9': 81}"
      ]
     },
     "execution_count": 9,
     "metadata": {},
     "output_type": "execute_result"
    }
   ],
   "source": [
    "x = {f'Квадрат числа {x}': x ** 2 for x in range(10)}\n",
    "x"
   ]
  },
  {
   "cell_type": "markdown",
   "id": "64e4f73d",
   "metadata": {},
   "source": [
    "Предположим, что существует список, значения которых нужно преобразовать в тип int и создать множество:"
   ]
  },
  {
   "cell_type": "code",
   "execution_count": 12,
   "id": "058dda1f",
   "metadata": {},
   "outputs": [
    {
     "data": {
      "text/plain": [
       "[1, 54, 5, 3, -5, '44', 34, 3, 1, '3']"
      ]
     },
     "execution_count": 12,
     "metadata": {},
     "output_type": "execute_result"
    }
   ],
   "source": [
    "d = [1, 54, 5, 3, -5, '44', 34, 3, 1, '3']\n",
    "d"
   ]
  },
  {
   "cell_type": "code",
   "execution_count": 13,
   "id": "a473b068",
   "metadata": {},
   "outputs": [
    {
     "data": {
      "text/plain": [
       "{-5, 1, 3, 5, 34, 44, 54}"
      ]
     },
     "execution_count": 13,
     "metadata": {},
     "output_type": "execute_result"
    }
   ],
   "source": [
    "e = {int(x) for x in d}\n",
    "e"
   ]
  },
  {
   "cell_type": "markdown",
   "id": "727af0e0",
   "metadata": {},
   "source": [
    "Это можно сделать и с помощью цикла, но время выполнения такой конструкции будет выше, чем генератора:"
   ]
  },
  {
   "cell_type": "code",
   "execution_count": 15,
   "id": "b37da2d3",
   "metadata": {},
   "outputs": [
    {
     "data": {
      "text/plain": [
       "{-5, 1, 3, 5, 34, 44, 54}"
      ]
     },
     "execution_count": 15,
     "metadata": {},
     "output_type": "execute_result"
    }
   ],
   "source": [
    "f = set()\n",
    "for x in d:\n",
    "    f.add(int(x))\n",
    "\n",
    "f"
   ]
  },
  {
   "cell_type": "markdown",
   "id": "d425813d",
   "metadata": {},
   "source": [
    "Предположим, что есть словарь, на основе которого нужно создать новый, у которого ключи переведены в верхний регистр, а значения преобразованы в int:"
   ]
  },
  {
   "cell_type": "code",
   "execution_count": 19,
   "id": "cb93bf27",
   "metadata": {},
   "outputs": [],
   "source": [
    "m = {\"неудовлетворительно\": 2, \"удовлетворительно\": \"3\", \"хорошо\": 4, \"отлично\": \"5\"}"
   ]
  },
  {
   "cell_type": "code",
   "execution_count": 20,
   "id": "ac59d5e8",
   "metadata": {},
   "outputs": [
    {
     "data": {
      "text/plain": [
       "{'НЕУДОВЛЕТВОРИТЕЛЬНО': 2, 'УДОВЛЕТВОРИТЕЛЬНО': 3, 'ХОРОШО': 4, 'ОТЛИЧНО': 5}"
      ]
     },
     "execution_count": 20,
     "metadata": {},
     "output_type": "execute_result"
    }
   ],
   "source": [
    "mn = {x.upper(): int(m[x]) for x in m}\n",
    "mn"
   ]
  },
  {
   "cell_type": "markdown",
   "id": "5888412e",
   "metadata": {},
   "source": [
    "Или можно воспользоваться методом items, который возвращает пару ключ-значение:"
   ]
  },
  {
   "cell_type": "code",
   "execution_count": 22,
   "id": "ecb8186a",
   "metadata": {},
   "outputs": [
    {
     "data": {
      "text/plain": [
       "{'НЕУДОВЛЕТВОРИТЕЛЬНО': 2, 'УДОВЛЕТВОРИТЕЛЬНО': 3, 'ХОРОШО': 4, 'ОТЛИЧНО': 5}"
      ]
     },
     "execution_count": 22,
     "metadata": {},
     "output_type": "execute_result"
    }
   ],
   "source": [
    "mk = {key.upper(): int(value) for key, value in m.items()}\n",
    "mk"
   ]
  },
  {
   "cell_type": "markdown",
   "id": "7252eafb",
   "metadata": {},
   "source": [
    "Или же превратить список в множество, но взять только положительные элементы:"
   ]
  },
  {
   "cell_type": "code",
   "execution_count": 28,
   "id": "3de748d0",
   "metadata": {},
   "outputs": [
    {
     "data": {
      "text/plain": [
       "[1, 54, '4', 5, 3, -5, 34, 3, 1, -4, '54', '3', '333']"
      ]
     },
     "execution_count": 28,
     "metadata": {},
     "output_type": "execute_result"
    }
   ],
   "source": [
    "d = [1, 54, '4', 5, 3, -5, 34, 3, 1, -4, '54', '3', '333']\n",
    "d"
   ]
  },
  {
   "cell_type": "code",
   "execution_count": 29,
   "id": "d256de6e",
   "metadata": {},
   "outputs": [
    {
     "data": {
      "text/plain": [
       "{1, 3, 4, 5, 34, 54, 333}"
      ]
     },
     "execution_count": 29,
     "metadata": {},
     "output_type": "execute_result"
    }
   ],
   "source": [
    "j = {int(x) for x in d if int(x) > 0}\n",
    "j"
   ]
  },
  {
   "cell_type": "markdown",
   "id": "fa7f2152",
   "metadata": {},
   "source": [
    "Или взять словарь, и поменять ключи со значениеми местами, и дополнительно взять оценки выше 3:"
   ]
  },
  {
   "cell_type": "code",
   "execution_count": 35,
   "id": "3e56de00",
   "metadata": {},
   "outputs": [],
   "source": [
    "m = {\"неудовлетворительно\": 2, \"удовлетворительно\": 3, \"хорошо\": 4, \"отлично\": 5}"
   ]
  },
  {
   "cell_type": "code",
   "execution_count": 34,
   "id": "229db177",
   "metadata": {},
   "outputs": [
    {
     "data": {
      "text/plain": [
       "{4: 'хорошо', 5: 'отлично'}"
      ]
     },
     "execution_count": 34,
     "metadata": {},
     "output_type": "execute_result"
    }
   ],
   "source": [
    "mr = {value:key for key, value in m.items() if value > 3}\n",
    "mr"
   ]
  },
  {
   "cell_type": "markdown",
   "id": "e40b10d7",
   "metadata": {},
   "source": [
    "По аналогии в генераторами списков генераторы словарей и множеств можно комбинировать и вкладывать друг в друга"
   ]
  }
 ],
 "metadata": {
  "kernelspec": {
   "display_name": "Python 3 (ipykernel)",
   "language": "python",
   "name": "python3"
  },
  "language_info": {
   "codemirror_mode": {
    "name": "ipython",
    "version": 3
   },
   "file_extension": ".py",
   "mimetype": "text/x-python",
   "name": "python",
   "nbconvert_exporter": "python",
   "pygments_lexer": "ipython3",
   "version": "3.9.13"
  }
 },
 "nbformat": 4,
 "nbformat_minor": 5
}

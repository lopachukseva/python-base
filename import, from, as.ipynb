{
 "cells": [
  {
   "cell_type": "markdown",
   "id": "44357d5f",
   "metadata": {},
   "source": [
    "Модуль в python представляет собой обычный файл с расширением .py, который имеет свое пространство имен."
   ]
  },
  {
   "cell_type": "markdown",
   "id": "0bdf3e0b",
   "metadata": {},
   "source": [
    "Для импортирования модуля необходимо написать ключевое слово import и имя модуля:"
   ]
  },
  {
   "cell_type": "code",
   "execution_count": 1,
   "id": "b317d5f8",
   "metadata": {},
   "outputs": [],
   "source": [
    "import math"
   ]
  },
  {
   "cell_type": "markdown",
   "id": "82e5d37c",
   "metadata": {},
   "source": [
    "Теперь переменная math является ссылкой на пространство имен модуля math, и через нее можно обращаться к переменным и функциям модуля:"
   ]
  },
  {
   "cell_type": "code",
   "execution_count": 2,
   "id": "b9bd05c5",
   "metadata": {},
   "outputs": [
    {
     "data": {
      "text/plain": [
       "3.141592653589793"
      ]
     },
     "execution_count": 2,
     "metadata": {},
     "output_type": "execute_result"
    }
   ],
   "source": [
    "math.pi"
   ]
  },
  {
   "cell_type": "markdown",
   "id": "6379cbec",
   "metadata": {},
   "source": [
    "Импортируемому модулю можно дать псевдоним. Таким образом можно исключить конфликт имен, а также заменить имя модуля на более короткое:"
   ]
  },
  {
   "cell_type": "code",
   "execution_count": 3,
   "id": "0de83415",
   "metadata": {},
   "outputs": [],
   "source": [
    "import math as mt"
   ]
  },
  {
   "cell_type": "markdown",
   "id": "3dccca04",
   "metadata": {},
   "source": [
    "Теперь на пространство имен ссылается другая переменная:"
   ]
  },
  {
   "cell_type": "code",
   "execution_count": 4,
   "id": "c58bd44a",
   "metadata": {},
   "outputs": [
    {
     "data": {
      "text/plain": [
       "0.8660254037844386"
      ]
     },
     "execution_count": 4,
     "metadata": {},
     "output_type": "execute_result"
    }
   ],
   "source": [
    "mt.sin(math.pi/3)"
   ]
  },
  {
   "cell_type": "markdown",
   "id": "e68d34a0",
   "metadata": {},
   "source": [
    "Также можно испортировать не весь модуль, а только его часть, воспользовавшись ключевым словом from:"
   ]
  },
  {
   "cell_type": "code",
   "execution_count": 5,
   "id": "e30e663e",
   "metadata": {},
   "outputs": [],
   "source": [
    "from math import pi"
   ]
  },
  {
   "cell_type": "markdown",
   "id": "dff9c5e8",
   "metadata": {},
   "source": [
    "Но с тем отличием, что все, что перечисляется после import, импортируется непосредственно в пространство имен программы. Таким образом, к переменным и функциям можно обращаться без переменной ссылки на пространство имен модуля:"
   ]
  },
  {
   "cell_type": "code",
   "execution_count": 6,
   "id": "a9ed6fba",
   "metadata": {},
   "outputs": [
    {
     "data": {
      "text/plain": [
       "3.141592653589793"
      ]
     },
     "execution_count": 6,
     "metadata": {},
     "output_type": "execute_result"
    }
   ],
   "source": [
    "pi"
   ]
  },
  {
   "cell_type": "markdown",
   "id": "3ee1db07",
   "metadata": {},
   "source": [
    "Но такой тип импорта может привести к конфликту имен, если имена импортируемых переменных и функций совпадают с уже имеющимися. Эту проблему также можно решить с помощью псевдонима:"
   ]
  },
  {
   "cell_type": "code",
   "execution_count": 7,
   "id": "defef73a",
   "metadata": {},
   "outputs": [],
   "source": [
    "from math import ceil as ce, sin, pi "
   ]
  },
  {
   "cell_type": "code",
   "execution_count": 8,
   "id": "4f457fea",
   "metadata": {
    "scrolled": true
   },
   "outputs": [
    {
     "data": {
      "text/plain": [
       "2"
      ]
     },
     "execution_count": 8,
     "metadata": {},
     "output_type": "execute_result"
    }
   ],
   "source": [
    "ce(1.9)"
   ]
  },
  {
   "cell_type": "code",
   "execution_count": 9,
   "id": "a5754e30",
   "metadata": {
    "scrolled": true
   },
   "outputs": [
    {
     "data": {
      "text/plain": [
       "3.141592653589793"
      ]
     },
     "execution_count": 9,
     "metadata": {},
     "output_type": "execute_result"
    }
   ],
   "source": [
    "pi"
   ]
  },
  {
   "cell_type": "markdown",
   "id": "4c2ae543",
   "metadata": {},
   "source": [
    "Также с помощью этой же конструкции можно импортировать из модуля все, что есть внутри него, используя символ *:"
   ]
  },
  {
   "cell_type": "code",
   "execution_count": 10,
   "id": "d9170526",
   "metadata": {},
   "outputs": [],
   "source": [
    "from math import *"
   ]
  },
  {
   "cell_type": "markdown",
   "id": "e0cdb24a",
   "metadata": {},
   "source": [
    "Теперь в пространстве имен доступно все, что есть в модулe math, и для обращения также не нужно использовать ссылок. Но делать так не рекомендуется, так как в случае, если таким образом будут импортированы функции из нескольких библиотек, случится конфликт имен, и функции одного модуля будут перезаписаны функциями из другого модуля."
   ]
  },
  {
   "cell_type": "markdown",
   "id": "e26d11a2",
   "metadata": {},
   "source": [
    "Импорт разных модулей можно записывать и в одну строку:"
   ]
  },
  {
   "cell_type": "code",
   "execution_count": 11,
   "id": "7427fdd0",
   "metadata": {},
   "outputs": [],
   "source": [
    "import math, time, pprint"
   ]
  },
  {
   "cell_type": "markdown",
   "id": "b9ee5534",
   "metadata": {},
   "source": [
    "Но по стандарту PEP8 рекомендуется все записывать в отдельной строке и в самом начале программы:"
   ]
  },
  {
   "cell_type": "code",
   "execution_count": 12,
   "id": "d2ca8954",
   "metadata": {},
   "outputs": [],
   "source": [
    "import math\n",
    "import time\n",
    "import pprint"
   ]
  },
  {
   "cell_type": "markdown",
   "id": "a42844c4",
   "metadata": {},
   "source": [
    "Для отображения пространства имен программы следует использовать функцию locals:"
   ]
  },
  {
   "cell_type": "code",
   "execution_count": 13,
   "id": "222d2215",
   "metadata": {},
   "outputs": [
    {
     "data": {
      "text/plain": [
       "{'__name__': '__main__',\n",
       " '__doc__': 'Automatically created module for IPython interactive environment',\n",
       " '__package__': None,\n",
       " '__loader__': None,\n",
       " '__spec__': None,\n",
       " '__builtin__': <module 'builtins' (built-in)>,\n",
       " '__builtins__': <module 'builtins' (built-in)>,\n",
       " '_ih': ['',\n",
       "  'import math',\n",
       "  'math.pi',\n",
       "  'import math as mt',\n",
       "  'mt.sin(math.pi/3)',\n",
       "  'from math import pi',\n",
       "  'pi',\n",
       "  'from math import ceil as ce, sin, pi ',\n",
       "  'ce(1.9)',\n",
       "  'pi',\n",
       "  'from math import *',\n",
       "  'import math, time, pprint',\n",
       "  'import math\\nimport time\\nimport pprint',\n",
       "  'locals()'],\n",
       " '_oh': {2: 3.141592653589793,\n",
       "  4: 0.8660254037844386,\n",
       "  6: 3.141592653589793,\n",
       "  8: 2,\n",
       "  9: 3.141592653589793},\n",
       " '_dh': ['C:\\\\Users\\\\Seva Lopachuk\\\\Desktop\\\\jupyter notebooks\\\\python base'],\n",
       " 'In': ['',\n",
       "  'import math',\n",
       "  'math.pi',\n",
       "  'import math as mt',\n",
       "  'mt.sin(math.pi/3)',\n",
       "  'from math import pi',\n",
       "  'pi',\n",
       "  'from math import ceil as ce, sin, pi ',\n",
       "  'ce(1.9)',\n",
       "  'pi',\n",
       "  'from math import *',\n",
       "  'import math, time, pprint',\n",
       "  'import math\\nimport time\\nimport pprint',\n",
       "  'locals()'],\n",
       " 'Out': {2: 3.141592653589793,\n",
       "  4: 0.8660254037844386,\n",
       "  6: 3.141592653589793,\n",
       "  8: 2,\n",
       "  9: 3.141592653589793},\n",
       " 'get_ipython': <bound method InteractiveShell.get_ipython of <ipykernel.zmqshell.ZMQInteractiveShell object at 0x0000025D430BC1F0>>,\n",
       " 'exit': <IPython.core.autocall.ZMQExitAutocall at 0x25d430bceb0>,\n",
       " 'quit': <IPython.core.autocall.ZMQExitAutocall at 0x25d430bceb0>,\n",
       " '_': 3.141592653589793,\n",
       " '__': 2,\n",
       " '___': 3.141592653589793,\n",
       " '_i': 'import math\\nimport time\\nimport pprint',\n",
       " '_ii': 'import math, time, pprint',\n",
       " '_iii': 'from math import *',\n",
       " '_i1': 'import math',\n",
       " 'math': <module 'math' (built-in)>,\n",
       " '_i2': 'math.pi',\n",
       " '_2': 3.141592653589793,\n",
       " '_i3': 'import math as mt',\n",
       " 'mt': <module 'math' (built-in)>,\n",
       " '_i4': 'mt.sin(math.pi/3)',\n",
       " '_4': 0.8660254037844386,\n",
       " '_i5': 'from math import pi',\n",
       " 'pi': 3.141592653589793,\n",
       " '_i6': 'pi',\n",
       " '_6': 3.141592653589793,\n",
       " '_i7': 'from math import ceil as ce, sin, pi ',\n",
       " 'ce': <function math.ceil(x, /)>,\n",
       " 'sin': <function math.sin(x, /)>,\n",
       " '_i8': 'ce(1.9)',\n",
       " '_8': 2,\n",
       " '_i9': 'pi',\n",
       " '_9': 3.141592653589793,\n",
       " '_i10': 'from math import *',\n",
       " 'acos': <function math.acos(x, /)>,\n",
       " 'acosh': <function math.acosh(x, /)>,\n",
       " 'asin': <function math.asin(x, /)>,\n",
       " 'asinh': <function math.asinh(x, /)>,\n",
       " 'atan': <function math.atan(x, /)>,\n",
       " 'atan2': <function math.atan2(y, x, /)>,\n",
       " 'atanh': <function math.atanh(x, /)>,\n",
       " 'ceil': <function math.ceil(x, /)>,\n",
       " 'copysign': <function math.copysign(x, y, /)>,\n",
       " 'cos': <function math.cos(x, /)>,\n",
       " 'cosh': <function math.cosh(x, /)>,\n",
       " 'degrees': <function math.degrees(x, /)>,\n",
       " 'dist': <function math.dist(p, q, /)>,\n",
       " 'erf': <function math.erf(x, /)>,\n",
       " 'erfc': <function math.erfc(x, /)>,\n",
       " 'exp': <function math.exp(x, /)>,\n",
       " 'expm1': <function math.expm1(x, /)>,\n",
       " 'fabs': <function math.fabs(x, /)>,\n",
       " 'factorial': <function math.factorial(x, /)>,\n",
       " 'floor': <function math.floor(x, /)>,\n",
       " 'fmod': <function math.fmod(x, y, /)>,\n",
       " 'frexp': <function math.frexp(x, /)>,\n",
       " 'fsum': <function math.fsum(seq, /)>,\n",
       " 'gamma': <function math.gamma(x, /)>,\n",
       " 'gcd': <function math.gcd(*integers)>,\n",
       " 'hypot': <function math.hypot>,\n",
       " 'isclose': <function math.isclose(a, b, *, rel_tol=1e-09, abs_tol=0.0)>,\n",
       " 'isfinite': <function math.isfinite(x, /)>,\n",
       " 'isinf': <function math.isinf(x, /)>,\n",
       " 'isnan': <function math.isnan(x, /)>,\n",
       " 'isqrt': <function math.isqrt(n, /)>,\n",
       " 'lcm': <function math.lcm(*integers)>,\n",
       " 'ldexp': <function math.ldexp(x, i, /)>,\n",
       " 'lgamma': <function math.lgamma(x, /)>,\n",
       " 'log': <function math.log>,\n",
       " 'log1p': <function math.log1p(x, /)>,\n",
       " 'log10': <function math.log10(x, /)>,\n",
       " 'log2': <function math.log2(x, /)>,\n",
       " 'modf': <function math.modf(x, /)>,\n",
       " 'pow': <function math.pow(x, y, /)>,\n",
       " 'radians': <function math.radians(x, /)>,\n",
       " 'remainder': <function math.remainder(x, y, /)>,\n",
       " 'sinh': <function math.sinh(x, /)>,\n",
       " 'sqrt': <function math.sqrt(x, /)>,\n",
       " 'tan': <function math.tan(x, /)>,\n",
       " 'tanh': <function math.tanh(x, /)>,\n",
       " 'trunc': <function math.trunc(x, /)>,\n",
       " 'prod': <function math.prod(iterable, /, *, start=1)>,\n",
       " 'perm': <function math.perm(n, k=None, /)>,\n",
       " 'comb': <function math.comb(n, k, /)>,\n",
       " 'nextafter': <function math.nextafter(x, y, /)>,\n",
       " 'ulp': <function math.ulp(x, /)>,\n",
       " 'e': 2.718281828459045,\n",
       " 'tau': 6.283185307179586,\n",
       " 'inf': inf,\n",
       " 'nan': nan,\n",
       " '_i11': 'import math, time, pprint',\n",
       " 'time': <module 'time' (built-in)>,\n",
       " 'pprint': <module 'pprint' from 'C:\\\\ProgramData\\\\Anaconda3\\\\lib\\\\pprint.py'>,\n",
       " '_i12': 'import math\\nimport time\\nimport pprint',\n",
       " '_i13': 'locals()'}"
      ]
     },
     "execution_count": 13,
     "metadata": {},
     "output_type": "execute_result"
    }
   ],
   "source": [
    "locals()"
   ]
  }
 ],
 "metadata": {
  "kernelspec": {
   "display_name": "Python 3 (ipykernel)",
   "language": "python",
   "name": "python3"
  },
  "language_info": {
   "codemirror_mode": {
    "name": "ipython",
    "version": 3
   },
   "file_extension": ".py",
   "mimetype": "text/x-python",
   "name": "python",
   "nbconvert_exporter": "python",
   "pygments_lexer": "ipython3",
   "version": "3.9.13"
  }
 },
 "nbformat": 4,
 "nbformat_minor": 5
}

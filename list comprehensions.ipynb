{
 "cells": [
  {
   "cell_type": "markdown",
   "id": "ecc72fcc",
   "metadata": {},
   "source": [
    "## Генераторы списков"
   ]
  },
  {
   "cell_type": "markdown",
   "id": "ab53f1f7",
   "metadata": {},
   "source": [
    "Предположим, что необходимо сгенерировать список длиной N, который будет содержать квадраты чисел. Это можно реализовать следующим образом:"
   ]
  },
  {
   "cell_type": "code",
   "execution_count": 3,
   "id": "7d0e66a3",
   "metadata": {},
   "outputs": [
    {
     "name": "stdout",
     "output_type": "stream",
     "text": [
      "[0, 1, 4, 9, 16, 25, 36, 49, 64, 81, 100]\n"
     ]
    }
   ],
   "source": [
    "N = 10\n",
    "\n",
    "r = []\n",
    "\n",
    "for i in range(N + 1):\n",
    "    r.append(i ** 2)\n",
    "    \n",
    "print(r)"
   ]
  },
  {
   "cell_type": "markdown",
   "id": "aeadc341",
   "metadata": {},
   "source": [
    "Но есть конструкция, которая позволяет сделать это проще:"
   ]
  },
  {
   "cell_type": "code",
   "execution_count": 8,
   "id": "2b740e50",
   "metadata": {},
   "outputs": [
    {
     "name": "stdout",
     "output_type": "stream",
     "text": [
      "[0, 1, 4, 9, 16, 25, 36, 49, 64, 81, 100]\n"
     ]
    }
   ],
   "source": [
    "a = [x**2 for x in range(N+1)]\n",
    "print(a)"
   ]
  },
  {
   "cell_type": "markdown",
   "id": "7744bdd7",
   "metadata": {},
   "source": [
    "Результат получился аналогичным, но сама запись проще, а скорость работы выше. Такая конструкция называется генератором списков."
   ]
  },
  {
   "cell_type": "markdown",
   "id": "b45d7221",
   "metadata": {},
   "source": [
    "В самом простом варианте синтаксис выглядит следующим образом:<br>\n",
    "[<способ формирования значения> for <переменная> in <итерируемый объект>]"
   ]
  },
  {
   "cell_type": "markdown",
   "id": "54bf76e1",
   "metadata": {},
   "source": [
    "Таким образом можно сформировать список из чисел от 0 до N:"
   ]
  },
  {
   "cell_type": "code",
   "execution_count": 10,
   "id": "a23fae9e",
   "metadata": {
    "scrolled": true
   },
   "outputs": [
    {
     "name": "stdout",
     "output_type": "stream",
     "text": [
      "[0, 1, 2, 3, 4, 5, 6, 7, 8, 9]\n"
     ]
    }
   ],
   "source": [
    "b = [x for x in range(N)]\n",
    "print(b)"
   ]
  },
  {
   "cell_type": "markdown",
   "id": "807456b0",
   "metadata": {},
   "source": [
    "Или же список из одинаковых значений:"
   ]
  },
  {
   "cell_type": "code",
   "execution_count": 11,
   "id": "b1a32c6f",
   "metadata": {},
   "outputs": [
    {
     "name": "stdout",
     "output_type": "stream",
     "text": [
      "[1, 1, 1, 1, 1, 1, 1, 1, 1, 1]\n"
     ]
    }
   ],
   "source": [
    "c = [1 for x in range(N)]\n",
    "print(c)"
   ]
  },
  {
   "cell_type": "markdown",
   "id": "cb58f2b3",
   "metadata": {},
   "source": [
    "В таком случае это будет аналог следующей конструкции:"
   ]
  },
  {
   "cell_type": "code",
   "execution_count": 13,
   "id": "221b5a7f",
   "metadata": {},
   "outputs": [
    {
     "name": "stdout",
     "output_type": "stream",
     "text": [
      "[1, 1, 1, 1, 1, 1, 1, 1, 1, 1]\n"
     ]
    }
   ],
   "source": [
    "c = [1] * N\n",
    "print(c)"
   ]
  },
  {
   "cell_type": "markdown",
   "id": "c05436a1",
   "metadata": {},
   "source": [
    "Или же сформировать список из чисел, которые являются остатком от деления числа x на 4 (при этом число x в изменяется в диапазоне от 6 до 42 с шагом 3):"
   ]
  },
  {
   "cell_type": "code",
   "execution_count": 16,
   "id": "a5556899",
   "metadata": {
    "scrolled": true
   },
   "outputs": [
    {
     "name": "stdout",
     "output_type": "stream",
     "text": [
      "[2, 1, 0, 3, 2, 1, 0, 3, 2, 1, 0, 3]\n"
     ]
    }
   ],
   "source": [
    "d = [x % 4 for x in range(6, 42, 3)]\n",
    "print(d)"
   ]
  },
  {
   "cell_type": "markdown",
   "id": "dd3cc7f3",
   "metadata": {},
   "source": [
    "Или список из булувых значений, который будет отобращать, какие из чисел от 0 до 10 четные, а какие - нет:"
   ]
  },
  {
   "cell_type": "code",
   "execution_count": 18,
   "id": "b641ab58",
   "metadata": {},
   "outputs": [
    {
     "name": "stdout",
     "output_type": "stream",
     "text": [
      "[True, False, True, False, True, False, True, False, True, False]\n"
     ]
    }
   ],
   "source": [
    "e = [x % 2 == 0 for x in range(10)]\n",
    "print(e)"
   ]
  },
  {
   "cell_type": "markdown",
   "id": "524a626a",
   "metadata": {},
   "source": [
    "Или разбить строку на символы так, чтобы каждый символ был элементом этого списка:"
   ]
  },
  {
   "cell_type": "code",
   "execution_count": 22,
   "id": "ad08faf5",
   "metadata": {
    "scrolled": true
   },
   "outputs": [
    {
     "name": "stdout",
     "output_type": "stream",
     "text": [
      "['P', 'y', 't', 'h', 'o', 'n']\n"
     ]
    }
   ],
   "source": [
    "f = [s for s in \"Python\"]\n",
    "print(f)"
   ]
  },
  {
   "cell_type": "markdown",
   "id": "86172f71",
   "metadata": {},
   "source": [
    "Или то же самое, но элемент списка - кодовый номер каждого символа строки:"
   ]
  },
  {
   "cell_type": "code",
   "execution_count": 24,
   "id": "06ebd3e2",
   "metadata": {},
   "outputs": [
    {
     "name": "stdout",
     "output_type": "stream",
     "text": [
      "[80, 121, 116, 104, 111, 110]\n"
     ]
    }
   ],
   "source": [
    "f = [ord(s) for s in \"Python\"]\n",
    "print(f)"
   ]
  },
  {
   "cell_type": "markdown",
   "id": "3e4b3908",
   "metadata": {},
   "source": [
    "В генератор списков можно помещать любые конструкции языка Python и таким образом формировать списки из нужных значений. И самое главное - такая конструкция работает быстрее обычного цикла for или цикла while."
   ]
  },
  {
   "cell_type": "markdown",
   "id": "f2c0d007",
   "metadata": {},
   "source": [
    "При помощи генератора списка можно реализовать разбиение строки с цифрами на элементы, которые в дальнейшем станут элементами списка:"
   ]
  },
  {
   "cell_type": "code",
   "execution_count": 25,
   "id": "dcf9e7d8",
   "metadata": {},
   "outputs": [
    {
     "name": "stdout",
     "output_type": "stream",
     "text": [
      "Введите числа через пробел:1 7 3 20 3\n",
      "[1, 7, 3, 20, 3]\n"
     ]
    }
   ],
   "source": [
    "int_d = (input(\"Введите числа через пробел:\"))\n",
    "\n",
    "list_d = [int(d) for d in int_d.split(\" \")]\n",
    "\n",
    "print(list_d)"
   ]
  },
  {
   "cell_type": "markdown",
   "id": "38390732",
   "metadata": {},
   "source": [
    "Подобная реализация схожа с реализацией функции map()."
   ]
  },
  {
   "cell_type": "markdown",
   "id": "83d2ca49",
   "metadata": {},
   "source": [
    "Если перебирать элемент, который является списком, можно получить следующий результат:"
   ]
  },
  {
   "cell_type": "code",
   "execution_count": 27,
   "id": "7b43572a",
   "metadata": {},
   "outputs": [],
   "source": [
    "list_s = ['Revolution', 'in', 'resolution']\n",
    "\n",
    "list_sn = [x for x in list_s]"
   ]
  },
  {
   "cell_type": "markdown",
   "id": "45215d21",
   "metadata": {},
   "source": [
    "В результате будет копия списка:"
   ]
  },
  {
   "cell_type": "code",
   "execution_count": 28,
   "id": "db18d875",
   "metadata": {},
   "outputs": [
    {
     "name": "stdout",
     "output_type": "stream",
     "text": [
      "['Revolution', 'in', 'resolution']\n"
     ]
    }
   ],
   "source": [
    "print(list_sn)"
   ]
  },
  {
   "cell_type": "markdown",
   "id": "15550620",
   "metadata": {},
   "source": [
    "Но в процессе перебора можно взаимодействовать с элементом, например, сделать все буквы заглавными:"
   ]
  },
  {
   "cell_type": "code",
   "execution_count": 32,
   "id": "18a640cb",
   "metadata": {},
   "outputs": [],
   "source": [
    "list_s = ['Revolution', 'in', 'resolution']\n",
    "\n",
    "list_sn = [x.upper() for x in list_s]"
   ]
  },
  {
   "cell_type": "markdown",
   "id": "06bbd912",
   "metadata": {},
   "source": [
    "И на выходе будет тот же список, но все буквы в нем - заглавные:"
   ]
  },
  {
   "cell_type": "code",
   "execution_count": 34,
   "id": "7c9c11a1",
   "metadata": {},
   "outputs": [
    {
     "name": "stdout",
     "output_type": "stream",
     "text": [
      "['REVOLUTION', 'IN', 'RESOLUTION']\n"
     ]
    }
   ],
   "source": [
    "print(list_sn)"
   ]
  },
  {
   "cell_type": "markdown",
   "id": "80e3130f",
   "metadata": {},
   "source": [
    "Или же можно создать список, содержащий длину каждой строки:"
   ]
  },
  {
   "cell_type": "code",
   "execution_count": 37,
   "id": "e7ac6032",
   "metadata": {
    "scrolled": true
   },
   "outputs": [
    {
     "name": "stdout",
     "output_type": "stream",
     "text": [
      "[10, 2, 10]\n"
     ]
    }
   ],
   "source": [
    "list_sn = [len(x) for x in list_s]\n",
    "print(list_sn)"
   ]
  },
  {
   "cell_type": "markdown",
   "id": "ea1a28ae",
   "metadata": {},
   "source": [
    "### Условия"
   ]
  },
  {
   "cell_type": "markdown",
   "id": "9a16a7ad",
   "metadata": {},
   "source": [
    "Дополнительно в генераторе списков можно прописывать условия. Синтаксис имеет следующий вид:<br>\n",
    "[<способ формирования значения> for <переменная> in <итерируемый объект> if <условие>]"
   ]
  },
  {
   "cell_type": "markdown",
   "id": "7bdcd7af",
   "metadata": {},
   "source": [
    "Допустим, перебирается список, который содержит как положительные, так и отрицательные значения:"
   ]
  },
  {
   "cell_type": "code",
   "execution_count": 42,
   "id": "48143d1d",
   "metadata": {},
   "outputs": [],
   "source": [
    "num_list = [1, -4, 6, 4, -9, -4, 9, 2, 0]"
   ]
  },
  {
   "cell_type": "markdown",
   "id": "40d7a0e2",
   "metadata": {},
   "source": [
    "И нужно извлечь из него все значения выше 0:"
   ]
  },
  {
   "cell_type": "code",
   "execution_count": 43,
   "id": "96f5233e",
   "metadata": {},
   "outputs": [
    {
     "name": "stdout",
     "output_type": "stream",
     "text": [
      "[1, 6, 4, 9, 2]\n"
     ]
    }
   ],
   "source": [
    "num_list_n = [x for x in num_list if x > 0]\n",
    "print(num_list_n)"
   ]
  },
  {
   "cell_type": "markdown",
   "id": "1a7c8a6c",
   "metadata": {},
   "source": [
    "Сохранить из списка только те строки, которые содержат определенный символ:"
   ]
  },
  {
   "cell_type": "code",
   "execution_count": 44,
   "id": "d84a0fbb",
   "metadata": {},
   "outputs": [
    {
     "name": "stdout",
     "output_type": "stream",
     "text": [
      "['кварцвинил', 'перепутица']\n"
     ]
    }
   ],
   "source": [
    "str_list = ['лилипут', 'кварцвинил', 'домострой', 'перепутица', 'колдовство']\n",
    "str_list_n = [x for x in str_list if 'а' in x]\n",
    "print(str_list_n)"
   ]
  },
  {
   "cell_type": "markdown",
   "id": "88a8116c",
   "metadata": {},
   "source": [
    "Сформировать список из четных чисел от -10 до 12:"
   ]
  },
  {
   "cell_type": "code",
   "execution_count": 46,
   "id": "07d4fa2c",
   "metadata": {},
   "outputs": [
    {
     "name": "stdout",
     "output_type": "stream",
     "text": [
      "[-10, -8, -6, -4, -2, 0, 2, 4, 6, 8, 10]\n"
     ]
    }
   ],
   "source": [
    "q = [x for x in range(-10, 12) if x % 2 == 0]\n",
    "print(q)"
   ]
  },
  {
   "cell_type": "markdown",
   "id": "d9c36df6",
   "metadata": {},
   "source": [
    "Использование тернарного условного оператора:"
   ]
  },
  {
   "cell_type": "code",
   "execution_count": 50,
   "id": "f74a1672",
   "metadata": {
    "scrolled": true
   },
   "outputs": [
    {
     "name": "stdout",
     "output_type": "stream",
     "text": [
      "['четное', 'четное', 'нечетное', 'нечетное', 'нечетное', 'четное', 'нечетное', 'нечетное']\n"
     ]
    }
   ],
   "source": [
    "t = [-2, 2, 1, -1, 3, 4, 9, -1]\n",
    "tn = [\"четное\" if x % 2 == 0 else \"нечетное\" for x in t]\n",
    "print(tn)"
   ]
  },
  {
   "cell_type": "markdown",
   "id": "9b66f5ca",
   "metadata": {},
   "source": [
    "С тернарным оператором и условием:"
   ]
  },
  {
   "cell_type": "code",
   "execution_count": 52,
   "id": "3ca8d220",
   "metadata": {},
   "outputs": [
    {
     "name": "stdout",
     "output_type": "stream",
     "text": [
      "['четное', 'нечетное', 'нечетное', 'четное', 'нечетное']\n"
     ]
    }
   ],
   "source": [
    "t = [-2, 2, 1, -1, 3, 4, 9, -1]\n",
    "tn = [\"четное\" if x % 2 == 0 else \"нечетное\" for x in t if x > 0]\n",
    "print(tn)"
   ]
  }
 ],
 "metadata": {
  "kernelspec": {
   "display_name": "Python 3 (ipykernel)",
   "language": "python",
   "name": "python3"
  },
  "language_info": {
   "codemirror_mode": {
    "name": "ipython",
    "version": 3
   },
   "file_extension": ".py",
   "mimetype": "text/x-python",
   "name": "python",
   "nbconvert_exporter": "python",
   "pygments_lexer": "ipython3",
   "version": "3.9.13"
  }
 },
 "nbformat": 4,
 "nbformat_minor": 5
}

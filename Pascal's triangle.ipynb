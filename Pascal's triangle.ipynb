{
 "cells": [
  {
   "cell_type": "code",
   "execution_count": 1,
   "id": "4dd3aa48",
   "metadata": {},
   "outputs": [],
   "source": [
    "N = 5\n",
    "r = []\n",
    "\n",
    "for i in range(N):\n",
    "    row = [1] * (i+1)\n",
    "    r.append(row)"
   ]
  },
  {
   "cell_type": "code",
   "execution_count": 2,
   "id": "1b7042a2",
   "metadata": {},
   "outputs": [
    {
     "name": "stdout",
     "output_type": "stream",
     "text": [
      "[[1], [1, 1], [1, 1, 1], [1, 1, 1, 1], [1, 1, 1, 1, 1]]\n"
     ]
    }
   ],
   "source": [
    "print(r)"
   ]
  },
  {
   "cell_type": "code",
   "execution_count": 3,
   "id": "2dfe5622",
   "metadata": {},
   "outputs": [
    {
     "name": "stdout",
     "output_type": "stream",
     "text": [
      "1 \n",
      "\n",
      "1 1 \n",
      "\n",
      "1 1 1 \n",
      "\n",
      "1 1 1 1 \n",
      "\n",
      "1 1 1 1 1 \n",
      "\n"
     ]
    }
   ],
   "source": [
    "for i in range(len(r)):\n",
    "    for j in range(len(r[i])):\n",
    "        print(r[i][j], end=\" \")\n",
    "    print(\"\\n\")"
   ]
  },
  {
   "cell_type": "code",
   "execution_count": 4,
   "id": "dcd510d0",
   "metadata": {},
   "outputs": [],
   "source": [
    "for i in range(len(r)):\n",
    "    for j in range(len(r[i])):\n",
    "        if j == i or j == 0:\n",
    "            continue\n",
    "        else:\n",
    "            r[i][j] = r[i-1][j-1] + r[i-1][j]"
   ]
  },
  {
   "cell_type": "code",
   "execution_count": 5,
   "id": "34ab11e7",
   "metadata": {},
   "outputs": [
    {
     "name": "stdout",
     "output_type": "stream",
     "text": [
      "1 \n",
      "\n",
      "1 1 \n",
      "\n",
      "1 2 1 \n",
      "\n",
      "1 3 3 1 \n",
      "\n",
      "1 4 6 4 1 \n",
      "\n"
     ]
    }
   ],
   "source": [
    "for i in range(len(r)):\n",
    "    for j in range(len(r[i])):\n",
    "        print(r[i][j], end=\" \")\n",
    "    print(\"\\n\")"
   ]
  },
  {
   "cell_type": "code",
   "execution_count": 6,
   "id": "b90c083a",
   "metadata": {},
   "outputs": [],
   "source": [
    "N = 5\n",
    "p = []\n",
    "\n",
    "for i in range(N):\n",
    "    row = [1] * (i+1)\n",
    "    for j in range(len(row)):\n",
    "        if j == i or j == 0:\n",
    "            continue\n",
    "        else:\n",
    "            row[j] = p[i-1][j-1] + p[i-1][j]\n",
    "    p.append(row)"
   ]
  },
  {
   "cell_type": "code",
   "execution_count": 7,
   "id": "51991948",
   "metadata": {},
   "outputs": [
    {
     "name": "stdout",
     "output_type": "stream",
     "text": [
      "1 \n",
      "\n",
      "1 1 \n",
      "\n",
      "1 2 1 \n",
      "\n",
      "1 3 3 1 \n",
      "\n",
      "1 4 6 4 1 \n",
      "\n"
     ]
    }
   ],
   "source": [
    "for i in range(len(p)):\n",
    "    for j in range(len(p[i])):\n",
    "        print(p[i][j], end=\" \")\n",
    "    print(\"\\n\")"
   ]
  }
 ],
 "metadata": {
  "kernelspec": {
   "display_name": "Python 3 (ipykernel)",
   "language": "python",
   "name": "python3"
  },
  "language_info": {
   "codemirror_mode": {
    "name": "ipython",
    "version": 3
   },
   "file_extension": ".py",
   "mimetype": "text/x-python",
   "name": "python",
   "nbconvert_exporter": "python",
   "pygments_lexer": "ipython3",
   "version": "3.9.13"
  }
 },
 "nbformat": 4,
 "nbformat_minor": 5
}

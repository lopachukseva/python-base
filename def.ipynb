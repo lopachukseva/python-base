{
 "cells": [
  {
   "cell_type": "markdown",
   "id": "b99c7a4a",
   "metadata": {},
   "source": [
    "## Функция"
   ]
  },
  {
   "cell_type": "markdown",
   "id": "89f9ce55",
   "metadata": {},
   "source": [
    "Функция - активный объект, который не просто хранит какие либо данные, а выполняет заданный фрагмент программы. Ссылка на этот объект называется именем функции"
   ]
  },
  {
   "cell_type": "markdown",
   "id": "096616eb",
   "metadata": {},
   "source": [
    "Например, функция print выполняет вывод в консоль переданных ей данных. Ее имя - ссылка на объект функции:"
   ]
  },
  {
   "cell_type": "code",
   "execution_count": 2,
   "id": "7df738cf",
   "metadata": {},
   "outputs": [
    {
     "data": {
      "text/plain": [
       "<function print>"
      ]
     },
     "execution_count": 2,
     "metadata": {},
     "output_type": "execute_result"
    }
   ],
   "source": [
    "print"
   ]
  },
  {
   "cell_type": "markdown",
   "id": "f993b0f1",
   "metadata": {},
   "source": [
    "Чтобы активизировать функцию, нужно не просто написать ее имя (ссылку на нее), но и поставить после круглые скобки:"
   ]
  },
  {
   "cell_type": "code",
   "execution_count": 4,
   "id": "579443f8",
   "metadata": {},
   "outputs": [
    {
     "name": "stdout",
     "output_type": "stream",
     "text": [
      "\n"
     ]
    }
   ],
   "source": [
    "print()"
   ]
  },
  {
   "cell_type": "markdown",
   "id": "90594ea4",
   "metadata": {},
   "source": [
    "Тогда запустится программа, которая реализована внутри этой функции. Круглые скобки - оператор вызова функции."
   ]
  },
  {
   "cell_type": "markdown",
   "id": "a7439a42",
   "metadata": {},
   "source": [
    "Если print - это ссылка на функцию, то ничего не мешает сделать на этот объект еще одну ссылку:"
   ]
  },
  {
   "cell_type": "code",
   "execution_count": 5,
   "id": "e3bcd730",
   "metadata": {},
   "outputs": [],
   "source": [
    "f = print"
   ]
  },
  {
   "cell_type": "code",
   "execution_count": 6,
   "id": "b6eebd55",
   "metadata": {},
   "outputs": [
    {
     "data": {
      "text/plain": [
       "<function print>"
      ]
     },
     "execution_count": 6,
     "metadata": {},
     "output_type": "execute_result"
    }
   ],
   "source": [
    "f"
   ]
  },
  {
   "cell_type": "markdown",
   "id": "298c9610",
   "metadata": {},
   "source": [
    "В таком случае на одну и ту же функцию ссылаются две переменные, и функцию можно будет вызвать от любой:"
   ]
  },
  {
   "cell_type": "code",
   "execution_count": 7,
   "id": "cbf12efe",
   "metadata": {},
   "outputs": [
    {
     "name": "stdout",
     "output_type": "stream",
     "text": [
      "Hello world!\n",
      "Hello!\n"
     ]
    }
   ],
   "source": [
    "print(\"Hello world!\")\n",
    "f(\"Hello!\")"
   ]
  },
  {
   "cell_type": "markdown",
   "id": "c941f7df",
   "metadata": {},
   "source": [
    "Также переменной print можно присвоить любой другой объект, например строку:"
   ]
  },
  {
   "cell_type": "code",
   "execution_count": 8,
   "id": "9e566170",
   "metadata": {},
   "outputs": [
    {
     "data": {
      "text/plain": [
       "'Это была функция print'"
      ]
     },
     "execution_count": 8,
     "metadata": {},
     "output_type": "execute_result"
    }
   ],
   "source": [
    "print = \"Это была функция print\"\n",
    "print"
   ]
  },
  {
   "cell_type": "code",
   "execution_count": null,
   "id": "42e9ab1c",
   "metadata": {},
   "outputs": [],
   "source": [
    "f(print)"
   ]
  },
  {
   "cell_type": "code",
   "execution_count": 14,
   "id": "ea6acaf7",
   "metadata": {},
   "outputs": [],
   "source": [
    "print = f"
   ]
  },
  {
   "cell_type": "markdown",
   "id": "48757544",
   "metadata": {},
   "source": [
    "Функции нужны для реализации DRY - Don't Repeat Yourself. Функции позволяют избежать дублирования кода, повышения его читаемости и возможности быстрого редактирования. "
   ]
  },
  {
   "cell_type": "markdown",
   "id": "66f85a06",
   "metadata": {},
   "source": [
    "Если в программе встречается дублирование кода - его нужно помещать в отдельную функцию, а затем вызывать по мере необходимости. В Python есть множество встроенных функций, но для создания собственных используется следующий синтаксис:"
   ]
  },
  {
   "cell_type": "markdown",
   "id": "1bb53969",
   "metadata": {},
   "source": [
    "def <имя функции>([список аргументов]):\n",
    "<pre>оператор 1</pre>\n",
    "<pre>оператор 2</pre>\n",
    "<pre>...</pre>\n",
    "<pre>оператор N</pre>"
   ]
  },
  {
   "cell_type": "markdown",
   "id": "3d5167d5",
   "metadata": {},
   "source": [
    "Как правило, имя фунции определяется через глагол, так как она выполняет какое либо действие."
   ]
  },
  {
   "cell_type": "code",
   "execution_count": 18,
   "id": "bd3d3fc0",
   "metadata": {},
   "outputs": [],
   "source": [
    "def send_mail(text, address):\n",
    "    print(f'Сообщение \"{text}\" отправлено на адрес {address}!')"
   ]
  },
  {
   "cell_type": "markdown",
   "id": "40d0905f",
   "metadata": {},
   "source": [
    "Для вызова этой функции необходимо написать имя этой функции и поставить в конце круглые скобки. Если функция принимает какие либо аргументы - то следует прописать их внутри круглых скобок через запятую:"
   ]
  },
  {
   "cell_type": "code",
   "execution_count": 20,
   "id": "156dc70b",
   "metadata": {
    "scrolled": true
   },
   "outputs": [
    {
     "name": "stdout",
     "output_type": "stream",
     "text": [
      "Сообщение \"Привет!\" отправлено на адрес hello@wonderfulmail.com!\n"
     ]
    }
   ],
   "source": [
    "send_mail(\"Привет!\", \"hello@wonderfulmail.com\")"
   ]
  },
  {
   "cell_type": "markdown",
   "id": "39144cfe",
   "metadata": {},
   "source": [
    "Вызвать эту функцию можно еще раз:"
   ]
  },
  {
   "cell_type": "code",
   "execution_count": 21,
   "id": "93a7321b",
   "metadata": {},
   "outputs": [
    {
     "name": "stdout",
     "output_type": "stream",
     "text": [
      "Сообщение \"Привет! Это второе сообщение!\" отправлено на адрес hello@wonderfulmail.com!\n"
     ]
    }
   ],
   "source": [
    "send_mail(\"Привет! Это второе сообщение!\", \"hello@wonderfulmail.com\")"
   ]
  },
  {
   "cell_type": "markdown",
   "id": "30e18b18",
   "metadata": {},
   "source": [
    "Функцию можно вызывать столько раз, сколько это необходимо. И там, где это необходимо - в любом месте программы. Но вызов функции должен идти после ее объявления"
   ]
  },
  {
   "cell_type": "markdown",
   "id": "e6bd1bc3",
   "metadata": {},
   "source": [
    "Определения внутри функции являются параметрами (usr, msg):"
   ]
  },
  {
   "cell_type": "code",
   "execution_count": 28,
   "id": "c1849616",
   "metadata": {},
   "outputs": [],
   "source": [
    "def print_msg(usr, msg):\n",
    "    print(f\"Пользователь {usr} передал сообщение: {msg}\")"
   ]
  },
  {
   "cell_type": "markdown",
   "id": "6abe0d94",
   "metadata": {},
   "source": [
    "а передаваемые значения при вызове функции \"Mikhail\" и \"Hello!\") - аргументами:"
   ]
  },
  {
   "cell_type": "code",
   "execution_count": 29,
   "id": "be1a7c1e",
   "metadata": {
    "scrolled": true
   },
   "outputs": [
    {
     "name": "stdout",
     "output_type": "stream",
     "text": [
      "Пользователь Mikhail передал сообщение: Hello!\n"
     ]
    }
   ],
   "source": [
    "print_msg(\"Mikhail\", \"Hello!\")"
   ]
  },
  {
   "cell_type": "markdown",
   "id": "83698b5a",
   "metadata": {},
   "source": [
    "Параметры - это переменные, которые используются при создании функции. Аргументы - это фактические значения (данные), которые передаются функции при вызове."
   ]
  },
  {
   "cell_type": "code",
   "execution_count": 30,
   "id": "fc2008d4",
   "metadata": {},
   "outputs": [],
   "source": [
    "def print_msg(usr):\n",
    "    print(f\"Сообщение от пользователя {usr}.\")"
   ]
  },
  {
   "cell_type": "code",
   "execution_count": 31,
   "id": "86284e37",
   "metadata": {},
   "outputs": [
    {
     "name": "stdout",
     "output_type": "stream",
     "text": [
      "Сообщение от пользователя Oleg.\n"
     ]
    }
   ],
   "source": [
    "print_msg(\"Oleg\")"
   ]
  },
  {
   "cell_type": "markdown",
   "id": "c7ebdc63",
   "metadata": {},
   "source": [
    "Когда вызывается функция с аргументом, внутри функции на нее будет ссылаться соответствующий параметр. В данном случае функция вызывается с аргументом \"Oleg\", а внутри функции на него ссылается переменная usr."
   ]
  },
  {
   "cell_type": "markdown",
   "id": "8d51e608",
   "metadata": {},
   "source": [
    "Если нужно передать несколько параметров - при создании функции они перечисляются через запятую. А при вызове соответствующие аргументы также передаются через запятую. И порядок имеет значение - первый параметр соответствует первому аргументу, второй - второму и так далее."
   ]
  }
 ],
 "metadata": {
  "kernelspec": {
   "display_name": "Python 3 (ipykernel)",
   "language": "python",
   "name": "python3"
  },
  "language_info": {
   "codemirror_mode": {
    "name": "ipython",
    "version": 3
   },
   "file_extension": ".py",
   "mimetype": "text/x-python",
   "name": "python",
   "nbconvert_exporter": "python",
   "pygments_lexer": "ipython3",
   "version": "3.9.13"
  }
 },
 "nbformat": 4,
 "nbformat_minor": 5
}
